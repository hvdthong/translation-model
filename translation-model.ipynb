{
 "cells": [
  {
   "cell_type": "markdown",
   "metadata": {},
   "source": [
    "<h1>Neural Translation Model in PyTorch</h1>\n",
    "by Mac Brennan"
   ]
  },
  {
   "cell_type": "markdown",
   "metadata": {},
   "source": [
    "<p style='text-align: center !important;'>\n",
    " <img src='https://github.com/macbrennan90/macbrennan90.github.io/blob/master/images/encoder-decoder.png?raw=true'\n",
    "      alt='Translation Model Summary'>\n",
    "</p>"
   ]
  },
  {
   "cell_type": "markdown",
   "metadata": {},
   "source": [
    "This project will be broken up into several parts as follows:\n",
    "\n",
    "__Part 1:__ Preparing the words\n",
    "\n",
    "+ Inspecting the Dataset\n",
    "+ Using Word Embeddings\n",
    "+ Organizing the Data\n",
    "\n",
    "__Part 2:__ Building the Model\n",
    "\n",
    "+ Bi-Directional Encoder\n",
    "+ Building Attention\n",
    "+ Decoder with Attention\n",
    "\n",
    "__Part 3:__ Training the Model\n",
    "\n",
    "+ Training Function\n",
    "+ Training Loop\n",
    "\n",
    "__Part 4:__ Evaluation"
   ]
  },
  {
   "cell_type": "code",
   "execution_count": 246,
   "metadata": {},
   "outputs": [],
   "source": [
    "# Before we get started we will load all the packages we will need\n",
    "\n",
    "# Pytorch\n",
    "import torch\n",
    "import torch.nn as nn\n",
    "import torch.nn.functional as F\n",
    "import torch.optim as optim\n",
    "from torch.utils.data import Dataset, DataLoader\n",
    "\n",
    "import numpy as np\n",
    "import os.path\n",
    "import time\n",
    "import math\n",
    "import random\n",
    "import matplotlib.pyplot as plt\n",
    "import string\n",
    "\n",
    "# Use gpu if available\n",
    "device = torch.device(\"cuda\" if torch.cuda.is_available() else \"cpu\")"
   ]
  },
  {
   "cell_type": "code",
   "execution_count": 247,
   "metadata": {},
   "outputs": [
    {
     "data": {
      "text/plain": [
       "device(type='cuda')"
      ]
     },
     "execution_count": 247,
     "metadata": {},
     "output_type": "execute_result"
    }
   ],
   "source": [
    "device"
   ]
  },
  {
   "cell_type": "markdown",
   "metadata": {},
   "source": [
    "## Part 1: Preparing the Words"
   ]
  },
  {
   "cell_type": "markdown",
   "metadata": {},
   "source": [
    "### Inspecting the Dataset"
   ]
  },
  {
   "cell_type": "markdown",
   "metadata": {},
   "source": [
    "The dataset that will be used is a text file of english sentences and the corresponding french sentences.\n",
    "\n",
    "Each sentence is on a new line. The sentences will be split into a list."
   ]
  },
  {
   "cell_type": "markdown",
   "metadata": {},
   "source": [
    "#### Load the data\n",
    "The data will be stored in two lists where each item is a sentence. The lists are:\n",
    "+ english_sentences\n",
    "+ french_sentences"
   ]
  },
  {
   "cell_type": "code",
   "execution_count": 248,
   "metadata": {},
   "outputs": [],
   "source": [
    "with open('data/small_vocab_en', \"r\") as f:\n",
    "    data1 = f.read()\n",
    "with open('data/small_vocab_fr', \"r\") as f:\n",
    "    data2 = f.read()\n",
    "    \n",
    "# The data is just in a text file with each sentence on its own line\n",
    "english_sentences = data1.split('\\n')\n",
    "french_sentences = data2.split('\\n')"
   ]
  },
  {
   "cell_type": "code",
   "execution_count": 249,
   "metadata": {},
   "outputs": [
    {
     "name": "stdout",
     "output_type": "stream",
     "text": [
      "Number of English sentences: 137861 \n",
      "Number of French sentences: 137861 \n",
      "\n",
      "Example/Target pair:\n",
      "\n",
      "  california is usually quiet during march , and it is usually hot in june .\n",
      "  california est généralement calme en mars , et il est généralement chaud en juin .\n"
     ]
    }
   ],
   "source": [
    "print('Number of English sentences:', len(english_sentences), \n",
    "      '\\nNumber of French sentences:', len(french_sentences),'\\n')\n",
    "print('Example/Target pair:\\n')\n",
    "print('  '+english_sentences[2])\n",
    "print('  '+french_sentences[2])"
   ]
  },
  {
   "cell_type": "markdown",
   "metadata": {},
   "source": [
    "#### Vocabulary\n",
    "Let's take a closer look at the dataset.\n"
   ]
  },
  {
   "cell_type": "code",
   "execution_count": 250,
   "metadata": {},
   "outputs": [
    {
     "data": {
      "text/plain": [
       "['california',\n",
       " 'is',\n",
       " 'usually',\n",
       " 'quiet',\n",
       " 'during',\n",
       " 'march',\n",
       " ',',\n",
       " 'and',\n",
       " 'it',\n",
       " 'is',\n",
       " 'usually',\n",
       " 'hot',\n",
       " 'in',\n",
       " 'june',\n",
       " '.']"
      ]
     },
     "execution_count": 250,
     "metadata": {},
     "output_type": "execute_result"
    }
   ],
   "source": [
    "english_sentences[2].split()"
   ]
  },
  {
   "cell_type": "code",
   "execution_count": 251,
   "metadata": {},
   "outputs": [
    {
     "name": "stdout",
     "output_type": "stream",
     "text": [
      "The longest english sentence in our dataset is: 17\n"
     ]
    }
   ],
   "source": [
    "max_en_length = 0\n",
    "for sentence in english_sentences:\n",
    "    length = len(sentence.split())\n",
    "    max_en_length = max(max_en_length, length)\n",
    "print(\"The longest english sentence in our dataset is:\", max_en_length)    "
   ]
  },
  {
   "cell_type": "code",
   "execution_count": 253,
   "metadata": {},
   "outputs": [
    {
     "name": "stdout",
     "output_type": "stream",
     "text": [
      "The longest french sentence in our dataset is: 23\n"
     ]
    }
   ],
   "source": [
    "max_fr_length = 0\n",
    "for sentence in french_sentences:\n",
    "    length = len(sentence.split())\n",
    "    max_fr_length = max(max_fr_length, length)\n",
    "print(\"The longest french sentence in our dataset is:\", max_fr_length)"
   ]
  },
  {
   "cell_type": "code",
   "execution_count": 254,
   "metadata": {},
   "outputs": [],
   "source": [
    "seq_length = max(max_fr_length, max_en_length) + 1"
   ]
  },
  {
   "cell_type": "code",
   "execution_count": 255,
   "metadata": {},
   "outputs": [],
   "source": [
    "en_word_count = {}\n",
    "fr_word_count = {}\n",
    "\n",
    "for sentence in english_sentences:\n",
    "    for word in sentence.split():\n",
    "        if word in en_word_count:\n",
    "            en_word_count[word] +=1\n",
    "        else:\n",
    "            en_word_count[word] = 1\n",
    "            \n",
    "for sentence in french_sentences:\n",
    "    for word in sentence.split():\n",
    "        if word in fr_word_count:\n",
    "            fr_word_count[word] +=1\n",
    "        else:\n",
    "            fr_word_count[word] = 1\n"
   ]
  },
  {
   "cell_type": "code",
   "execution_count": 256,
   "metadata": {},
   "outputs": [],
   "source": [
    "# Add end of sentence token to word count dict\n",
    "en_word_count['</s>'] = len(english_sentences)\n",
    "fr_word_count['</s>'] = len(english_sentences)"
   ]
  },
  {
   "cell_type": "code",
   "execution_count": 257,
   "metadata": {},
   "outputs": [
    {
     "name": "stdout",
     "output_type": "stream",
     "text": [
      "Number of unique English words: 228\n",
      "Number of unique French words: 356\n"
     ]
    }
   ],
   "source": [
    "print('Number of unique English words:', len(en_word_count))\n",
    "print('Number of unique French words:', len(fr_word_count))"
   ]
  },
  {
   "cell_type": "code",
   "execution_count": 258,
   "metadata": {},
   "outputs": [],
   "source": [
    "def get_value(items_tuple):\n",
    "    return items_tuple[1]\n",
    "\n",
    "# Sort the word counts to see what words or most/least common\n",
    "sorted_en_words= sorted(en_word_count.items(), key=get_value, reverse=True)"
   ]
  },
  {
   "cell_type": "code",
   "execution_count": 259,
   "metadata": {},
   "outputs": [
    {
     "data": {
      "text/plain": [
       "[('is', 205858),\n",
       " (',', 140897),\n",
       " ('</s>', 137861),\n",
       " ('.', 129039),\n",
       " ('in', 75525),\n",
       " ('it', 75137),\n",
       " ('during', 74933),\n",
       " ('the', 67628),\n",
       " ('but', 63987),\n",
       " ('and', 59850)]"
      ]
     },
     "execution_count": 259,
     "metadata": {},
     "output_type": "execute_result"
    }
   ],
   "source": [
    "sorted_en_words[:10]"
   ]
  },
  {
   "cell_type": "code",
   "execution_count": 260,
   "metadata": {},
   "outputs": [],
   "source": [
    "sorted_fr_words = sorted(fr_word_count.items(), key=get_value, reverse=True)"
   ]
  },
  {
   "cell_type": "code",
   "execution_count": 261,
   "metadata": {},
   "outputs": [
    {
     "data": {
      "text/plain": [
       "[('est', 196809),\n",
       " ('</s>', 137861),\n",
       " ('.', 135619),\n",
       " (',', 123135),\n",
       " ('en', 105768),\n",
       " ('il', 84079),\n",
       " ('les', 65255),\n",
       " ('mais', 63987),\n",
       " ('et', 59851),\n",
       " ('la', 49861)]"
      ]
     },
     "execution_count": 261,
     "metadata": {},
     "output_type": "execute_result"
    }
   ],
   "source": [
    "sorted_fr_words[:10]"
   ]
  },
  {
   "cell_type": "markdown",
   "metadata": {},
   "source": [
    "So the dataset is pretty small, we may want to get a bigger data set, but we'll see how this one does."
   ]
  },
  {
   "cell_type": "markdown",
   "metadata": {},
   "source": [
    "#### Alternate Dataset\n",
    "Skip this section for now. You can come back and try training on this second dataset later. It is more diverse so it takes longer to train."
   ]
  },
  {
   "cell_type": "code",
   "execution_count": 298,
   "metadata": {},
   "outputs": [],
   "source": [
    "with open('data/fra.txt', \"r\") as f:\n",
    "    data1 = f.read()"
   ]
  },
  {
   "cell_type": "code",
   "execution_count": 372,
   "metadata": {},
   "outputs": [],
   "source": [
    "pairs = data1.split('\\n')\n",
    "english_sentences = []\n",
    "french_sentences = []\n",
    "for i, pair in enumerate(pairs):\n",
    "    pair_split = pair.split('\\t')\n",
    "    if len(pair_split)!= 2:\n",
    "        continue\n",
    "    english = pair_split[0].lower()\n",
    "    french = pair_split[1].lower()\n",
    "    \n",
    "    # Remove punctuation and limit sentence length\n",
    "    max_sent_length = 10\n",
    "    punctuation_table = english.maketrans({i:None for i in string.punctuation})\n",
    "    english = english.translate(punctuation_table)\n",
    "    french = french.translate(punctuation_table)\n",
    "    if len(english.split()) >= max_sent_length or len(french.split()) >= max_sent_length:\n",
    "        continue\n",
    "       \n",
    "    english_sentences.append(english)\n",
    "    french_sentences.append(french)"
   ]
  },
  {
   "cell_type": "code",
   "execution_count": 373,
   "metadata": {},
   "outputs": [
    {
     "data": {
      "text/plain": [
       "['i', 'have', 'to', 'hurry']"
      ]
     },
     "execution_count": 373,
     "metadata": {},
     "output_type": "execute_result"
    }
   ],
   "source": [
    "english_sentences[10000].split()\n"
   ]
  },
  {
   "cell_type": "code",
   "execution_count": 374,
   "metadata": {},
   "outputs": [
    {
     "data": {
      "text/plain": [
       "['je', 'dois', 'me', 'dépêcher']"
      ]
     },
     "execution_count": 374,
     "metadata": {},
     "output_type": "execute_result"
    }
   ],
   "source": [
    "french_sentences[10000].split()"
   ]
  },
  {
   "cell_type": "code",
   "execution_count": 375,
   "metadata": {},
   "outputs": [
    {
     "name": "stdout",
     "output_type": "stream",
     "text": [
      "['my', 'students', 'have', 'been', 'eagerly', 'awaiting', 'the', 'test', 'results']\n"
     ]
    },
    {
     "data": {
      "text/plain": [
       "['jai', 'fait', 'des', 'expériences', 'intéressantes', 'en', 'voyageant']"
      ]
     },
     "execution_count": 375,
     "metadata": {},
     "output_type": "execute_result"
    }
   ],
   "source": [
    "print(english_sentences[-100].split())\n",
    "french_sentences[-500].split()\n"
   ]
  },
  {
   "cell_type": "code",
   "execution_count": 376,
   "metadata": {},
   "outputs": [
    {
     "name": "stdout",
     "output_type": "stream",
     "text": [
      "The longest english sentence in our dataset is: 9\n"
     ]
    }
   ],
   "source": [
    "max_en_length = 0\n",
    "for sentence in english_sentences:\n",
    "    length = len(sentence.split())\n",
    "    max_en_length = max(max_en_length, length)\n",
    "print(\"The longest english sentence in our dataset is:\", max_en_length)  "
   ]
  },
  {
   "cell_type": "code",
   "execution_count": 377,
   "metadata": {},
   "outputs": [
    {
     "name": "stdout",
     "output_type": "stream",
     "text": [
      "The longest french sentence in our dataset is: 9\n"
     ]
    }
   ],
   "source": [
    "max_fr_length = 0\n",
    "for sentence in french_sentences:\n",
    "    length = len(sentence.split())\n",
    "    max_fr_length = max(max_fr_length, length)\n",
    "print(\"The longest french sentence in our dataset is:\", max_fr_length)  "
   ]
  },
  {
   "cell_type": "code",
   "execution_count": 378,
   "metadata": {},
   "outputs": [],
   "source": [
    "en_word_count = {}\n",
    "fr_word_count = {}\n",
    "\n",
    "for sentence in english_sentences:\n",
    "    for word in sentence.split():\n",
    "        if word in en_word_count:\n",
    "            en_word_count[word] +=1\n",
    "        else:\n",
    "            en_word_count[word] = 1\n",
    "            \n",
    "for sentence in french_sentences:\n",
    "    for word in sentence.split():\n",
    "        if word in fr_word_count:\n",
    "            fr_word_count[word] +=1\n",
    "        else:\n",
    "            fr_word_count[word] = 1\n"
   ]
  },
  {
   "cell_type": "code",
   "execution_count": 379,
   "metadata": {},
   "outputs": [],
   "source": [
    "en_word_count['</s>'] = len(english_sentences)\n",
    "fr_word_count['</s>'] = len(english_sentences)"
   ]
  },
  {
   "cell_type": "code",
   "execution_count": 380,
   "metadata": {},
   "outputs": [
    {
     "name": "stdout",
     "output_type": "stream",
     "text": [
      "Number of unique English words: 11997\n",
      "Number of unique French words: 24710\n"
     ]
    }
   ],
   "source": [
    "print('Number of unique English words:', len(en_word_count))\n",
    "print('Number of unique French words:', len(fr_word_count))"
   ]
  },
  {
   "cell_type": "code",
   "execution_count": 381,
   "metadata": {},
   "outputs": [],
   "source": [
    "fr_word2idx = {k:v+3 for v, k in enumerate(fr_word_count.keys())}\n",
    "en_word2idx = {k:v+3 for v, k in enumerate(en_word_count.keys())}"
   ]
  },
  {
   "cell_type": "code",
   "execution_count": 382,
   "metadata": {},
   "outputs": [],
   "source": [
    "fr_word2idx['<pad>'] = 0\n",
    "fr_word2idx['<s>'] = 1\n",
    "fr_word2idx['<unk>'] = 2\n",
    "\n",
    "en_word2idx['<pad>'] = 0\n",
    "en_word2idx['<s>'] = 1\n",
    "en_word2idx['<unk>'] = 2"
   ]
  },
  {
   "cell_type": "code",
   "execution_count": 383,
   "metadata": {},
   "outputs": [
    {
     "data": {
      "text/plain": [
       "24713"
      ]
     },
     "execution_count": 383,
     "metadata": {},
     "output_type": "execute_result"
    }
   ],
   "source": [
    "len(fr_word2idx)"
   ]
  },
  {
   "cell_type": "code",
   "execution_count": 384,
   "metadata": {},
   "outputs": [],
   "source": [
    "def get_value(items_tuple):\n",
    "    return items_tuple[1]\n",
    "\n",
    "sorted_en_words= sorted(en_word_count.items(), key=get_value, reverse=True)"
   ]
  },
  {
   "cell_type": "code",
   "execution_count": 385,
   "metadata": {},
   "outputs": [
    {
     "data": {
      "text/plain": [
       "[('attempting', 1),\n",
       " ('eradicate', 1),\n",
       " ('impossibilities', 1),\n",
       " ('offers', 1),\n",
       " ('profound', 1),\n",
       " ('insights', 1),\n",
       " ('hummer', 1),\n",
       " ('limousines', 1),\n",
       " ('tyrannical', 1),\n",
       " ('imprison', 1)]"
      ]
     },
     "execution_count": 385,
     "metadata": {},
     "output_type": "execute_result"
    }
   ],
   "source": [
    "sorted_en_words[-10:]"
   ]
  },
  {
   "cell_type": "markdown",
   "metadata": {},
   "source": [
    "### Using Word Embeddings"
   ]
  },
  {
   "cell_type": "markdown",
   "metadata": {},
   "source": [
    "Here we are building an embedding matrix of pretrained word vectors. The word embeddings used here were downloaded from the fastText repository. These embeddings have 300 dimensions. To start we will add a few token embeddings for our specific case. We want a token to signal the start of the sentence, A token for words that we do not have an embedding for, and a token to pad sentences so all the sentences we use have the same length. This will allow us to train the model on batches of sentences that are different lengths, rather than one at a time.\n",
    "\n",
    "After this step we will have a dictionary and an embedding matrix for each language. The dictionary will map words to an index value in the embedding matrix where its' corresponding embedding vector is stored."
   ]
  },
  {
   "cell_type": "markdown",
   "metadata": {},
   "source": [
    "#### Load Embeddings for the English data"
   ]
  },
  {
   "cell_type": "code",
   "execution_count": 386,
   "metadata": {},
   "outputs": [
    {
     "name": "stdout",
     "output_type": "stream",
     "text": [
      "Embeddings load from .npy file\n"
     ]
    }
   ],
   "source": [
    "# The data file containing the embeddings is very large so once we have the embeddings we want\n",
    "# we will save them as a numpy array. This way we can load this much faster then having to re read from\n",
    "# the large embedding file\n",
    "if os.path.exists('data/en_words.npy') and os.path.exists('data/en_vectors.npy'):\n",
    "    en_words = np.load('data/en_words.npy')\n",
    "    en_vectors = np.load('data/en_vectors.npy')\n",
    "    print('Embeddings load from .npy file')\n",
    "else:\n",
    "    # make a dict with the top 100,000 words\n",
    "    en_words = ['<pad>', # Padding Token\n",
    "                '<s>', # Start of sentence token\n",
    "                '<unk>'# Unknown word token\n",
    "               ]\n",
    "\n",
    "    en_vectors = list(np.random.uniform(-0.1, 0.1, (3, 300)))\n",
    "    en_vectors[0] *= 0 # make the padding vector zeros\n",
    "\n",
    "    with open('data/wiki.en.vec', \"r\") as f:\n",
    "        f.readline()\n",
    "        for _ in range(100000):\n",
    "            en_vecs = f.readline()\n",
    "            word = en_vecs.split()[0]\n",
    "            vector = np.float32(en_vecs.split()[1:])\n",
    "\n",
    "            # skip lines that don't have 300 dim\n",
    "            if len(vector) != 300:\n",
    "                continue\n",
    "\n",
    "            if word not in en_words:\n",
    "                en_words.append(word)\n",
    "                en_vectors.append(vector)\n",
    "        print(word, vector[:10]) # Last word embedding read from the file\n",
    "        en_words = np.array(en_words)\n",
    "        en_vectors = np.array(en_vectors)\n",
    "    # Save the arrays so we don't have to load the full word embedding file\n",
    "    np.save('data/en_words.npy', en_words)\n",
    "    np.save('data/en_vectors.npy', en_vectors)"
   ]
  },
  {
   "cell_type": "code",
   "execution_count": 387,
   "metadata": {},
   "outputs": [],
   "source": [
    "en_word2idx = {word:index for index, word in enumerate(en_words)}"
   ]
  },
  {
   "cell_type": "code",
   "execution_count": 388,
   "metadata": {},
   "outputs": [
    {
     "name": "stdout",
     "output_type": "stream",
     "text": [
      "index for word hemophilia: 99996 \n",
      "vector for word hemophilia:\n",
      " [ 0.16189    -0.056121   -0.65560001  0.21569    -0.11878    -0.02066\n",
      "  0.37613001 -0.24117    -0.098989   -0.010058  ]\n"
     ]
    }
   ],
   "source": [
    "hemophilia_idx = en_word2idx['hemophilia']\n",
    "print('index for word hemophilia:', hemophilia_idx, \n",
    "      '\\nvector for word hemophilia:\\n',en_vectors[hemophilia_idx][:10])"
   ]
  },
  {
   "cell_type": "markdown",
   "metadata": {},
   "source": [
    "The word embedding for hemophilia matches the one read from the file, so it looks like everything worked properly."
   ]
  },
  {
   "cell_type": "markdown",
   "metadata": {},
   "source": [
    "#### Load Embeddings for the Frech data"
   ]
  },
  {
   "cell_type": "code",
   "execution_count": 389,
   "metadata": {
    "scrolled": false
   },
   "outputs": [
    {
     "name": "stdout",
     "output_type": "stream",
     "text": [
      "Embeddings load from .npy file\n"
     ]
    }
   ],
   "source": [
    "if os.path.exists('data/fr_words.npy') and os.path.exists('data/fr_vectors.npy'):\n",
    "    fr_words = np.load('data/fr_words.npy')\n",
    "    fr_vectors = np.load('data/fr_vectors.npy')\n",
    "    print('Embeddings load from .npy file')\n",
    "else:\n",
    "    # make a dict with the top 100,000 words\n",
    "    fr_words = ['<pad>',\n",
    "                '<s>',\n",
    "                '<unk>']\n",
    "\n",
    "    fr_vectors = list(np.random.uniform(-0.1, 0.1, (3, 300)))\n",
    "    fr_vectors[0] = np.zeros(300) # make the padding vector zeros\n",
    "\n",
    "    with open('data/wiki.fr.vec', \"r\") as f:\n",
    "        f.readline()\n",
    "        for _ in range(100000):\n",
    "            fr_vecs = f.readline()\n",
    "            word = fr_vecs.split()[0]\n",
    "            try:\n",
    "                vector = np.float32(fr_vecs.split()[1:])\n",
    "            except ValueError:\n",
    "                continue\n",
    "\n",
    "             # skip lines that don't have 300 dim\n",
    "            if len(vector) != 300:\n",
    "                continue\n",
    "\n",
    "            if word not in fr_words:\n",
    "                fr_words.append(word)\n",
    "                fr_vectors.append(vector)\n",
    "        print(word, vector[:10])\n",
    "        fr_words = np.array(fr_words)\n",
    "        fr_vectors = np.array(fr_vectors)\n",
    "    # Save the arrays so we don't have to load the full word embedding file\n",
    "    np.save('data/fr_words.npy', fr_words)\n",
    "    np.save('data/fr_vectors.npy', fr_vectors)"
   ]
  },
  {
   "cell_type": "code",
   "execution_count": 390,
   "metadata": {},
   "outputs": [],
   "source": [
    "fr_word2idx = {word:index for index, word in enumerate(fr_words)}"
   ]
  },
  {
   "cell_type": "code",
   "execution_count": 391,
   "metadata": {},
   "outputs": [
    {
     "name": "stdout",
     "output_type": "stream",
     "text": [
      "index for word chabeuil: 99783 \n",
      "vector for word chabeuil:\n",
      " [-0.18058001 -0.24758001  0.075607    0.17299999  0.24116001 -0.11223\n",
      " -0.28173     0.27373999  0.37997001  0.48008999]\n"
     ]
    }
   ],
   "source": [
    "chabeuil_idx = fr_word2idx['chabeuil']\n",
    "print('index for word chabeuil:', chabeuil_idx, \n",
    "      '\\nvector for word chabeuil:\\n',fr_vectors[chabeuil_idx][:10])"
   ]
  },
  {
   "cell_type": "code",
   "execution_count": 392,
   "metadata": {},
   "outputs": [
    {
     "data": {
      "text/plain": [
       "99783"
      ]
     },
     "execution_count": 392,
     "metadata": {},
     "output_type": "execute_result"
    }
   ],
   "source": [
    "fr_word2idx[\"chabeuil\"]"
   ]
  },
  {
   "cell_type": "markdown",
   "metadata": {},
   "source": [
    "The word embedding for chabeuil matches as well so everything worked correctly for the french vocab."
   ]
  },
  {
   "cell_type": "markdown",
   "metadata": {},
   "source": [
    "Ok, so we have all the pieces needed to take words and convert them into word embeddings. These word embeddings already have a lot of useful information about how words relate since we loaded the pre-trained word embeddings. Now we can build the translation model with the embedding matrices built in."
   ]
  },
  {
   "cell_type": "markdown",
   "metadata": {},
   "source": [
    "### Setting up PyTorch Dataset and Dataloader"
   ]
  },
  {
   "cell_type": "markdown",
   "metadata": {},
   "source": [
    "Rather than organizing all the data from a file and storing it in a list or some other data structure, PyTorch allows us to create a dataset object. To get an example from a dataset we just index the dataset object like we would a list. However, all our processing can be contained in the objects initialization or indexing process.\n",
    "\n",
    "This will also make training easier when we want to iterate through batches."
   ]
  },
  {
   "cell_type": "code",
   "execution_count": 393,
   "metadata": {},
   "outputs": [],
   "source": [
    "class French2EnglishDataset(Dataset):\n",
    "    '''\n",
    "        French and associated English sentences.\n",
    "    '''\n",
    "    \n",
    "    def __init__(self, fr_sentences, en_sentences, fr_word2idx, en_word2idx, seq_length):\n",
    "        self.fr_sentences = fr_sentences\n",
    "        self.en_sentences = en_sentences\n",
    "        self.fr_word2idx = fr_word2idx\n",
    "        self.en_word2idx = en_word2idx\n",
    "        self.seq_length = seq_length\n",
    "        self.unk_en = set()\n",
    "        self.unk_fr = set()\n",
    "    \n",
    "    def __len__(self):\n",
    "        return len(french_sentences)\n",
    "    \n",
    "    def __getitem__(self, idx):\n",
    "        '''\n",
    "            Returns a pair of tensors containing word indices\n",
    "            for the specified sentence pair in the dataset.\n",
    "        '''\n",
    "        \n",
    "        # init torch tensors, note that 0 is the padding index\n",
    "        french_tensor = torch.zeros(self.seq_length, dtype=torch.long)\n",
    "        english_tensor = torch.zeros(self.seq_length, dtype=torch.long)\n",
    "        \n",
    "        # Get sentence pair\n",
    "        french_sentence = self.fr_sentences[idx].split()\n",
    "        english_sentence = self.en_sentences[idx].split()\n",
    "        \n",
    "        # Add <EOS> tags\n",
    "        french_sentence.append('</s>')\n",
    "        english_sentence.append('</s>')\n",
    "        \n",
    "        # Load word indices\n",
    "        for i, word in enumerate(french_sentence):\n",
    "            if word in fr_word2idx and fr_word_count[word] > 5:\n",
    "                french_tensor[i] = fr_word2idx[word]\n",
    "            else:\n",
    "                french_tensor[i] = fr_word2idx['<unk>']\n",
    "                self.unk_fr.add(word)\n",
    "        \n",
    "        for i, word in enumerate(english_sentence):\n",
    "            if word in en_word2idx and en_word_count[word] > 5:\n",
    "                english_tensor[i] = en_word2idx[word]\n",
    "            else:\n",
    "                english_tensor[i] = en_word2idx['<unk>']\n",
    "                self.unk_en.add(word)\n",
    "            \n",
    "        sample = {'french_tensor': french_tensor, 'french_sentence': self.fr_sentences[idx],\n",
    "                  'english_tensor': english_tensor, 'english_sentence': self.en_sentences[idx]}\n",
    "        return sample"
   ]
  },
  {
   "cell_type": "code",
   "execution_count": 394,
   "metadata": {},
   "outputs": [],
   "source": [
    "seq_length = 10\n",
    "french_english_dataset = French2EnglishDataset(french_sentences,\n",
    "                                               english_sentences,\n",
    "                                               fr_word2idx,\n",
    "                                               en_word2idx,\n",
    "                                               seq_length = seq_length)"
   ]
  },
  {
   "cell_type": "markdown",
   "metadata": {},
   "source": [
    "#### Example output of dataset"
   ]
  },
  {
   "cell_type": "code",
   "execution_count": 397,
   "metadata": {},
   "outputs": [],
   "source": [
    "test_sample = french_english_dataset[-10] # get 13th item in dataset"
   ]
  },
  {
   "cell_type": "code",
   "execution_count": 398,
   "metadata": {},
   "outputs": [
    {
     "name": "stdout",
     "output_type": "stream",
     "text": [
      "tout le monde sattendait à ce que lexpérience échoue\n"
     ]
    },
    {
     "data": {
      "text/plain": [
       "tensor([  121,    10,   129,     2,    12,    39,    33,     2,  6300,\n",
       "            3])"
      ]
     },
     "execution_count": 398,
     "metadata": {},
     "output_type": "execute_result"
    }
   ],
   "source": [
    "print(test_sample['french_sentence'])\n",
    "test_sample['french_tensor']"
   ]
  },
  {
   "cell_type": "code",
   "execution_count": 399,
   "metadata": {},
   "outputs": [
    {
     "data": {
      "text/plain": [
       "3"
      ]
     },
     "execution_count": 399,
     "metadata": {},
     "output_type": "execute_result"
    }
   ],
   "source": [
    "fr_word2idx['</s>']"
   ]
  },
  {
   "cell_type": "code",
   "execution_count": 400,
   "metadata": {},
   "outputs": [],
   "source": [
    "# Build dataloader to check how the batching works\n",
    "dataloader = DataLoader(french_english_dataset, batch_size=64,\n",
    "                        shuffle=True, num_workers=4)"
   ]
  },
  {
   "cell_type": "code",
   "execution_count": 401,
   "metadata": {
    "scrolled": true
   },
   "outputs": [
    {
     "name": "stdout",
     "output_type": "stream",
     "text": [
      "0 torch.Size([64, 10]) torch.Size([64, 10])\n",
      "1 torch.Size([64, 10]) torch.Size([64, 10])\n",
      "2 torch.Size([64, 10]) torch.Size([64, 10])\n",
      "3 torch.Size([64, 10]) torch.Size([64, 10])\n",
      "4 torch.Size([64, 10]) torch.Size([64, 10])\n",
      "5 torch.Size([64, 10]) torch.Size([64, 10])\n",
      "6 torch.Size([64, 10]) torch.Size([64, 10])\n",
      "7 torch.Size([64, 10]) torch.Size([64, 10])\n",
      "8 torch.Size([64, 10]) torch.Size([64, 10])\n",
      "9 torch.Size([64, 10]) torch.Size([64, 10])\n",
      "10 torch.Size([64, 10]) torch.Size([64, 10])\n"
     ]
    }
   ],
   "source": [
    "# Prints out 10 batches from the dataloader\n",
    "for i_batch, sample_batched in enumerate(dataloader):\n",
    "    print(i_batch, sample_batched['french_tensor'].shape,\n",
    "          sample_batched['english_tensor'].shape)\n",
    "    if i_batch == 10:\n",
    "        break"
   ]
  },
  {
   "cell_type": "markdown",
   "metadata": {},
   "source": [
    "## Part 2: Building the Model"
   ]
  },
  {
   "cell_type": "markdown",
   "metadata": {},
   "source": [
    "### Bi-Directional LSTM Encoder"
   ]
  },
  {
   "cell_type": "code",
   "execution_count": 330,
   "metadata": {},
   "outputs": [],
   "source": [
    "class EncoderBiLSTM(nn.Module):\n",
    "    def __init__(self, hidden_size, pretrained_embeddings):\n",
    "        super(EncoderBiLSTM, self).__init__()\n",
    "        self.hidden_size = hidden_size\n",
    "        self.embedding_dim = pretrained_embeddings.shape[1]\n",
    "        self.vocab_size = pretrained_embeddings.shape[0]\n",
    "        self.num_layers = 2\n",
    "        self.dropout = 0.1 if self.num_layers > 1 else 0\n",
    "        self.bidirectional = True\n",
    "        \n",
    "        \n",
    "        # Construct the layers\n",
    "        self.embedding = nn.Embedding(self.vocab_size, self.embedding_dim)\n",
    "        self.embedding.weight.data.copy_(torch.from_numpy(pretrained_embeddings))\n",
    "        self.embedding.weight.requires_grad = False\n",
    "        \n",
    "        self.lstm = nn.LSTM(self.embedding_dim,\n",
    "                            self.hidden_size,\n",
    "                            self.num_layers,\n",
    "                            batch_first = True,\n",
    "                            dropout=self.dropout,\n",
    "                            bidirectional=self.bidirectional)\n",
    "        \n",
    "        # Initialize hidden to hidden weights in LSTM to the Identity matrix\n",
    "        # PyTorch LSTM has 4 different hidden to hidden weights stacked in one matrix\n",
    "        identity_init = torch.eye(self.hidden_size)\n",
    "        self.lstm.weight_hh_l0.data.copy_(torch.cat([identity_init]*4, dim=0))\n",
    "        self.lstm.weight_hh_l0_reverse.data.copy_(torch.cat([identity_init]*4, dim=0))\n",
    "        self.lstm.weight_hh_l1.data.copy_(torch.cat([identity_init]*4, dim=0))\n",
    "        self.lstm.weight_hh_l1_reverse.data.copy_(torch.cat([identity_init]*4, dim=0))\n",
    "    \n",
    "    def forward(self, input, hidden):\n",
    "        embedded = self.embedding(input)\n",
    "        output = self.lstm(embedded, hidden)\n",
    "        return output\n",
    "    \n",
    "    def initHidden(self, batch_size):\n",
    "        \n",
    "        hidden_state = torch.zeros(self.num_layers*(2 if self.bidirectional else 1),\n",
    "                                   batch_size,\n",
    "                                   self.hidden_size, \n",
    "                                   device=device)\n",
    "        \n",
    "        cell_state = torch.zeros(self.num_layers*(2 if self.bidirectional else 1),\n",
    "                                 batch_size,\n",
    "                                 self.hidden_size, \n",
    "                                 device=device)\n",
    "        \n",
    "        return (hidden_state, cell_state)"
   ]
  },
  {
   "cell_type": "code",
   "execution_count": 278,
   "metadata": {},
   "outputs": [],
   "source": [
    "class EncoderBiGRU(nn.Module):\n",
    "    def __init__(self, hidden_size, pretrained_embeddings):\n",
    "        super(EncoderBiGRU, self).__init__()\n",
    "        self.hidden_size = hidden_size\n",
    "        self.embedding_dim = pretrained_embeddings.shape[1]\n",
    "        self.vocab_size = pretrained_embeddings.shape[0]\n",
    "        self.num_layers = 2\n",
    "        self.dropout = 0.1 if self.num_layers > 1 else 0\n",
    "        self.bidirectional = True\n",
    "        \n",
    "        \n",
    "        # Construct the layers\n",
    "        self.embedding = nn.Embedding(self.vocab_size, self.embedding_dim)\n",
    "        self.embedding.weight.data.copy_(torch.from_numpy(pretrained_embeddings))\n",
    "        self.embedding.weight.requires_grad = False\n",
    "        \n",
    "        self.gru = nn.GRU(self.embedding_dim,\n",
    "                            self.hidden_size,\n",
    "                            self.num_layers,\n",
    "                            batch_first = True,\n",
    "                            dropout=self.dropout,\n",
    "                            bidirectional=self.bidirectional)\n",
    "        \n",
    "        # Initialize hidden to hidden weights in GRU to the Identity matrix\n",
    "        # PyTorch GRU has 3 different hidden to hidden weights stacked in one matrix\n",
    "        identity_init = torch.eye(self.hidden_size)\n",
    "        self.lstm.weight_hh_l0.data.copy_(torch.cat([identity_init]*3, dim=0))\n",
    "        self.lstm.weight_hh_l0_reverse.data.copy_(torch.cat([identity_init]*3, dim=0))\n",
    "        self.lstm.weight_hh_l1.data.copy_(torch.cat([identity_init]*3, dim=0))\n",
    "        self.lstm.weight_hh_l1_reverse.data.copy_(torch.cat([identity_init]*3, dim=0))\n",
    "    \n",
    "    def forward(self, input, hidden):\n",
    "        embedded = self.embedding(input)\n",
    "        output = self.gru(embedded, hidden)\n",
    "        return output\n",
    "    \n",
    "    def initHidden(self, batch_size):\n",
    "        \n",
    "        hidden_state = torch.zeros(self.num_layers*(2 if self.bidirectional else 1),\n",
    "                                   batch_size,\n",
    "                                   self.hidden_size, \n",
    "                                   device=device)\n",
    "        \n",
    "        return hidden_state"
   ]
  },
  {
   "cell_type": "markdown",
   "metadata": {
    "heading_collapsed": true
   },
   "source": [
    "#### Testing the Encoder"
   ]
  },
  {
   "cell_type": "code",
   "execution_count": 107,
   "metadata": {
    "hidden": true
   },
   "outputs": [
    {
     "name": "stdout",
     "output_type": "stream",
     "text": [
      "The final output of the BiLSTM Encoder on our test input is: \n",
      "\n",
      " torch.Size([1, 3, 10])\n",
      "\n",
      "\n",
      "Encoder output tensor: \n",
      "\n",
      " tensor([[[ 0.0294, -0.1257, -0.0323,  0.1492, -0.1646, -0.1014, -0.2011,\n",
      "           0.5360,  0.1839, -0.1375],\n",
      "         [ 0.0006, -0.1875, -0.0133,  0.3113, -0.2321, -0.0520, -0.1772,\n",
      "           0.3969,  0.1649, -0.1093],\n",
      "         [-0.0288, -0.2242,  0.0221,  0.4637, -0.2421, -0.0491, -0.1451,\n",
      "           0.2243,  0.0931, -0.0728]]], device='cuda:0')\n"
     ]
    }
   ],
   "source": [
    "# Test the encoder on a sample input, input tensor has dimensions (batch_size, seq_length)\n",
    "\n",
    "batch_size = 1\n",
    "seq_length = 3\n",
    "hidden_size = 5\n",
    "encoder = EncoderBiLSTM(hidden_size, fr_vectors).to(device)\n",
    "hidden = encoder.initHidden(batch_size)\n",
    "\n",
    "inputs = torch.randint(0, 50, (batch_size, seq_length), dtype=torch.long, device=device)\n",
    "\n",
    "encoder_output, hidden_state = encoder.forward(inputs, hidden)\n",
    "\n",
    "print(\"The final output of the BiLSTM Encoder on our test input is: \\n\\n\", encoder_output.shape)\n",
    "\n",
    "print('\\n\\nEncoder output tensor: \\n\\n', encoder_output)"
   ]
  },
  {
   "cell_type": "code",
   "execution_count": 108,
   "metadata": {
    "hidden": true
   },
   "outputs": [
    {
     "data": {
      "text/plain": [
       "(tensor([[[ 0.3568,  0.1261, -0.1871,  0.2532, -0.3061]],\n",
       " \n",
       "         [[-0.1712, -0.1932,  0.1689,  0.3134,  0.0076]],\n",
       " \n",
       "         [[-0.0288, -0.2242,  0.0221,  0.4637, -0.2421]],\n",
       " \n",
       "         [[-0.1014, -0.2011,  0.5360,  0.1839, -0.1375]]], device='cuda:0'),\n",
       " tensor([[[ 0.7002,  0.2658, -0.3922,  0.3712, -0.5199]],\n",
       " \n",
       "         [[-0.2018, -0.5210,  0.7767,  0.5430,  0.0286]],\n",
       " \n",
       "         [[-0.0567, -0.5140,  0.0444,  0.9372, -0.5886]],\n",
       " \n",
       "         [[-0.2213, -0.6217,  1.0693,  0.3862, -0.2838]]], device='cuda:0'))"
      ]
     },
     "execution_count": 108,
     "metadata": {},
     "output_type": "execute_result"
    }
   ],
   "source": [
    "hidden_state# Tuple where first item is the hidden states, second item is the cell states.\n",
    "\n",
    "# The lstm has 2 layers, each layer has a forward and backward pass giving 4"
   ]
  },
  {
   "cell_type": "code",
   "execution_count": 109,
   "metadata": {
    "hidden": true
   },
   "outputs": [
    {
     "data": {
      "text/plain": [
       "tensor([[[ 0.3568,  0.1261, -0.1871,  0.2532, -0.3061]],\n",
       "\n",
       "        [[-0.0288, -0.2242,  0.0221,  0.4637, -0.2421]]], device='cuda:0')"
      ]
     },
     "execution_count": 109,
     "metadata": {},
     "output_type": "execute_result"
    }
   ],
   "source": [
    "hidden_state[0][::2] # Hidden states from forward pass for both lstm layers."
   ]
  },
  {
   "cell_type": "code",
   "execution_count": null,
   "metadata": {
    "hidden": true
   },
   "outputs": [],
   "source": [
    "encoder.lstm.weight_hh_l0.shape"
   ]
  },
  {
   "cell_type": "markdown",
   "metadata": {
    "heading_collapsed": true
   },
   "source": [
    "### Attention\n",
    "Let's take a moment to go over how attention is being modeled."
   ]
  },
  {
   "cell_type": "code",
   "execution_count": 57,
   "metadata": {
    "hidden": true
   },
   "outputs": [
    {
     "name": "stdout",
     "output_type": "stream",
     "text": [
      "Attention weights:\n",
      " tensor([[[ 1.,  0.,  0.]]], device='cuda:0')\n",
      "\n",
      "First sequence item in Encoder output: \n",
      " tensor([[ 0.0730,  0.0851, -0.0369,  0.0661, -0.1296,  0.1942, -0.1784,\n",
      "          0.1323,  0.0321,  0.1278]], device='cuda:0')\n",
      "\n",
      "Encoder Output after attention is applied: \n",
      " tensor([ 0.0730,  0.0851, -0.0369,  0.0661, -0.1296,  0.1942, -0.1784,\n",
      "         0.1323,  0.0321,  0.1278], device='cuda:0')\n",
      "\n",
      " torch.Size([10])\n"
     ]
    }
   ],
   "source": [
    "# Initialize attention weights to one\n",
    "attn_weights = torch.ones((batch_size, seq_length),device=device)\n",
    "\n",
    "# Set all weights except the weights associated with the first sequence item equal to zero\n",
    "# This would represent full attention on the first word in the sequence\n",
    "attn_weights[:, 1:] = 0\n",
    "\n",
    "attn_weights.unsqueeze_(1) # Add dimension for batch matrix multiplication\n",
    "attn_applied = torch.bmm(attn_weights, encoder_output)\n",
    "attn_applied.squeeze_() # Remove extra dimension\n",
    "\n",
    "print('Attention weights:\\n', attn_weights)\n",
    "print('\\nFirst sequence item in Encoder output: \\n',encoder_output[:,0,:])\n",
    "print('\\nEncoder Output after attention is applied: \\n', attn_applied)\n",
    "print('\\n', attn_applied.shape)"
   ]
  },
  {
   "cell_type": "markdown",
   "metadata": {},
   "source": [
    "### LSTM Decoder with Attention"
   ]
  },
  {
   "cell_type": "code",
   "execution_count": 453,
   "metadata": {},
   "outputs": [],
   "source": [
    "class AttnDecoderLSTM(nn.Module):\n",
    "    def __init__(self, decoder_hidden_size, pretrained_embeddings, seq_length, encoder_hidden_dim):\n",
    "        super(AttnDecoderLSTM, self).__init__()\n",
    "        # Embedding parameters\n",
    "        self.embedding_dim = pretrained_embeddings.shape[1]\n",
    "        self.output_vocab_size = pretrained_embeddings.shape[0]\n",
    "        \n",
    "        # LSTM parameters\n",
    "        self.decoder_hidden_size = decoder_hidden_size\n",
    "        self.num_layers = 2 # Potentially add more layers to LSTM later\n",
    "        self.dropout = 0.1 if self.num_layers > 1 else 0 # Potentially add dropout later\n",
    "        \n",
    "        # Attention parameters\n",
    "        self.seq_length = seq_length\n",
    "        self.encoder_hidden_dim = encoder_hidden_dim\n",
    "        \n",
    "        # Construct embedding layer for output language\n",
    "        self.embedding = nn.Embedding(self.output_vocab_size, self.embedding_dim)\n",
    "        self.embedding.weight.data.copy_(torch.from_numpy(pretrained_embeddings))\n",
    "        self.embedding.weight.requires_grad = False # we don't want to train the embedding weights\n",
    "        \n",
    "        # Construct layer that calculates attentional weights\n",
    "        self.attn = nn.Linear((2*self.decoder_hidden_size + self.embedding_dim), self.seq_length)\n",
    "        \n",
    "        # Construct layer that compresses the combined matrix of the input embeddings\n",
    "        # and the encoder inputs after attention has been applied\n",
    "        self.attn_with_input = nn.Linear(self.embedding_dim + self.encoder_hidden_dim, self.embedding_dim)\n",
    "        \n",
    "        # LSTM for Decoder\n",
    "        self.lstm = nn.LSTM(self.embedding_dim,\n",
    "                            self.decoder_hidden_size,\n",
    "                            self.num_layers,\n",
    "                            dropout=self.dropout)\n",
    "        \n",
    "        # Initialize hidden to hidden weights in LSTM to the Identity matrix\n",
    "        # PyTorch LSTM has 4 different hidden to hidden weights stacked in one matrix\n",
    "        identity_init = torch.eye(self.decoder_hidden_size)\n",
    "        self.lstm.weight_hh_l0.data.copy_(torch.cat([identity_init]*4, dim=0))\n",
    "        self.lstm.weight_hh_l1.data.copy_(torch.cat([identity_init]*4, dim=0))\n",
    "        \n",
    "        # Output layer\n",
    "        self.out = nn.Linear(self.decoder_hidden_size, self.output_vocab_size)\n",
    "    \n",
    "    def forward(self, input, hidden, encoder_output):\n",
    "        # Input word indices, should have dim(1, batch_size), output will be (1, batch_size, embedding_dim)\n",
    "        embedded = self.embedding(input)\n",
    "        \n",
    "        # Calculate Attention weights\n",
    "        attn_weights = F.softmax(self.attn(torch.cat((hidden[1][1], hidden[0][1], embedded[0]), 1)), dim=1)\n",
    "        attn_weights = attn_weights.unsqueeze(1) # Add dimension for batch matrix multiplication\n",
    "        \n",
    "        # Apply Attention weights\n",
    "        attn_applied = torch.bmm(attn_weights, encoder_output)\n",
    "        attn_applied = attn_applied.squeeze(1) # Remove extra dimension, dim are now (batch_size, encoder_hidden_size)\n",
    "        \n",
    "        # Prepare LSTM input tensor\n",
    "\n",
    "        attn_combined = torch.cat((embedded[0], attn_applied), 1) # Combine embedding input and attn_applied,\n",
    "        lstm_input = F.relu(self.attn_with_input(attn_combined)) # pass through fully connected with ReLU\n",
    "        lstm_input = lstm_input.unsqueeze(0) # Add seq dimension so tensor has expected dimensions for lstm\n",
    "        \n",
    "        output, hidden = self.lstm(lstm_input, hidden) # Output dim = (1, batch_size, decoder_hidden_size)\n",
    "        output = F.log_softmax(self.out(output[0]), dim=1) # softmax over all words in vocab\n",
    "        \n",
    "        \n",
    "        return output, hidden, attn_weights\n",
    "    \n",
    "    def initHidden(self, batch_size):\n",
    "        \n",
    "        hidden_state = torch.zeros(self.num_layers,\n",
    "                                   batch_size,\n",
    "                                   self.decoder_hidden_size, \n",
    "                                   device=device)\n",
    "        \n",
    "        cell_state = torch.zeros(self.num_layers,\n",
    "                                 batch_size,\n",
    "                                 self.decoder_hidden_size, \n",
    "                                 device=device)\n",
    "        \n",
    "        return (hidden_state, cell_state)"
   ]
  },
  {
   "cell_type": "code",
   "execution_count": 280,
   "metadata": {},
   "outputs": [],
   "source": [
    "class AttnDecoderGRU(nn.Module):\n",
    "    def __init__(self, decoder_hidden_size, pretrained_embeddings, seq_length, encoder_hidden_dim):\n",
    "        super(AttnDecoderGRU, self).__init__()\n",
    "        # Embedding parameters\n",
    "        self.embedding_dim = pretrained_embeddings.shape[1]\n",
    "        self.output_vocab_size = pretrained_embeddings.shape[0]\n",
    "        \n",
    "        # GRU parameters\n",
    "        self.decoder_hidden_size = decoder_hidden_size\n",
    "        self.num_layers = 2 # Potentially add more layers to LSTM later\n",
    "        self.dropout = 0.2 if self.num_layers > 1 else 0 # Potentially add dropout later\n",
    "        \n",
    "        # Attention parameters\n",
    "        self.seq_length = seq_length\n",
    "        self.encoder_hidden_dim = encoder_hidden_dim\n",
    "        \n",
    "        # Construct embedding layer for output language\n",
    "        self.embedding = nn.Embedding(self.output_vocab_size, self.embedding_dim)\n",
    "        self.embedding.weight.data.copy_(torch.from_numpy(pretrained_embeddings))\n",
    "        self.embedding.weight.requires_grad = False # we don't want to train the embedding weights\n",
    "        \n",
    "        # Construct layer that calculates attentional weights\n",
    "        self.attn = nn.Linear(self.decoder_hidden_size + self.embedding_dim, self.seq_length)\n",
    "        \n",
    "        # Construct layer that compresses the combined matrix of the input embeddings\n",
    "        # and the encoder inputs after attention has been applied\n",
    "        self.attn_with_input = nn.Linear(self.embedding_dim + self.encoder_hidden_dim, self.embedding_dim)\n",
    "        \n",
    "        # gru for Decoder\n",
    "        self.gru = nn.GRU(self.embedding_dim,\n",
    "                            self.decoder_hidden_size,\n",
    "                            self.num_layers,\n",
    "                            dropout=self.dropout)\n",
    "        \n",
    "        # Initialize hidden to hidden weights in GRU to the Identity matrix\n",
    "        # PyTorch GRU has 3 different hidden to hidden weights stacked in one matrix\n",
    "        identity_init = torch.eye(self.decoder_hidden_size)\n",
    "        self.lstm.weight_hh_l0.data.copy_(torch.cat([identity_init]*3, dim=0))\n",
    "        self.lstm.weight_hh_l1.data.copy_(torch.cat([identity_init]*3, dim=0))\n",
    "        \n",
    "        # Output layer\n",
    "        self.out = nn.Linear(self.decoder_hidden_size, self.output_vocab_size)\n",
    "    \n",
    "    def forward(self, input, hidden, encoder_output):\n",
    "        # Input word indices, should have dim(1, batch_size), output will be (1, batch_size, embedding_dim)\n",
    "        embedded = self.embedding(input)\n",
    "        \n",
    "        # Calculate Attention weights\n",
    "        attn_weights = F.softmax(self.attn(torch.cat((hidden[0], embedded[0]), 1)), dim=1)\n",
    "        attn_weights = attn_weights.unsqueeze(1) # Add dimension for batch matrix multiplication\n",
    "        \n",
    "        # Apply Attention weights\n",
    "        attn_applied = torch.bmm(attn_weights, encoder_output)\n",
    "        attn_applied = attn_applied.squeeze(1) # Remove extra dimension, dim are now (batch_size, encoder_hidden_size)\n",
    "        \n",
    "        # Prepare LSTM input tensor\n",
    "\n",
    "        attn_combined = torch.cat((embedded[0], attn_applied), 1) # Combine embedding input and attn_applied,\n",
    "        gru_input = F.relu(self.attn_with_input(attn_combined)) # pass through fully connected with ReLU\n",
    "        gru_input = gru_input.unsqueeze(0) # Add seq dimension so tensor has expected dimensions for lstm\n",
    "        \n",
    "        output, hidden = self.gru(gru_input, hidden) # Output dim = (1, batch_size, decoder_hidden_size)\n",
    "        output = F.log_softmax(self.out(output[0]), dim=1) # softmax over all words in vocab\n",
    "        \n",
    "        return output, hidden, attn_weights\n",
    "    \n",
    "    def initHidden(self, batch_size):\n",
    "        \n",
    "        hidden_state = torch.zeros(self.num_layers,\n",
    "                                   batch_size,\n",
    "                                   self.decoder_hidden_size, \n",
    "                                   device=device)\n",
    "        \n",
    "        return hidden_state"
   ]
  },
  {
   "cell_type": "markdown",
   "metadata": {
    "heading_collapsed": true
   },
   "source": [
    "#### Testing the Decoder"
   ]
  },
  {
   "cell_type": "code",
   "execution_count": 104,
   "metadata": {
    "hidden": true
   },
   "outputs": [],
   "source": [
    "# Test the decoder on sample inputs to check that the dimensions of everything is correct\n",
    "decoder_hidden_size = 5\n",
    "\n",
    "decoder = AttnDecoderLSTM(decoder_hidden_size, en_vectors, seq_length, 2*hidden_size).to(device)"
   ]
  },
  {
   "cell_type": "code",
   "execution_count": 105,
   "metadata": {
    "hidden": true
   },
   "outputs": [],
   "source": [
    "input_idx = torch.tensor([fr_word2idx['<s>']]*batch_size, dtype=torch.long, device=device)"
   ]
  },
  {
   "cell_type": "code",
   "execution_count": 106,
   "metadata": {
    "hidden": true
   },
   "outputs": [
    {
     "data": {
      "text/plain": [
       "torch.Size([1])"
      ]
     },
     "execution_count": 106,
     "metadata": {},
     "output_type": "execute_result"
    }
   ],
   "source": [
    "input_idx.shape"
   ]
  },
  {
   "cell_type": "code",
   "execution_count": 107,
   "metadata": {
    "hidden": true
   },
   "outputs": [],
   "source": [
    "input_idx = input_idx.unsqueeze_(0)\n",
    "decoder_hidden = decoder.initHidden(batch_size)"
   ]
  },
  {
   "cell_type": "code",
   "execution_count": 108,
   "metadata": {
    "hidden": true
   },
   "outputs": [
    {
     "data": {
      "text/plain": [
       "torch.Size([1, 1])"
      ]
     },
     "execution_count": 108,
     "metadata": {},
     "output_type": "execute_result"
    }
   ],
   "source": [
    "input_idx.shape"
   ]
  },
  {
   "cell_type": "code",
   "execution_count": 109,
   "metadata": {
    "hidden": true
   },
   "outputs": [
    {
     "name": "stdout",
     "output_type": "stream",
     "text": [
      "torch.Size([1, 99997])\n"
     ]
    }
   ],
   "source": [
    "o, h, a = decoder.forward(input_idx, decoder_hidden, encoder_output)\n",
    "print(o.shape)"
   ]
  },
  {
   "cell_type": "code",
   "execution_count": 111,
   "metadata": {
    "hidden": true
   },
   "outputs": [
    {
     "data": {
      "text/plain": [
       "torch.Size([2, 1, 5])"
      ]
     },
     "execution_count": 111,
     "metadata": {},
     "output_type": "execute_result"
    }
   ],
   "source": [
    "decoder_hidden[0].shape"
   ]
  },
  {
   "cell_type": "markdown",
   "metadata": {},
   "source": [
    "## Part 3: Training the Model"
   ]
  },
  {
   "cell_type": "markdown",
   "metadata": {},
   "source": [
    "### Training Function"
   ]
  },
  {
   "cell_type": "code",
   "execution_count": 331,
   "metadata": {},
   "outputs": [],
   "source": [
    "def train(input_tensor, target_tensor, encoder, decoder,\n",
    "          encoder_optimizer, decoder_optimizer, criterion):\n",
    "    \n",
    "    # Initialize encoder hidden state\n",
    "    encoder_hidden = encoder.initHidden(input_tensor.shape[0])\n",
    "    \n",
    "    # clear the gradients in the optimizers\n",
    "    encoder_optimizer.zero_grad()\n",
    "    decoder_optimizer.zero_grad()\n",
    "    \n",
    "    # run forward pass through encoder on entire sequence\n",
    "    encoder_output, encoder_hidden = encoder.forward(input_tensor, encoder_hidden)\n",
    "    \n",
    "    # Initialize decoder input(Start of Sentence tag) and hidden state from encoder\n",
    "    decoder_input =  torch.tensor([en_word2idx['<s>']]*input_tensor.shape[0], dtype=torch.long, device=device).unsqueeze(0)\n",
    "    \n",
    "    # Comment second line if you are using LSTM, comment first if using GRU\n",
    "    decoder_hidden = (encoder_hidden[0][::2].contiguous(), encoder_hidden[1][::2].contiguous())\n",
    "    #decoder_hidden = decoder.initHidden(input_tensor.shape[0])\n",
    "    \n",
    "    loss = 0\n",
    "    \n",
    "    use_teacher_forcing = True if random.random() < 0.5 else False\n",
    "\n",
    "    if use_teacher_forcing:\n",
    "        for di in range(seq_length):\n",
    "            output, decoder_hidden, attn_weights = decoder.forward(decoder_input,\n",
    "                                                                   decoder_hidden,\n",
    "                                                                   encoder_output)\n",
    "            \n",
    "            # Feed target as input to next item in the sequence\n",
    "            decoder_input = target_tensor[di].unsqueeze(0)\n",
    "            loss += criterion(output, target_tensor[di])\n",
    "    else:\n",
    "        for di in range(seq_length):\n",
    "            output, decoder_hidden, attn_weights = decoder.forward(decoder_input,\n",
    "                                                                   decoder_hidden,\n",
    "                                                                   encoder_output)\n",
    "            \n",
    "            # Feed output as input to next item in the sequence\n",
    "            decoder_input = output.topk(1)[1].view(1,-1).detach()\n",
    "            loss += criterion(output, target_tensor[di])\n",
    "    \n",
    "    loss.backward()\n",
    "    \n",
    "    # Clip the gradients\n",
    "    #nn.utils.clip_grad_norm_(encoder.parameters(), 25)\n",
    "    #nn.utils.clip_grad_norm_(decoder.parameters(), 25)\n",
    "    \n",
    "    encoder_optimizer.step()\n",
    "    decoder_optimizer.step()\n",
    "    \n",
    "    return loss.item()"
   ]
  },
  {
   "cell_type": "markdown",
   "metadata": {},
   "source": [
    "### Training Loop"
   ]
  },
  {
   "cell_type": "code",
   "execution_count": 332,
   "metadata": {},
   "outputs": [],
   "source": [
    "def trainIters(encoder, decoder, dataloader, epochs, print_every_n_batches=100, learning_rate=0.01):\n",
    "    \n",
    "    # keep track of losses\n",
    "    start = time.time()\n",
    "    plot_losses = []\n",
    "\n",
    "    # Initialize Encoder Optimizer\n",
    "    encoder_parameters = filter(lambda p: p.requires_grad, encoder.parameters())\n",
    "    encoder_optimizer = optim.SGD(encoder_parameters, lr=learning_rate)\n",
    "    \n",
    "    # Initialize Decoder Optimizer\n",
    "    decoder_parameters = filter(lambda p: p.requires_grad, decoder.parameters())\n",
    "    decoder_optimizer = optim.SGD(decoder_parameters, lr=learning_rate)\n",
    "\n",
    "    \n",
    "    criterion = nn.NLLLoss(ignore_index=0)\n",
    "    \n",
    "    # Cycle through epochs\n",
    "    for epoch in range(epochs):\n",
    "        \n",
    "        # Cycle through batches\n",
    "        for i, batch in enumerate(dataloader):\n",
    "            \n",
    "            input_tensor = batch['french_tensor'].to(device)\n",
    "            target_tensor = batch['english_tensor'].transpose(1,0).to(device)\n",
    "            \n",
    "\n",
    "            loss = train(input_tensor, target_tensor, encoder, decoder,\n",
    "                         encoder_optimizer, decoder_optimizer, criterion)\n",
    "            if i % print_every_n_batches == 0:\n",
    "                print(f'batch {i} loss: {loss}')\n",
    "            plot_losses.append(loss)\n",
    "\n",
    "        \n",
    "        print(f'Epoch {epoch + 1}/{epochs}, loss on final batch: {loss}')\n",
    "    return plot_losses"
   ]
  },
  {
   "cell_type": "markdown",
   "metadata": {},
   "source": [
    "### Training the Model"
   ]
  },
  {
   "cell_type": "code",
   "execution_count": 425,
   "metadata": {},
   "outputs": [],
   "source": [
    "hidden_size = 256\n",
    "batch_size = 16\n",
    "learning_rate = 0.1\n",
    "dataloader = DataLoader(french_english_dataset, batch_size=batch_size,\n",
    "                        shuffle=True, num_workers=4) "
   ]
  },
  {
   "cell_type": "code",
   "execution_count": 407,
   "metadata": {},
   "outputs": [],
   "source": [
    "encoder = EncoderBiLSTM(hidden_size, fr_vectors).to(device)\n",
    "decoder = AttnDecoderLSTM(hidden_size, en_vectors, seq_length, 2*hidden_size).to(device)"
   ]
  },
  {
   "cell_type": "code",
   "execution_count": 408,
   "metadata": {},
   "outputs": [
    {
     "name": "stdout",
     "output_type": "stream",
     "text": [
      "Training model from scratch.\n"
     ]
    }
   ],
   "source": [
    "from_scratch = True # Set to False if you have saved weights and want to load them\n",
    "\n",
    "if not from_scratch:\n",
    "    # Load weights from earlier model\n",
    "    encoder_state_dict = torch.load('encoder_lstm.pth')\n",
    "    decoder_state_dict = torch.load('decoder_lstm.pth')\n",
    "\n",
    "    encoder.load_state_dict(encoder_state_dict)\n",
    "    decoder.load_state_dict(decoder_state_dict)\n",
    "else:\n",
    "    print('Training model from scratch.')"
   ]
  },
  {
   "cell_type": "code",
   "execution_count": 428,
   "metadata": {
    "scrolled": true
   },
   "outputs": [
    {
     "name": "stdout",
     "output_type": "stream",
     "text": [
      "batch 0 loss: 28.96249008178711\n",
      "batch 100 loss: 22.781879425048828\n",
      "batch 200 loss: 27.175037384033203\n",
      "batch 300 loss: 24.935104370117188\n",
      "batch 400 loss: 28.341981887817383\n",
      "batch 500 loss: 19.297155380249023\n",
      "batch 600 loss: 22.26950454711914\n",
      "batch 700 loss: 24.9261531829834\n",
      "batch 800 loss: 33.92123794555664\n",
      "batch 900 loss: 15.31254768371582\n",
      "batch 1000 loss: 32.47834014892578\n",
      "batch 1100 loss: 31.08116912841797\n",
      "batch 1200 loss: 18.159252166748047\n",
      "batch 1300 loss: 19.60860252380371\n",
      "batch 1400 loss: 19.0214786529541\n",
      "batch 1500 loss: 18.16910743713379\n",
      "batch 1600 loss: 31.34920883178711\n",
      "batch 1700 loss: 29.580303192138672\n",
      "batch 1800 loss: 23.63811683654785\n",
      "batch 1900 loss: 32.11870574951172\n",
      "batch 2000 loss: 21.50162696838379\n",
      "batch 2100 loss: 25.419795989990234\n",
      "batch 2200 loss: 24.84756088256836\n",
      "batch 2300 loss: 22.41193199157715\n",
      "batch 2400 loss: 23.102275848388672\n",
      "batch 2500 loss: 18.487770080566406\n",
      "batch 2600 loss: 25.594213485717773\n",
      "batch 2700 loss: 30.10738182067871\n",
      "batch 2800 loss: 19.243989944458008\n",
      "batch 2900 loss: 21.03312873840332\n",
      "batch 3000 loss: 18.151857376098633\n",
      "batch 3100 loss: 15.46912670135498\n",
      "batch 3200 loss: 19.173206329345703\n",
      "batch 3300 loss: 16.65119743347168\n",
      "batch 3400 loss: 23.88433074951172\n",
      "batch 3500 loss: 14.624848365783691\n",
      "batch 3600 loss: 16.71778106689453\n",
      "batch 3700 loss: 20.42703628540039\n",
      "batch 3800 loss: 17.610734939575195\n",
      "batch 3900 loss: 25.36555290222168\n",
      "batch 4000 loss: 28.326416015625\n",
      "batch 4100 loss: 10.87313175201416\n",
      "batch 4200 loss: 26.285314559936523\n",
      "batch 4300 loss: 12.424678802490234\n",
      "batch 4400 loss: 18.864402770996094\n",
      "batch 4500 loss: 24.670284271240234\n",
      "batch 4600 loss: 23.69556427001953\n",
      "batch 4700 loss: 16.237537384033203\n",
      "batch 4800 loss: 22.07309341430664\n",
      "batch 4900 loss: 12.765229225158691\n",
      "batch 5000 loss: 16.69557762145996\n",
      "batch 5100 loss: 25.39044952392578\n",
      "batch 5200 loss: 15.749218940734863\n",
      "batch 5300 loss: 15.50031852722168\n",
      "batch 5400 loss: 14.673224449157715\n",
      "batch 5500 loss: 18.526269912719727\n",
      "batch 5600 loss: 15.981179237365723\n",
      "batch 5700 loss: 20.491918563842773\n",
      "batch 5800 loss: 19.32263946533203\n",
      "batch 5900 loss: 32.69158172607422\n",
      "batch 6000 loss: 20.646516799926758\n",
      "batch 6100 loss: 13.636629104614258\n",
      "batch 6200 loss: 23.208126068115234\n",
      "batch 6300 loss: 22.792184829711914\n",
      "batch 6400 loss: 18.12659454345703\n",
      "batch 6500 loss: 18.92352294921875\n",
      "batch 6600 loss: 18.905555725097656\n",
      "batch 6700 loss: 18.74279022216797\n",
      "batch 6800 loss: 24.708993911743164\n",
      "batch 6900 loss: 12.677788734436035\n",
      "batch 7000 loss: 24.99349021911621\n",
      "batch 7100 loss: 19.19858169555664\n",
      "batch 7200 loss: 20.981821060180664\n",
      "batch 7300 loss: 19.113666534423828\n",
      "batch 7400 loss: 23.788740158081055\n",
      "batch 7500 loss: 17.58674430847168\n",
      "batch 7600 loss: 29.11410140991211\n",
      "batch 7700 loss: 19.99919319152832\n",
      "batch 7800 loss: 14.544977188110352\n",
      "batch 7900 loss: 15.370567321777344\n",
      "batch 8000 loss: 17.68402862548828\n",
      "batch 8100 loss: 19.14767074584961\n",
      "batch 8200 loss: 17.44256591796875\n",
      "Epoch 1/30, loss on final batch: 18.883136749267578\n",
      "batch 0 loss: 20.15789794921875\n",
      "batch 100 loss: 15.93225383758545\n",
      "batch 200 loss: 18.028181076049805\n",
      "batch 300 loss: 15.063555717468262\n",
      "batch 400 loss: 14.210329055786133\n",
      "batch 500 loss: 14.649493217468262\n",
      "batch 600 loss: 19.609012603759766\n",
      "batch 700 loss: 20.147254943847656\n",
      "batch 800 loss: 10.328203201293945\n",
      "batch 900 loss: 12.99278736114502\n",
      "batch 1000 loss: 15.64293384552002\n",
      "batch 1100 loss: 19.64363670349121\n",
      "batch 1200 loss: 17.369590759277344\n",
      "batch 1300 loss: 19.464725494384766\n",
      "batch 1400 loss: 16.80400848388672\n",
      "batch 1500 loss: 15.081003189086914\n",
      "batch 1600 loss: 14.02586841583252\n",
      "batch 1700 loss: 15.688907623291016\n",
      "batch 1800 loss: 18.111351013183594\n",
      "batch 1900 loss: 23.487295150756836\n",
      "batch 2000 loss: 17.49805450439453\n",
      "batch 2100 loss: 13.92463493347168\n",
      "batch 2200 loss: 13.249496459960938\n",
      "batch 2300 loss: 18.37432098388672\n",
      "batch 2400 loss: 21.27457618713379\n",
      "batch 2500 loss: 21.184185028076172\n",
      "batch 2600 loss: 11.884971618652344\n",
      "batch 2700 loss: 16.346601486206055\n",
      "batch 2800 loss: 19.80994987487793\n",
      "batch 2900 loss: 15.65676212310791\n",
      "batch 3000 loss: 20.93026351928711\n",
      "batch 3100 loss: 9.591055870056152\n",
      "batch 3200 loss: 18.368209838867188\n",
      "batch 3300 loss: 21.20615005493164\n",
      "batch 3400 loss: 12.703393936157227\n",
      "batch 3500 loss: 17.678050994873047\n",
      "batch 3600 loss: 11.89379596710205\n",
      "batch 3700 loss: 19.500146865844727\n",
      "batch 3800 loss: 17.885887145996094\n",
      "batch 3900 loss: 14.189480781555176\n",
      "batch 4000 loss: 13.817939758300781\n",
      "batch 4100 loss: 18.89188575744629\n",
      "batch 4200 loss: 15.438860893249512\n",
      "batch 4300 loss: 14.947937965393066\n",
      "batch 4400 loss: 11.316191673278809\n",
      "batch 4500 loss: 16.342018127441406\n",
      "batch 4600 loss: 18.05902099609375\n",
      "batch 4700 loss: 18.30959129333496\n",
      "batch 4800 loss: 15.920802116394043\n",
      "batch 4900 loss: 14.250203132629395\n",
      "batch 5000 loss: 15.057912826538086\n",
      "batch 5100 loss: 13.796581268310547\n",
      "batch 5200 loss: 13.734636306762695\n",
      "batch 5300 loss: 18.69552993774414\n",
      "batch 5400 loss: 11.858089447021484\n",
      "batch 5500 loss: 15.951148986816406\n",
      "batch 5600 loss: 11.204010963439941\n",
      "batch 5700 loss: 18.037036895751953\n",
      "batch 5800 loss: 17.759523391723633\n",
      "batch 5900 loss: 13.222214698791504\n",
      "batch 6000 loss: 17.221908569335938\n",
      "batch 6100 loss: 13.148633003234863\n",
      "batch 6200 loss: 20.725852966308594\n",
      "batch 6300 loss: 23.334796905517578\n",
      "batch 6400 loss: 12.142969131469727\n",
      "batch 6500 loss: 18.271100997924805\n",
      "batch 6600 loss: 20.11301040649414\n",
      "batch 6700 loss: 12.492410659790039\n",
      "batch 6800 loss: 13.727341651916504\n",
      "batch 6900 loss: 17.803852081298828\n",
      "batch 7000 loss: 21.18242645263672\n",
      "batch 7100 loss: 23.627336502075195\n",
      "batch 7200 loss: 19.884382247924805\n",
      "batch 7300 loss: 10.106122016906738\n",
      "batch 7400 loss: 18.13424301147461\n",
      "batch 7500 loss: 12.883771896362305\n",
      "batch 7600 loss: 8.619739532470703\n",
      "batch 7700 loss: 12.168408393859863\n",
      "batch 7800 loss: 12.806537628173828\n",
      "batch 7900 loss: 17.90806770324707\n",
      "batch 8000 loss: 14.258955955505371\n",
      "batch 8100 loss: 13.172550201416016\n",
      "batch 8200 loss: 25.059906005859375\n",
      "Epoch 2/30, loss on final batch: 10.290149688720703\n",
      "batch 0 loss: 11.073808670043945\n",
      "batch 100 loss: 18.055126190185547\n",
      "batch 200 loss: 12.718052864074707\n",
      "batch 300 loss: 9.882770538330078\n",
      "batch 400 loss: 10.462080955505371\n",
      "batch 500 loss: 11.25967025756836\n",
      "batch 600 loss: 16.32912826538086\n",
      "batch 700 loss: 18.550031661987305\n",
      "batch 800 loss: 20.04812240600586\n",
      "batch 900 loss: 14.498966217041016\n",
      "batch 1000 loss: 13.32753849029541\n",
      "batch 1100 loss: 8.154056549072266\n",
      "batch 1200 loss: 13.942075729370117\n",
      "batch 1300 loss: 15.613924026489258\n",
      "batch 1400 loss: 13.323184967041016\n",
      "batch 1500 loss: 14.58132553100586\n",
      "batch 1600 loss: 13.890328407287598\n",
      "batch 1700 loss: 17.633543014526367\n",
      "batch 1800 loss: 12.759456634521484\n",
      "batch 1900 loss: 11.587565422058105\n",
      "batch 2000 loss: 14.175432205200195\n",
      "batch 2100 loss: 12.86926555633545\n",
      "batch 2200 loss: 13.634539604187012\n",
      "batch 2300 loss: 16.644851684570312\n",
      "batch 2400 loss: 18.6500301361084\n",
      "batch 2500 loss: 13.739557266235352\n",
      "batch 2600 loss: 9.578721046447754\n",
      "batch 2700 loss: 11.051912307739258\n",
      "batch 2800 loss: 23.507410049438477\n",
      "batch 2900 loss: 15.677425384521484\n",
      "batch 3000 loss: 20.51001739501953\n",
      "batch 3100 loss: 10.570487976074219\n",
      "batch 3200 loss: 10.18703842163086\n",
      "batch 3300 loss: 12.796213150024414\n",
      "batch 3400 loss: 17.158845901489258\n",
      "batch 3500 loss: 19.994998931884766\n",
      "batch 3600 loss: 14.759332656860352\n",
      "batch 3700 loss: 15.805508613586426\n",
      "batch 3800 loss: 10.770533561706543\n",
      "batch 3900 loss: 14.165696144104004\n",
      "batch 4000 loss: 12.285758972167969\n",
      "batch 4100 loss: 13.559951782226562\n",
      "batch 4200 loss: 13.520995140075684\n",
      "batch 4300 loss: 18.206497192382812\n",
      "batch 4400 loss: 12.677854537963867\n",
      "batch 4500 loss: 15.52519416809082\n",
      "batch 4600 loss: 14.90368366241455\n",
      "batch 4700 loss: 15.89782428741455\n",
      "batch 4800 loss: 13.29849624633789\n",
      "batch 4900 loss: 18.726518630981445\n",
      "batch 5000 loss: 12.942521095275879\n",
      "batch 5100 loss: 17.134016036987305\n",
      "batch 5200 loss: 7.442415714263916\n",
      "batch 5300 loss: 18.24980354309082\n",
      "batch 5400 loss: 20.98974609375\n",
      "batch 5500 loss: 23.551746368408203\n",
      "batch 5600 loss: 18.992122650146484\n",
      "batch 5700 loss: 16.19193458557129\n",
      "batch 5800 loss: 20.877262115478516\n",
      "batch 5900 loss: 12.104849815368652\n",
      "batch 6000 loss: 15.814756393432617\n",
      "batch 6100 loss: 16.99620246887207\n",
      "batch 6200 loss: 14.383381843566895\n"
     ]
    },
    {
     "name": "stdout",
     "output_type": "stream",
     "text": [
      "batch 6300 loss: 22.673494338989258\n",
      "batch 6400 loss: 18.695310592651367\n",
      "batch 6500 loss: 8.462785720825195\n",
      "batch 6600 loss: 13.008533477783203\n",
      "batch 6700 loss: 19.892169952392578\n",
      "batch 6800 loss: 13.489432334899902\n",
      "batch 6900 loss: 12.50771427154541\n",
      "batch 7000 loss: 9.185294151306152\n",
      "batch 7100 loss: 14.036149024963379\n",
      "batch 7200 loss: 11.905778884887695\n",
      "batch 7300 loss: 10.258780479431152\n",
      "batch 7400 loss: 10.185630798339844\n",
      "batch 7500 loss: 12.688231468200684\n",
      "batch 7600 loss: 14.979819297790527\n",
      "batch 7700 loss: 10.445528030395508\n",
      "batch 7800 loss: 14.056207656860352\n",
      "batch 7900 loss: 26.76020050048828\n",
      "batch 8000 loss: 16.398303985595703\n",
      "batch 8100 loss: 13.184844017028809\n",
      "batch 8200 loss: 12.980475425720215\n",
      "Epoch 3/30, loss on final batch: 12.937658309936523\n",
      "batch 0 loss: 12.540472030639648\n",
      "batch 100 loss: 15.794708251953125\n",
      "batch 200 loss: 9.270585060119629\n",
      "batch 300 loss: 12.124067306518555\n",
      "batch 400 loss: 15.751912117004395\n",
      "batch 500 loss: 18.365489959716797\n",
      "batch 600 loss: 15.160933494567871\n",
      "batch 700 loss: 8.430373191833496\n",
      "batch 800 loss: 14.304494857788086\n",
      "batch 900 loss: 8.936224937438965\n",
      "batch 1000 loss: 13.101119995117188\n",
      "batch 1100 loss: 13.949673652648926\n",
      "batch 1200 loss: 16.296279907226562\n",
      "batch 1300 loss: 11.3176851272583\n",
      "batch 1400 loss: 16.780698776245117\n",
      "batch 1500 loss: 18.789936065673828\n",
      "batch 1600 loss: 21.43851661682129\n",
      "batch 1700 loss: 5.805960178375244\n",
      "batch 1800 loss: 13.569698333740234\n",
      "batch 1900 loss: 13.027461051940918\n",
      "batch 2000 loss: 15.511711120605469\n",
      "batch 2100 loss: 9.969871520996094\n",
      "batch 2200 loss: 12.16716194152832\n",
      "batch 2300 loss: 20.651948928833008\n",
      "batch 2400 loss: 17.203372955322266\n",
      "batch 2500 loss: 14.633927345275879\n",
      "batch 2600 loss: 8.575465202331543\n",
      "batch 2700 loss: 16.69696807861328\n",
      "batch 2800 loss: 12.201961517333984\n",
      "batch 2900 loss: 14.377402305603027\n",
      "batch 3000 loss: 15.496517181396484\n",
      "batch 3100 loss: 18.093698501586914\n",
      "batch 3200 loss: 10.779909133911133\n",
      "batch 3300 loss: 9.214069366455078\n",
      "batch 3400 loss: 8.696340560913086\n",
      "batch 3500 loss: 15.159156799316406\n",
      "batch 3600 loss: 15.787153244018555\n",
      "batch 3700 loss: 13.183365821838379\n",
      "batch 3800 loss: 12.607962608337402\n",
      "batch 3900 loss: 17.37249183654785\n",
      "batch 4000 loss: 12.996675491333008\n",
      "batch 4100 loss: 13.548613548278809\n",
      "batch 4200 loss: 17.427209854125977\n",
      "batch 4300 loss: 11.62211799621582\n",
      "batch 4400 loss: 9.747527122497559\n",
      "batch 4500 loss: 15.386938095092773\n",
      "batch 4600 loss: 24.60723876953125\n",
      "batch 4700 loss: 14.377706527709961\n",
      "batch 4800 loss: 7.538761138916016\n",
      "batch 4900 loss: 11.604455947875977\n",
      "batch 5000 loss: 10.958663940429688\n",
      "batch 5100 loss: 15.994011878967285\n",
      "batch 5200 loss: 12.10982608795166\n",
      "batch 5300 loss: 10.939000129699707\n",
      "batch 5400 loss: 19.197418212890625\n",
      "batch 5500 loss: 10.48344898223877\n",
      "batch 5600 loss: 14.797830581665039\n",
      "batch 5700 loss: 12.15066146850586\n",
      "batch 5800 loss: 12.118916511535645\n",
      "batch 5900 loss: 13.582110404968262\n",
      "batch 6000 loss: 13.726223945617676\n",
      "batch 6100 loss: 16.339576721191406\n",
      "batch 6200 loss: 18.291711807250977\n",
      "batch 6300 loss: 7.689653396606445\n",
      "batch 6400 loss: 6.608795642852783\n",
      "batch 6500 loss: 21.77984046936035\n",
      "batch 6600 loss: 21.69717788696289\n",
      "batch 6700 loss: 12.240896224975586\n",
      "batch 6800 loss: 17.739992141723633\n",
      "batch 6900 loss: 9.101773262023926\n",
      "batch 7000 loss: 13.475282669067383\n",
      "batch 7100 loss: 18.079330444335938\n",
      "batch 7200 loss: 17.118356704711914\n",
      "batch 7300 loss: 17.485519409179688\n",
      "batch 7400 loss: 8.928491592407227\n",
      "batch 7500 loss: 17.645732879638672\n",
      "batch 7600 loss: 17.51656723022461\n",
      "batch 7700 loss: 14.82626724243164\n",
      "batch 7800 loss: 13.168457984924316\n",
      "batch 7900 loss: 20.632509231567383\n",
      "batch 8000 loss: 10.789762496948242\n",
      "batch 8100 loss: 22.112377166748047\n",
      "batch 8200 loss: 13.567113876342773\n",
      "Epoch 4/30, loss on final batch: 6.862631797790527\n",
      "batch 0 loss: 14.171523094177246\n",
      "batch 100 loss: 14.548300743103027\n",
      "batch 200 loss: 13.35262393951416\n",
      "batch 300 loss: 9.945634841918945\n",
      "batch 400 loss: 17.073936462402344\n",
      "batch 500 loss: 8.925402641296387\n",
      "batch 600 loss: 13.064530372619629\n",
      "batch 700 loss: 12.30771541595459\n",
      "batch 800 loss: 7.265741348266602\n",
      "batch 900 loss: 13.058310508728027\n",
      "batch 1000 loss: 13.049741744995117\n",
      "batch 1100 loss: 14.615549087524414\n",
      "batch 1200 loss: 21.985769271850586\n",
      "batch 1300 loss: 15.191274642944336\n",
      "batch 1400 loss: 9.40046215057373\n",
      "batch 1500 loss: 12.59393310546875\n",
      "batch 1600 loss: 10.935110092163086\n",
      "batch 1700 loss: 11.16243839263916\n",
      "batch 1800 loss: 14.8822021484375\n",
      "batch 1900 loss: 17.755178451538086\n",
      "batch 2000 loss: 12.13589859008789\n",
      "batch 2100 loss: 12.793468475341797\n",
      "batch 2200 loss: 7.766008377075195\n",
      "batch 2300 loss: 8.313878059387207\n",
      "batch 2400 loss: 13.498223304748535\n",
      "batch 2500 loss: 9.972437858581543\n",
      "batch 2600 loss: 8.694877624511719\n",
      "batch 2700 loss: 9.960552215576172\n",
      "batch 2800 loss: 15.966455459594727\n",
      "batch 2900 loss: 14.050337791442871\n",
      "batch 3000 loss: 13.28617000579834\n",
      "batch 3100 loss: 15.188241004943848\n",
      "batch 3200 loss: 8.592610359191895\n",
      "batch 3300 loss: 10.659289360046387\n",
      "batch 3400 loss: 12.07663345336914\n",
      "batch 3500 loss: 23.273258209228516\n",
      "batch 3600 loss: 14.314127922058105\n",
      "batch 3700 loss: 14.811705589294434\n",
      "batch 3800 loss: 19.85376739501953\n",
      "batch 3900 loss: 7.886524200439453\n",
      "batch 4000 loss: 18.248252868652344\n",
      "batch 4100 loss: 16.347503662109375\n",
      "batch 4200 loss: 16.896957397460938\n",
      "batch 4300 loss: 14.703052520751953\n",
      "batch 4400 loss: 12.238190650939941\n",
      "batch 4500 loss: 17.32037353515625\n",
      "batch 4600 loss: 10.54835319519043\n",
      "batch 4700 loss: 16.627641677856445\n",
      "batch 4800 loss: 15.05064868927002\n",
      "batch 4900 loss: 21.35551643371582\n",
      "batch 5000 loss: 5.574885845184326\n",
      "batch 5100 loss: 14.83934211730957\n",
      "batch 5200 loss: 9.904645919799805\n",
      "batch 5300 loss: 19.95016098022461\n",
      "batch 5400 loss: 16.271484375\n",
      "batch 5500 loss: 9.813577651977539\n",
      "batch 5600 loss: 15.853716850280762\n",
      "batch 5700 loss: 15.856804847717285\n",
      "batch 5800 loss: 12.839027404785156\n",
      "batch 5900 loss: 14.196181297302246\n",
      "batch 6000 loss: 14.672098159790039\n",
      "batch 6100 loss: 8.655936241149902\n",
      "batch 6200 loss: 8.176648139953613\n",
      "batch 6300 loss: 16.419918060302734\n",
      "batch 6400 loss: 15.20157527923584\n",
      "batch 6500 loss: 15.224493980407715\n",
      "batch 6600 loss: 7.82081937789917\n",
      "batch 6700 loss: 18.973960876464844\n",
      "batch 6800 loss: 19.08976936340332\n",
      "batch 6900 loss: 14.67474365234375\n",
      "batch 7000 loss: 14.323320388793945\n",
      "batch 7100 loss: 11.023687362670898\n",
      "batch 7200 loss: 17.459997177124023\n",
      "batch 7300 loss: 15.730371475219727\n",
      "batch 7400 loss: 9.908916473388672\n",
      "batch 7500 loss: 11.298176765441895\n",
      "batch 7600 loss: 8.766992568969727\n",
      "batch 7700 loss: 13.338403701782227\n",
      "batch 7800 loss: 12.443551063537598\n",
      "batch 7900 loss: 23.44725227355957\n",
      "batch 8000 loss: 12.160322189331055\n",
      "batch 8100 loss: 16.26131820678711\n",
      "batch 8200 loss: 16.67798614501953\n",
      "Epoch 5/30, loss on final batch: 7.569637775421143\n",
      "batch 0 loss: 10.623915672302246\n",
      "batch 100 loss: 9.309746742248535\n",
      "batch 200 loss: 8.91545295715332\n",
      "batch 300 loss: 12.167627334594727\n",
      "batch 400 loss: 17.164670944213867\n",
      "batch 500 loss: 11.178417205810547\n",
      "batch 600 loss: 18.762950897216797\n",
      "batch 700 loss: 16.126676559448242\n",
      "batch 800 loss: 15.320528984069824\n",
      "batch 900 loss: 18.342456817626953\n",
      "batch 1000 loss: 9.860305786132812\n",
      "batch 1100 loss: 15.217792510986328\n",
      "batch 1200 loss: 16.359149932861328\n",
      "batch 1300 loss: 18.978229522705078\n",
      "batch 1400 loss: 9.849108695983887\n",
      "batch 1500 loss: 8.073044776916504\n",
      "batch 1600 loss: 18.23985481262207\n",
      "batch 1700 loss: 11.029478073120117\n",
      "batch 1800 loss: 13.303153991699219\n",
      "batch 1900 loss: 13.41047477722168\n",
      "batch 2000 loss: 7.945590019226074\n",
      "batch 2100 loss: 8.132927894592285\n",
      "batch 2200 loss: 7.826761245727539\n",
      "batch 2300 loss: 15.41292953491211\n",
      "batch 2400 loss: 14.920766830444336\n",
      "batch 2500 loss: 12.70350170135498\n",
      "batch 2600 loss: 11.472249984741211\n",
      "batch 2700 loss: 15.78054141998291\n",
      "batch 2800 loss: 10.367816925048828\n",
      "batch 2900 loss: 14.037822723388672\n",
      "batch 3000 loss: 8.99215030670166\n",
      "batch 3100 loss: 14.05298137664795\n",
      "batch 3200 loss: 17.23446273803711\n",
      "batch 3300 loss: 10.793947219848633\n",
      "batch 3400 loss: 9.005389213562012\n",
      "batch 3500 loss: 13.545093536376953\n",
      "batch 3600 loss: 16.97011947631836\n",
      "batch 3700 loss: 10.199810981750488\n",
      "batch 3800 loss: 13.748051643371582\n",
      "batch 3900 loss: 12.924901962280273\n",
      "batch 4000 loss: 6.6622843742370605\n",
      "batch 4100 loss: 11.875049591064453\n"
     ]
    },
    {
     "name": "stdout",
     "output_type": "stream",
     "text": [
      "batch 4200 loss: 9.105581283569336\n",
      "batch 4300 loss: 10.755916595458984\n",
      "batch 4400 loss: 8.568785667419434\n",
      "batch 4500 loss: 15.693055152893066\n",
      "batch 4600 loss: 13.281082153320312\n",
      "batch 4700 loss: 12.747129440307617\n",
      "batch 4800 loss: 13.259441375732422\n",
      "batch 4900 loss: 6.435853004455566\n",
      "batch 5000 loss: 11.4805326461792\n",
      "batch 5100 loss: 11.232969284057617\n",
      "batch 5200 loss: 10.764294624328613\n",
      "batch 5300 loss: 10.157286643981934\n",
      "batch 5400 loss: 11.994889259338379\n",
      "batch 5500 loss: 8.044149398803711\n",
      "batch 5600 loss: 10.557231903076172\n",
      "batch 5700 loss: 8.503432273864746\n",
      "batch 5800 loss: 17.611801147460938\n",
      "batch 5900 loss: 10.463711738586426\n",
      "batch 6000 loss: 14.909130096435547\n",
      "batch 6100 loss: 9.327136039733887\n",
      "batch 6200 loss: 6.281257629394531\n",
      "batch 6300 loss: 8.2415189743042\n",
      "batch 6400 loss: 17.37069320678711\n",
      "batch 6500 loss: 8.625240325927734\n",
      "batch 6600 loss: 8.896995544433594\n",
      "batch 6700 loss: 8.224867820739746\n",
      "batch 6800 loss: 17.22899627685547\n",
      "batch 6900 loss: 11.848649024963379\n",
      "batch 7000 loss: 17.915191650390625\n",
      "batch 7100 loss: 9.480049133300781\n",
      "batch 7200 loss: 17.62685203552246\n",
      "batch 7300 loss: 11.353728294372559\n",
      "batch 7400 loss: 15.682215690612793\n",
      "batch 7500 loss: 12.212443351745605\n",
      "batch 7600 loss: 14.061946868896484\n",
      "batch 7700 loss: 14.405519485473633\n",
      "batch 7800 loss: 11.328229904174805\n",
      "batch 7900 loss: 11.756570816040039\n",
      "batch 8000 loss: 6.450623989105225\n",
      "batch 8100 loss: 18.845125198364258\n",
      "batch 8200 loss: 8.462143898010254\n",
      "Epoch 6/30, loss on final batch: 5.39380407333374\n",
      "batch 0 loss: 9.74555492401123\n",
      "batch 100 loss: 12.37247085571289\n",
      "batch 200 loss: 7.152355194091797\n",
      "batch 300 loss: 12.511917114257812\n",
      "batch 400 loss: 10.804983139038086\n",
      "batch 500 loss: 13.604179382324219\n",
      "batch 600 loss: 9.13415813446045\n",
      "batch 700 loss: 16.245647430419922\n",
      "batch 800 loss: 12.011911392211914\n",
      "batch 900 loss: 7.018219947814941\n",
      "batch 1000 loss: 11.811103820800781\n",
      "batch 1100 loss: 14.213155746459961\n",
      "batch 1200 loss: 8.169260025024414\n",
      "batch 1300 loss: 10.640743255615234\n",
      "batch 1400 loss: 7.672646999359131\n",
      "batch 1500 loss: 12.899588584899902\n",
      "batch 1600 loss: 15.617209434509277\n",
      "batch 1700 loss: 15.870845794677734\n",
      "batch 1800 loss: 18.078367233276367\n",
      "batch 1900 loss: 8.305745124816895\n",
      "batch 2000 loss: 12.655364990234375\n",
      "batch 2100 loss: 9.43690299987793\n",
      "batch 2200 loss: 10.141088485717773\n",
      "batch 2300 loss: 15.055270195007324\n",
      "batch 2400 loss: 8.002849578857422\n",
      "batch 2500 loss: 12.306366920471191\n",
      "batch 2600 loss: 9.906939506530762\n",
      "batch 2700 loss: 11.694499969482422\n",
      "batch 2800 loss: 13.550016403198242\n",
      "batch 2900 loss: 16.157997131347656\n",
      "batch 3000 loss: 9.05081844329834\n",
      "batch 3100 loss: 14.421697616577148\n",
      "batch 3200 loss: 7.65800142288208\n",
      "batch 3300 loss: 8.939640045166016\n",
      "batch 3400 loss: 14.245441436767578\n",
      "batch 3500 loss: 7.130863189697266\n",
      "batch 3600 loss: 9.803455352783203\n",
      "batch 3700 loss: 14.171744346618652\n",
      "batch 3800 loss: 7.671745300292969\n",
      "batch 3900 loss: 15.479005813598633\n",
      "batch 4000 loss: 8.78765869140625\n",
      "batch 4100 loss: 9.683389663696289\n",
      "batch 4200 loss: 14.574522972106934\n",
      "batch 4300 loss: 10.607563972473145\n",
      "batch 4400 loss: 14.851252555847168\n",
      "batch 4500 loss: 9.43191909790039\n",
      "batch 4600 loss: 14.415369033813477\n",
      "batch 4700 loss: 11.11650562286377\n",
      "batch 4800 loss: 10.85439682006836\n",
      "batch 4900 loss: 14.001039505004883\n",
      "batch 5000 loss: 8.359328269958496\n",
      "batch 5100 loss: 16.944660186767578\n",
      "batch 5200 loss: 9.408287048339844\n",
      "batch 5300 loss: 11.348663330078125\n",
      "batch 5400 loss: 14.222766876220703\n",
      "batch 5500 loss: 9.867361068725586\n",
      "batch 5600 loss: 9.641228675842285\n",
      "batch 5700 loss: 12.74930191040039\n",
      "batch 5800 loss: 7.7526021003723145\n",
      "batch 5900 loss: 7.546485424041748\n",
      "batch 6000 loss: 11.733704566955566\n",
      "batch 6100 loss: 9.887285232543945\n",
      "batch 6200 loss: 10.059274673461914\n",
      "batch 6300 loss: 8.457186698913574\n",
      "batch 6400 loss: 14.445054054260254\n",
      "batch 6500 loss: 12.991849899291992\n",
      "batch 6600 loss: 6.411530017852783\n",
      "batch 6700 loss: 8.303759574890137\n",
      "batch 6800 loss: 19.309553146362305\n",
      "batch 6900 loss: 14.593344688415527\n",
      "batch 7000 loss: 19.004772186279297\n",
      "batch 7100 loss: 14.279428482055664\n",
      "batch 7200 loss: 16.145915985107422\n",
      "batch 7300 loss: 14.751237869262695\n",
      "batch 7400 loss: 12.292067527770996\n",
      "batch 7500 loss: 13.783658981323242\n",
      "batch 7600 loss: 13.491999626159668\n",
      "batch 7700 loss: 11.32141399383545\n",
      "batch 7800 loss: 19.152324676513672\n",
      "batch 7900 loss: 11.51610279083252\n",
      "batch 8000 loss: 13.64548397064209\n",
      "batch 8100 loss: 11.912839889526367\n",
      "batch 8200 loss: 13.118688583374023\n",
      "Epoch 7/30, loss on final batch: 14.9144287109375\n",
      "batch 0 loss: 14.328633308410645\n",
      "batch 100 loss: 6.785922050476074\n",
      "batch 200 loss: 6.744541645050049\n",
      "batch 300 loss: 14.724289894104004\n",
      "batch 400 loss: 5.357394218444824\n",
      "batch 500 loss: 11.832925796508789\n",
      "batch 600 loss: 14.868990898132324\n",
      "batch 700 loss: 11.001383781433105\n",
      "batch 800 loss: 16.858591079711914\n",
      "batch 900 loss: 12.72435474395752\n",
      "batch 1000 loss: 9.030843734741211\n",
      "batch 1100 loss: 29.48536491394043\n",
      "batch 1200 loss: 9.259248733520508\n",
      "batch 1300 loss: 8.274328231811523\n",
      "batch 1400 loss: 7.612946033477783\n",
      "batch 1500 loss: 12.637117385864258\n",
      "batch 1600 loss: 9.898778915405273\n",
      "batch 1700 loss: 6.675638198852539\n",
      "batch 1800 loss: 16.499006271362305\n",
      "batch 1900 loss: 8.940444946289062\n",
      "batch 2000 loss: 7.8988938331604\n",
      "batch 2100 loss: 11.61248779296875\n",
      "batch 2200 loss: 7.896982192993164\n",
      "batch 2300 loss: 8.141719818115234\n",
      "batch 2400 loss: 18.199832916259766\n",
      "batch 2500 loss: 13.181657791137695\n",
      "batch 2600 loss: 8.39067554473877\n",
      "batch 2700 loss: 13.770950317382812\n",
      "batch 2800 loss: 11.882012367248535\n",
      "batch 2900 loss: 17.569904327392578\n",
      "batch 3000 loss: 11.282881736755371\n",
      "batch 3100 loss: 9.64584732055664\n",
      "batch 3200 loss: 14.917305946350098\n",
      "batch 3300 loss: 10.129465103149414\n",
      "batch 3400 loss: 8.454843521118164\n",
      "batch 3500 loss: 7.042039394378662\n",
      "batch 3600 loss: 14.078996658325195\n",
      "batch 3700 loss: 12.477742195129395\n",
      "batch 3800 loss: 12.213333129882812\n",
      "batch 3900 loss: 6.593094348907471\n",
      "batch 4000 loss: 10.958654403686523\n",
      "batch 4100 loss: 7.6259636878967285\n",
      "batch 4200 loss: 17.460561752319336\n",
      "batch 4300 loss: 11.955402374267578\n",
      "batch 4400 loss: 10.293163299560547\n",
      "batch 4500 loss: 16.165637969970703\n",
      "batch 4600 loss: 7.702152729034424\n",
      "batch 4700 loss: 19.12454605102539\n",
      "batch 4800 loss: 8.156912803649902\n",
      "batch 4900 loss: 10.835257530212402\n",
      "batch 5000 loss: 12.33760929107666\n",
      "batch 5100 loss: 9.75507640838623\n",
      "batch 5200 loss: 9.557699203491211\n",
      "batch 5300 loss: 10.6557035446167\n",
      "batch 5400 loss: 6.664213180541992\n",
      "batch 5500 loss: 9.435429573059082\n",
      "batch 5600 loss: 6.469830513000488\n",
      "batch 5700 loss: 9.074176788330078\n",
      "batch 5800 loss: 14.357242584228516\n",
      "batch 5900 loss: 4.613924503326416\n",
      "batch 6000 loss: 8.63033676147461\n",
      "batch 6100 loss: 14.5977144241333\n",
      "batch 6200 loss: 8.633244514465332\n",
      "batch 6300 loss: 16.798131942749023\n",
      "batch 6400 loss: 14.37385368347168\n",
      "batch 6500 loss: 5.018557071685791\n",
      "batch 6600 loss: 20.174434661865234\n",
      "batch 6700 loss: 16.86178207397461\n",
      "batch 6800 loss: 14.299823760986328\n",
      "batch 6900 loss: 16.863487243652344\n",
      "batch 7000 loss: 14.924553871154785\n",
      "batch 7100 loss: 12.923152923583984\n",
      "batch 7200 loss: 10.234526634216309\n",
      "batch 7300 loss: 9.909675598144531\n",
      "batch 7400 loss: 8.609884262084961\n",
      "batch 7500 loss: 17.248355865478516\n",
      "batch 7600 loss: 14.002593994140625\n",
      "batch 7700 loss: 9.108494758605957\n",
      "batch 7800 loss: 6.008947849273682\n",
      "batch 7900 loss: 7.434530258178711\n",
      "batch 8000 loss: 15.021867752075195\n",
      "batch 8100 loss: 13.200766563415527\n",
      "batch 8200 loss: 7.603100776672363\n",
      "Epoch 8/30, loss on final batch: 14.429145812988281\n",
      "batch 0 loss: 13.4401273727417\n",
      "batch 100 loss: 4.894669055938721\n",
      "batch 200 loss: 17.517528533935547\n",
      "batch 300 loss: 7.522716522216797\n",
      "batch 400 loss: 9.492688179016113\n",
      "batch 500 loss: 20.682435989379883\n",
      "batch 600 loss: 8.755661964416504\n",
      "batch 700 loss: 4.597285270690918\n",
      "batch 800 loss: 6.648779392242432\n",
      "batch 900 loss: 5.709567546844482\n",
      "batch 1000 loss: 6.95656681060791\n",
      "batch 1100 loss: 8.17680835723877\n",
      "batch 1200 loss: 16.098068237304688\n",
      "batch 1300 loss: 8.213849067687988\n",
      "batch 1400 loss: 6.356103420257568\n",
      "batch 1500 loss: 7.555858612060547\n",
      "batch 1600 loss: 13.34430980682373\n",
      "batch 1700 loss: 9.138235092163086\n",
      "batch 1800 loss: 10.659748077392578\n",
      "batch 1900 loss: 13.266824722290039\n",
      "batch 2000 loss: 8.226832389831543\n",
      "batch 2100 loss: 8.162081718444824\n"
     ]
    },
    {
     "name": "stdout",
     "output_type": "stream",
     "text": [
      "batch 2200 loss: 6.019005298614502\n",
      "batch 2300 loss: 8.856890678405762\n",
      "batch 2400 loss: 14.194656372070312\n",
      "batch 2500 loss: 8.892013549804688\n",
      "batch 2600 loss: 7.374227523803711\n",
      "batch 2700 loss: 15.452275276184082\n",
      "batch 2800 loss: 12.085498809814453\n",
      "batch 2900 loss: 5.735542297363281\n",
      "batch 3000 loss: 5.603629112243652\n",
      "batch 3100 loss: 11.971414566040039\n",
      "batch 3200 loss: 14.840387344360352\n",
      "batch 3300 loss: 13.186453819274902\n",
      "batch 3400 loss: 5.8458943367004395\n",
      "batch 3500 loss: 7.122244358062744\n",
      "batch 3600 loss: 11.254749298095703\n",
      "batch 3700 loss: 13.078776359558105\n",
      "batch 3800 loss: 8.750436782836914\n",
      "batch 3900 loss: 6.09072208404541\n",
      "batch 4000 loss: 16.534122467041016\n",
      "batch 4100 loss: 6.833885192871094\n",
      "batch 4200 loss: 8.736966133117676\n",
      "batch 4300 loss: 6.178112506866455\n",
      "batch 4400 loss: 8.240557670593262\n",
      "batch 4500 loss: 12.368205070495605\n",
      "batch 4600 loss: 16.700279235839844\n",
      "batch 4700 loss: 7.537564754486084\n",
      "batch 4800 loss: 11.91504955291748\n",
      "batch 4900 loss: 8.124639511108398\n",
      "batch 5000 loss: 13.139394760131836\n",
      "batch 5100 loss: 8.673357963562012\n",
      "batch 5200 loss: 14.221650123596191\n",
      "batch 5300 loss: 12.484930992126465\n",
      "batch 5400 loss: 6.483658313751221\n",
      "batch 5500 loss: 16.297027587890625\n",
      "batch 5600 loss: 9.857964515686035\n",
      "batch 5700 loss: 12.698506355285645\n",
      "batch 5800 loss: 10.81517219543457\n",
      "batch 5900 loss: 8.362225532531738\n",
      "batch 6000 loss: 19.095870971679688\n",
      "batch 6100 loss: 14.8868989944458\n",
      "batch 6200 loss: 7.051401615142822\n",
      "batch 6300 loss: 14.616524696350098\n",
      "batch 6400 loss: 8.55639934539795\n",
      "batch 6500 loss: 13.231176376342773\n",
      "batch 6600 loss: 10.68325138092041\n",
      "batch 6700 loss: 11.506614685058594\n",
      "batch 6800 loss: 10.066459655761719\n",
      "batch 6900 loss: 15.325857162475586\n",
      "batch 7000 loss: 12.215266227722168\n",
      "batch 7100 loss: 4.929875373840332\n",
      "batch 7200 loss: 6.138085842132568\n",
      "batch 7300 loss: 7.179333209991455\n",
      "batch 7400 loss: 6.7957353591918945\n",
      "batch 7500 loss: 13.60338306427002\n",
      "batch 7600 loss: 9.19438648223877\n",
      "batch 7700 loss: 7.720534801483154\n",
      "batch 7800 loss: 6.467736721038818\n",
      "batch 7900 loss: 11.867324829101562\n",
      "batch 8000 loss: 8.420418739318848\n",
      "batch 8100 loss: 6.939270973205566\n",
      "batch 8200 loss: 16.811960220336914\n",
      "Epoch 9/30, loss on final batch: 8.578216552734375\n",
      "batch 0 loss: 6.028005123138428\n",
      "batch 100 loss: 10.656208992004395\n",
      "batch 200 loss: 6.003194808959961\n",
      "batch 300 loss: 8.782135963439941\n",
      "batch 400 loss: 11.456930160522461\n",
      "batch 500 loss: 8.064998626708984\n",
      "batch 600 loss: 8.305858612060547\n",
      "batch 700 loss: 9.453847885131836\n",
      "batch 800 loss: 6.303868293762207\n",
      "batch 900 loss: 3.5818235874176025\n",
      "batch 1000 loss: 5.910287380218506\n",
      "batch 1100 loss: 7.273921966552734\n",
      "batch 1200 loss: 9.549763679504395\n",
      "batch 1300 loss: 9.071696281433105\n",
      "batch 1400 loss: 10.349913597106934\n",
      "batch 1500 loss: 13.721597671508789\n",
      "batch 1600 loss: 11.0035400390625\n",
      "batch 1700 loss: 11.298018455505371\n",
      "batch 1800 loss: 7.988781452178955\n",
      "batch 1900 loss: 5.677650451660156\n",
      "batch 2000 loss: 14.99032211303711\n",
      "batch 2100 loss: 7.056338787078857\n",
      "batch 2200 loss: 11.020625114440918\n",
      "batch 2300 loss: 15.498908042907715\n",
      "batch 2400 loss: 14.229269027709961\n",
      "batch 2500 loss: 6.332425594329834\n",
      "batch 2600 loss: 13.467229843139648\n",
      "batch 2700 loss: 8.789608001708984\n",
      "batch 2800 loss: 12.262860298156738\n",
      "batch 2900 loss: 8.725638389587402\n",
      "batch 3000 loss: 14.575307846069336\n",
      "batch 3100 loss: 13.897857666015625\n",
      "batch 3200 loss: 11.32967758178711\n",
      "batch 3300 loss: 10.274446487426758\n",
      "batch 3400 loss: 9.478114128112793\n",
      "batch 3500 loss: 10.684365272521973\n",
      "batch 3600 loss: 13.81702995300293\n",
      "batch 3700 loss: 5.621773719787598\n",
      "batch 3800 loss: 7.64683723449707\n",
      "batch 3900 loss: 15.798227310180664\n",
      "batch 4000 loss: 13.775876998901367\n",
      "batch 4100 loss: 18.071014404296875\n",
      "batch 4200 loss: 7.049277305603027\n",
      "batch 4300 loss: 11.991443634033203\n",
      "batch 4400 loss: 10.557297706604004\n",
      "batch 4500 loss: 12.238070487976074\n",
      "batch 4600 loss: 9.279041290283203\n",
      "batch 4700 loss: 9.638470649719238\n",
      "batch 4800 loss: 11.923714637756348\n",
      "batch 4900 loss: 12.901540756225586\n",
      "batch 5000 loss: 6.980905532836914\n",
      "batch 5100 loss: 17.348800659179688\n",
      "batch 5200 loss: 7.252800941467285\n",
      "batch 5300 loss: 8.165042877197266\n",
      "batch 5400 loss: 6.5940842628479\n",
      "batch 5500 loss: 6.6018757820129395\n",
      "batch 5600 loss: 15.080703735351562\n",
      "batch 5700 loss: 14.871336936950684\n",
      "batch 5800 loss: 9.2955904006958\n",
      "batch 5900 loss: 5.178591728210449\n",
      "batch 6000 loss: 17.509275436401367\n",
      "batch 6100 loss: 10.542981147766113\n",
      "batch 6200 loss: 12.028204917907715\n",
      "batch 6300 loss: 13.46764087677002\n",
      "batch 6400 loss: 9.605362892150879\n",
      "batch 6500 loss: 10.91645336151123\n",
      "batch 6600 loss: 7.338277816772461\n",
      "batch 6700 loss: 12.641951560974121\n",
      "batch 6800 loss: 10.182897567749023\n",
      "batch 6900 loss: 10.741930961608887\n",
      "batch 7000 loss: 10.463212966918945\n",
      "batch 7100 loss: 7.772928714752197\n",
      "batch 7200 loss: 14.040999412536621\n",
      "batch 7300 loss: 8.305498123168945\n",
      "batch 7400 loss: 5.151308059692383\n",
      "batch 7500 loss: 8.262442588806152\n",
      "batch 7600 loss: 11.797453880310059\n",
      "batch 7700 loss: 8.751927375793457\n",
      "batch 7800 loss: 8.286705017089844\n",
      "batch 7900 loss: 15.761087417602539\n",
      "batch 8000 loss: 7.354719161987305\n",
      "batch 8100 loss: 9.698053359985352\n",
      "batch 8200 loss: 18.510908126831055\n",
      "Epoch 10/30, loss on final batch: 5.003238201141357\n",
      "batch 0 loss: 11.843585968017578\n",
      "batch 100 loss: 16.619041442871094\n",
      "batch 200 loss: 10.27530574798584\n",
      "batch 300 loss: 11.115691184997559\n",
      "batch 400 loss: 6.085415363311768\n",
      "batch 500 loss: 10.669514656066895\n",
      "batch 600 loss: 8.104109764099121\n",
      "batch 700 loss: 6.275969982147217\n",
      "batch 800 loss: 13.161723136901855\n",
      "batch 900 loss: 16.239173889160156\n",
      "batch 1000 loss: 8.65090560913086\n",
      "batch 1100 loss: 11.100726127624512\n",
      "batch 1200 loss: 8.334456443786621\n",
      "batch 1300 loss: 5.4671101570129395\n",
      "batch 1400 loss: 13.773797988891602\n",
      "batch 1500 loss: 12.250720977783203\n",
      "batch 1600 loss: 6.830183029174805\n",
      "batch 1700 loss: 13.267579078674316\n",
      "batch 1800 loss: 5.747219085693359\n",
      "batch 1900 loss: 8.570377349853516\n",
      "batch 2000 loss: 10.702459335327148\n",
      "batch 2100 loss: 6.471545219421387\n",
      "batch 2200 loss: 5.634875774383545\n",
      "batch 2300 loss: 12.073821067810059\n",
      "batch 2400 loss: 10.655474662780762\n",
      "batch 2500 loss: 4.464456558227539\n",
      "batch 2600 loss: 12.56371784210205\n",
      "batch 2700 loss: 16.16462516784668\n",
      "batch 2800 loss: 5.418479919433594\n",
      "batch 2900 loss: 16.14940643310547\n",
      "batch 3000 loss: 9.27739429473877\n",
      "batch 3100 loss: 6.558940887451172\n",
      "batch 3200 loss: 10.148361206054688\n",
      "batch 3300 loss: 7.300173282623291\n",
      "batch 3400 loss: 12.569595336914062\n",
      "batch 3500 loss: 13.300617218017578\n",
      "batch 3600 loss: 8.031594276428223\n",
      "batch 3700 loss: 8.190102577209473\n",
      "batch 3800 loss: 6.950686454772949\n",
      "batch 3900 loss: 8.161273002624512\n",
      "batch 4000 loss: 8.681640625\n",
      "batch 4100 loss: 8.369664192199707\n",
      "batch 4200 loss: 10.432701110839844\n",
      "batch 4300 loss: 12.607599258422852\n",
      "batch 4400 loss: 7.770598888397217\n",
      "batch 4500 loss: 12.994950294494629\n",
      "batch 4600 loss: 12.9098482131958\n",
      "batch 4700 loss: 7.245248794555664\n",
      "batch 4800 loss: 9.714308738708496\n",
      "batch 4900 loss: 5.0863447189331055\n",
      "batch 5000 loss: 9.9326753616333\n",
      "batch 5100 loss: 17.569141387939453\n",
      "batch 5200 loss: 9.57644271850586\n",
      "batch 5300 loss: 11.479393005371094\n",
      "batch 5400 loss: 18.419092178344727\n",
      "batch 5500 loss: 16.015581130981445\n",
      "batch 5600 loss: 4.591104984283447\n",
      "batch 5700 loss: 4.514769077301025\n",
      "batch 5800 loss: 9.740503311157227\n",
      "batch 5900 loss: 14.179362297058105\n",
      "batch 6000 loss: 10.749066352844238\n",
      "batch 6100 loss: 12.771167755126953\n",
      "batch 6200 loss: 8.206878662109375\n",
      "batch 6300 loss: 9.035334587097168\n",
      "batch 6400 loss: 8.395959854125977\n",
      "batch 6500 loss: 9.921318054199219\n",
      "batch 6600 loss: 8.527399063110352\n",
      "batch 6700 loss: 13.850406646728516\n",
      "batch 6800 loss: 8.790005683898926\n",
      "batch 6900 loss: 6.57087516784668\n",
      "batch 7000 loss: 18.033164978027344\n",
      "batch 7100 loss: 16.177959442138672\n",
      "batch 7200 loss: 8.351855278015137\n",
      "batch 7300 loss: 14.445143699645996\n",
      "batch 7400 loss: 5.627062797546387\n",
      "batch 7500 loss: 8.6043062210083\n",
      "batch 7600 loss: 7.832611560821533\n",
      "batch 7700 loss: 8.497694969177246\n",
      "batch 7800 loss: 9.307632446289062\n",
      "batch 7900 loss: 9.056022644042969\n",
      "batch 8000 loss: 17.45815086364746\n",
      "batch 8100 loss: 7.752514839172363\n",
      "batch 8200 loss: 6.194539546966553\n",
      "Epoch 11/30, loss on final batch: 9.359854698181152\n",
      "batch 0 loss: 6.717162609100342\n",
      "batch 100 loss: 10.254657745361328\n"
     ]
    },
    {
     "name": "stdout",
     "output_type": "stream",
     "text": [
      "batch 200 loss: 8.347088813781738\n",
      "batch 300 loss: 6.475845813751221\n",
      "batch 400 loss: 8.038629531860352\n",
      "batch 500 loss: 7.33870792388916\n",
      "batch 600 loss: 9.044878005981445\n",
      "batch 700 loss: 7.2864298820495605\n",
      "batch 800 loss: 11.429330825805664\n",
      "batch 900 loss: 7.13607931137085\n",
      "batch 1000 loss: 10.749856948852539\n",
      "batch 1100 loss: 18.16511344909668\n",
      "batch 1200 loss: 6.124054431915283\n",
      "batch 1300 loss: 10.811813354492188\n",
      "batch 1400 loss: 6.077366828918457\n",
      "batch 1500 loss: 13.177375793457031\n",
      "batch 1600 loss: 6.996095657348633\n",
      "batch 1700 loss: 12.514994621276855\n",
      "batch 1800 loss: 4.954331398010254\n",
      "batch 1900 loss: 10.993890762329102\n",
      "batch 2000 loss: 15.013627052307129\n",
      "batch 2100 loss: 15.001382827758789\n",
      "batch 2200 loss: 4.966367721557617\n",
      "batch 2300 loss: 8.872459411621094\n",
      "batch 2400 loss: 11.53672981262207\n",
      "batch 2500 loss: 7.907662391662598\n",
      "batch 2600 loss: 7.640448570251465\n",
      "batch 2700 loss: 12.026508331298828\n",
      "batch 2800 loss: 10.666650772094727\n",
      "batch 2900 loss: 8.564911842346191\n",
      "batch 3000 loss: 13.223516464233398\n",
      "batch 3100 loss: 5.758149147033691\n",
      "batch 3200 loss: 15.801286697387695\n",
      "batch 3300 loss: 8.585586547851562\n",
      "batch 3400 loss: 6.7937397956848145\n",
      "batch 3500 loss: 7.046687126159668\n",
      "batch 3600 loss: 6.682801246643066\n",
      "batch 3700 loss: 6.617646217346191\n",
      "batch 3800 loss: 12.595762252807617\n",
      "batch 3900 loss: 7.719779014587402\n",
      "batch 4000 loss: 10.81283950805664\n",
      "batch 4100 loss: 12.28689956665039\n",
      "batch 4200 loss: 8.847198486328125\n",
      "batch 4300 loss: 9.925323486328125\n",
      "batch 4400 loss: 8.110697746276855\n",
      "batch 4500 loss: 5.527744293212891\n",
      "batch 4600 loss: 8.496474266052246\n",
      "batch 4700 loss: 10.754804611206055\n",
      "batch 4800 loss: 10.3095064163208\n",
      "batch 4900 loss: 6.516242504119873\n",
      "batch 5000 loss: 13.363473892211914\n",
      "batch 5100 loss: 6.505063056945801\n",
      "batch 5200 loss: 10.714836120605469\n",
      "batch 5300 loss: 13.551410675048828\n",
      "batch 5400 loss: 5.585717678070068\n",
      "batch 5500 loss: 7.740211009979248\n",
      "batch 5600 loss: 21.12012481689453\n",
      "batch 5700 loss: 16.83162498474121\n",
      "batch 5800 loss: 11.544113159179688\n",
      "batch 5900 loss: 12.914599418640137\n",
      "batch 6000 loss: 12.215234756469727\n",
      "batch 6100 loss: 15.748836517333984\n",
      "batch 6200 loss: 10.164767265319824\n",
      "batch 6300 loss: 7.551904678344727\n",
      "batch 6400 loss: 12.7195405960083\n",
      "batch 6500 loss: 7.764305591583252\n",
      "batch 6600 loss: 8.999930381774902\n",
      "batch 6700 loss: 5.479135513305664\n",
      "batch 6800 loss: 8.82858657836914\n",
      "batch 6900 loss: 11.686124801635742\n",
      "batch 7000 loss: 5.638917446136475\n",
      "batch 7100 loss: 6.855241775512695\n",
      "batch 7200 loss: 6.74484395980835\n",
      "batch 7300 loss: 13.274023056030273\n",
      "batch 7400 loss: 15.152166366577148\n",
      "batch 7500 loss: 6.04905366897583\n",
      "batch 7600 loss: 14.000594139099121\n",
      "batch 7700 loss: 14.57574462890625\n",
      "batch 7800 loss: 13.66292667388916\n",
      "batch 7900 loss: 12.283951759338379\n",
      "batch 8000 loss: 14.336674690246582\n",
      "batch 8100 loss: 10.375715255737305\n",
      "batch 8200 loss: 8.685815811157227\n",
      "Epoch 12/30, loss on final batch: 3.873567819595337\n",
      "batch 0 loss: 4.153893947601318\n",
      "batch 100 loss: 8.324966430664062\n",
      "batch 200 loss: 7.743473529815674\n"
     ]
    },
    {
     "name": "stderr",
     "output_type": "stream",
     "text": [
      "Process Process-1081:\n",
      "Process Process-1084:\n",
      "Process Process-1083:\n",
      "Process Process-1082:\n",
      "Traceback (most recent call last):\n",
      "Traceback (most recent call last):\n",
      "Traceback (most recent call last):\n",
      "Traceback (most recent call last):\n",
      "  File \"/home/mac/anaconda3/envs/pytorch/lib/python3.6/multiprocessing/process.py\", line 258, in _bootstrap\n",
      "    self.run()\n",
      "  File \"/home/mac/anaconda3/envs/pytorch/lib/python3.6/multiprocessing/process.py\", line 258, in _bootstrap\n",
      "    self.run()\n",
      "  File \"/home/mac/anaconda3/envs/pytorch/lib/python3.6/multiprocessing/process.py\", line 258, in _bootstrap\n",
      "    self.run()\n",
      "  File \"/home/mac/anaconda3/envs/pytorch/lib/python3.6/multiprocessing/process.py\", line 258, in _bootstrap\n",
      "    self.run()\n",
      "  File \"/home/mac/anaconda3/envs/pytorch/lib/python3.6/multiprocessing/process.py\", line 93, in run\n",
      "    self._target(*self._args, **self._kwargs)\n",
      "  File \"/home/mac/anaconda3/envs/pytorch/lib/python3.6/multiprocessing/process.py\", line 93, in run\n",
      "    self._target(*self._args, **self._kwargs)\n",
      "  File \"/home/mac/anaconda3/envs/pytorch/lib/python3.6/multiprocessing/process.py\", line 93, in run\n",
      "    self._target(*self._args, **self._kwargs)\n",
      "  File \"/home/mac/anaconda3/envs/pytorch/lib/python3.6/multiprocessing/process.py\", line 93, in run\n",
      "    self._target(*self._args, **self._kwargs)\n",
      "  File \"/home/mac/anaconda3/envs/pytorch/lib/python3.6/site-packages/torch/utils/data/dataloader.py\", line 52, in _worker_loop\n",
      "    r = index_queue.get()\n",
      "  File \"/home/mac/anaconda3/envs/pytorch/lib/python3.6/site-packages/torch/utils/data/dataloader.py\", line 52, in _worker_loop\n",
      "    r = index_queue.get()\n",
      "  File \"/home/mac/anaconda3/envs/pytorch/lib/python3.6/site-packages/torch/utils/data/dataloader.py\", line 52, in _worker_loop\n",
      "    r = index_queue.get()\n",
      "  File \"/home/mac/anaconda3/envs/pytorch/lib/python3.6/multiprocessing/queues.py\", line 335, in get\n",
      "    res = self._reader.recv_bytes()\n",
      "  File \"/home/mac/anaconda3/envs/pytorch/lib/python3.6/multiprocessing/queues.py\", line 335, in get\n",
      "    res = self._reader.recv_bytes()\n",
      "  File \"/home/mac/anaconda3/envs/pytorch/lib/python3.6/site-packages/torch/utils/data/dataloader.py\", line 52, in _worker_loop\n",
      "    r = index_queue.get()\n",
      "  File \"/home/mac/anaconda3/envs/pytorch/lib/python3.6/multiprocessing/queues.py\", line 335, in get\n",
      "    res = self._reader.recv_bytes()\n",
      "  File \"/home/mac/anaconda3/envs/pytorch/lib/python3.6/multiprocessing/queues.py\", line 335, in get\n",
      "    res = self._reader.recv_bytes()\n",
      "  File \"/home/mac/anaconda3/envs/pytorch/lib/python3.6/multiprocessing/connection.py\", line 216, in recv_bytes\n",
      "    buf = self._recv_bytes(maxlength)\n",
      "  File \"/home/mac/anaconda3/envs/pytorch/lib/python3.6/multiprocessing/connection.py\", line 216, in recv_bytes\n",
      "    buf = self._recv_bytes(maxlength)\n",
      "  File \"/home/mac/anaconda3/envs/pytorch/lib/python3.6/multiprocessing/connection.py\", line 216, in recv_bytes\n",
      "    buf = self._recv_bytes(maxlength)\n",
      "  File \"/home/mac/anaconda3/envs/pytorch/lib/python3.6/multiprocessing/connection.py\", line 216, in recv_bytes\n",
      "    buf = self._recv_bytes(maxlength)\n",
      "  File \"/home/mac/anaconda3/envs/pytorch/lib/python3.6/multiprocessing/connection.py\", line 407, in _recv_bytes\n",
      "    buf = self._recv(4)\n",
      "  File \"/home/mac/anaconda3/envs/pytorch/lib/python3.6/multiprocessing/connection.py\", line 407, in _recv_bytes\n",
      "    buf = self._recv(4)\n",
      "  File \"/home/mac/anaconda3/envs/pytorch/lib/python3.6/multiprocessing/connection.py\", line 407, in _recv_bytes\n",
      "    buf = self._recv(4)\n",
      "  File \"/home/mac/anaconda3/envs/pytorch/lib/python3.6/multiprocessing/connection.py\", line 407, in _recv_bytes\n",
      "    buf = self._recv(4)\n",
      "  File \"/home/mac/anaconda3/envs/pytorch/lib/python3.6/multiprocessing/connection.py\", line 379, in _recv\n",
      "    chunk = read(handle, remaining)\n",
      "  File \"/home/mac/anaconda3/envs/pytorch/lib/python3.6/multiprocessing/connection.py\", line 379, in _recv\n",
      "    chunk = read(handle, remaining)\n",
      "  File \"/home/mac/anaconda3/envs/pytorch/lib/python3.6/multiprocessing/connection.py\", line 379, in _recv\n",
      "    chunk = read(handle, remaining)\n",
      "  File \"/home/mac/anaconda3/envs/pytorch/lib/python3.6/multiprocessing/connection.py\", line 379, in _recv\n",
      "    chunk = read(handle, remaining)\n",
      "KeyboardInterrupt\n",
      "KeyboardInterrupt\n",
      "KeyboardInterrupt\n",
      "KeyboardInterrupt\n"
     ]
    },
    {
     "ename": "KeyboardInterrupt",
     "evalue": "",
     "output_type": "error",
     "traceback": [
      "\u001b[0;31m---------------------------------------------------------------------------\u001b[0m",
      "\u001b[0;31mKeyboardInterrupt\u001b[0m                         Traceback (most recent call last)",
      "\u001b[0;32m<ipython-input-428-2b71dace4dd6>\u001b[0m in \u001b[0;36m<module>\u001b[0;34m()\u001b[0m\n\u001b[1;32m      1\u001b[0m \u001b[0mencoder\u001b[0m\u001b[0;34m.\u001b[0m\u001b[0mtrain\u001b[0m\u001b[0;34m(\u001b[0m\u001b[0;34m)\u001b[0m \u001b[0;31m# Set model to training mode\u001b[0m\u001b[0;34m\u001b[0m\u001b[0m\n\u001b[1;32m      2\u001b[0m \u001b[0mdecoder\u001b[0m\u001b[0;34m.\u001b[0m\u001b[0mtrain\u001b[0m\u001b[0;34m(\u001b[0m\u001b[0;34m)\u001b[0m \u001b[0;31m# Set model to training mode\u001b[0m\u001b[0;34m\u001b[0m\u001b[0m\n\u001b[0;32m----> 3\u001b[0;31m \u001b[0mplot_losses\u001b[0m \u001b[0;34m=\u001b[0m \u001b[0mtrainIters\u001b[0m\u001b[0;34m(\u001b[0m\u001b[0mencoder\u001b[0m\u001b[0;34m,\u001b[0m \u001b[0mdecoder\u001b[0m\u001b[0;34m,\u001b[0m \u001b[0mdataloader\u001b[0m\u001b[0;34m,\u001b[0m \u001b[0mepochs\u001b[0m\u001b[0;34m=\u001b[0m\u001b[0;36m30\u001b[0m\u001b[0;34m,\u001b[0m \u001b[0mlearning_rate\u001b[0m \u001b[0;34m=\u001b[0m \u001b[0mlearning_rate\u001b[0m\u001b[0;34m)\u001b[0m\u001b[0;34m\u001b[0m\u001b[0m\n\u001b[0m",
      "\u001b[0;32m<ipython-input-332-d42bb8c9c418>\u001b[0m in \u001b[0;36mtrainIters\u001b[0;34m(encoder, decoder, dataloader, epochs, print_every_n_batches, learning_rate)\u001b[0m\n\u001b[1;32m     27\u001b[0m \u001b[0;34m\u001b[0m\u001b[0m\n\u001b[1;32m     28\u001b[0m             loss = train(input_tensor, target_tensor, encoder, decoder,\n\u001b[0;32m---> 29\u001b[0;31m                          encoder_optimizer, decoder_optimizer, criterion)\n\u001b[0m\u001b[1;32m     30\u001b[0m             \u001b[0;32mif\u001b[0m \u001b[0mi\u001b[0m \u001b[0;34m%\u001b[0m \u001b[0mprint_every_n_batches\u001b[0m \u001b[0;34m==\u001b[0m \u001b[0;36m0\u001b[0m\u001b[0;34m:\u001b[0m\u001b[0;34m\u001b[0m\u001b[0m\n\u001b[1;32m     31\u001b[0m                 \u001b[0mprint\u001b[0m\u001b[0;34m(\u001b[0m\u001b[0;34mf'batch {i} loss: {loss}'\u001b[0m\u001b[0;34m)\u001b[0m\u001b[0;34m\u001b[0m\u001b[0m\n",
      "\u001b[0;32m<ipython-input-331-71d5f31fc686>\u001b[0m in \u001b[0;36mtrain\u001b[0;34m(input_tensor, target_tensor, encoder, decoder, encoder_optimizer, decoder_optimizer, criterion)\u001b[0m\n\u001b[1;32m     36\u001b[0m             output, decoder_hidden, attn_weights = decoder.forward(decoder_input,\n\u001b[1;32m     37\u001b[0m                                                                    \u001b[0mdecoder_hidden\u001b[0m\u001b[0;34m,\u001b[0m\u001b[0;34m\u001b[0m\u001b[0m\n\u001b[0;32m---> 38\u001b[0;31m                                                                    encoder_output)\n\u001b[0m\u001b[1;32m     39\u001b[0m \u001b[0;34m\u001b[0m\u001b[0m\n\u001b[1;32m     40\u001b[0m             \u001b[0;31m# Feed output as input to next item in the sequence\u001b[0m\u001b[0;34m\u001b[0m\u001b[0;34m\u001b[0m\u001b[0m\n",
      "\u001b[0;32m<ipython-input-279-45cc76cf6387>\u001b[0m in \u001b[0;36mforward\u001b[0;34m(self, input, hidden, encoder_output)\u001b[0m\n\u001b[1;32m     60\u001b[0m         \u001b[0mlstm_input\u001b[0m \u001b[0;34m=\u001b[0m \u001b[0mlstm_input\u001b[0m\u001b[0;34m.\u001b[0m\u001b[0munsqueeze\u001b[0m\u001b[0;34m(\u001b[0m\u001b[0;36m0\u001b[0m\u001b[0;34m)\u001b[0m \u001b[0;31m# Add seq dimension so tensor has expected dimensions for lstm\u001b[0m\u001b[0;34m\u001b[0m\u001b[0m\n\u001b[1;32m     61\u001b[0m \u001b[0;34m\u001b[0m\u001b[0m\n\u001b[0;32m---> 62\u001b[0;31m         \u001b[0moutput\u001b[0m\u001b[0;34m,\u001b[0m \u001b[0mhidden\u001b[0m \u001b[0;34m=\u001b[0m \u001b[0mself\u001b[0m\u001b[0;34m.\u001b[0m\u001b[0mlstm\u001b[0m\u001b[0;34m(\u001b[0m\u001b[0mlstm_input\u001b[0m\u001b[0;34m,\u001b[0m \u001b[0mhidden\u001b[0m\u001b[0;34m)\u001b[0m \u001b[0;31m# Output dim = (1, batch_size, decoder_hidden_size)\u001b[0m\u001b[0;34m\u001b[0m\u001b[0m\n\u001b[0m\u001b[1;32m     63\u001b[0m         \u001b[0moutput\u001b[0m \u001b[0;34m=\u001b[0m \u001b[0mF\u001b[0m\u001b[0;34m.\u001b[0m\u001b[0mlog_softmax\u001b[0m\u001b[0;34m(\u001b[0m\u001b[0mself\u001b[0m\u001b[0;34m.\u001b[0m\u001b[0mout\u001b[0m\u001b[0;34m(\u001b[0m\u001b[0moutput\u001b[0m\u001b[0;34m[\u001b[0m\u001b[0;36m0\u001b[0m\u001b[0;34m]\u001b[0m\u001b[0;34m)\u001b[0m\u001b[0;34m,\u001b[0m \u001b[0mdim\u001b[0m\u001b[0;34m=\u001b[0m\u001b[0;36m1\u001b[0m\u001b[0;34m)\u001b[0m \u001b[0;31m# softmax over all words in vocab\u001b[0m\u001b[0;34m\u001b[0m\u001b[0m\n\u001b[1;32m     64\u001b[0m \u001b[0;34m\u001b[0m\u001b[0m\n",
      "\u001b[0;32m~/anaconda3/envs/pytorch/lib/python3.6/site-packages/torch/nn/modules/module.py\u001b[0m in \u001b[0;36m__call__\u001b[0;34m(self, *input, **kwargs)\u001b[0m\n\u001b[1;32m    489\u001b[0m             \u001b[0mresult\u001b[0m \u001b[0;34m=\u001b[0m \u001b[0mself\u001b[0m\u001b[0;34m.\u001b[0m\u001b[0m_slow_forward\u001b[0m\u001b[0;34m(\u001b[0m\u001b[0;34m*\u001b[0m\u001b[0minput\u001b[0m\u001b[0;34m,\u001b[0m \u001b[0;34m**\u001b[0m\u001b[0mkwargs\u001b[0m\u001b[0;34m)\u001b[0m\u001b[0;34m\u001b[0m\u001b[0m\n\u001b[1;32m    490\u001b[0m         \u001b[0;32melse\u001b[0m\u001b[0;34m:\u001b[0m\u001b[0;34m\u001b[0m\u001b[0m\n\u001b[0;32m--> 491\u001b[0;31m             \u001b[0mresult\u001b[0m \u001b[0;34m=\u001b[0m \u001b[0mself\u001b[0m\u001b[0;34m.\u001b[0m\u001b[0mforward\u001b[0m\u001b[0;34m(\u001b[0m\u001b[0;34m*\u001b[0m\u001b[0minput\u001b[0m\u001b[0;34m,\u001b[0m \u001b[0;34m**\u001b[0m\u001b[0mkwargs\u001b[0m\u001b[0;34m)\u001b[0m\u001b[0;34m\u001b[0m\u001b[0m\n\u001b[0m\u001b[1;32m    492\u001b[0m         \u001b[0;32mfor\u001b[0m \u001b[0mhook\u001b[0m \u001b[0;32min\u001b[0m \u001b[0mself\u001b[0m\u001b[0;34m.\u001b[0m\u001b[0m_forward_hooks\u001b[0m\u001b[0;34m.\u001b[0m\u001b[0mvalues\u001b[0m\u001b[0;34m(\u001b[0m\u001b[0;34m)\u001b[0m\u001b[0;34m:\u001b[0m\u001b[0;34m\u001b[0m\u001b[0m\n\u001b[1;32m    493\u001b[0m             \u001b[0mhook_result\u001b[0m \u001b[0;34m=\u001b[0m \u001b[0mhook\u001b[0m\u001b[0;34m(\u001b[0m\u001b[0mself\u001b[0m\u001b[0;34m,\u001b[0m \u001b[0minput\u001b[0m\u001b[0;34m,\u001b[0m \u001b[0mresult\u001b[0m\u001b[0;34m)\u001b[0m\u001b[0;34m\u001b[0m\u001b[0m\n",
      "\u001b[0;32m~/anaconda3/envs/pytorch/lib/python3.6/site-packages/torch/nn/modules/rnn.py\u001b[0m in \u001b[0;36mforward\u001b[0;34m(self, input, hx)\u001b[0m\n\u001b[1;32m    190\u001b[0m             \u001b[0mflat_weight\u001b[0m\u001b[0;34m=\u001b[0m\u001b[0mflat_weight\u001b[0m\u001b[0;34m\u001b[0m\u001b[0m\n\u001b[1;32m    191\u001b[0m         )\n\u001b[0;32m--> 192\u001b[0;31m         \u001b[0moutput\u001b[0m\u001b[0;34m,\u001b[0m \u001b[0mhidden\u001b[0m \u001b[0;34m=\u001b[0m \u001b[0mfunc\u001b[0m\u001b[0;34m(\u001b[0m\u001b[0minput\u001b[0m\u001b[0;34m,\u001b[0m \u001b[0mself\u001b[0m\u001b[0;34m.\u001b[0m\u001b[0mall_weights\u001b[0m\u001b[0;34m,\u001b[0m \u001b[0mhx\u001b[0m\u001b[0;34m,\u001b[0m \u001b[0mbatch_sizes\u001b[0m\u001b[0;34m)\u001b[0m\u001b[0;34m\u001b[0m\u001b[0m\n\u001b[0m\u001b[1;32m    193\u001b[0m         \u001b[0;32mif\u001b[0m \u001b[0mis_packed\u001b[0m\u001b[0;34m:\u001b[0m\u001b[0;34m\u001b[0m\u001b[0m\n\u001b[1;32m    194\u001b[0m             \u001b[0moutput\u001b[0m \u001b[0;34m=\u001b[0m \u001b[0mPackedSequence\u001b[0m\u001b[0;34m(\u001b[0m\u001b[0moutput\u001b[0m\u001b[0;34m,\u001b[0m \u001b[0mbatch_sizes\u001b[0m\u001b[0;34m)\u001b[0m\u001b[0;34m\u001b[0m\u001b[0m\n",
      "\u001b[0;32m~/anaconda3/envs/pytorch/lib/python3.6/site-packages/torch/nn/_functions/rnn.py\u001b[0m in \u001b[0;36mforward\u001b[0;34m(input, *fargs, **fkwargs)\u001b[0m\n\u001b[1;32m    298\u001b[0m \u001b[0;34m\u001b[0m\u001b[0m\n\u001b[1;32m    299\u001b[0m     \u001b[0;32mdef\u001b[0m \u001b[0mforward\u001b[0m\u001b[0;34m(\u001b[0m\u001b[0minput\u001b[0m\u001b[0;34m,\u001b[0m \u001b[0;34m*\u001b[0m\u001b[0mfargs\u001b[0m\u001b[0;34m,\u001b[0m \u001b[0;34m**\u001b[0m\u001b[0mfkwargs\u001b[0m\u001b[0;34m)\u001b[0m\u001b[0;34m:\u001b[0m\u001b[0;34m\u001b[0m\u001b[0m\n\u001b[0;32m--> 300\u001b[0;31m         \u001b[0;32mif\u001b[0m \u001b[0mcudnn\u001b[0m\u001b[0;34m.\u001b[0m\u001b[0mis_acceptable\u001b[0m\u001b[0;34m(\u001b[0m\u001b[0minput\u001b[0m\u001b[0;34m.\u001b[0m\u001b[0mdata\u001b[0m\u001b[0;34m)\u001b[0m\u001b[0;34m:\u001b[0m\u001b[0;34m\u001b[0m\u001b[0m\n\u001b[0m\u001b[1;32m    301\u001b[0m             \u001b[0mfunc\u001b[0m \u001b[0;34m=\u001b[0m \u001b[0mCudnnRNN\u001b[0m\u001b[0;34m(\u001b[0m\u001b[0;34m*\u001b[0m\u001b[0margs\u001b[0m\u001b[0;34m,\u001b[0m \u001b[0;34m**\u001b[0m\u001b[0mkwargs\u001b[0m\u001b[0;34m)\u001b[0m\u001b[0;34m\u001b[0m\u001b[0m\n\u001b[1;32m    302\u001b[0m         \u001b[0;32melse\u001b[0m\u001b[0;34m:\u001b[0m\u001b[0;34m\u001b[0m\u001b[0m\n",
      "\u001b[0;32m~/anaconda3/envs/pytorch/lib/python3.6/site-packages/torch/backends/cudnn/__init__.py\u001b[0m in \u001b[0;36mis_acceptable\u001b[0;34m(tensor)\u001b[0m\n\u001b[1;32m     85\u001b[0m             \"PyTorch making sure the library is visible to the build system.\")\n\u001b[1;32m     86\u001b[0m         \u001b[0;32mreturn\u001b[0m \u001b[0;32mFalse\u001b[0m\u001b[0;34m\u001b[0m\u001b[0m\n\u001b[0;32m---> 87\u001b[0;31m     \u001b[0;32mif\u001b[0m \u001b[0m_libcudnn\u001b[0m\u001b[0;34m(\u001b[0m\u001b[0;34m)\u001b[0m \u001b[0;32mis\u001b[0m \u001b[0;32mNone\u001b[0m\u001b[0;34m:\u001b[0m\u001b[0;34m\u001b[0m\u001b[0m\n\u001b[0m\u001b[1;32m     88\u001b[0m         warnings.warn('cuDNN library not found. Check your {libpath}'.format(\n\u001b[1;32m     89\u001b[0m             libpath={\n",
      "\u001b[0;32m~/anaconda3/envs/pytorch/lib/python3.6/site-packages/torch/backends/cudnn/__init__.py\u001b[0m in \u001b[0;36m_libcudnn\u001b[0;34m()\u001b[0m\n\u001b[1;32m     41\u001b[0m \u001b[0;34m\u001b[0m\u001b[0m\n\u001b[1;32m     42\u001b[0m \u001b[0;34m\u001b[0m\u001b[0m\n\u001b[0;32m---> 43\u001b[0;31m \u001b[0;32mdef\u001b[0m \u001b[0m_libcudnn\u001b[0m\u001b[0;34m(\u001b[0m\u001b[0;34m)\u001b[0m\u001b[0;34m:\u001b[0m\u001b[0;34m\u001b[0m\u001b[0m\n\u001b[0m\u001b[1;32m     44\u001b[0m     \u001b[0;32mglobal\u001b[0m \u001b[0mlib\u001b[0m\u001b[0;34m,\u001b[0m \u001b[0m__cudnn_version\u001b[0m\u001b[0;34m\u001b[0m\u001b[0m\n\u001b[1;32m     45\u001b[0m     \u001b[0;32mif\u001b[0m \u001b[0mlib\u001b[0m \u001b[0;32mis\u001b[0m \u001b[0;32mNone\u001b[0m\u001b[0;34m:\u001b[0m\u001b[0;34m\u001b[0m\u001b[0m\n",
      "\u001b[0;31mKeyboardInterrupt\u001b[0m: "
     ]
    }
   ],
   "source": [
    "encoder.train() # Set model to training mode\n",
    "decoder.train() # Set model to training mode\n",
    "plot_losses = trainIters(encoder, decoder, dataloader, epochs=30, learning_rate = learning_rate)\n"
   ]
  },
  {
   "cell_type": "code",
   "execution_count": 427,
   "metadata": {},
   "outputs": [
    {
     "data": {
      "text/plain": [
       "[<matplotlib.lines.Line2D at 0x7ff104cbde10>]"
      ]
     },
     "execution_count": 427,
     "metadata": {},
     "output_type": "execute_result"
    },
    {
     "data": {
      "image/png": "[encoded data removed]",
      "text/plain": [
       "<Figure size 432x288 with 1 Axes>"
      ]
     },
     "metadata": {},
     "output_type": "display_data"
    }
   ],
   "source": [
    "plt.plot(plot_losses)"
   ]
  },
  {
   "cell_type": "code",
   "execution_count": 146,
   "metadata": {},
   "outputs": [],
   "source": [
    "# Save the model weights to continue later\n",
    "torch.save(encoder.state_dict(), 'encoder1_lstm.pth')\n",
    "torch.save(decoder.state_dict(), 'decoder1_lstm.pth')"
   ]
  },
  {
   "cell_type": "markdown",
   "metadata": {},
   "source": [
    "## Part 4: Using the Model for Evaluation"
   ]
  },
  {
   "cell_type": "code",
   "execution_count": null,
   "metadata": {},
   "outputs": [],
   "source": [
    "def get_example():\n",
    "    pass"
   ]
  },
  {
   "cell_type": "code",
   "execution_count": null,
   "metadata": {},
   "outputs": [],
   "source": [
    "def evaluate(encoder, decoder, example, idx2word, show_attention=False):\n",
    "    pass"
   ]
  },
  {
   "cell_type": "code",
   "execution_count": 429,
   "metadata": {},
   "outputs": [],
   "source": [
    "# Build the idx to word dictionaries to convert predicted indices to words\n",
    "en_idx2word = {k:i for i, k in en_word2idx.items()}\n",
    "fr_idx2word = {k:i for i, k in fr_word2idx.items()}"
   ]
  },
  {
   "cell_type": "code",
   "execution_count": 449,
   "metadata": {},
   "outputs": [],
   "source": [
    "for batch in dataloader:\n",
    "    input_tensor = batch['french_tensor'].to(device)\n",
    "    break\n",
    "    \n",
    "\n",
    "def evaluate(input_tensor):\n",
    "    pass"
   ]
  },
  {
   "cell_type": "code",
   "execution_count": 450,
   "metadata": {},
   "outputs": [
    {
     "name": "stdout",
     "output_type": "stream",
     "text": [
      "his essay was concise and to the point\n",
      "sa\n",
      "dissertation\n",
      "était\n",
      "<unk>\n",
      "et\n",
      "<unk>\n",
      "</s>\n",
      "<pad>\n",
      "<pad>\n",
      "<pad>\n"
     ]
    }
   ],
   "source": [
    "input_tensor = batch['french_tensor'][11].unsqueeze_(0)\n",
    "print(batch['english_sentence'][11])\n",
    "for index in input_tensor[0]:\n",
    "    word = fr_idx2word[index.item()]\n",
    "    if word != '<s>':\n",
    "        print(word)\n",
    "    else:\n",
    "        print(word)\n",
    "        break"
   ]
  },
  {
   "cell_type": "code",
   "execution_count": 451,
   "metadata": {},
   "outputs": [],
   "source": [
    "with torch.no_grad():\n",
    "    encoder_hidden = encoder.initHidden(1)\n",
    "    encoder.eval()\n",
    "    decoder.eval()\n",
    "\n",
    "    encoder_output, encoder_hidden = encoder.forward(input_tensor.to(device), encoder_hidden)\n",
    "\n",
    "    decoder_input =  torch.tensor([fr_word2idx['<s>']]*input_tensor.shape[0], dtype=torch.long, device=device).unsqueeze(0)\n",
    "    decoder_hidden = (encoder_hidden[0][::2].contiguous(), encoder_hidden[1][::2].contiguous())\n",
    "    #decoder_hidden = decoder.initHidden(1)\n",
    "\n",
    "    output_list = []\n",
    "    attn_weight_list = np.zeros((seq_length, seq_length))\n",
    "    for di in range(seq_length):\n",
    "        output, decoder_hidden, attn_weights = decoder.forward(decoder_input,\n",
    "                                                               decoder_hidden,\n",
    "                                                               encoder_output)\n",
    "\n",
    "        decoder_input = output.topk(1)[1].detach()\n",
    "        output_list.append(output.topk(1)[1])\n",
    "        word = en_idx2word[output.topk(1)[1].item()]\n",
    "\n",
    "        attn_weight_list[di] += attn_weights[0,0,:].cpu().numpy()\n"
   ]
  },
  {
   "cell_type": "code",
   "execution_count": 452,
   "metadata": {
    "scrolled": true
   },
   "outputs": [
    {
     "name": "stdout",
     "output_type": "stream",
     "text": [
      "his\n",
      "essay\n",
      "was\n",
      "<unk>\n",
      "and\n",
      "and\n",
      "</s>\n"
     ]
    }
   ],
   "source": [
    "for index in output_list:\n",
    "    word = en_idx2word[index.item()]\n",
    "    if word != '</s>':\n",
    "        print(word)\n",
    "    else:\n",
    "        print(word)\n",
    "        break"
   ]
  },
  {
   "cell_type": "code",
   "execution_count": 444,
   "metadata": {},
   "outputs": [
    {
     "data": {
      "text/plain": [
       "<matplotlib.image.AxesImage at 0x7ff104b52ba8>"
      ]
     },
     "execution_count": 444,
     "metadata": {},
     "output_type": "execute_result"
    },
    {
     "data": {
      "image/png": "[encoded data removed]",
      "text/plain": [
       "<Figure size 288x288 with 1 Axes>"
      ]
     },
     "metadata": {},
     "output_type": "display_data"
    }
   ],
   "source": [
    "plt.matshow(attn_weight_list)"
   ]
  },
  {
   "cell_type": "code",
   "execution_count": null,
   "metadata": {},
   "outputs": [],
   "source": []
  },
  {
   "cell_type": "code",
   "execution_count": null,
   "metadata": {},
   "outputs": [],
   "source": []
  }
 ],
 "metadata": {
  "kernelspec": {
   "display_name": "Python [default]",
   "language": "python",
   "name": "python3"
  },
  "language_info": {
   "codemirror_mode": {
    "name": "ipython",
    "version": 3
   },
   "file_extension": ".py",
   "mimetype": "text/x-python",
   "name": "python",
   "nbconvert_exporter": "python",
   "pygments_lexer": "ipython3",
   "version": "3.6.5"
  }
 },
 "nbformat": 4,
 "nbformat_minor": 2
}
