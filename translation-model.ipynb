{
 "cells": [
  {
   "cell_type": "markdown",
   "metadata": {},
   "source": [
    "<h1>Neural Translation Model in PyTorch</h1>\n",
    "by Mac Brennan"
   ]
  },
  {
   "cell_type": "markdown",
   "metadata": {},
   "source": [
    "<p style='text-align: center !important;'>\n",
    " <img src='https://github.com/macbrennan90/macbrennan90.github.io/blob/master/images/encoder-decoder.png?raw=true'\n",
    "      alt='Translation Model Summary'>\n",
    "</p>"
   ]
  },
  {
   "cell_type": "markdown",
   "metadata": {},
   "source": [
    "This project will be broken up into several parts as follows:\n",
    "\n",
    "__Part 1:__ Preparing the words\n",
    "\n",
    "+ Inspecting the Dataset\n",
    "+ Using Word Embeddings\n",
    "+ Organizing the Data\n",
    "\n",
    "__Part 2:__ Building the Model\n",
    "\n",
    "+ Bi-Directional Encoder\n",
    "+ Building Attention\n",
    "+ Decoder with Attention\n",
    "\n",
    "__Part 3:__ Training the Model\n",
    "\n",
    "+ Training Function\n",
    "+ Training Loop\n",
    "\n",
    "__Part 4:__ Evaluation\n",
    "\n",
    "\n",
    "This project closely follows the [PyTorch Sequence to Sequence tutorial](https://pytorch.org/tutorials/intermediate/seq2seq_translation_tutorial.html), while attempting to go more in depth with both the model implementation and the explanation. Thanks to [Sean Robertson](https://github.com/spro/practical-pytorch) and [PyTorch](https://pytorch.org/tutorials/) for providing such great tutorials.\n",
    "\n",
    "If you are working through this notebook, it is strongly recommended that [Jupyter Notebook Extensions](https://github.com/ipython-contrib/jupyter_contrib_nbextensions) is installed so you can turn on collapsable headings. It makes the notebook much easier to navigate."
   ]
  },
  {
   "cell_type": "code",
   "execution_count": 40,
   "metadata": {},
   "outputs": [],
   "source": [
    "# Before we get started we will load all the packages we will need\n",
    "\n",
    "# Pytorch\n",
    "import torch\n",
    "import torch.nn as nn\n",
    "import torch.nn.functional as F\n",
    "import torch.optim as optim\n",
    "from torch.utils.data import Dataset, DataLoader\n",
    "\n",
    "import numpy as np\n",
    "import os.path\n",
    "import time\n",
    "import math\n",
    "import random\n",
    "import matplotlib.pyplot as plt\n",
    "import string\n",
    "\n",
    "# Use gpu if available\n",
    "device = torch.device(\"cuda\" if torch.cuda.is_available() else \"cpu\")"
   ]
  },
  {
   "cell_type": "code",
   "execution_count": 41,
   "metadata": {},
   "outputs": [
    {
     "data": {
      "text/plain": [
       "device(type='cuda')"
      ]
     },
     "execution_count": 41,
     "metadata": {},
     "output_type": "execute_result"
    }
   ],
   "source": [
    "device"
   ]
  },
  {
   "cell_type": "markdown",
   "metadata": {
    "heading_collapsed": true
   },
   "source": [
    "## Part 1: Preparing the Words"
   ]
  },
  {
   "cell_type": "markdown",
   "metadata": {
    "hidden": true
   },
   "source": [
    "### Inspecting the Dataset"
   ]
  },
  {
   "cell_type": "markdown",
   "metadata": {
    "hidden": true
   },
   "source": [
    "The dataset that will be used is a text file of english sentences and the corresponding french sentences.\n",
    "\n",
    "Each sentence is on a new line. The sentences will be split into a list."
   ]
  },
  {
   "cell_type": "markdown",
   "metadata": {
    "heading_collapsed": true,
    "hidden": true
   },
   "source": [
    "#### Load the data\n",
    "The data will be stored in two lists where each item is a sentence. The lists are:\n",
    "+ english_sentences\n",
    "+ french_sentences\n",
    "\n",
    "Download the first dataset from the projects' github repo. Place it in the same folder as the notebook or create a data folder in the notebook's folder."
   ]
  },
  {
   "cell_type": "code",
   "execution_count": 127,
   "metadata": {
    "hidden": true
   },
   "outputs": [],
   "source": [
    "with open('data/small_vocab_en', \"r\") as f:\n",
    "    data1 = f.read()\n",
    "with open('data/small_vocab_fr', \"r\") as f:\n",
    "    data2 = f.read()\n",
    "    \n",
    "# The data is just in a text file with each sentence on its own line\n",
    "english_sentences = data1.split('\\n')\n",
    "french_sentences = data2.split('\\n')"
   ]
  },
  {
   "cell_type": "code",
   "execution_count": 128,
   "metadata": {
    "hidden": true
   },
   "outputs": [
    {
     "name": "stdout",
     "output_type": "stream",
     "text": [
      "Number of English sentences: 137861 \n",
      "Number of French sentences: 137861 \n",
      "\n",
      "Example/Target pair:\n",
      "\n",
      "  california is usually quiet during march , and it is usually hot in june .\n",
      "  california est généralement calme en mars , et il est généralement chaud en juin .\n"
     ]
    }
   ],
   "source": [
    "print('Number of English sentences:', len(english_sentences), \n",
    "      '\\nNumber of French sentences:', len(french_sentences),'\\n')\n",
    "print('Example/Target pair:\\n')\n",
    "print('  '+english_sentences[2])\n",
    "print('  '+french_sentences[2])"
   ]
  },
  {
   "cell_type": "markdown",
   "metadata": {
    "heading_collapsed": true,
    "hidden": true
   },
   "source": [
    "#### Vocabulary\n",
    "Let's take a closer look at the dataset.\n"
   ]
  },
  {
   "cell_type": "code",
   "execution_count": 129,
   "metadata": {
    "hidden": true
   },
   "outputs": [
    {
     "data": {
      "text/plain": [
       "['california',\n",
       " 'is',\n",
       " 'usually',\n",
       " 'quiet',\n",
       " 'during',\n",
       " 'march',\n",
       " ',',\n",
       " 'and',\n",
       " 'it',\n",
       " 'is',\n",
       " 'usually',\n",
       " 'hot',\n",
       " 'in',\n",
       " 'june',\n",
       " '.']"
      ]
     },
     "execution_count": 129,
     "metadata": {},
     "output_type": "execute_result"
    }
   ],
   "source": [
    "english_sentences[2].split()"
   ]
  },
  {
   "cell_type": "code",
   "execution_count": 130,
   "metadata": {
    "hidden": true
   },
   "outputs": [
    {
     "name": "stdout",
     "output_type": "stream",
     "text": [
      "The longest english sentence in our dataset is: 17\n"
     ]
    }
   ],
   "source": [
    "max_en_length = 0\n",
    "for sentence in english_sentences:\n",
    "    length = len(sentence.split())\n",
    "    max_en_length = max(max_en_length, length)\n",
    "print(\"The longest english sentence in our dataset is:\", max_en_length)    "
   ]
  },
  {
   "cell_type": "code",
   "execution_count": 131,
   "metadata": {
    "hidden": true
   },
   "outputs": [
    {
     "name": "stdout",
     "output_type": "stream",
     "text": [
      "The longest french sentence in our dataset is: 23\n"
     ]
    }
   ],
   "source": [
    "max_fr_length = 0\n",
    "for sentence in french_sentences:\n",
    "    length = len(sentence.split())\n",
    "    max_fr_length = max(max_fr_length, length)\n",
    "print(\"The longest french sentence in our dataset is:\", max_fr_length)"
   ]
  },
  {
   "cell_type": "code",
   "execution_count": 132,
   "metadata": {
    "hidden": true
   },
   "outputs": [],
   "source": [
    "seq_length = max(max_fr_length, max_en_length) + 1"
   ]
  },
  {
   "cell_type": "code",
   "execution_count": 133,
   "metadata": {
    "hidden": true
   },
   "outputs": [],
   "source": [
    "en_word_count = {}\n",
    "fr_word_count = {}\n",
    "\n",
    "for sentence in english_sentences:\n",
    "    for word in sentence.split():\n",
    "        if word in en_word_count:\n",
    "            en_word_count[word] +=1\n",
    "        else:\n",
    "            en_word_count[word] = 1\n",
    "            \n",
    "for sentence in french_sentences:\n",
    "    for word in sentence.split():\n",
    "        if word in fr_word_count:\n",
    "            fr_word_count[word] +=1\n",
    "        else:\n",
    "            fr_word_count[word] = 1\n"
   ]
  },
  {
   "cell_type": "code",
   "execution_count": 134,
   "metadata": {
    "hidden": true
   },
   "outputs": [],
   "source": [
    "# Add end of sentence token to word count dict\n",
    "en_word_count['</s>'] = len(english_sentences)\n",
    "fr_word_count['</s>'] = len(english_sentences)"
   ]
  },
  {
   "cell_type": "code",
   "execution_count": 135,
   "metadata": {
    "hidden": true
   },
   "outputs": [
    {
     "name": "stdout",
     "output_type": "stream",
     "text": [
      "Number of unique English words: 228\n",
      "Number of unique French words: 356\n"
     ]
    }
   ],
   "source": [
    "print('Number of unique English words:', len(en_word_count))\n",
    "print('Number of unique French words:', len(fr_word_count))"
   ]
  },
  {
   "cell_type": "code",
   "execution_count": 136,
   "metadata": {
    "hidden": true
   },
   "outputs": [],
   "source": [
    "def get_value(items_tuple):\n",
    "    return items_tuple[1]\n",
    "\n",
    "# Sort the word counts to see what words or most/least common\n",
    "sorted_en_words= sorted(en_word_count.items(), key=get_value, reverse=True)"
   ]
  },
  {
   "cell_type": "code",
   "execution_count": 137,
   "metadata": {
    "hidden": true
   },
   "outputs": [
    {
     "data": {
      "text/plain": [
       "[('is', 205858),\n",
       " (',', 140897),\n",
       " ('</s>', 137861),\n",
       " ('.', 129039),\n",
       " ('in', 75525),\n",
       " ('it', 75137),\n",
       " ('during', 74933),\n",
       " ('the', 67628),\n",
       " ('but', 63987),\n",
       " ('and', 59850)]"
      ]
     },
     "execution_count": 137,
     "metadata": {},
     "output_type": "execute_result"
    }
   ],
   "source": [
    "sorted_en_words[:10]"
   ]
  },
  {
   "cell_type": "code",
   "execution_count": 138,
   "metadata": {
    "hidden": true
   },
   "outputs": [],
   "source": [
    "sorted_fr_words = sorted(fr_word_count.items(), key=get_value, reverse=True)"
   ]
  },
  {
   "cell_type": "code",
   "execution_count": 139,
   "metadata": {
    "hidden": true
   },
   "outputs": [
    {
     "data": {
      "text/plain": [
       "[('est', 196809),\n",
       " ('</s>', 137861),\n",
       " ('.', 135619),\n",
       " (',', 123135),\n",
       " ('en', 105768),\n",
       " ('il', 84079),\n",
       " ('les', 65255),\n",
       " ('mais', 63987),\n",
       " ('et', 59851),\n",
       " ('la', 49861)]"
      ]
     },
     "execution_count": 139,
     "metadata": {},
     "output_type": "execute_result"
    }
   ],
   "source": [
    "sorted_fr_words[:10]"
   ]
  },
  {
   "cell_type": "markdown",
   "metadata": {
    "hidden": true
   },
   "source": [
    "So the dataset is pretty small, we may want to get a bigger data set, but we'll see how this one does."
   ]
  },
  {
   "cell_type": "markdown",
   "metadata": {
    "heading_collapsed": true,
    "hidden": true
   },
   "source": [
    "#### Alternate Dataset\n",
    "Skip this section for now. You can come back and try training on this second dataset later. It is more diverse so it takes longer to train.\n",
    "\n",
    "Download the French-English dataset from [here](http://www.manythings.org/anki/), Although you could train the model on any of the other language pairs. However, you would need different word embeddings or they would need to be trained from scratch."
   ]
  },
  {
   "cell_type": "code",
   "execution_count": 42,
   "metadata": {
    "hidden": true
   },
   "outputs": [],
   "source": [
    "with open('data/fra.txt', \"r\") as f:\n",
    "    data1 = f.read()"
   ]
  },
  {
   "cell_type": "code",
   "execution_count": 43,
   "metadata": {
    "hidden": true
   },
   "outputs": [],
   "source": [
    "pairs = data1.split('\\n')\n",
    "english_sentences = []\n",
    "french_sentences = []\n",
    "for i, pair in enumerate(pairs):\n",
    "    pair_split = pair.split('\\t')\n",
    "    if len(pair_split)!= 2:\n",
    "        continue\n",
    "    english = pair_split[0].lower()\n",
    "    french = pair_split[1].lower()\n",
    "    \n",
    "    # Remove punctuation and limit sentence length\n",
    "    max_sent_length = 10\n",
    "    punctuation_table = english.maketrans({i:None for i in string.punctuation})\n",
    "    english = english.translate(punctuation_table)\n",
    "    french = french.translate(punctuation_table)\n",
    "    if len(english.split()) >= max_sent_length or len(french.split()) >= max_sent_length:\n",
    "        continue\n",
    "       \n",
    "    english_sentences.append(english)\n",
    "    french_sentences.append(french)"
   ]
  },
  {
   "cell_type": "code",
   "execution_count": 44,
   "metadata": {
    "hidden": true
   },
   "outputs": [
    {
     "data": {
      "text/plain": [
       "['i', 'have', 'to', 'hurry']"
      ]
     },
     "execution_count": 44,
     "metadata": {},
     "output_type": "execute_result"
    }
   ],
   "source": [
    "english_sentences[10000].split()\n"
   ]
  },
  {
   "cell_type": "code",
   "execution_count": 45,
   "metadata": {
    "hidden": true
   },
   "outputs": [
    {
     "data": {
      "text/plain": [
       "['je', 'dois', 'me', 'dépêcher']"
      ]
     },
     "execution_count": 45,
     "metadata": {},
     "output_type": "execute_result"
    }
   ],
   "source": [
    "french_sentences[10000].split()"
   ]
  },
  {
   "cell_type": "code",
   "execution_count": 46,
   "metadata": {
    "hidden": true
   },
   "outputs": [
    {
     "name": "stdout",
     "output_type": "stream",
     "text": [
      "['my', 'students', 'have', 'been', 'eagerly', 'awaiting', 'the', 'test', 'results']\n"
     ]
    },
    {
     "data": {
      "text/plain": [
       "['mes',\n",
       " 'étudiants',\n",
       " 'ont',\n",
       " 'attendu',\n",
       " 'avidement',\n",
       " 'les',\n",
       " 'résultats',\n",
       " 'de',\n",
       " 'lépreuve']"
      ]
     },
     "execution_count": 46,
     "metadata": {},
     "output_type": "execute_result"
    }
   ],
   "source": [
    "print(english_sentences[-100].split())\n",
    "french_sentences[-100].split()\n"
   ]
  },
  {
   "cell_type": "code",
   "execution_count": 47,
   "metadata": {
    "hidden": true
   },
   "outputs": [
    {
     "name": "stdout",
     "output_type": "stream",
     "text": [
      "The longest english sentence in our dataset is: 9\n"
     ]
    }
   ],
   "source": [
    "max_en_length = 0\n",
    "for sentence in english_sentences:\n",
    "    length = len(sentence.split())\n",
    "    max_en_length = max(max_en_length, length)\n",
    "print(\"The longest english sentence in our dataset is:\", max_en_length)  "
   ]
  },
  {
   "cell_type": "code",
   "execution_count": 48,
   "metadata": {
    "hidden": true
   },
   "outputs": [
    {
     "name": "stdout",
     "output_type": "stream",
     "text": [
      "The longest french sentence in our dataset is: 9\n"
     ]
    }
   ],
   "source": [
    "max_fr_length = 0\n",
    "for sentence in french_sentences:\n",
    "    length = len(sentence.split())\n",
    "    max_fr_length = max(max_fr_length, length)\n",
    "print(\"The longest french sentence in our dataset is:\", max_fr_length)  "
   ]
  },
  {
   "cell_type": "code",
   "execution_count": 49,
   "metadata": {
    "hidden": true
   },
   "outputs": [],
   "source": [
    "seq_length = max(max_fr_length, max_en_length) + 1"
   ]
  },
  {
   "cell_type": "code",
   "execution_count": 50,
   "metadata": {
    "hidden": true
   },
   "outputs": [],
   "source": [
    "en_word_count = {}\n",
    "fr_word_count = {}\n",
    "\n",
    "for sentence in english_sentences:\n",
    "    for word in sentence.split():\n",
    "        if word in en_word_count:\n",
    "            en_word_count[word] +=1\n",
    "        else:\n",
    "            en_word_count[word] = 1\n",
    "            \n",
    "for sentence in french_sentences:\n",
    "    for word in sentence.split():\n",
    "        if word in fr_word_count:\n",
    "            fr_word_count[word] +=1\n",
    "        else:\n",
    "            fr_word_count[word] = 1\n"
   ]
  },
  {
   "cell_type": "code",
   "execution_count": 51,
   "metadata": {
    "hidden": true
   },
   "outputs": [],
   "source": [
    "en_word_count['</s>'] = len(english_sentences)\n",
    "fr_word_count['</s>'] = len(english_sentences)"
   ]
  },
  {
   "cell_type": "code",
   "execution_count": 52,
   "metadata": {
    "hidden": true
   },
   "outputs": [
    {
     "name": "stdout",
     "output_type": "stream",
     "text": [
      "Number of unique English words: 11997\n",
      "Number of unique French words: 24710\n"
     ]
    }
   ],
   "source": [
    "print('Number of unique English words:', len(en_word_count))\n",
    "print('Number of unique French words:', len(fr_word_count))"
   ]
  },
  {
   "cell_type": "code",
   "execution_count": 53,
   "metadata": {
    "hidden": true
   },
   "outputs": [],
   "source": [
    "fr_word2idx = {k:v+3 for v, k in enumerate(fr_word_count.keys())}\n",
    "en_word2idx = {k:v+3 for v, k in enumerate(en_word_count.keys())}"
   ]
  },
  {
   "cell_type": "code",
   "execution_count": 54,
   "metadata": {
    "hidden": true
   },
   "outputs": [],
   "source": [
    "fr_word2idx['<pad>'] = 0\n",
    "fr_word2idx['<s>'] = 1\n",
    "fr_word2idx['<unk>'] = 2\n",
    "\n",
    "en_word2idx['<pad>'] = 0\n",
    "en_word2idx['<s>'] = 1\n",
    "en_word2idx['<unk>'] = 2"
   ]
  },
  {
   "cell_type": "code",
   "execution_count": 55,
   "metadata": {
    "hidden": true
   },
   "outputs": [
    {
     "data": {
      "text/plain": [
       "24713"
      ]
     },
     "execution_count": 55,
     "metadata": {},
     "output_type": "execute_result"
    }
   ],
   "source": [
    "len(fr_word2idx)"
   ]
  },
  {
   "cell_type": "code",
   "execution_count": 56,
   "metadata": {
    "hidden": true
   },
   "outputs": [],
   "source": [
    "def get_value(items_tuple):\n",
    "    return items_tuple[1]\n",
    "\n",
    "sorted_en_words= sorted(en_word_count.items(), key=get_value, reverse=True)"
   ]
  },
  {
   "cell_type": "code",
   "execution_count": 57,
   "metadata": {
    "hidden": true
   },
   "outputs": [
    {
     "data": {
      "text/plain": [
       "[('attempting', 1),\n",
       " ('eradicate', 1),\n",
       " ('impossibilities', 1),\n",
       " ('offers', 1),\n",
       " ('profound', 1),\n",
       " ('insights', 1),\n",
       " ('hummer', 1),\n",
       " ('limousines', 1),\n",
       " ('tyrannical', 1),\n",
       " ('imprison', 1)]"
      ]
     },
     "execution_count": 57,
     "metadata": {},
     "output_type": "execute_result"
    }
   ],
   "source": [
    "sorted_en_words[-10:]"
   ]
  },
  {
   "cell_type": "markdown",
   "metadata": {
    "heading_collapsed": true,
    "hidden": true
   },
   "source": [
    "### Using Word Embeddings"
   ]
  },
  {
   "cell_type": "markdown",
   "metadata": {
    "hidden": true
   },
   "source": [
    "Here we are building an embedding matrix of pretrained word vectors. The word embeddings used here were downloaded from the fastText repository. These embeddings have 300 dimensions. To start we will add a few token embeddings for our specific case. We want a token to signal the start of the sentence, A token for words that we do not have an embedding for, and a token to pad sentences so all the sentences we use have the same length. This will allow us to train the model on batches of sentences that are different lengths, rather than one at a time.\n",
    "\n",
    "After this step we will have a dictionary and an embedding matrix for each language. The dictionary will map words to an index value in the embedding matrix where its' corresponding embedding vector is stored."
   ]
  },
  {
   "cell_type": "markdown",
   "metadata": {
    "hidden": true
   },
   "source": [
    "#### Load Embeddings for the English data"
   ]
  },
  {
   "cell_type": "code",
   "execution_count": 58,
   "metadata": {
    "hidden": true
   },
   "outputs": [
    {
     "name": "stdout",
     "output_type": "stream",
     "text": [
      "Embeddings load from .npy file\n"
     ]
    }
   ],
   "source": [
    "# The data file containing the embeddings is very large so once we have the embeddings we want\n",
    "# we will save them as a numpy array. This way we can load this much faster then having to re read from\n",
    "# the large embedding file\n",
    "if os.path.exists('data/en_words.npy') and os.path.exists('data/en_vectors.npy'):\n",
    "    en_words = np.load('data/en_words.npy')\n",
    "    en_vectors = np.load('data/en_vectors.npy')\n",
    "    print('Embeddings load from .npy file')\n",
    "else:\n",
    "    # make a dict with the top 100,000 words\n",
    "    en_words = ['<pad>', # Padding Token\n",
    "                '<s>', # Start of sentence token\n",
    "                '<unk>'# Unknown word token\n",
    "               ]\n",
    "\n",
    "    en_vectors = list(np.random.uniform(-0.1, 0.1, (3, 300)))\n",
    "    en_vectors[0] *= 0 # make the padding vector zeros\n",
    "\n",
    "    with open('data/wiki.en.vec', \"r\") as f:\n",
    "        f.readline()\n",
    "        for _ in range(100000):\n",
    "            en_vecs = f.readline()\n",
    "            word = en_vecs.split()[0]\n",
    "            vector = np.float32(en_vecs.split()[1:])\n",
    "\n",
    "            # skip lines that don't have 300 dim\n",
    "            if len(vector) != 300:\n",
    "                continue\n",
    "\n",
    "            if word not in en_words:\n",
    "                en_words.append(word)\n",
    "                en_vectors.append(vector)\n",
    "        print(word, vector[:10]) # Last word embedding read from the file\n",
    "        en_words = np.array(en_words)\n",
    "        en_vectors = np.array(en_vectors)\n",
    "    # Save the arrays so we don't have to load the full word embedding file\n",
    "    np.save('data/en_words.npy', en_words)\n",
    "    np.save('data/en_vectors.npy', en_vectors)"
   ]
  },
  {
   "cell_type": "code",
   "execution_count": 59,
   "metadata": {
    "hidden": true
   },
   "outputs": [],
   "source": [
    "en_word2idx = {word:index for index, word in enumerate(en_words)}"
   ]
  },
  {
   "cell_type": "code",
   "execution_count": 60,
   "metadata": {
    "hidden": true
   },
   "outputs": [
    {
     "name": "stdout",
     "output_type": "stream",
     "text": [
      "index for word hemophilia: 99996 \n",
      "vector for word hemophilia:\n",
      " [ 0.16189    -0.056121   -0.65560001  0.21569    -0.11878    -0.02066\n",
      "  0.37613001 -0.24117    -0.098989   -0.010058  ]\n"
     ]
    }
   ],
   "source": [
    "hemophilia_idx = en_word2idx['hemophilia']\n",
    "print('index for word hemophilia:', hemophilia_idx, \n",
    "      '\\nvector for word hemophilia:\\n',en_vectors[hemophilia_idx][:10])"
   ]
  },
  {
   "cell_type": "markdown",
   "metadata": {
    "hidden": true
   },
   "source": [
    "The word embedding for hemophilia matches the one read from the file, so it looks like everything worked properly."
   ]
  },
  {
   "cell_type": "markdown",
   "metadata": {
    "hidden": true
   },
   "source": [
    "#### Load Embeddings for the Frech data"
   ]
  },
  {
   "cell_type": "code",
   "execution_count": 61,
   "metadata": {
    "hidden": true,
    "scrolled": false
   },
   "outputs": [
    {
     "name": "stdout",
     "output_type": "stream",
     "text": [
      "Embeddings load from .npy file\n"
     ]
    }
   ],
   "source": [
    "if os.path.exists('data/fr_words.npy') and os.path.exists('data/fr_vectors.npy'):\n",
    "    fr_words = np.load('data/fr_words.npy')\n",
    "    fr_vectors = np.load('data/fr_vectors.npy')\n",
    "    print('Embeddings load from .npy file')\n",
    "else:\n",
    "    # make a dict with the top 100,000 words\n",
    "    fr_words = ['<pad>',\n",
    "                '<s>',\n",
    "                '<unk>']\n",
    "\n",
    "    fr_vectors = list(np.random.uniform(-0.1, 0.1, (3, 300)))\n",
    "    fr_vectors[0] = np.zeros(300) # make the padding vector zeros\n",
    "\n",
    "    with open('data/wiki.fr.vec', \"r\") as f:\n",
    "        f.readline()\n",
    "        for _ in range(100000):\n",
    "            fr_vecs = f.readline()\n",
    "            word = fr_vecs.split()[0]\n",
    "            try:\n",
    "                vector = np.float32(fr_vecs.split()[1:])\n",
    "            except ValueError:\n",
    "                continue\n",
    "\n",
    "             # skip lines that don't have 300 dim\n",
    "            if len(vector) != 300:\n",
    "                continue\n",
    "\n",
    "            if word not in fr_words:\n",
    "                fr_words.append(word)\n",
    "                fr_vectors.append(vector)\n",
    "        print(word, vector[:10])\n",
    "        fr_words = np.array(fr_words)\n",
    "        fr_vectors = np.array(fr_vectors)\n",
    "    # Save the arrays so we don't have to load the full word embedding file\n",
    "    np.save('data/fr_words.npy', fr_words)\n",
    "    np.save('data/fr_vectors.npy', fr_vectors)"
   ]
  },
  {
   "cell_type": "code",
   "execution_count": 62,
   "metadata": {
    "hidden": true
   },
   "outputs": [],
   "source": [
    "fr_word2idx = {word:index for index, word in enumerate(fr_words)}"
   ]
  },
  {
   "cell_type": "code",
   "execution_count": 63,
   "metadata": {
    "hidden": true
   },
   "outputs": [
    {
     "name": "stdout",
     "output_type": "stream",
     "text": [
      "index for word chabeuil: 99783 \n",
      "vector for word chabeuil:\n",
      " [-0.18058001 -0.24758001  0.075607    0.17299999  0.24116001 -0.11223\n",
      " -0.28173     0.27373999  0.37997001  0.48008999]\n"
     ]
    }
   ],
   "source": [
    "chabeuil_idx = fr_word2idx['chabeuil']\n",
    "print('index for word chabeuil:', chabeuil_idx, \n",
    "      '\\nvector for word chabeuil:\\n',fr_vectors[chabeuil_idx][:10])"
   ]
  },
  {
   "cell_type": "code",
   "execution_count": 64,
   "metadata": {
    "hidden": true
   },
   "outputs": [
    {
     "data": {
      "text/plain": [
       "99783"
      ]
     },
     "execution_count": 64,
     "metadata": {},
     "output_type": "execute_result"
    }
   ],
   "source": [
    "fr_word2idx[\"chabeuil\"]"
   ]
  },
  {
   "cell_type": "markdown",
   "metadata": {
    "hidden": true
   },
   "source": [
    "The word embedding for chabeuil matches as well so everything worked correctly for the french vocab."
   ]
  },
  {
   "cell_type": "markdown",
   "metadata": {
    "hidden": true
   },
   "source": [
    "Ok, so we have all the pieces needed to take words and convert them into word embeddings. These word embeddings already have a lot of useful information about how words relate since we loaded the pre-trained word embeddings. Now we can build the translation model with the embedding matrices built in."
   ]
  },
  {
   "cell_type": "markdown",
   "metadata": {
    "heading_collapsed": true,
    "hidden": true
   },
   "source": [
    "### Setting up PyTorch Dataset and Dataloader"
   ]
  },
  {
   "cell_type": "markdown",
   "metadata": {
    "hidden": true
   },
   "source": [
    "Rather than organizing all the data from a file and storing it in a list or some other data structure, PyTorch allows us to create a dataset object. To get an example from a dataset we just index the dataset object like we would a list. However, all our processing can be contained in the objects initialization or indexing process.\n",
    "\n",
    "This will also make training easier when we want to iterate through batches."
   ]
  },
  {
   "cell_type": "code",
   "execution_count": 65,
   "metadata": {
    "hidden": true
   },
   "outputs": [],
   "source": [
    "class French2EnglishDataset(Dataset):\n",
    "    '''\n",
    "        French and associated English sentences.\n",
    "    '''\n",
    "    \n",
    "    def __init__(self, fr_sentences, en_sentences, fr_word2idx, en_word2idx, seq_length):\n",
    "        self.fr_sentences = fr_sentences\n",
    "        self.en_sentences = en_sentences\n",
    "        self.fr_word2idx = fr_word2idx\n",
    "        self.en_word2idx = en_word2idx\n",
    "        self.seq_length = seq_length\n",
    "        self.unk_en = set()\n",
    "        self.unk_fr = set()\n",
    "    \n",
    "    def __len__(self):\n",
    "        return len(french_sentences)\n",
    "    \n",
    "    def __getitem__(self, idx):\n",
    "        '''\n",
    "            Returns a pair of tensors containing word indices\n",
    "            for the specified sentence pair in the dataset.\n",
    "        '''\n",
    "        \n",
    "        # init torch tensors, note that 0 is the padding index\n",
    "        french_tensor = torch.zeros(self.seq_length, dtype=torch.long)\n",
    "        english_tensor = torch.zeros(self.seq_length, dtype=torch.long)\n",
    "        \n",
    "        # Get sentence pair\n",
    "        french_sentence = self.fr_sentences[idx].split()\n",
    "        english_sentence = self.en_sentences[idx].split()\n",
    "        \n",
    "        # Add <EOS> tags\n",
    "        french_sentence.append('</s>')\n",
    "        english_sentence.append('</s>')\n",
    "        \n",
    "        # Load word indices\n",
    "        for i, word in enumerate(french_sentence):\n",
    "            if word in fr_word2idx and fr_word_count[word] > 5:\n",
    "                french_tensor[i] = fr_word2idx[word]\n",
    "            else:\n",
    "                french_tensor[i] = fr_word2idx['<unk>']\n",
    "                self.unk_fr.add(word)\n",
    "        \n",
    "        for i, word in enumerate(english_sentence):\n",
    "            if word in en_word2idx and en_word_count[word] > 5:\n",
    "                english_tensor[i] = en_word2idx[word]\n",
    "            else:\n",
    "                english_tensor[i] = en_word2idx['<unk>']\n",
    "                self.unk_en.add(word)\n",
    "            \n",
    "        sample = {'french_tensor': french_tensor, 'french_sentence': self.fr_sentences[idx],\n",
    "                  'english_tensor': english_tensor, 'english_sentence': self.en_sentences[idx]}\n",
    "        return sample"
   ]
  },
  {
   "cell_type": "code",
   "execution_count": 66,
   "metadata": {
    "hidden": true
   },
   "outputs": [],
   "source": [
    "french_english_dataset = French2EnglishDataset(french_sentences,\n",
    "                                               english_sentences,\n",
    "                                               fr_word2idx,\n",
    "                                               en_word2idx,\n",
    "                                               seq_length = seq_length)"
   ]
  },
  {
   "cell_type": "markdown",
   "metadata": {
    "hidden": true
   },
   "source": [
    "#### Example output of dataset"
   ]
  },
  {
   "cell_type": "code",
   "execution_count": 67,
   "metadata": {
    "hidden": true
   },
   "outputs": [],
   "source": [
    "test_sample = french_english_dataset[-10] # get 10th to last item in dataset"
   ]
  },
  {
   "cell_type": "code",
   "execution_count": 166,
   "metadata": {
    "hidden": true
   },
   "outputs": [
    {
     "name": "stdout",
     "output_type": "stream",
     "text": [
      "Input example:\n",
      "Sentence: tout le monde sattendait à ce que lexpérience échoue\n",
      "Tensor: tensor([  121,    10,   129,     2,    12,    39,    33,     2,  6300,\n",
      "            3])\n",
      "\n",
      "Target example:\n",
      "Sentence: everybody expected that the experiment would result in failure\n",
      "Tensor: tensor([ 6342,  2067,    23,     5,  4583,    76,   237,     9,  2600,\n",
      "            6])\n"
     ]
    }
   ],
   "source": [
    "print('Input example:')\n",
    "print('Sentence:', test_sample['french_sentence'])\n",
    "print('Tensor:', test_sample['french_tensor'])\n",
    "\n",
    "print('\\nTarget example:')\n",
    "print('Sentence:', test_sample['english_sentence'])\n",
    "print('Tensor:', test_sample['english_tensor'])"
   ]
  },
  {
   "cell_type": "code",
   "execution_count": 168,
   "metadata": {
    "hidden": true
   },
   "outputs": [
    {
     "name": "stdout",
     "output_type": "stream",
     "text": [
      "3\n"
     ]
    },
    {
     "data": {
      "text/plain": [
       "6"
      ]
     },
     "execution_count": 168,
     "metadata": {},
     "output_type": "execute_result"
    }
   ],
   "source": [
    "# Check that both tensors end with the end of sentence token\n",
    "print(fr_word2idx['</s>'])\n",
    "en_word2idx['</s>']"
   ]
  },
  {
   "cell_type": "code",
   "execution_count": 70,
   "metadata": {
    "hidden": true
   },
   "outputs": [],
   "source": [
    "# Build dataloader to check how the batching works\n",
    "dataloader = DataLoader(french_english_dataset, batch_size=64,\n",
    "                        shuffle=True, num_workers=4)"
   ]
  },
  {
   "cell_type": "code",
   "execution_count": 71,
   "metadata": {
    "hidden": true,
    "scrolled": true
   },
   "outputs": [
    {
     "name": "stdout",
     "output_type": "stream",
     "text": [
      "0 torch.Size([64, 10]) torch.Size([64, 10])\n",
      "1 torch.Size([64, 10]) torch.Size([64, 10])\n",
      "2 torch.Size([64, 10]) torch.Size([64, 10])\n",
      "3 torch.Size([64, 10]) torch.Size([64, 10])\n",
      "4 torch.Size([64, 10]) torch.Size([64, 10])\n",
      "5 torch.Size([64, 10]) torch.Size([64, 10])\n",
      "6 torch.Size([64, 10]) torch.Size([64, 10])\n",
      "7 torch.Size([64, 10]) torch.Size([64, 10])\n",
      "8 torch.Size([64, 10]) torch.Size([64, 10])\n",
      "9 torch.Size([64, 10]) torch.Size([64, 10])\n",
      "10 torch.Size([64, 10]) torch.Size([64, 10])\n"
     ]
    }
   ],
   "source": [
    "# Prints out 10 batches from the dataloader\n",
    "for i_batch, sample_batched in enumerate(dataloader):\n",
    "    print(i_batch, sample_batched['french_tensor'].shape,\n",
    "          sample_batched['english_tensor'].shape)\n",
    "    if i_batch == 10:\n",
    "        break"
   ]
  },
  {
   "cell_type": "markdown",
   "metadata": {
    "heading_collapsed": true
   },
   "source": [
    "## Part 2: Building the Model"
   ]
  },
  {
   "cell_type": "markdown",
   "metadata": {
    "heading_collapsed": true,
    "hidden": true
   },
   "source": [
    "### Bi-Directional Encoder"
   ]
  },
  {
   "cell_type": "code",
   "execution_count": 72,
   "metadata": {
    "hidden": true
   },
   "outputs": [],
   "source": [
    "class EncoderBiLSTM(nn.Module):\n",
    "    def __init__(self, hidden_size, pretrained_embeddings):\n",
    "        super(EncoderBiLSTM, self).__init__()\n",
    "        self.hidden_size = hidden_size\n",
    "        self.embedding_dim = pretrained_embeddings.shape[1]\n",
    "        self.vocab_size = pretrained_embeddings.shape[0]\n",
    "        self.num_layers = 2\n",
    "        self.dropout = 0.1 if self.num_layers > 1 else 0\n",
    "        self.bidirectional = True\n",
    "        \n",
    "        \n",
    "        # Construct the layers\n",
    "        self.embedding = nn.Embedding(self.vocab_size, self.embedding_dim)\n",
    "        \n",
    "        self.embedding.weight.data.copy_(torch.from_numpy(pretrained_embeddings)) #Load the pretrained embeddings\n",
    "        self.embedding.weight.requires_grad = False #Freeze embedding layer\n",
    "        \n",
    "        self.lstm = nn.LSTM(self.embedding_dim,\n",
    "                            self.hidden_size,\n",
    "                            self.num_layers,\n",
    "                            batch_first = True,\n",
    "                            dropout=self.dropout,\n",
    "                            bidirectional=self.bidirectional)\n",
    "        \n",
    "        # Initialize hidden to hidden weights in LSTM to the Identity matrix\n",
    "        # PyTorch LSTM has 4 different hidden to hidden weights stacked in one matrix\n",
    "        identity_init = torch.eye(self.hidden_size)\n",
    "        self.lstm.weight_hh_l0.data.copy_(torch.cat([identity_init]*4, dim=0))\n",
    "        self.lstm.weight_hh_l0_reverse.data.copy_(torch.cat([identity_init]*4, dim=0))\n",
    "        self.lstm.weight_hh_l1.data.copy_(torch.cat([identity_init]*4, dim=0))\n",
    "        self.lstm.weight_hh_l1_reverse.data.copy_(torch.cat([identity_init]*4, dim=0))\n",
    "    \n",
    "    def forward(self, input, hidden):\n",
    "        embedded = self.embedding(input)\n",
    "        output = self.lstm(embedded, hidden)\n",
    "        return output\n",
    "    \n",
    "    def initHidden(self, batch_size):\n",
    "        \n",
    "        hidden_state = torch.zeros(self.num_layers*(2 if self.bidirectional else 1),\n",
    "                                   batch_size,\n",
    "                                   self.hidden_size, \n",
    "                                   device=device)\n",
    "        \n",
    "        cell_state = torch.zeros(self.num_layers*(2 if self.bidirectional else 1),\n",
    "                                 batch_size,\n",
    "                                 self.hidden_size, \n",
    "                                 device=device)\n",
    "        \n",
    "        return (hidden_state, cell_state)"
   ]
  },
  {
   "cell_type": "code",
   "execution_count": 73,
   "metadata": {
    "hidden": true
   },
   "outputs": [],
   "source": [
    "class EncoderBiGRU(nn.Module):\n",
    "    def __init__(self, hidden_size, pretrained_embeddings):\n",
    "        super(EncoderBiGRU, self).__init__()\n",
    "        self.hidden_size = hidden_size\n",
    "        self.embedding_dim = pretrained_embeddings.shape[1]\n",
    "        self.vocab_size = pretrained_embeddings.shape[0]\n",
    "        self.num_layers = 2\n",
    "        self.dropout = 0.1 if self.num_layers > 1 else 0\n",
    "        self.bidirectional = True\n",
    "        \n",
    "        \n",
    "        # Construct the layers\n",
    "        self.embedding = nn.Embedding(self.vocab_size, self.embedding_dim)\n",
    "        self.embedding.weight.data.copy_(torch.from_numpy(pretrained_embeddings))\n",
    "        self.embedding.weight.requires_grad = False\n",
    "        \n",
    "        self.gru = nn.GRU(self.embedding_dim,\n",
    "                            self.hidden_size,\n",
    "                            self.num_layers,\n",
    "                            batch_first = True,\n",
    "                            dropout=self.dropout,\n",
    "                            bidirectional=self.bidirectional)\n",
    "        \n",
    "        # Initialize hidden to hidden weights in GRU to the Identity matrix\n",
    "        # PyTorch GRU has 3 different hidden to hidden weights stacked in one matrix\n",
    "        identity_init = torch.eye(self.hidden_size)\n",
    "        self.gru.weight_hh_l0.data.copy_(torch.cat([identity_init]*3, dim=0))\n",
    "        self.gru.weight_hh_l0_reverse.data.copy_(torch.cat([identity_init]*3, dim=0))\n",
    "        self.gru.weight_hh_l1.data.copy_(torch.cat([identity_init]*3, dim=0))\n",
    "        self.gru.weight_hh_l1_reverse.data.copy_(torch.cat([identity_init]*3, dim=0))\n",
    "    \n",
    "    def forward(self, input, hidden):\n",
    "        embedded = self.embedding(input)\n",
    "        output = self.gru(embedded, hidden)\n",
    "        return output\n",
    "    \n",
    "    def initHidden(self, batch_size):\n",
    "        \n",
    "        hidden_state = torch.zeros(self.num_layers*(2 if self.bidirectional else 1),\n",
    "                                   batch_size,\n",
    "                                   self.hidden_size, \n",
    "                                   device=device)\n",
    "        \n",
    "        return hidden_state"
   ]
  },
  {
   "cell_type": "markdown",
   "metadata": {
    "heading_collapsed": true,
    "hidden": true
   },
   "source": [
    "#### Testing the Encoder"
   ]
  },
  {
   "cell_type": "code",
   "execution_count": 38,
   "metadata": {
    "hidden": true
   },
   "outputs": [
    {
     "name": "stdout",
     "output_type": "stream",
     "text": [
      "The final output of the BiLSTM Encoder on our test input is: \n",
      "\n",
      " torch.Size([1, 3, 10])\n",
      "\n",
      "\n",
      "Encoder output tensor: \n",
      "\n",
      " tensor([[[ 0.0488,  0.0608,  0.0763,  0.0944, -0.0452,  0.0822, -0.0545,\n",
      "          -0.1209,  0.0637,  0.1920],\n",
      "         [ 0.0213,  0.1434,  0.1022,  0.1439, -0.0614,  0.0622, -0.0665,\n",
      "          -0.0994,  0.0745,  0.1250],\n",
      "         [ 0.0341,  0.1984,  0.1272,  0.1718, -0.0637,  0.0210, -0.0166,\n",
      "          -0.0808,  0.0864,  0.0520]]], device='cuda:0')\n"
     ]
    }
   ],
   "source": [
    "# Test the encoder on a sample input, input tensor has dimensions (batch_size, seq_length)\n",
    "\n",
    "batch_size = 1\n",
    "seq_length = 3\n",
    "hidden_size = 5\n",
    "encoder = EncoderBiLSTM(hidden_size, fr_vectors).to(device)\n",
    "hidden = encoder.initHidden(batch_size)\n",
    "\n",
    "# Create an input tensor of random indices\n",
    "inputs = torch.randint(0, 50, (batch_size, seq_length), dtype=torch.long, device=device)\n",
    "\n",
    "encoder_output, hidden_state = encoder.forward(inputs, hidden)\n",
    "\n",
    "print(\"The final output of the BiLSTM Encoder on our test input is: \\n\\n\", encoder_output.shape)\n",
    "\n",
    "print('\\n\\nEncoder output tensor: \\n\\n', encoder_output)"
   ]
  },
  {
   "cell_type": "code",
   "execution_count": 39,
   "metadata": {
    "hidden": true
   },
   "outputs": [
    {
     "data": {
      "text/plain": [
       "(tensor([[[-0.1052,  0.1008,  0.4799, -0.1134,  0.5526]],\n",
       " \n",
       "         [[-0.0842, -0.0591, -0.0948, -0.2866,  0.4230]],\n",
       " \n",
       "         [[ 0.0341,  0.1984,  0.1272,  0.1718, -0.0637]],\n",
       " \n",
       "         [[ 0.0822, -0.0545, -0.1209,  0.0637,  0.1920]]], device='cuda:0'),\n",
       " tensor([[[-0.2579,  0.2626,  0.8297, -0.2297,  0.8898]],\n",
       " \n",
       "         [[-0.1805, -0.1831, -0.5329, -0.4892,  0.5867]],\n",
       " \n",
       "         [[ 0.0593,  0.3963,  0.2847,  0.2842, -0.2080]],\n",
       " \n",
       "         [[ 0.1816, -0.1275, -0.2396,  0.1397,  0.4824]]], device='cuda:0'))"
      ]
     },
     "execution_count": 39,
     "metadata": {},
     "output_type": "execute_result"
    }
   ],
   "source": [
    "hidden_state# Tuple where first item is the hidden states, second item is the cell states.\n",
    "\n",
    "# The lstm has 2 layers, each layer has a forward and backward pass giving 4"
   ]
  },
  {
   "cell_type": "code",
   "execution_count": 107,
   "metadata": {
    "hidden": true
   },
   "outputs": [
    {
     "data": {
      "text/plain": [
       "tensor([[[ 0.0670,  0.3896, -0.3120,  0.5056,  0.0540]],\n",
       "\n",
       "        [[-0.1834,  0.0832,  0.1996,  0.1796, -0.1747]]], device='cuda:0')"
      ]
     },
     "execution_count": 107,
     "metadata": {},
     "output_type": "execute_result"
    }
   ],
   "source": [
    "hidden_state[0][::2] # Hidden states from forward pass for both lstm layers."
   ]
  },
  {
   "cell_type": "code",
   "execution_count": 102,
   "metadata": {
    "hidden": true
   },
   "outputs": [],
   "source": [
    "encoder_gru = EncoderBiGRU(hidden_size, fr_vectors).to(device)\n",
    "hidden = encoder_gru.initHidden(batch_size)\n",
    "o,h = encoder_gru(inputs, hidden)"
   ]
  },
  {
   "cell_type": "code",
   "execution_count": 103,
   "metadata": {
    "hidden": true
   },
   "outputs": [
    {
     "data": {
      "text/plain": [
       "tensor([[[-0.0655,  0.1603, -0.0524, -0.0657, -0.1401,  0.3061,  0.2582,\n",
       "           0.0695, -0.2592,  0.5090],\n",
       "         [ 0.0141, -0.0763, -0.0059, -0.0959, -0.1177,  0.2653,  0.1059,\n",
       "          -0.0114, -0.2287,  0.4691],\n",
       "         [ 0.0666, -0.1238, -0.0988, -0.0869, -0.2081,  0.1008,  0.0713,\n",
       "           0.0013, -0.1661,  0.2408]]], device='cuda:0')"
      ]
     },
     "execution_count": 103,
     "metadata": {},
     "output_type": "execute_result"
    }
   ],
   "source": [
    "o"
   ]
  },
  {
   "cell_type": "code",
   "execution_count": 110,
   "metadata": {
    "hidden": true
   },
   "outputs": [
    {
     "name": "stdout",
     "output_type": "stream",
     "text": [
      "tensor([[[ 0.5315, -0.1505,  0.1251,  0.5621,  0.2153]],\n",
      "\n",
      "        [[ 0.0974,  0.6534, -0.4232,  0.2435, -0.3140]],\n",
      "\n",
      "        [[ 0.0666, -0.1238, -0.0988, -0.0869, -0.2081]],\n",
      "\n",
      "        [[ 0.3061,  0.2582,  0.0695, -0.2592,  0.5090]]], device='cuda:0')\n"
     ]
    },
    {
     "data": {
      "text/plain": [
       "tensor([[[ 0.0974,  0.6534, -0.4232,  0.2435, -0.3140]],\n",
       "\n",
       "        [[ 0.3061,  0.2582,  0.0695, -0.2592,  0.5090]]], device='cuda:0')"
      ]
     },
     "execution_count": 110,
     "metadata": {},
     "output_type": "execute_result"
    }
   ],
   "source": [
    "print(h)\n",
    "h[1::2]"
   ]
  },
  {
   "cell_type": "markdown",
   "metadata": {
    "heading_collapsed": true,
    "hidden": true
   },
   "source": [
    "### Attention\n",
    "Let's take a moment test how attention is being modeled. Weighted sum of sequence items from encoder output."
   ]
  },
  {
   "cell_type": "code",
   "execution_count": 39,
   "metadata": {
    "hidden": true
   },
   "outputs": [
    {
     "name": "stdout",
     "output_type": "stream",
     "text": [
      "Attention weights:\n",
      " tensor([[[ 1.,  0.,  0.]]], device='cuda:0')\n",
      "\n",
      "First sequence item in Encoder output: \n",
      " tensor([[ 0.0148, -0.0507,  0.0720,  0.1213, -0.0374,  0.2630, -0.0217,\n",
      "         -0.1557,  0.1702, -0.1133]], device='cuda:0')\n",
      "\n",
      "Encoder Output after attention is applied: \n",
      " tensor([ 0.0148, -0.0507,  0.0720,  0.1213, -0.0374,  0.2630, -0.0217,\n",
      "        -0.1557,  0.1702, -0.1133], device='cuda:0')\n",
      "\n",
      " torch.Size([10])\n"
     ]
    }
   ],
   "source": [
    "# Initialize attention weights to one, note the dimensions\n",
    "attn_weights = torch.ones((batch_size, seq_length),device=device)\n",
    "\n",
    "# Set all weights except the weights associated with the first sequence item equal to zero\n",
    "# This would represent full attention on the first word in the sequence\n",
    "attn_weights[:, 1:] = 0\n",
    "\n",
    "attn_weights.unsqueeze_(1) # Add dimension for batch matrix multiplication\n",
    "\n",
    "# BMM(Batch Matrix Multiply) muliplies the [1 x seq_length] matrix by the [seq_length x hidden_size] matrix for\n",
    "# each batch. This produces a single vector(for each batch) of length(encoder_hidden_size) that is the weighted\n",
    "# sum of the encoder hidden vectors for each item in the sequence.\n",
    "attn_applied = torch.bmm(attn_weights, encoder_output)\n",
    "attn_applied.squeeze_() # Remove extra dimension\n",
    "\n",
    "print('Attention weights:\\n', attn_weights)\n",
    "print('\\nFirst sequence item in Encoder output: \\n',encoder_output[:,0,:])\n",
    "print('\\nEncoder Output after attention is applied: \\n', attn_applied)\n",
    "print('\\n', attn_applied.shape)"
   ]
  },
  {
   "cell_type": "markdown",
   "metadata": {
    "heading_collapsed": true,
    "hidden": true
   },
   "source": [
    "### Decoder with Attention"
   ]
  },
  {
   "cell_type": "code",
   "execution_count": 76,
   "metadata": {
    "hidden": true
   },
   "outputs": [],
   "source": [
    "class AttnDecoderLSTM(nn.Module):\n",
    "    def __init__(self, decoder_hidden_size, pretrained_embeddings, seq_length, encoder_hidden_dim):\n",
    "        super(AttnDecoderLSTM, self).__init__()\n",
    "        # Embedding parameters\n",
    "        self.embedding_dim = pretrained_embeddings.shape[1]\n",
    "        self.output_vocab_size = pretrained_embeddings.shape[0]\n",
    "        \n",
    "        # LSTM parameters\n",
    "        self.decoder_hidden_size = decoder_hidden_size\n",
    "        self.num_layers = 2 # Potentially add more layers to LSTM later\n",
    "        self.dropout = 0.1 if self.num_layers > 1 else 0 # Potentially add dropout later\n",
    "        \n",
    "        # Attention parameters\n",
    "        self.seq_length = seq_length\n",
    "        self.encoder_hidden_dim = encoder_hidden_dim\n",
    "        \n",
    "        # Construct embedding layer for output language\n",
    "        self.embedding = nn.Embedding(self.output_vocab_size, self.embedding_dim)\n",
    "        self.embedding.weight.data.copy_(torch.from_numpy(pretrained_embeddings))\n",
    "        self.embedding.weight.requires_grad = False # we don't want to train the embedding weights\n",
    "        \n",
    "        # Construct layer that calculates attentional weights\n",
    "        self.attn = nn.Linear((self.decoder_hidden_size + self.embedding_dim), self.seq_length)\n",
    "        \n",
    "        # Construct layer that compresses the combined matrix of the input embeddings\n",
    "        # and the encoder inputs after attention has been applied\n",
    "        self.attn_with_input = nn.Linear(self.embedding_dim + self.encoder_hidden_dim, self.embedding_dim)\n",
    "        \n",
    "        # LSTM for Decoder\n",
    "        self.lstm = nn.LSTM(self.embedding_dim,\n",
    "                            self.decoder_hidden_size,\n",
    "                            self.num_layers,\n",
    "                            dropout=self.dropout)\n",
    "        \n",
    "        # Initialize hidden to hidden weights in LSTM to the Identity matrix\n",
    "        # PyTorch LSTM has 4 different hidden to hidden weights stacked in one matrix\n",
    "        identity_init = torch.eye(self.decoder_hidden_size)\n",
    "        self.lstm.weight_hh_l0.data.copy_(torch.cat([identity_init]*4, dim=0))\n",
    "        self.lstm.weight_hh_l1.data.copy_(torch.cat([identity_init]*4, dim=0))\n",
    "        \n",
    "        # Output layer\n",
    "        self.out = nn.Linear(self.decoder_hidden_size, self.output_vocab_size)\n",
    "    \n",
    "    def forward(self, input, hidden, encoder_output):\n",
    "        # Input word indices, should have dim(1, batch_size), output will be (1, batch_size, embedding_dim)\n",
    "        embedded = self.embedding(input)\n",
    "        \n",
    "        # Calculate Attention weights\n",
    "        attn_weights = F.softmax(self.attn(torch.cat((hidden[0][1], embedded[0]), 1)), dim=1)\n",
    "        attn_weights = attn_weights.unsqueeze(1) # Add dimension for batch matrix multiplication\n",
    "        \n",
    "        # Apply Attention weights\n",
    "        attn_applied = torch.bmm(attn_weights, encoder_output)\n",
    "        attn_applied = attn_applied.squeeze(1) # Remove extra dimension, dim are now (batch_size, encoder_hidden_size)\n",
    "        \n",
    "        # Prepare LSTM input tensor\n",
    "        attn_combined = torch.cat((embedded[0], attn_applied), 1) # Combine embedding input and attn_applied,\n",
    "        lstm_input = F.relu(self.attn_with_input(attn_combined)) # pass through fully connected with ReLU\n",
    "        lstm_input = lstm_input.unsqueeze(0) # Add seq dimension so tensor has expected dimensions for lstm\n",
    "        \n",
    "        output, hidden = self.lstm(lstm_input, hidden) # Output dim = (1, batch_size, decoder_hidden_size)\n",
    "        output = F.log_softmax(self.out(output[0]), dim=1) # softmax over all words in vocab\n",
    "        \n",
    "        \n",
    "        return output, hidden, attn_weights"
   ]
  },
  {
   "cell_type": "code",
   "execution_count": 75,
   "metadata": {
    "hidden": true
   },
   "outputs": [],
   "source": [
    "class AttnDecoderGRU(nn.Module):\n",
    "    def __init__(self, decoder_hidden_size, pretrained_embeddings, seq_length, encoder_hidden_dim):\n",
    "        super(AttnDecoderGRU, self).__init__()\n",
    "        # Embedding parameters\n",
    "        self.embedding_dim = pretrained_embeddings.shape[1]\n",
    "        self.output_vocab_size = pretrained_embeddings.shape[0]\n",
    "        \n",
    "        # GRU parameters\n",
    "        self.decoder_hidden_size = decoder_hidden_size\n",
    "        self.num_layers = 2 # Potentially add more layers to LSTM later\n",
    "        self.dropout = 0.1 if self.num_layers > 1 else 0 # Potentially add dropout later\n",
    "        \n",
    "        # Attention parameters\n",
    "        self.seq_length = seq_length\n",
    "        self.encoder_hidden_dim = encoder_hidden_dim\n",
    "        \n",
    "        # Construct embedding layer for output language\n",
    "        self.embedding = nn.Embedding(self.output_vocab_size, self.embedding_dim)\n",
    "        self.embedding.weight.data.copy_(torch.from_numpy(pretrained_embeddings))\n",
    "        self.embedding.weight.requires_grad = False # we don't want to train the embedding weights\n",
    "        \n",
    "        # Construct layer that calculates attentional weights\n",
    "        self.attn = nn.Linear(self.decoder_hidden_size + self.embedding_dim, self.seq_length)\n",
    "        \n",
    "        # Construct layer that compresses the combined matrix of the input embeddings\n",
    "        # and the encoder inputs after attention has been applied\n",
    "        self.attn_with_input = nn.Linear(self.embedding_dim + self.encoder_hidden_dim, self.embedding_dim)\n",
    "        \n",
    "        # gru for Decoder\n",
    "        self.gru = nn.GRU(self.embedding_dim,\n",
    "                            self.decoder_hidden_size,\n",
    "                            self.num_layers,\n",
    "                            dropout=self.dropout)\n",
    "        \n",
    "        # Initialize hidden to hidden weights in GRU to the Identity matrix\n",
    "        # PyTorch GRU has 3 different hidden to hidden weights stacked in one matrix\n",
    "        identity_init = torch.eye(self.decoder_hidden_size)\n",
    "        self.gru.weight_hh_l0.data.copy_(torch.cat([identity_init]*3, dim=0))\n",
    "        self.gru.weight_hh_l1.data.copy_(torch.cat([identity_init]*3, dim=0))\n",
    "        \n",
    "        # Output layer\n",
    "        self.out = nn.Linear(self.decoder_hidden_size, self.output_vocab_size)\n",
    "    \n",
    "    def forward(self, input, hidden, encoder_output):\n",
    "        # Input word indices, should have dim(1, batch_size), output will be (1, batch_size, embedding_dim)\n",
    "        embedded = self.embedding(input)\n",
    "        \n",
    "        # Calculate Attention weights\n",
    "        attn_weights = F.softmax(self.attn(torch.cat((hidden[0], embedded[0]), 1)), dim=1)\n",
    "        attn_weights = attn_weights.unsqueeze(1) # Add dimension for batch matrix multiplication\n",
    "        \n",
    "        # Apply Attention weights\n",
    "        attn_applied = torch.bmm(attn_weights, encoder_output)\n",
    "        attn_applied = attn_applied.squeeze(1) # Remove extra dimension, dim are now (batch_size, encoder_hidden_size)\n",
    "        \n",
    "        # Prepare GRU input tensor\n",
    "\n",
    "        attn_combined = torch.cat((embedded[0], attn_applied), 1) # Combine embedding input and attn_applied,\n",
    "        gru_input = F.relu(self.attn_with_input(attn_combined)) # pass through fully connected with ReLU\n",
    "        gru_input = gru_input.unsqueeze(0) # Add seq dimension so tensor has expected dimensions for lstm\n",
    "        \n",
    "        output, hidden = self.gru(gru_input, hidden) # Output dim = (1, batch_size, decoder_hidden_size)\n",
    "        output = F.log_softmax(self.out(output[0]), dim=1) # softmax over all words in vocab\n",
    "        \n",
    "        return output, hidden, attn_weights"
   ]
  },
  {
   "cell_type": "markdown",
   "metadata": {
    "heading_collapsed": true,
    "hidden": true
   },
   "source": [
    "#### Testing the Decoder"
   ]
  },
  {
   "cell_type": "code",
   "execution_count": 42,
   "metadata": {
    "hidden": true
   },
   "outputs": [],
   "source": [
    "# Test the decoder on sample inputs to check that the dimensions of everything is correct\n",
    "decoder_hidden_size = 5\n",
    "\n",
    "decoder = AttnDecoderLSTM(decoder_hidden_size, en_vectors, seq_length, 2*hidden_size).to(device)"
   ]
  },
  {
   "cell_type": "code",
   "execution_count": 43,
   "metadata": {
    "hidden": true
   },
   "outputs": [],
   "source": [
    "input_idx = torch.tensor([fr_word2idx['<s>']]*batch_size, dtype=torch.long, device=device)"
   ]
  },
  {
   "cell_type": "code",
   "execution_count": 44,
   "metadata": {
    "hidden": true
   },
   "outputs": [
    {
     "data": {
      "text/plain": [
       "torch.Size([1])"
      ]
     },
     "execution_count": 44,
     "metadata": {},
     "output_type": "execute_result"
    }
   ],
   "source": [
    "input_idx.shape"
   ]
  },
  {
   "cell_type": "code",
   "execution_count": 45,
   "metadata": {
    "hidden": true
   },
   "outputs": [],
   "source": [
    "input_idx = input_idx.unsqueeze_(0)\n",
    "decoder_hidden = decoder.initHidden(batch_size)"
   ]
  },
  {
   "cell_type": "code",
   "execution_count": 46,
   "metadata": {
    "hidden": true
   },
   "outputs": [
    {
     "data": {
      "text/plain": [
       "torch.Size([1, 1])"
      ]
     },
     "execution_count": 46,
     "metadata": {},
     "output_type": "execute_result"
    }
   ],
   "source": [
    "input_idx.shape"
   ]
  },
  {
   "cell_type": "code",
   "execution_count": 48,
   "metadata": {
    "hidden": true
   },
   "outputs": [
    {
     "name": "stdout",
     "output_type": "stream",
     "text": [
      "torch.Size([1, 99997])\n"
     ]
    }
   ],
   "source": [
    "output, hidden, attention = decoder.forward(input_idx, decoder_hidden, encoder_output)\n",
    "print(output.shape)"
   ]
  },
  {
   "cell_type": "code",
   "execution_count": 49,
   "metadata": {
    "hidden": true
   },
   "outputs": [
    {
     "data": {
      "text/plain": [
       "torch.Size([2, 1, 5])"
      ]
     },
     "execution_count": 49,
     "metadata": {},
     "output_type": "execute_result"
    }
   ],
   "source": [
    "decoder_hidden[0].shape"
   ]
  },
  {
   "cell_type": "markdown",
   "metadata": {
    "heading_collapsed": true
   },
   "source": [
    "## Part 3: Training the Model"
   ]
  },
  {
   "cell_type": "markdown",
   "metadata": {
    "heading_collapsed": true,
    "hidden": true
   },
   "source": [
    "### Training Function"
   ]
  },
  {
   "cell_type": "code",
   "execution_count": 77,
   "metadata": {
    "hidden": true
   },
   "outputs": [],
   "source": [
    "def train(input_tensor, target_tensor, encoder, decoder,\n",
    "          encoder_optimizer, decoder_optimizer, criterion):\n",
    "    \n",
    "    # Initialize encoder hidden state\n",
    "    encoder_hidden = encoder.initHidden(input_tensor.shape[0])\n",
    "    \n",
    "    # clear the gradients in the optimizers\n",
    "    encoder_optimizer.zero_grad()\n",
    "    decoder_optimizer.zero_grad()\n",
    "    \n",
    "    # run forward pass through encoder on entire sequence\n",
    "    encoder_output, encoder_hidden = encoder.forward(input_tensor, encoder_hidden)\n",
    "    \n",
    "    # Initialize decoder input(Start of Sentence tag) and hidden state from encoder\n",
    "    decoder_input =  torch.tensor([en_word2idx['<s>']]*input_tensor.shape[0], dtype=torch.long, device=device).unsqueeze(0)\n",
    "    \n",
    "    # Use correct initial hidden state dimensions depending on type of RNN\n",
    "    try:\n",
    "        encoder.lstm\n",
    "        decoder_hidden = (encoder_hidden[0][1::2].contiguous(), encoder_hidden[1][1::2].contiguous())\n",
    "    except AttributeError:\n",
    "        decoder_hidden = encoder_hidden[1::2].contiguous()\n",
    "    \n",
    "    loss = 0\n",
    "    \n",
    "    use_teacher_forcing = True if random.random() < 0.5 else False\n",
    "\n",
    "    if use_teacher_forcing:\n",
    "        for di in range(seq_length):\n",
    "            output, decoder_hidden, attn_weights = decoder(decoder_input,\n",
    "                                                           decoder_hidden,\n",
    "                                                           encoder_output)\n",
    "            \n",
    "            # Feed target as input to next item in the sequence\n",
    "            decoder_input = target_tensor[di].unsqueeze(0)\n",
    "            loss += criterion(output, target_tensor[di])\n",
    "    else:\n",
    "        for di in range(seq_length):\n",
    "            output, decoder_hidden, attn_weights = decoder(decoder_input,\n",
    "                                                           decoder_hidden,\n",
    "                                                           encoder_output)\n",
    "            \n",
    "            # Feed output as input to next item in the sequence\n",
    "            decoder_input = output.topk(1)[1].view(1,-1).detach()\n",
    "            loss += criterion(output, target_tensor[di])\n",
    "    \n",
    "    # Compute the gradients\n",
    "    loss.backward()\n",
    "    \n",
    "    # Clip the gradients\n",
    "    nn.utils.clip_grad_norm_(encoder.parameters(), 25)\n",
    "    nn.utils.clip_grad_norm_(decoder.parameters(), 25)\n",
    "    \n",
    "    encoder_optimizer.step()\n",
    "    decoder_optimizer.step()\n",
    "    \n",
    "    return loss.item()"
   ]
  },
  {
   "cell_type": "markdown",
   "metadata": {
    "heading_collapsed": true,
    "hidden": true
   },
   "source": [
    "### Training Loop"
   ]
  },
  {
   "cell_type": "code",
   "execution_count": 78,
   "metadata": {
    "hidden": true
   },
   "outputs": [],
   "source": [
    "def trainIters(encoder, decoder, dataloader, epochs, print_every_n_batches=100, learning_rate=0.01):\n",
    "    \n",
    "    # keep track of losses\n",
    "    start = time.time()\n",
    "    plot_losses = []\n",
    "\n",
    "    # Initialize Encoder Optimizer\n",
    "    encoder_parameters = filter(lambda p: p.requires_grad, encoder.parameters())\n",
    "    encoder_optimizer = optim.SGD(encoder_parameters, lr=learning_rate)\n",
    "    \n",
    "    # Initialize Decoder Optimizer\n",
    "    decoder_parameters = filter(lambda p: p.requires_grad, decoder.parameters())\n",
    "    decoder_optimizer = optim.SGD(decoder_parameters, lr=learning_rate)\n",
    "\n",
    "    # Specify loss function, ignore the <pad> token index so it does not contribute to loss.\n",
    "    criterion = nn.NLLLoss(ignore_index=0)\n",
    "    \n",
    "    # Cycle through epochs\n",
    "    for epoch in range(epochs):\n",
    "        loss_avg = 0\n",
    "        print(f'Epoch {epoch + 1}/{epochs}')\n",
    "        # Cycle through batches\n",
    "        for i, batch in enumerate(dataloader):\n",
    "            \n",
    "            input_tensor = batch['french_tensor'].to(device)\n",
    "            target_tensor = batch['english_tensor'].transpose(1,0).to(device)\n",
    "            \n",
    "\n",
    "            loss = train(input_tensor, target_tensor, encoder, decoder,\n",
    "                         encoder_optimizer, decoder_optimizer, criterion)\n",
    "            \n",
    "            loss_avg += loss\n",
    "            if i % print_every_n_batches == 0 and i != 0:\n",
    "                loss_avg /= print_every_n_batches\n",
    "                print(f'After {i} batches, average loss/{print_every_n_batches} batches: {loss_avg}')\n",
    "                plot_losses.append(loss)\n",
    "                loss_avg = 0\n",
    "    return plot_losses"
   ]
  },
  {
   "cell_type": "markdown",
   "metadata": {
    "heading_collapsed": true,
    "hidden": true
   },
   "source": [
    "### Training the Model"
   ]
  },
  {
   "cell_type": "code",
   "execution_count": 80,
   "metadata": {
    "hidden": true
   },
   "outputs": [],
   "source": [
    "# Set hyperparameters and construct dataloader\n",
    "hidden_size = 256\n",
    "batch_size = 16\n",
    "dataloader = DataLoader(french_english_dataset, batch_size=batch_size,\n",
    "                        shuffle=True, num_workers=4) "
   ]
  },
  {
   "cell_type": "code",
   "execution_count": 81,
   "metadata": {
    "hidden": true
   },
   "outputs": [],
   "source": [
    "# Construct encoder and decoder instances\n",
    "encoder_lstm = EncoderBiLSTM(hidden_size, fr_vectors).to(device)\n",
    "decoder_lstm = AttnDecoderLSTM(hidden_size, en_vectors, seq_length, 2*hidden_size).to(device)\n",
    "\n",
    "encoder_gru = EncoderBiGRU(hidden_size, fr_vectors).to(device)\n",
    "decoder_gru = AttnDecoderGRU(hidden_size, en_vectors, seq_length, 2*hidden_size).to(device)"
   ]
  },
  {
   "cell_type": "code",
   "execution_count": 104,
   "metadata": {
    "hidden": true
   },
   "outputs": [],
   "source": [
    "from_scratch = False # Set to False if you have saved weights and want to load them\n",
    "\n",
    "if not from_scratch:\n",
    "    # Load weights from earlier model\n",
    "    encoder_lstm_state_dict = torch.load('models/encoder2_lstm.pth')\n",
    "    decoder_lstm_state_dict = torch.load('models/decoder2_lstm.pth')\n",
    "\n",
    "    encoder_lstm.load_state_dict(encoder_lstm_state_dict)\n",
    "    decoder_lstm.load_state_dict(decoder_lstm_state_dict)\n",
    "    \n",
    "        # Load weights from earlier model\n",
    "    encoder_gru_state_dict = torch.load('models/encoder2_gru.pth')\n",
    "    decoder_gru_state_dict = torch.load('models/decoder2_gru.pth')\n",
    "\n",
    "    encoder_gru.load_state_dict(encoder_gru_state_dict)\n",
    "    decoder_gru.load_state_dict(decoder_gru_state_dict)\n",
    "else:\n",
    "    print('Training model from scratch.')"
   ]
  },
  {
   "cell_type": "code",
   "execution_count": 85,
   "metadata": {
    "hidden": true
   },
   "outputs": [
    {
     "name": "stdout",
     "output_type": "stream",
     "text": [
      "\n"
     ]
    }
   ],
   "source": [
    "learning_rate = 0.1\n",
    "encoder_lstm.train() # Set model to training mode\n",
    "decoder_lstm.train() # Set model to training mode\n",
    "\n",
    "lstm_losses = trainIters(encoder_lstm, decoder_lstm, dataloader, epochs=50, learning_rate = learning_rate)\n",
    "\n",
    "print('Training GRU based network.')\n",
    "learning_rate = 0.01\n",
    "encoder_gru.train() # Set model to training mode\n",
    "decoder_gru.train() # Set model to training mode\n",
    "\n",
    "gru_losses = trainIters(encoder_gru, decoder_gru, dataloader, epochs=50, learning_rate = learning_rate)"
   ]
  },
  {
   "cell_type": "code",
   "execution_count": null,
   "metadata": {
    "hidden": true
   },
   "outputs": [],
   "source": [
    "np.save('data/lstm2_losses.npy', lstm_losses)"
   ]
  },
  {
   "cell_type": "code",
   "execution_count": 196,
   "metadata": {
    "hidden": true
   },
   "outputs": [],
   "source": [
    "np.save('data/gru2_losses.npy', gru_losses)"
   ]
  },
  {
   "cell_type": "code",
   "execution_count": 87,
   "metadata": {
    "hidden": true
   },
   "outputs": [],
   "source": [
    "lstm2_losses = np.load('data/lstm2_losses.npy')\n",
    "gru2_losses = np.load('data/gru2_losses.npy')"
   ]
  },
  {
   "cell_type": "code",
   "execution_count": 89,
   "metadata": {
    "hidden": true
   },
   "outputs": [
    {
     "data": {
      "text/plain": [
       "[<matplotlib.lines.Line2D at 0x7f84730dfeb8>]"
      ]
     },
     "execution_count": 89,
     "metadata": {},
     "output_type": "execute_result"
    },
    {
     "data": {
      "image/png": "[encoded data removed]",
      "text/plain": [
       "<Figure size 432x288 with 1 Axes>"
      ]
     },
     "metadata": {},
     "output_type": "display_data"
    }
   ],
   "source": [
    "plt.plot(gru2_losses)\n",
    "plt.plot(lstm2_losses)"
   ]
  },
  {
   "cell_type": "code",
   "execution_count": 197,
   "metadata": {
    "hidden": true
   },
   "outputs": [],
   "source": [
    "# Save the model weights to continue later\n",
    "torch.save(encoder_lstm.state_dict(), 'models/encoder2_lstm.pth')\n",
    "torch.save(decoder_lstm.state_dict(), 'models/decoder2_lstm.pth')"
   ]
  },
  {
   "cell_type": "code",
   "execution_count": 47,
   "metadata": {
    "hidden": true
   },
   "outputs": [],
   "source": [
    "torch.save(encoder_gru.state_dict(), 'models/encoder2_gru.pth')\n",
    "torch.save(decoder_gru.state_dict(), 'models/decoder2_gru.pth')"
   ]
  },
  {
   "cell_type": "markdown",
   "metadata": {
    "heading_collapsed": true
   },
   "source": [
    "## Part 4: Using the Model for Evaluation"
   ]
  },
  {
   "cell_type": "code",
   "execution_count": 90,
   "metadata": {
    "hidden": true
   },
   "outputs": [],
   "source": [
    "# Build the idx to word dictionaries to convert predicted indices to words\n",
    "en_idx2word = {k:i for i, k in en_word2idx.items()}\n",
    "fr_idx2word = {k:i for i, k in fr_word2idx.items()}"
   ]
  },
  {
   "cell_type": "code",
   "execution_count": 91,
   "metadata": {
    "hidden": true
   },
   "outputs": [],
   "source": [
    "def get_batch(dataloader):\n",
    "    for batch in dataloader:\n",
    "        return batch"
   ]
  },
  {
   "cell_type": "code",
   "execution_count": 92,
   "metadata": {
    "hidden": true
   },
   "outputs": [],
   "source": [
    "def evaluate(input_tensor, encoder, decoder):\n",
    "    with torch.no_grad():\n",
    "        encoder_hidden = encoder.initHidden(1)\n",
    "        encoder.eval()\n",
    "        decoder.eval()\n",
    "\n",
    "        encoder_output, encoder_hidden = encoder(input_tensor.to(device), encoder_hidden)\n",
    "\n",
    "        decoder_input =  torch.tensor([fr_word2idx['<s>']]*input_tensor.shape[0], dtype=torch.long, device=device).unsqueeze(0)\n",
    "        try:\n",
    "            encoder.lstm\n",
    "            decoder_hidden = (encoder_hidden[0][1::2].contiguous(), encoder_hidden[1][1::2].contiguous())\n",
    "        except AttributeError:\n",
    "            decoder_hidden = encoder_hidden[1::2].contiguous()\n",
    "\n",
    "        output_list = []\n",
    "        attn_weight_list = np.zeros((seq_length, seq_length))\n",
    "        for di in range(seq_length):\n",
    "            output, decoder_hidden, attn_weights = decoder(decoder_input,\n",
    "                                                           decoder_hidden,\n",
    "                                                           encoder_output)\n",
    "\n",
    "            decoder_input = output.topk(1)[1].detach()\n",
    "            output_list.append(output.topk(1)[1])\n",
    "            word = en_idx2word[output.topk(1)[1].item()]\n",
    "\n",
    "            attn_weight_list[di] += attn_weights[0,0,:].cpu().numpy()\n",
    "        return output_list, attn_weight_list"
   ]
  },
  {
   "cell_type": "code",
   "execution_count": 156,
   "metadata": {
    "hidden": true
   },
   "outputs": [],
   "source": [
    "batch = get_batch(dataloader)\n",
    "input_tensor = batch['french_tensor'][11].unsqueeze_(0)\n",
    "output_list, attn = evaluate(input_tensor, encoder_lstm, decoder_lstm)\n",
    "gru_output_list, gru_attn = evaluate(input_tensor, encoder_gru, decoder_gru)"
   ]
  },
  {
   "cell_type": "code",
   "execution_count": 157,
   "metadata": {
    "hidden": true
   },
   "outputs": [
    {
     "name": "stdout",
     "output_type": "stream",
     "text": [
      "Input Sentence:\n",
      " <unk> ta bonne santé </s>\n",
      "\n",
      "Target Sentence:\n",
      " i envy your good health</s>\n",
      "\n",
      "LSTM model output:\n",
      " i admire your health </s>\n",
      "\n",
      "GRU model output:\n",
      " i hope your health health </s>\n"
     ]
    },
    {
     "data": {
      "text/plain": [
       "<matplotlib.image.AxesImage at 0x7f84940ed668>"
      ]
     },
     "execution_count": 157,
     "metadata": {},
     "output_type": "execute_result"
    },
    {
     "data": {
      "image/png": "[encoded data removed]",
      "text/plain": [
       "<Figure size 288x288 with 1 Axes>"
      ]
     },
     "metadata": {},
     "output_type": "display_data"
    },
    {
     "data": {
      "image/png": "[encoded data removed]",
      "text/plain": [
       "<Figure size 288x288 with 1 Axes>"
      ]
     },
     "metadata": {},
     "output_type": "display_data"
    }
   ],
   "source": [
    "print('Input Sentence:')\n",
    "output = ''\n",
    "for index in input_tensor[0]:\n",
    "    word = fr_idx2word[index.item()]\n",
    "    if word != '</s>':\n",
    "        output += ' ' + word\n",
    "    else:\n",
    "        output += ' ' + word\n",
    "        print(output)\n",
    "        break\n",
    "\n",
    "print('\\nTarget Sentence:')\n",
    "print(' ' + batch['english_sentence'][11] + '</s>')\n",
    "\n",
    "print('\\nLSTM model output:')\n",
    "output = ''\n",
    "for index in output_list:\n",
    "    word = en_idx2word[index.item()]\n",
    "    if word != '</s>':\n",
    "        output += ' ' + word\n",
    "    else:\n",
    "        output += ' ' + word\n",
    "        print(output)\n",
    "        break\n",
    "\n",
    "output = ''\n",
    "print('\\nGRU model output:')\n",
    "for index in gru_output_list:\n",
    "    word = en_idx2word[index.item()]\n",
    "    if word != '</s>':\n",
    "        output += ' ' + word\n",
    "    else:\n",
    "        output += ' ' + word\n",
    "        print(output)\n",
    "        break\n",
    "        \n",
    "plt.matshow(attn)\n",
    "plt.matshow(gru_attn)"
   ]
  }
 ],
 "metadata": {
  "kernelspec": {
   "display_name": "Python [default]",
   "language": "python",
   "name": "python3"
  },
  "language_info": {
   "codemirror_mode": {
    "name": "ipython",
    "version": 3
   },
   "file_extension": ".py",
   "mimetype": "text/x-python",
   "name": "python",
   "nbconvert_exporter": "python",
   "pygments_lexer": "ipython3",
   "version": "3.6.5"
  }
 },
 "nbformat": 4,
 "nbformat_minor": 2
}
