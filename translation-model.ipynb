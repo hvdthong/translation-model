{
 "cells": [
  {
   "cell_type": "markdown",
   "metadata": {},
   "source": [
    "<h1>Neural Translation Model in PyTorch</h1>\n",
    "by Mac Brennan"
   ]
  },
  {
   "cell_type": "markdown",
   "metadata": {},
   "source": [
    "<p style='text-align: center !important;'>\n",
    " <img src='https://github.com/macbrennan90/macbrennan90.github.io/blob/master/images/encoder-decoder.png?raw=true'\n",
    "      alt='Translation Model Summary'>\n",
    "</p>"
   ]
  },
  {
   "cell_type": "markdown",
   "metadata": {},
   "source": [
    "This project will be broken up into several parts as follows:\n",
    "\n",
    "__Part 1:__ Preparing the words\n",
    "\n",
    "+ Inspecting the Dataset\n",
    "+ Using Word Embeddings\n",
    "+ Organizing the Data\n",
    "\n",
    "__Part 2:__ Building the Model\n",
    "\n",
    "+ Bi-Directional Encoder\n",
    "+ Building Attention\n",
    "+ Decoder with Attention\n",
    "\n",
    "__Part 3:__ Training the Model\n",
    "\n",
    "+ Training Function\n",
    "+ Training Loop\n",
    "\n",
    "__Part 4:__ Evaluation\n",
    "\n",
    "\n",
    "This project closely follows the [PyTorch Sequence to Sequence tutorial](https://pytorch.org/tutorials/intermediate/seq2seq_translation_tutorial.html), while attempting to go more in depth with both the model implementation and the explanation. Thanks to [Sean Robertson](https://github.com/spro/practical-pytorch) and [PyTorch](https://pytorch.org/tutorials/) for providing such great tutorials.\n",
    "\n",
    "If you are working through this notebook, it is strongly recommended that [Jupyter Notebook Extensions](https://github.com/ipython-contrib/jupyter_contrib_nbextensions) is installed so you can turn on collapsable headings. It makes the notebook much easier to navigate."
   ]
  },
  {
   "cell_type": "code",
   "execution_count": 300,
   "metadata": {},
   "outputs": [],
   "source": [
    "# Before we get started we will load all the packages we will need\n",
    "\n",
    "# Pytorch\n",
    "import torch\n",
    "import torch.nn as nn\n",
    "import torch.nn.functional as F\n",
    "import torch.optim as optim\n",
    "from torch.utils.data import Dataset, DataLoader\n",
    "\n",
    "import numpy as np\n",
    "import os.path\n",
    "import time\n",
    "import math\n",
    "import random\n",
    "import matplotlib.pyplot as plt\n",
    "import string\n",
    "\n",
    "# Use gpu if available\n",
    "device = torch.device(\"cuda\" if torch.cuda.is_available() else \"cpu\")"
   ]
  },
  {
   "cell_type": "code",
   "execution_count": 301,
   "metadata": {},
   "outputs": [
    {
     "data": {
      "text/plain": [
       "device(type='cuda')"
      ]
     },
     "execution_count": 301,
     "metadata": {},
     "output_type": "execute_result"
    }
   ],
   "source": [
    "device"
   ]
  },
  {
   "cell_type": "markdown",
   "metadata": {},
   "source": [
    "## Part 1: Preparing the Words"
   ]
  },
  {
   "cell_type": "markdown",
   "metadata": {},
   "source": [
    "### Inspecting the Dataset"
   ]
  },
  {
   "cell_type": "markdown",
   "metadata": {},
   "source": [
    "The dataset that will be used is a text file of english sentences and the corresponding french sentences.\n",
    "\n",
    "Each sentence is on a new line. The sentences will be split into a list."
   ]
  },
  {
   "cell_type": "markdown",
   "metadata": {
    "heading_collapsed": true
   },
   "source": [
    "#### Load the data\n",
    "The data will be stored in two lists where each item is a sentence. The lists are:\n",
    "+ english_sentences\n",
    "+ french_sentences\n",
    "\n",
    "Download the first dataset from the projects' github repo. Place it in the same folder as the notebook or create a data folder in the notebook's folder."
   ]
  },
  {
   "cell_type": "code",
   "execution_count": 302,
   "metadata": {
    "hidden": true
   },
   "outputs": [],
   "source": [
    "with open('data/small_vocab_en', \"r\") as f:\n",
    "    data1 = f.read()\n",
    "with open('data/small_vocab_fr', \"r\") as f:\n",
    "    data2 = f.read()\n",
    "    \n",
    "# The data is just in a text file with each sentence on its own line\n",
    "english_sentences = data1.split('\\n')\n",
    "french_sentences = data2.split('\\n')"
   ]
  },
  {
   "cell_type": "code",
   "execution_count": 303,
   "metadata": {
    "hidden": true
   },
   "outputs": [
    {
     "name": "stdout",
     "output_type": "stream",
     "text": [
      "Number of English sentences: 137861 \n",
      "Number of French sentences: 137861 \n",
      "\n",
      "Example/Target pair:\n",
      "\n",
      "  california is usually quiet during march , and it is usually hot in june .\n",
      "  california est généralement calme en mars , et il est généralement chaud en juin .\n"
     ]
    }
   ],
   "source": [
    "print('Number of English sentences:', len(english_sentences), \n",
    "      '\\nNumber of French sentences:', len(french_sentences),'\\n')\n",
    "print('Example/Target pair:\\n')\n",
    "print('  '+english_sentences[2])\n",
    "print('  '+french_sentences[2])"
   ]
  },
  {
   "cell_type": "markdown",
   "metadata": {
    "heading_collapsed": true
   },
   "source": [
    "#### Vocabulary\n",
    "Let's take a closer look at the dataset.\n"
   ]
  },
  {
   "cell_type": "code",
   "execution_count": 304,
   "metadata": {
    "hidden": true
   },
   "outputs": [
    {
     "data": {
      "text/plain": [
       "['california',\n",
       " 'is',\n",
       " 'usually',\n",
       " 'quiet',\n",
       " 'during',\n",
       " 'march',\n",
       " ',',\n",
       " 'and',\n",
       " 'it',\n",
       " 'is',\n",
       " 'usually',\n",
       " 'hot',\n",
       " 'in',\n",
       " 'june',\n",
       " '.']"
      ]
     },
     "execution_count": 304,
     "metadata": {},
     "output_type": "execute_result"
    }
   ],
   "source": [
    "english_sentences[2].split()"
   ]
  },
  {
   "cell_type": "code",
   "execution_count": 305,
   "metadata": {
    "hidden": true
   },
   "outputs": [
    {
     "name": "stdout",
     "output_type": "stream",
     "text": [
      "The longest english sentence in our dataset is: 17\n"
     ]
    }
   ],
   "source": [
    "max_en_length = 0\n",
    "for sentence in english_sentences:\n",
    "    length = len(sentence.split())\n",
    "    max_en_length = max(max_en_length, length)\n",
    "print(\"The longest english sentence in our dataset is:\", max_en_length)    "
   ]
  },
  {
   "cell_type": "code",
   "execution_count": 306,
   "metadata": {
    "hidden": true
   },
   "outputs": [
    {
     "name": "stdout",
     "output_type": "stream",
     "text": [
      "The longest french sentence in our dataset is: 23\n"
     ]
    }
   ],
   "source": [
    "max_fr_length = 0\n",
    "for sentence in french_sentences:\n",
    "    length = len(sentence.split())\n",
    "    max_fr_length = max(max_fr_length, length)\n",
    "print(\"The longest french sentence in our dataset is:\", max_fr_length)"
   ]
  },
  {
   "cell_type": "code",
   "execution_count": 307,
   "metadata": {
    "hidden": true
   },
   "outputs": [],
   "source": [
    "max_seq_length = max(max_fr_length, max_en_length) + 1\n",
    "seq_length = max_seq_length"
   ]
  },
  {
   "cell_type": "code",
   "execution_count": 308,
   "metadata": {
    "hidden": true
   },
   "outputs": [],
   "source": [
    "en_word_count = {}\n",
    "fr_word_count = {}\n",
    "\n",
    "for sentence in english_sentences:\n",
    "    for word in sentence.split():\n",
    "        if word in en_word_count:\n",
    "            en_word_count[word] +=1\n",
    "        else:\n",
    "            en_word_count[word] = 1\n",
    "            \n",
    "for sentence in french_sentences:\n",
    "    for word in sentence.split():\n",
    "        if word in fr_word_count:\n",
    "            fr_word_count[word] +=1\n",
    "        else:\n",
    "            fr_word_count[word] = 1\n"
   ]
  },
  {
   "cell_type": "code",
   "execution_count": 309,
   "metadata": {
    "hidden": true
   },
   "outputs": [],
   "source": [
    "# Add end of sentence token to word count dict\n",
    "en_word_count['</s>'] = len(english_sentences)\n",
    "fr_word_count['</s>'] = len(english_sentences)"
   ]
  },
  {
   "cell_type": "code",
   "execution_count": 310,
   "metadata": {
    "hidden": true
   },
   "outputs": [
    {
     "name": "stdout",
     "output_type": "stream",
     "text": [
      "Number of unique English words: 228\n",
      "Number of unique French words: 356\n"
     ]
    }
   ],
   "source": [
    "print('Number of unique English words:', len(en_word_count))\n",
    "print('Number of unique French words:', len(fr_word_count))"
   ]
  },
  {
   "cell_type": "code",
   "execution_count": 311,
   "metadata": {
    "hidden": true
   },
   "outputs": [],
   "source": [
    "def get_value(items_tuple):\n",
    "    return items_tuple[1]\n",
    "\n",
    "# Sort the word counts to see what words or most/least common\n",
    "sorted_en_words= sorted(en_word_count.items(), key=get_value, reverse=True)"
   ]
  },
  {
   "cell_type": "code",
   "execution_count": 312,
   "metadata": {
    "hidden": true
   },
   "outputs": [
    {
     "data": {
      "text/plain": [
       "[('is', 205858),\n",
       " (',', 140897),\n",
       " ('</s>', 137861),\n",
       " ('.', 129039),\n",
       " ('in', 75525),\n",
       " ('it', 75137),\n",
       " ('during', 74933),\n",
       " ('the', 67628),\n",
       " ('but', 63987),\n",
       " ('and', 59850)]"
      ]
     },
     "execution_count": 312,
     "metadata": {},
     "output_type": "execute_result"
    }
   ],
   "source": [
    "sorted_en_words[:10]"
   ]
  },
  {
   "cell_type": "code",
   "execution_count": 313,
   "metadata": {
    "hidden": true
   },
   "outputs": [],
   "source": [
    "sorted_fr_words = sorted(fr_word_count.items(), key=get_value, reverse=True)"
   ]
  },
  {
   "cell_type": "code",
   "execution_count": 314,
   "metadata": {
    "hidden": true
   },
   "outputs": [
    {
     "data": {
      "text/plain": [
       "[('est', 196809),\n",
       " ('</s>', 137861),\n",
       " ('.', 135619),\n",
       " (',', 123135),\n",
       " ('en', 105768),\n",
       " ('il', 84079),\n",
       " ('les', 65255),\n",
       " ('mais', 63987),\n",
       " ('et', 59851),\n",
       " ('la', 49861)]"
      ]
     },
     "execution_count": 314,
     "metadata": {},
     "output_type": "execute_result"
    }
   ],
   "source": [
    "sorted_fr_words[:10]"
   ]
  },
  {
   "cell_type": "markdown",
   "metadata": {
    "hidden": true
   },
   "source": [
    "So the dataset is pretty small, we may want to get a bigger data set, but we'll see how this one does."
   ]
  },
  {
   "cell_type": "markdown",
   "metadata": {},
   "source": [
    "#### Alternate Dataset\n",
    "Skip this section for now. You can come back and try training on this second dataset later. It is more diverse so it takes longer to train.\n",
    "\n",
    "Download the French-English dataset from [here](http://www.manythings.org/anki/), Although you could train the model on any of the other language pairs. However, you would need different word embeddings or they would need to be trained from scratch."
   ]
  },
  {
   "cell_type": "code",
   "execution_count": 347,
   "metadata": {},
   "outputs": [],
   "source": [
    "with open('data/fra.txt', \"r\") as f:\n",
    "    data1 = f.read()"
   ]
  },
  {
   "cell_type": "code",
   "execution_count": 348,
   "metadata": {},
   "outputs": [],
   "source": [
    "pairs = data1.split('\\n')\n",
    "english_sentences = []\n",
    "french_sentences = []\n",
    "for i, pair in enumerate(pairs):\n",
    "    pair_split = pair.split('\\t')\n",
    "    if len(pair_split)!= 2:\n",
    "        continue\n",
    "    english = pair_split[0].lower()\n",
    "    french = pair_split[1].lower()\n",
    "    \n",
    "    # Remove punctuation and limit sentence length\n",
    "    max_sent_length = 10\n",
    "    punctuation_table = english.maketrans({i:None for i in string.punctuation})\n",
    "    english = english.translate(punctuation_table)\n",
    "    french = french.translate(punctuation_table)\n",
    "    if len(english.split()) > max_sent_length or len(french.split()) > max_sent_length:\n",
    "        continue\n",
    "       \n",
    "    english_sentences.append(english)\n",
    "    french_sentences.append(french)"
   ]
  },
  {
   "cell_type": "code",
   "execution_count": 349,
   "metadata": {},
   "outputs": [
    {
     "name": "stdout",
     "output_type": "stream",
     "text": [
      "139692 139692\n"
     ]
    },
    {
     "data": {
      "text/plain": [
       "['i', 'have', 'to', 'fight']"
      ]
     },
     "execution_count": 349,
     "metadata": {},
     "output_type": "execute_result"
    }
   ],
   "source": [
    "print(len(english_sentences), len(french_sentences))\n",
    "english_sentences[10000].split()\n"
   ]
  },
  {
   "cell_type": "code",
   "execution_count": 350,
   "metadata": {},
   "outputs": [
    {
     "data": {
      "text/plain": [
       "['il', 'me', 'faut', 'me', 'battre']"
      ]
     },
     "execution_count": 350,
     "metadata": {},
     "output_type": "execute_result"
    }
   ],
   "source": [
    "french_sentences[10000].split()"
   ]
  },
  {
   "cell_type": "code",
   "execution_count": 351,
   "metadata": {},
   "outputs": [
    {
     "name": "stdout",
     "output_type": "stream",
     "text": [
      "['would', 'you', 'consider', 'taking', 'care', 'of', 'my', 'children', 'next', 'saturday']\n"
     ]
    },
    {
     "data": {
      "text/plain": [
       "['pourriezvous',\n",
       " 'réfléchir',\n",
       " 'à',\n",
       " 'vous',\n",
       " 'occuper',\n",
       " 'de',\n",
       " 'mes',\n",
       " 'enfants',\n",
       " 'samedi',\n",
       " 'prochain']"
      ]
     },
     "execution_count": 351,
     "metadata": {},
     "output_type": "execute_result"
    }
   ],
   "source": [
    "print(english_sentences[-100].split())\n",
    "french_sentences[-100].split()\n"
   ]
  },
  {
   "cell_type": "code",
   "execution_count": 352,
   "metadata": {},
   "outputs": [
    {
     "name": "stdout",
     "output_type": "stream",
     "text": [
      "The longest english sentence in our dataset is: 10\n"
     ]
    }
   ],
   "source": [
    "max_en_length = 0\n",
    "for sentence in english_sentences:\n",
    "    length = len(sentence.split())\n",
    "    max_en_length = max(max_en_length, length)\n",
    "print(\"The longest english sentence in our dataset is:\", max_en_length)  "
   ]
  },
  {
   "cell_type": "code",
   "execution_count": 353,
   "metadata": {},
   "outputs": [
    {
     "name": "stdout",
     "output_type": "stream",
     "text": [
      "The longest french sentence in our dataset is: 10\n"
     ]
    }
   ],
   "source": [
    "max_fr_length = 0\n",
    "for sentence in french_sentences:\n",
    "    length = len(sentence.split())\n",
    "    max_fr_length = max(max_fr_length, length)\n",
    "print(\"The longest french sentence in our dataset is:\", max_fr_length)  "
   ]
  },
  {
   "cell_type": "code",
   "execution_count": 354,
   "metadata": {},
   "outputs": [],
   "source": [
    "max_seq_length = max(max_fr_length, max_en_length) + 1\n",
    "seq_length = max_seq_length"
   ]
  },
  {
   "cell_type": "code",
   "execution_count": 355,
   "metadata": {},
   "outputs": [],
   "source": [
    "en_word_count = {}\n",
    "fr_word_count = {}\n",
    "\n",
    "for sentence in english_sentences:\n",
    "    for word in sentence.split():\n",
    "        if word in en_word_count:\n",
    "            en_word_count[word] +=1\n",
    "        else:\n",
    "            en_word_count[word] = 1\n",
    "            \n",
    "for sentence in french_sentences:\n",
    "    for word in sentence.split():\n",
    "        if word in fr_word_count:\n",
    "            fr_word_count[word] +=1\n",
    "        else:\n",
    "            fr_word_count[word] = 1\n"
   ]
  },
  {
   "cell_type": "code",
   "execution_count": 356,
   "metadata": {},
   "outputs": [],
   "source": [
    "en_word_count['</s>'] = len(english_sentences)\n",
    "fr_word_count['</s>'] = len(english_sentences)"
   ]
  },
  {
   "cell_type": "code",
   "execution_count": 357,
   "metadata": {},
   "outputs": [
    {
     "name": "stdout",
     "output_type": "stream",
     "text": [
      "Number of unique English words: 12603\n",
      "Number of unique French words: 25809\n"
     ]
    }
   ],
   "source": [
    "print('Number of unique English words:', len(en_word_count))\n",
    "print('Number of unique French words:', len(fr_word_count))"
   ]
  },
  {
   "cell_type": "code",
   "execution_count": 358,
   "metadata": {},
   "outputs": [],
   "source": [
    "fr_word2idx = {k:v+3 for v, k in enumerate(fr_word_count.keys())}\n",
    "en_word2idx = {k:v+3 for v, k in enumerate(en_word_count.keys())}"
   ]
  },
  {
   "cell_type": "code",
   "execution_count": 359,
   "metadata": {},
   "outputs": [],
   "source": [
    "fr_word2idx['<pad>'] = 0\n",
    "fr_word2idx['<s>'] = 1\n",
    "fr_word2idx['<unk>'] = 2\n",
    "\n",
    "en_word2idx['<pad>'] = 0\n",
    "en_word2idx['<s>'] = 1\n",
    "en_word2idx['<unk>'] = 2"
   ]
  },
  {
   "cell_type": "code",
   "execution_count": 360,
   "metadata": {},
   "outputs": [
    {
     "data": {
      "text/plain": [
       "25812"
      ]
     },
     "execution_count": 360,
     "metadata": {},
     "output_type": "execute_result"
    }
   ],
   "source": [
    "len(fr_word2idx)"
   ]
  },
  {
   "cell_type": "code",
   "execution_count": 361,
   "metadata": {},
   "outputs": [],
   "source": [
    "def get_value(items_tuple):\n",
    "    return items_tuple[1]\n",
    "\n",
    "sorted_en_words= sorted(en_word_count.items(), key=get_value, reverse=True)"
   ]
  },
  {
   "cell_type": "code",
   "execution_count": 362,
   "metadata": {},
   "outputs": [
    {
     "data": {
      "text/plain": [
       "[('impossibilities', 1),\n",
       " ('offers', 1),\n",
       " ('profound', 1),\n",
       " ('insights', 1),\n",
       " ('promoting', 1),\n",
       " ('domestically', 1),\n",
       " ('feat', 1),\n",
       " ('hummer', 1),\n",
       " ('limousines', 1),\n",
       " ('imprison', 1)]"
      ]
     },
     "execution_count": 362,
     "metadata": {},
     "output_type": "execute_result"
    }
   ],
   "source": [
    "sorted_en_words[-10:]"
   ]
  },
  {
   "cell_type": "markdown",
   "metadata": {},
   "source": [
    "### Using Word Embeddings"
   ]
  },
  {
   "cell_type": "markdown",
   "metadata": {},
   "source": [
    "Here we are building an embedding matrix of pretrained word vectors. The word embeddings used here were downloaded from the [fastText repository](https://github.com/facebookresearch/fastText/blob/master/pretrained-vectors.md). These embeddings have 300 dimensions. To start we will add a few token embeddings for our specific case. We want a token to signal the start of the sentence, A token for words that we do not have an embedding for, and a token to pad sentences so all the sentences we use have the same length. This will allow us to train the model on batches of sentences that are different lengths, rather than one at a time.\n",
    "\n",
    "After this step we will have a dictionary and an embedding matrix for each language. The dictionary will map words to an index value in the embedding matrix where its' corresponding embedding vector is stored."
   ]
  },
  {
   "cell_type": "markdown",
   "metadata": {},
   "source": [
    "#### Load Embeddings for the English data"
   ]
  },
  {
   "cell_type": "code",
   "execution_count": 363,
   "metadata": {},
   "outputs": [
    {
     "name": "stdout",
     "output_type": "stream",
     "text": [
      "Embeddings load from .npy file\n"
     ]
    }
   ],
   "source": [
    "# The data file containing the embeddings is very large so once we have the embeddings we want\n",
    "# we will save them as a numpy array. This way we can load this much faster then having to re read from\n",
    "# the large embedding file\n",
    "if os.path.exists('data/en_words.npy') and os.path.exists('data/en_vectors.npy'):\n",
    "    en_words = np.load('data/en_words.npy')\n",
    "    en_vectors = np.load('data/en_vectors.npy')\n",
    "    print('Embeddings load from .npy file')\n",
    "else:\n",
    "    # make a dict with the top 100,000 words\n",
    "    en_words = ['<pad>', # Padding Token\n",
    "                '<s>', # Start of sentence token\n",
    "                '<unk>'# Unknown word token\n",
    "               ]\n",
    "\n",
    "    en_vectors = list(np.random.uniform(-0.1, 0.1, (3, 300)))\n",
    "    en_vectors[0] *= 0 # make the padding vector zeros\n",
    "\n",
    "    with open('data/wiki.en.vec', \"r\") as f:\n",
    "        f.readline()\n",
    "        for _ in range(100000):\n",
    "            en_vecs = f.readline()\n",
    "            word = en_vecs.split()[0]\n",
    "            vector = np.float32(en_vecs.split()[1:])\n",
    "\n",
    "            # skip lines that don't have 300 dim\n",
    "            if len(vector) != 300:\n",
    "                continue\n",
    "\n",
    "            if word not in en_words:\n",
    "                en_words.append(word)\n",
    "                en_vectors.append(vector)\n",
    "        print(word, vector[:10]) # Last word embedding read from the file\n",
    "        en_words = np.array(en_words)\n",
    "        en_vectors = np.array(en_vectors)\n",
    "    # Save the arrays so we don't have to load the full word embedding file\n",
    "    np.save('data/en_words.npy', en_words)\n",
    "    np.save('data/en_vectors.npy', en_vectors)"
   ]
  },
  {
   "cell_type": "code",
   "execution_count": 364,
   "metadata": {},
   "outputs": [],
   "source": [
    "en_word2idx = {word:index for index, word in enumerate(en_words)}"
   ]
  },
  {
   "cell_type": "code",
   "execution_count": 365,
   "metadata": {},
   "outputs": [
    {
     "name": "stdout",
     "output_type": "stream",
     "text": [
      "index for word hemophilia: 99996 \n",
      "vector for word hemophilia:\n",
      " [ 0.16189    -0.056121   -0.65560001  0.21569    -0.11878    -0.02066\n",
      "  0.37613001 -0.24117    -0.098989   -0.010058  ]\n"
     ]
    }
   ],
   "source": [
    "hemophilia_idx = en_word2idx['hemophilia']\n",
    "print('index for word hemophilia:', hemophilia_idx, \n",
    "      '\\nvector for word hemophilia:\\n',en_vectors[hemophilia_idx][:10])"
   ]
  },
  {
   "cell_type": "markdown",
   "metadata": {},
   "source": [
    "The word embedding for hemophilia matches the one read from the file, so it looks like everything worked properly."
   ]
  },
  {
   "cell_type": "markdown",
   "metadata": {},
   "source": [
    "#### Load Embeddings for the Frech data"
   ]
  },
  {
   "cell_type": "code",
   "execution_count": 366,
   "metadata": {
    "scrolled": false
   },
   "outputs": [
    {
     "name": "stdout",
     "output_type": "stream",
     "text": [
      "Embeddings load from .npy file\n"
     ]
    }
   ],
   "source": [
    "if os.path.exists('data/fr_words.npy') and os.path.exists('data/fr_vectors.npy'):\n",
    "    fr_words = np.load('data/fr_words.npy')\n",
    "    fr_vectors = np.load('data/fr_vectors.npy')\n",
    "    print('Embeddings load from .npy file')\n",
    "else:\n",
    "    # make a dict with the top 100,000 words\n",
    "    fr_words = ['<pad>',\n",
    "                '<s>',\n",
    "                '<unk>']\n",
    "\n",
    "    fr_vectors = list(np.random.uniform(-0.1, 0.1, (3, 300)))\n",
    "    fr_vectors[0] = np.zeros(300) # make the padding vector zeros\n",
    "\n",
    "    with open('data/wiki.fr.vec', \"r\") as f:\n",
    "        f.readline()\n",
    "        for _ in range(100000):\n",
    "            fr_vecs = f.readline()\n",
    "            word = fr_vecs.split()[0]\n",
    "            try:\n",
    "                vector = np.float32(fr_vecs.split()[1:])\n",
    "            except ValueError:\n",
    "                continue\n",
    "\n",
    "             # skip lines that don't have 300 dim\n",
    "            if len(vector) != 300:\n",
    "                continue\n",
    "\n",
    "            if word not in fr_words:\n",
    "                fr_words.append(word)\n",
    "                fr_vectors.append(vector)\n",
    "        print(word, vector[:10])\n",
    "        fr_words = np.array(fr_words)\n",
    "        fr_vectors = np.array(fr_vectors)\n",
    "    # Save the arrays so we don't have to load the full word embedding file\n",
    "    np.save('data/fr_words.npy', fr_words)\n",
    "    np.save('data/fr_vectors.npy', fr_vectors)"
   ]
  },
  {
   "cell_type": "code",
   "execution_count": 367,
   "metadata": {},
   "outputs": [],
   "source": [
    "fr_word2idx = {word:index for index, word in enumerate(fr_words)}"
   ]
  },
  {
   "cell_type": "code",
   "execution_count": 368,
   "metadata": {},
   "outputs": [
    {
     "name": "stdout",
     "output_type": "stream",
     "text": [
      "index for word chabeuil: 99783 \n",
      "vector for word chabeuil:\n",
      " [-0.18058001 -0.24758001  0.075607    0.17299999  0.24116001 -0.11223\n",
      " -0.28173     0.27373999  0.37997001  0.48008999]\n"
     ]
    }
   ],
   "source": [
    "chabeuil_idx = fr_word2idx['chabeuil']\n",
    "print('index for word chabeuil:', chabeuil_idx, \n",
    "      '\\nvector for word chabeuil:\\n',fr_vectors[chabeuil_idx][:10])"
   ]
  },
  {
   "cell_type": "code",
   "execution_count": 369,
   "metadata": {},
   "outputs": [
    {
     "data": {
      "text/plain": [
       "99783"
      ]
     },
     "execution_count": 369,
     "metadata": {},
     "output_type": "execute_result"
    }
   ],
   "source": [
    "fr_word2idx[\"chabeuil\"]"
   ]
  },
  {
   "cell_type": "markdown",
   "metadata": {},
   "source": [
    "The word embedding for chabeuil matches as well so everything worked correctly for the french vocab."
   ]
  },
  {
   "cell_type": "markdown",
   "metadata": {},
   "source": [
    "Ok, so we have all the pieces needed to take words and convert them into word embeddings. These word embeddings already have a lot of useful information about how words relate since we loaded the pre-trained word embeddings. Now we can build the translation model with the embedding matrices built in."
   ]
  },
  {
   "cell_type": "markdown",
   "metadata": {},
   "source": [
    "### Setting up PyTorch Dataset and Dataloader"
   ]
  },
  {
   "cell_type": "markdown",
   "metadata": {},
   "source": [
    "Rather than organizing all the data from a file and storing it in a list or some other data structure, PyTorch allows us to create a dataset object. To get an example from a dataset we just index the dataset object like we would a list. However, all our processing can be contained in the objects initialization or indexing process.\n",
    "\n",
    "This will also make training easier when we want to iterate through batches."
   ]
  },
  {
   "cell_type": "code",
   "execution_count": 370,
   "metadata": {},
   "outputs": [],
   "source": [
    "class French2EnglishDataset(Dataset):\n",
    "    '''\n",
    "        French and associated English sentences.\n",
    "    '''\n",
    "    \n",
    "    def __init__(self, fr_sentences, en_sentences, fr_word2idx, en_word2idx, seq_length):\n",
    "        self.fr_sentences = fr_sentences\n",
    "        self.en_sentences = en_sentences\n",
    "        self.fr_word2idx = fr_word2idx\n",
    "        self.en_word2idx = en_word2idx\n",
    "        self.seq_length = seq_length\n",
    "        self.unk_en = set()\n",
    "        self.unk_fr = set()\n",
    "    \n",
    "    def __len__(self):\n",
    "        return len(french_sentences)\n",
    "    \n",
    "    def __getitem__(self, idx):\n",
    "        '''\n",
    "            Returns a pair of tensors containing word indices\n",
    "            for the specified sentence pair in the dataset.\n",
    "        '''\n",
    "        \n",
    "        # init torch tensors, note that 0 is the padding index\n",
    "        french_tensor = torch.zeros(self.seq_length, dtype=torch.long)\n",
    "        english_tensor = torch.zeros(self.seq_length, dtype=torch.long)\n",
    "        \n",
    "        # Get sentence pair\n",
    "        french_sentence = self.fr_sentences[idx].split()\n",
    "        english_sentence = self.en_sentences[idx].split()\n",
    "        \n",
    "        # Add <EOS> tags\n",
    "        french_sentence.append('</s>')\n",
    "        english_sentence.append('</s>')\n",
    "        \n",
    "        # Load word indices\n",
    "        for i, word in enumerate(french_sentence):\n",
    "            if word in fr_word2idx and fr_word_count[word] > 5:\n",
    "                french_tensor[i] = fr_word2idx[word]\n",
    "            else:\n",
    "                french_tensor[i] = fr_word2idx['<unk>']\n",
    "                self.unk_fr.add(word)\n",
    "        \n",
    "        for i, word in enumerate(english_sentence):\n",
    "            if word in en_word2idx and en_word_count[word] > 5:\n",
    "                english_tensor[i] = en_word2idx[word]\n",
    "            else:\n",
    "                english_tensor[i] = en_word2idx['<unk>']\n",
    "                self.unk_en.add(word)\n",
    "            \n",
    "        sample = {'french_tensor': french_tensor, 'french_sentence': self.fr_sentences[idx],\n",
    "                  'english_tensor': english_tensor, 'english_sentence': self.en_sentences[idx]}\n",
    "        return sample"
   ]
  },
  {
   "cell_type": "code",
   "execution_count": 371,
   "metadata": {},
   "outputs": [],
   "source": [
    "french_english_dataset = French2EnglishDataset(french_sentences,\n",
    "                                               english_sentences,\n",
    "                                               fr_word2idx,\n",
    "                                               en_word2idx,\n",
    "                                               seq_length = seq_length)"
   ]
  },
  {
   "cell_type": "markdown",
   "metadata": {},
   "source": [
    "#### Example output of dataset"
   ]
  },
  {
   "cell_type": "code",
   "execution_count": 372,
   "metadata": {},
   "outputs": [],
   "source": [
    "test_sample = french_english_dataset[-10] # get 10th to last item in dataset"
   ]
  },
  {
   "cell_type": "code",
   "execution_count": 373,
   "metadata": {},
   "outputs": [
    {
     "name": "stdout",
     "output_type": "stream",
     "text": [
      "Input example:\n",
      "Sentence: la station spatiale internationale est une étonnante prouesse technologique\n",
      "Tensor: tensor([   9,  787,    2,  730,   21,   23,    2,    2,    2,    3,\n",
      "           0])\n",
      "\n",
      "Target example:\n",
      "Sentence: the international space station is an amazing feat of engineering\n",
      "Tensor: tensor([    5,   214,   657,   309,    16,    32,  6425,     2,     7,\n",
      "            2,     6])\n"
     ]
    }
   ],
   "source": [
    "print('Input example:')\n",
    "print('Sentence:', test_sample['french_sentence'])\n",
    "print('Tensor:', test_sample['french_tensor'])\n",
    "\n",
    "print('\\nTarget example:')\n",
    "print('Sentence:', test_sample['english_sentence'])\n",
    "print('Tensor:', test_sample['english_tensor'])"
   ]
  },
  {
   "cell_type": "code",
   "execution_count": 374,
   "metadata": {},
   "outputs": [
    {
     "name": "stdout",
     "output_type": "stream",
     "text": [
      "3\n"
     ]
    },
    {
     "data": {
      "text/plain": [
       "6"
      ]
     },
     "execution_count": 374,
     "metadata": {},
     "output_type": "execute_result"
    }
   ],
   "source": [
    "# Check that both tensors end with the end of sentence token\n",
    "print(fr_word2idx['</s>'])\n",
    "en_word2idx['</s>']"
   ]
  },
  {
   "cell_type": "code",
   "execution_count": 278,
   "metadata": {},
   "outputs": [],
   "source": [
    "# Build dataloader to check how the batching works\n",
    "dataloader = DataLoader(french_english_dataset, batch_size=5,\n",
    "                        shuffle=True, num_workers=4)"
   ]
  },
  {
   "cell_type": "code",
   "execution_count": 280,
   "metadata": {
    "scrolled": true
   },
   "outputs": [
    {
     "name": "stdout",
     "output_type": "stream",
     "text": [
      "0 torch.Size([5, 24]) torch.Size([5, 24])\n",
      "1 torch.Size([5, 24]) torch.Size([5, 24])\n",
      "2 torch.Size([5, 24]) torch.Size([5, 24])\n",
      "3 torch.Size([5, 24]) torch.Size([5, 24])\n"
     ]
    }
   ],
   "source": [
    "# Prints out 10 batches from the dataloader\n",
    "for i_batch, sample_batched in enumerate(dataloader):\n",
    "    print(i_batch, sample_batched['french_tensor'].shape,\n",
    "          sample_batched['english_tensor'].shape)\n",
    "    if i_batch == 3:\n",
    "        break"
   ]
  },
  {
   "cell_type": "code",
   "execution_count": 281,
   "metadata": {},
   "outputs": [
    {
     "name": "stdout",
     "output_type": "stream",
     "text": [
      "French Sentence: l' inde est jamais occupé en février , mais il est merveilleux en décembre .\n",
      "English Sentence: india is never busy during february , but it is wonderful in december . \n",
      "\n",
      "French Sentence: notre fruit préféré est la pomme , mais son favori est l'orange .\n",
      "English Sentence: our favorite fruit is the apple , but his favorite is the orange . \n",
      "\n",
      "French Sentence: il n'aime les mangues et les pêches .\n",
      "English Sentence: he dislikes mangoes and peaches . \n",
      "\n",
      "French Sentence: je n'aime les bananes , le pamplemousse , et les pommes .\n",
      "English Sentence: i dislike bananas , grapefruit , and apples . \n",
      "\n",
      "French Sentence: l' inde est le gel en décembre , mais il est parfois frisquet en septembre .\n",
      "English Sentence: india is freezing during december , but it is sometimes chilly in september . \n",
      "\n"
     ]
    }
   ],
   "source": [
    "for i in dataloader:\n",
    "    batch = i\n",
    "    break\n",
    "\n",
    "for i in range(5):\n",
    "    print('French Sentence:', batch['french_sentence'][i])\n",
    "    print('English Sentence:', batch['english_sentence'][i],'\\n')"
   ]
  },
  {
   "cell_type": "markdown",
   "metadata": {},
   "source": [
    "## Part 2: Building the Model"
   ]
  },
  {
   "cell_type": "markdown",
   "metadata": {},
   "source": [
    "### Bi-Directional Encoder"
   ]
  },
  {
   "cell_type": "code",
   "execution_count": 324,
   "metadata": {},
   "outputs": [],
   "source": [
    "class EncoderBiLSTM(nn.Module):\n",
    "    def __init__(self, hidden_size, pretrained_embeddings):\n",
    "        super(EncoderBiLSTM, self).__init__()\n",
    "        \n",
    "        # Model Parameters\n",
    "        self.hidden_size = hidden_size\n",
    "        self.embedding_dim = pretrained_embeddings.shape[1]\n",
    "        self.vocab_size = pretrained_embeddings.shape[0]\n",
    "        self.num_layers = 2\n",
    "        self.dropout = 0.1 if self.num_layers > 1 else 0\n",
    "        self.bidirectional = True\n",
    "        \n",
    "        \n",
    "        # Construct the layers\n",
    "        self.embedding = nn.Embedding(self.vocab_size, self.embedding_dim)\n",
    "        \n",
    "        self.embedding.weight.data.copy_(torch.from_numpy(pretrained_embeddings)) #Load the pretrained embeddings\n",
    "        self.embedding.weight.requires_grad = False #Freeze embedding layer\n",
    "        \n",
    "        self.lstm = nn.LSTM(self.embedding_dim,\n",
    "                            self.hidden_size,\n",
    "                            self.num_layers,\n",
    "                            batch_first = True,\n",
    "                            dropout=self.dropout,\n",
    "                            bidirectional=self.bidirectional)\n",
    "        \n",
    "        # Initialize hidden to hidden weights in LSTM to the Identity matrix\n",
    "        # This improves training and prevents exploding gradients\n",
    "        # PyTorch LSTM has the 4 different hidden to hidden weights stacked in one matrix\n",
    "        identity_init = torch.eye(self.hidden_size)\n",
    "        self.lstm.weight_hh_l0.data.copy_(torch.cat([identity_init]*4, dim=0))\n",
    "        self.lstm.weight_hh_l0_reverse.data.copy_(torch.cat([identity_init]*4, dim=0))\n",
    "        self.lstm.weight_hh_l1.data.copy_(torch.cat([identity_init]*4, dim=0))\n",
    "        self.lstm.weight_hh_l1_reverse.data.copy_(torch.cat([identity_init]*4, dim=0))\n",
    "    \n",
    "    def forward(self, input, hidden):\n",
    "        embedded = self.embedding(input)\n",
    "        output = self.lstm(embedded, hidden)\n",
    "        return output\n",
    "    \n",
    "    def initHidden(self, batch_size):\n",
    "        \n",
    "        hidden_state = torch.zeros(self.num_layers*(2 if self.bidirectional else 1),\n",
    "                                   batch_size,\n",
    "                                   self.hidden_size, \n",
    "                                   device=device)\n",
    "        \n",
    "        cell_state = torch.zeros(self.num_layers*(2 if self.bidirectional else 1),\n",
    "                                 batch_size,\n",
    "                                 self.hidden_size, \n",
    "                                 device=device)\n",
    "        \n",
    "        return (hidden_state, cell_state)"
   ]
  },
  {
   "cell_type": "code",
   "execution_count": 325,
   "metadata": {},
   "outputs": [],
   "source": [
    "class EncoderBiGRU(nn.Module):\n",
    "    def __init__(self, hidden_size, pretrained_embeddings):\n",
    "        super(EncoderBiGRU, self).__init__()\n",
    "        \n",
    "        # Model parameters\n",
    "        self.hidden_size = hidden_size\n",
    "        self.embedding_dim = pretrained_embeddings.shape[1]\n",
    "        self.vocab_size = pretrained_embeddings.shape[0]\n",
    "        self.num_layers = 2\n",
    "        self.dropout = 0.1 if self.num_layers > 1 else 0\n",
    "        self.bidirectional = True\n",
    "        \n",
    "        \n",
    "        # Construct the layers\n",
    "        self.embedding = nn.Embedding(self.vocab_size, self.embedding_dim)\n",
    "        self.embedding.weight.data.copy_(torch.from_numpy(pretrained_embeddings))\n",
    "        self.embedding.weight.requires_grad = False\n",
    "        \n",
    "        self.gru = nn.GRU(self.embedding_dim,\n",
    "                            self.hidden_size,\n",
    "                            self.num_layers,\n",
    "                            batch_first = True,\n",
    "                            dropout=self.dropout,\n",
    "                            bidirectional=self.bidirectional)\n",
    "        \n",
    "        # Initialize hidden to hidden weights in GRU to the Identity matrix\n",
    "        # PyTorch GRU has 3 different hidden to hidden weights stacked in one matrix\n",
    "        identity_init = torch.eye(self.hidden_size)\n",
    "        self.gru.weight_hh_l0.data.copy_(torch.cat([identity_init]*3, dim=0))\n",
    "        self.gru.weight_hh_l0_reverse.data.copy_(torch.cat([identity_init]*3, dim=0))\n",
    "        self.gru.weight_hh_l1.data.copy_(torch.cat([identity_init]*3, dim=0))\n",
    "        self.gru.weight_hh_l1_reverse.data.copy_(torch.cat([identity_init]*3, dim=0))\n",
    "    \n",
    "    def forward(self, input, hidden):\n",
    "        embedded = self.embedding(input)\n",
    "        output = self.gru(embedded, hidden)\n",
    "        return output\n",
    "    \n",
    "    def initHidden(self, batch_size):\n",
    "        \n",
    "        hidden_state = torch.zeros(self.num_layers*(2 if self.bidirectional else 1),\n",
    "                                   batch_size,\n",
    "                                   self.hidden_size, \n",
    "                                   device=device)\n",
    "        \n",
    "        return hidden_state"
   ]
  },
  {
   "cell_type": "markdown",
   "metadata": {
    "heading_collapsed": true
   },
   "source": [
    "#### Testing the Encoder"
   ]
  },
  {
   "cell_type": "code",
   "execution_count": 229,
   "metadata": {
    "hidden": true
   },
   "outputs": [
    {
     "name": "stdout",
     "output_type": "stream",
     "text": [
      "The final output of the BiLSTM Encoder on our test input is: \n",
      "\n",
      " torch.Size([1, 3, 10])\n",
      "\n",
      "\n",
      "Encoder output tensor: \n",
      "\n",
      " tensor([[[ 0.1696, -0.0685, -0.1059,  0.0245, -0.0932, -0.1734,  0.0031,\n",
      "           0.0233, -0.0100,  0.1628],\n",
      "         [ 0.2719, -0.1025, -0.1429,  0.0170, -0.1392, -0.1159, -0.0073,\n",
      "           0.0053,  0.0103,  0.1306],\n",
      "         [ 0.3649, -0.1420, -0.1676,  0.0222, -0.1329, -0.0704, -0.0404,\n",
      "           0.0054, -0.0080,  0.0976]]], device='cuda:0')\n"
     ]
    }
   ],
   "source": [
    "# Test the encoder on a sample input, input tensor has dimensions (batch_size, seq_length)\n",
    "# all the variable have test_ in front of them so they don't reassign variables needed later on with the real models\n",
    "\n",
    "test_batch_size = 1\n",
    "test_seq_length = 3\n",
    "test_hidden_size = 5\n",
    "test_encoder = EncoderBiLSTM(test_hidden_size, fr_vectors).to(device)\n",
    "test_hidden = test_encoder.initHidden(test_batch_size)\n",
    "\n",
    "# Create an input tensor of random indices\n",
    "test_inputs = torch.randint(0, 50, (test_batch_size, test_seq_length), dtype=torch.long, device=device)\n",
    "\n",
    "test_encoder_output, test_encoder_hidden = test_encoder.forward(test_inputs, test_hidden)\n",
    "\n",
    "print(\"The final output of the BiLSTM Encoder on our test input is: \\n\\n\", test_encoder_output.shape)\n",
    "\n",
    "print('\\n\\nEncoder output tensor: \\n\\n', test_encoder_output)"
   ]
  },
  {
   "cell_type": "code",
   "execution_count": 230,
   "metadata": {
    "hidden": true
   },
   "outputs": [
    {
     "data": {
      "text/plain": [
       "(tensor([[[-0.1083, -0.2036,  0.1844, -0.1568, -0.0570]],\n",
       " \n",
       "         [[ 0.1193, -0.1132, -0.1703, -0.1203,  0.0673]],\n",
       " \n",
       "         [[ 0.3649, -0.1420, -0.1676,  0.0222, -0.1329]],\n",
       " \n",
       "         [[-0.1734,  0.0031,  0.0233, -0.0100,  0.1628]]], device='cuda:0'),\n",
       " tensor([[[-0.3360, -0.5497,  0.4430, -0.2667, -0.1674]],\n",
       " \n",
       "         [[ 0.1950, -0.2336, -0.3140, -0.3467,  0.1642]],\n",
       " \n",
       "         [[ 0.7378, -0.2309, -0.2565,  0.0606, -0.3088]],\n",
       " \n",
       "         [[-0.3480,  0.0054,  0.0424, -0.0174,  0.4835]]], device='cuda:0'))"
      ]
     },
     "execution_count": 230,
     "metadata": {},
     "output_type": "execute_result"
    }
   ],
   "source": [
    "test_encoder_hidden# Tuple where first item is the hidden states, second item is the cell states.\n",
    "\n",
    "# The lstm has 2 layers, each layer has a forward and backward pass giving 4"
   ]
  },
  {
   "cell_type": "code",
   "execution_count": 231,
   "metadata": {
    "hidden": true
   },
   "outputs": [
    {
     "data": {
      "text/plain": [
       "tensor([[[-0.1083, -0.2036,  0.1844, -0.1568, -0.0570]],\n",
       "\n",
       "        [[ 0.3649, -0.1420, -0.1676,  0.0222, -0.1329]]], device='cuda:0')"
      ]
     },
     "execution_count": 231,
     "metadata": {},
     "output_type": "execute_result"
    }
   ],
   "source": [
    "test_encoder_hidden[0][::2] # Hidden states from forward pass for both lstm layers."
   ]
  },
  {
   "cell_type": "code",
   "execution_count": 232,
   "metadata": {
    "hidden": true
   },
   "outputs": [],
   "source": [
    "test_encoder_gru = EncoderBiGRU(test_hidden_size, fr_vectors).to(device)\n",
    "test_hidden = test_encoder_gru.initHidden(test_batch_size)\n",
    "o,h = test_encoder_gru(test_inputs, test_hidden)"
   ]
  },
  {
   "cell_type": "code",
   "execution_count": 233,
   "metadata": {
    "hidden": true
   },
   "outputs": [
    {
     "data": {
      "text/plain": [
       "tensor([[[-0.2638,  0.0444,  0.0588, -0.1062, -0.0780, -0.1639,  0.1332,\n",
       "          -0.5315,  0.0886,  0.1702],\n",
       "         [-0.4556,  0.1273,  0.0350, -0.3055, -0.0166, -0.2639,  0.0371,\n",
       "          -0.4623,  0.0706,  0.1357],\n",
       "         [-0.5962,  0.2580,  0.1032, -0.4162, -0.0136, -0.1962, -0.0306,\n",
       "          -0.2940, -0.0043,  0.1003]]], device='cuda:0')"
      ]
     },
     "execution_count": 233,
     "metadata": {},
     "output_type": "execute_result"
    }
   ],
   "source": [
    "o"
   ]
  },
  {
   "cell_type": "code",
   "execution_count": 234,
   "metadata": {
    "hidden": true
   },
   "outputs": [
    {
     "name": "stdout",
     "output_type": "stream",
     "text": [
      "tensor([[[-0.5236, -0.1632, -0.1012, -0.1132, -0.3256]],\n",
      "\n",
      "        [[ 0.2437, -0.0019, -0.1655,  0.0607,  0.2190]],\n",
      "\n",
      "        [[-0.5962,  0.2580,  0.1032, -0.4162, -0.0136]],\n",
      "\n",
      "        [[-0.1639,  0.1332, -0.5315,  0.0886,  0.1702]]], device='cuda:0')\n"
     ]
    },
    {
     "data": {
      "text/plain": [
       "tensor([[[ 0.2437, -0.0019, -0.1655,  0.0607,  0.2190]],\n",
       "\n",
       "        [[-0.1639,  0.1332, -0.5315,  0.0886,  0.1702]]], device='cuda:0')"
      ]
     },
     "execution_count": 234,
     "metadata": {},
     "output_type": "execute_result"
    }
   ],
   "source": [
    "print(h)\n",
    "h[1::2]"
   ]
  },
  {
   "cell_type": "markdown",
   "metadata": {
    "heading_collapsed": true
   },
   "source": [
    "### Attention\n",
    "Let's take a moment test how attention is being modeled. Weighted sum of sequence items from encoder output."
   ]
  },
  {
   "cell_type": "code",
   "execution_count": 235,
   "metadata": {
    "hidden": true
   },
   "outputs": [
    {
     "name": "stdout",
     "output_type": "stream",
     "text": [
      "Attention weights:\n",
      " tensor([[[ 1.,  0.,  0.]]], device='cuda:0')\n",
      "\n",
      "First sequence item in Encoder output: \n",
      " tensor([[ 0.1696, -0.0685, -0.1059,  0.0245, -0.0932, -0.1734,  0.0031,\n",
      "          0.0233, -0.0100,  0.1628]], device='cuda:0')\n",
      "\n",
      "Encoder Output after attention is applied: \n",
      " tensor([ 0.1696, -0.0685, -0.1059,  0.0245, -0.0932, -0.1734,  0.0031,\n",
      "         0.0233, -0.0100,  0.1628], device='cuda:0')\n",
      "\n",
      " torch.Size([10])\n"
     ]
    }
   ],
   "source": [
    "# Initialize attention weights to one, note the dimensions\n",
    "attn_weights = torch.ones((test_batch_size, test_seq_length),device=device)\n",
    "\n",
    "# Set all weights except the weights associated with the first sequence item equal to zero\n",
    "# This would represent full attention on the first word in the sequence\n",
    "attn_weights[:, 1:] = 0\n",
    "\n",
    "attn_weights.unsqueeze_(1) # Add dimension for batch matrix multiplication\n",
    "\n",
    "# BMM(Batch Matrix Multiply) muliplies the [1 x seq_length] matrix by the [seq_length x hidden_size] matrix for\n",
    "# each batch. This produces a single vector(for each batch) of length(encoder_hidden_size) that is the weighted\n",
    "# sum of the encoder hidden vectors for each item in the sequence.\n",
    "attn_applied = torch.bmm(attn_weights, test_encoder_output)\n",
    "attn_applied.squeeze_() # Remove extra dimension\n",
    "\n",
    "print('Attention weights:\\n', attn_weights)\n",
    "print('\\nFirst sequence item in Encoder output: \\n', test_encoder_output[:,0,:])\n",
    "print('\\nEncoder Output after attention is applied: \\n', attn_applied)\n",
    "print('\\n', attn_applied.shape)"
   ]
  },
  {
   "cell_type": "markdown",
   "metadata": {},
   "source": [
    "### Decoder with Attention"
   ]
  },
  {
   "cell_type": "code",
   "execution_count": 326,
   "metadata": {},
   "outputs": [],
   "source": [
    "class AttnDecoderLSTM(nn.Module):\n",
    "    def __init__(self, decoder_hidden_size, pretrained_embeddings, seq_length):\n",
    "        super(AttnDecoderLSTM, self).__init__()\n",
    "        # Embedding parameters\n",
    "        self.embedding_dim = pretrained_embeddings.shape[1]\n",
    "        self.output_vocab_size = pretrained_embeddings.shape[0]\n",
    "        \n",
    "        # LSTM parameters\n",
    "        self.decoder_hidden_size = decoder_hidden_size\n",
    "        self.num_layers = 2 # Potentially add more layers to LSTM later\n",
    "        self.dropout = 0.1 if self.num_layers > 1 else 0 # Potentially add dropout later\n",
    "        \n",
    "        # Attention parameters\n",
    "        self.seq_length = seq_length\n",
    "        self.encoder_hidden_dim = 2*decoder_hidden_size\n",
    "        \n",
    "        # Construct embedding layer for output language\n",
    "        self.embedding = nn.Embedding(self.output_vocab_size, self.embedding_dim)\n",
    "        self.embedding.weight.data.copy_(torch.from_numpy(pretrained_embeddings))\n",
    "        self.embedding.weight.requires_grad = False # we don't want to train the embedding weights\n",
    "        \n",
    "        # Construct layer that calculates attentional weights\n",
    "        self.attn = nn.Linear((self.decoder_hidden_size + self.embedding_dim), self.seq_length)\n",
    "        \n",
    "        # Construct layer that compresses the combined matrix of the input embeddings\n",
    "        # and the encoder inputs after attention has been applied\n",
    "        self.attn_with_input = nn.Linear(self.embedding_dim + self.encoder_hidden_dim, self.embedding_dim)\n",
    "        \n",
    "        # LSTM for Decoder\n",
    "        self.lstm = nn.LSTM(self.embedding_dim,\n",
    "                            self.decoder_hidden_size,\n",
    "                            self.num_layers,\n",
    "                            dropout=self.dropout)\n",
    "        \n",
    "        # Initialize hidden to hidden weights in LSTM to the Identity matrix\n",
    "        # PyTorch LSTM has 4 different hidden to hidden weights stacked in one matrix\n",
    "        identity_init = torch.eye(self.decoder_hidden_size)\n",
    "        self.lstm.weight_hh_l0.data.copy_(torch.cat([identity_init]*4, dim=0))\n",
    "        self.lstm.weight_hh_l1.data.copy_(torch.cat([identity_init]*4, dim=0))\n",
    "        \n",
    "        # Output layer\n",
    "        self.out = nn.Linear(self.decoder_hidden_size, self.output_vocab_size)\n",
    "    \n",
    "    def forward(self, input, hidden, encoder_output):\n",
    "        # Input word indices, should have dim(1, batch_size), output will be (1, batch_size, embedding_dim)\n",
    "        embedded = self.embedding(input)\n",
    "        \n",
    "        # Calculate Attention weights\n",
    "        attn_weights = F.softmax(self.attn(torch.cat((hidden[0][1], embedded[0]), 1)), dim=1)\n",
    "        attn_weights = attn_weights.unsqueeze(1) # Add dimension for batch matrix multiplication\n",
    "        \n",
    "        # Apply Attention weights\n",
    "        attn_applied = torch.bmm(attn_weights, encoder_output)\n",
    "        attn_applied = attn_applied.squeeze(1) # Remove extra dimension, dim are now (batch_size, encoder_hidden_size)\n",
    "        \n",
    "        # Prepare LSTM input tensor\n",
    "        attn_combined = torch.cat((embedded[0], attn_applied), 1) # Combine embedding input and attn_applied,\n",
    "        lstm_input = F.relu(self.attn_with_input(attn_combined)) # pass through fully connected with ReLU\n",
    "        lstm_input = lstm_input.unsqueeze(0) # Add seq dimension so tensor has expected dimensions for lstm\n",
    "        \n",
    "        output, hidden = self.lstm(lstm_input, hidden) # Output dim = (1, batch_size, decoder_hidden_size)\n",
    "        output = F.log_softmax(self.out(output[0]), dim=1) # softmax over all words in vocab\n",
    "        \n",
    "        \n",
    "        return output, hidden, attn_weights"
   ]
  },
  {
   "cell_type": "code",
   "execution_count": 327,
   "metadata": {},
   "outputs": [],
   "source": [
    "class AttnDecoderGRU(nn.Module):\n",
    "    def __init__(self, decoder_hidden_size, pretrained_embeddings, seq_length):\n",
    "        super(AttnDecoderGRU, self).__init__()\n",
    "        # Embedding parameters\n",
    "        self.embedding_dim = pretrained_embeddings.shape[1]\n",
    "        self.output_vocab_size = pretrained_embeddings.shape[0]\n",
    "        \n",
    "        # GRU parameters\n",
    "        self.decoder_hidden_size = decoder_hidden_size\n",
    "        self.num_layers = 2 # Potentially add more layers to LSTM later\n",
    "        self.dropout = 0.1 if self.num_layers > 1 else 0 # Potentially add dropout later\n",
    "        \n",
    "        # Attention parameters\n",
    "        self.seq_length = seq_length\n",
    "        self.encoder_hidden_dim = 2*decoder_hidden_size\n",
    "        \n",
    "        # Construct embedding layer for output language\n",
    "        self.embedding = nn.Embedding(self.output_vocab_size, self.embedding_dim)\n",
    "        self.embedding.weight.data.copy_(torch.from_numpy(pretrained_embeddings))\n",
    "        self.embedding.weight.requires_grad = False # we don't want to train the embedding weights\n",
    "        \n",
    "        # Construct layer that calculates attentional weights\n",
    "        self.attn = nn.Linear(self.decoder_hidden_size + self.embedding_dim, self.seq_length)\n",
    "        \n",
    "        # Construct layer that compresses the combined matrix of the input embeddings\n",
    "        # and the encoder inputs after attention has been applied\n",
    "        self.attn_with_input = nn.Linear(self.embedding_dim + self.encoder_hidden_dim, self.embedding_dim)\n",
    "        \n",
    "        # gru for Decoder\n",
    "        self.gru = nn.GRU(self.embedding_dim,\n",
    "                            self.decoder_hidden_size,\n",
    "                            self.num_layers,\n",
    "                            dropout=self.dropout)\n",
    "        \n",
    "        # Initialize hidden to hidden weights in GRU to the Identity matrix\n",
    "        # PyTorch GRU has 3 different hidden to hidden weights stacked in one matrix\n",
    "        identity_init = torch.eye(self.decoder_hidden_size)\n",
    "        self.gru.weight_hh_l0.data.copy_(torch.cat([identity_init]*3, dim=0))\n",
    "        self.gru.weight_hh_l1.data.copy_(torch.cat([identity_init]*3, dim=0))\n",
    "        \n",
    "        # Output layer\n",
    "        self.out = nn.Linear(self.decoder_hidden_size, self.output_vocab_size)\n",
    "    \n",
    "    def forward(self, input, hidden, encoder_output):\n",
    "        # Input word indices, should have dim(1, batch_size), output will be (1, batch_size, embedding_dim)\n",
    "        embedded = self.embedding(input)\n",
    "        \n",
    "        # Calculate Attention weights\n",
    "        attn_weights = F.softmax(self.attn(torch.cat((hidden[0], embedded[0]), 1)), dim=1)\n",
    "        attn_weights = attn_weights.unsqueeze(1) # Add dimension for batch matrix multiplication\n",
    "        \n",
    "        # Apply Attention weights\n",
    "        attn_applied = torch.bmm(attn_weights, encoder_output)\n",
    "        attn_applied = attn_applied.squeeze(1) # Remove extra dimension, dim are now (batch_size, encoder_hidden_size)\n",
    "        \n",
    "        # Prepare GRU input tensor\n",
    "\n",
    "        attn_combined = torch.cat((embedded[0], attn_applied), 1) # Combine embedding input and attn_applied,\n",
    "        gru_input = F.relu(self.attn_with_input(attn_combined)) # pass through fully connected with ReLU\n",
    "        gru_input = gru_input.unsqueeze(0) # Add seq dimension so tensor has expected dimensions for lstm\n",
    "        \n",
    "        output, hidden = self.gru(gru_input, hidden) # Output dim = (1, batch_size, decoder_hidden_size)\n",
    "        output = F.log_softmax(self.out(output[0]), dim=1) # softmax over all words in vocab\n",
    "        \n",
    "        return output, hidden, attn_weights"
   ]
  },
  {
   "cell_type": "markdown",
   "metadata": {
    "heading_collapsed": true
   },
   "source": [
    "#### Testing the Decoder"
   ]
  },
  {
   "cell_type": "code",
   "execution_count": 238,
   "metadata": {
    "hidden": true
   },
   "outputs": [],
   "source": [
    "# Test the decoder on sample inputs to check that the dimensions of everything is correct\n",
    "test_decoder_hidden_size = 5\n",
    "\n",
    "test_decoder = AttnDecoderLSTM(test_decoder_hidden_size, en_vectors, test_seq_length).to(device)"
   ]
  },
  {
   "cell_type": "code",
   "execution_count": 239,
   "metadata": {
    "hidden": true
   },
   "outputs": [],
   "source": [
    "input_idx = torch.tensor([fr_word2idx['<s>']]*test_batch_size, dtype=torch.long, device=device)"
   ]
  },
  {
   "cell_type": "code",
   "execution_count": 240,
   "metadata": {
    "hidden": true
   },
   "outputs": [
    {
     "data": {
      "text/plain": [
       "torch.Size([1])"
      ]
     },
     "execution_count": 240,
     "metadata": {},
     "output_type": "execute_result"
    }
   ],
   "source": [
    "input_idx.shape"
   ]
  },
  {
   "cell_type": "code",
   "execution_count": 241,
   "metadata": {
    "hidden": true
   },
   "outputs": [],
   "source": [
    "input_idx = input_idx.unsqueeze_(0)\n",
    "test_decoder_hidden = (test_encoder_hidden[0][1::2].contiguous(), test_encoder_hidden[1][1::2].contiguous())"
   ]
  },
  {
   "cell_type": "code",
   "execution_count": 242,
   "metadata": {
    "hidden": true
   },
   "outputs": [
    {
     "data": {
      "text/plain": [
       "torch.Size([1, 1])"
      ]
     },
     "execution_count": 242,
     "metadata": {},
     "output_type": "execute_result"
    }
   ],
   "source": [
    "input_idx.shape"
   ]
  },
  {
   "cell_type": "code",
   "execution_count": 243,
   "metadata": {
    "hidden": true
   },
   "outputs": [
    {
     "name": "stdout",
     "output_type": "stream",
     "text": [
      "torch.Size([1, 99997])\n"
     ]
    }
   ],
   "source": [
    "output, hidden, attention = test_decoder.forward(input_idx, test_decoder_hidden, test_encoder_output)\n",
    "print(output.shape)"
   ]
  },
  {
   "cell_type": "code",
   "execution_count": 244,
   "metadata": {
    "hidden": true
   },
   "outputs": [
    {
     "data": {
      "text/plain": [
       "torch.Size([2, 1, 5])"
      ]
     },
     "execution_count": 244,
     "metadata": {},
     "output_type": "execute_result"
    }
   ],
   "source": [
    "test_decoder_hidden[0].shape"
   ]
  },
  {
   "cell_type": "markdown",
   "metadata": {},
   "source": [
    "## Part 3: Training the Model"
   ]
  },
  {
   "cell_type": "markdown",
   "metadata": {},
   "source": [
    "### Training Function"
   ]
  },
  {
   "cell_type": "code",
   "execution_count": 328,
   "metadata": {},
   "outputs": [],
   "source": [
    "def train(input_tensor, target_tensor, encoder, decoder,\n",
    "          encoder_optimizer, decoder_optimizer, criterion):\n",
    "    \n",
    "    # Initialize encoder hidden state\n",
    "    encoder_hidden = encoder.initHidden(input_tensor.shape[0])\n",
    "    \n",
    "    # clear the gradients in the optimizers\n",
    "    encoder_optimizer.zero_grad()\n",
    "    decoder_optimizer.zero_grad()\n",
    "    \n",
    "    # run forward pass through encoder on entire sequence\n",
    "    encoder_output, encoder_hidden = encoder.forward(input_tensor, encoder_hidden)\n",
    "    \n",
    "    # Initialize decoder input(Start of Sentence tag) and hidden state from encoder\n",
    "    decoder_input =  torch.tensor([en_word2idx['<s>']]*input_tensor.shape[0], dtype=torch.long, device=device).unsqueeze(0)\n",
    "    \n",
    "    # Use correct initial hidden state dimensions depending on type of RNN\n",
    "    try:\n",
    "        encoder.lstm\n",
    "        decoder_hidden = (encoder_hidden[0][1::2].contiguous(), encoder_hidden[1][1::2].contiguous())\n",
    "    except AttributeError:\n",
    "        decoder_hidden = encoder_hidden[1::2].contiguous()\n",
    "    \n",
    "    # Initialize loss\n",
    "    loss = 0\n",
    "    \n",
    "    # Implement teacher forcing\n",
    "    use_teacher_forcing = True if random.random() < 0.5 else False\n",
    "\n",
    "    if use_teacher_forcing:\n",
    "        # Step through target output sequence\n",
    "        for di in range(seq_length):\n",
    "            output, decoder_hidden, attn_weights = decoder(decoder_input,\n",
    "                                                           decoder_hidden,\n",
    "                                                           encoder_output)\n",
    "            \n",
    "            # Feed target as input to next item in the sequence\n",
    "            decoder_input = target_tensor[di].unsqueeze(0)\n",
    "            loss += criterion(output, target_tensor[di])\n",
    "    else:\n",
    "        # Step through target output sequence\n",
    "        for di in range(seq_length):\n",
    "            \n",
    "            # Forward pass through decoder\n",
    "            output, decoder_hidden, attn_weights = decoder(decoder_input,\n",
    "                                                           decoder_hidden,\n",
    "                                                           encoder_output)\n",
    "            \n",
    "            # Feed output as input to next item in the sequence\n",
    "            decoder_input = output.topk(1)[1].view(1,-1).detach()\n",
    "            \n",
    "            # Calculate loss\n",
    "            loss += criterion(output, target_tensor[di])\n",
    "    \n",
    "    # Compute the gradients\n",
    "    loss.backward()\n",
    "    \n",
    "    # Clip the gradients\n",
    "    nn.utils.clip_grad_norm_(encoder.parameters(), 25)\n",
    "    nn.utils.clip_grad_norm_(decoder.parameters(), 25)\n",
    "    \n",
    "    # Update the weights\n",
    "    encoder_optimizer.step()\n",
    "    decoder_optimizer.step()\n",
    "    \n",
    "    return loss.item()"
   ]
  },
  {
   "cell_type": "markdown",
   "metadata": {},
   "source": [
    "### Training Loop"
   ]
  },
  {
   "cell_type": "code",
   "execution_count": 329,
   "metadata": {},
   "outputs": [],
   "source": [
    "def trainIters(encoder, decoder, dataloader, epochs, print_every_n_batches=100, learning_rate=0.01):\n",
    "    \n",
    "    # keep track of losses\n",
    "    plot_losses = []\n",
    "\n",
    "    # Initialize Encoder Optimizer\n",
    "    encoder_parameters = filter(lambda p: p.requires_grad, encoder.parameters())\n",
    "    encoder_optimizer = optim.Adam(encoder_parameters, lr=learning_rate)\n",
    "    \n",
    "    # Initialize Decoder Optimizer\n",
    "    decoder_parameters = filter(lambda p: p.requires_grad, decoder.parameters())\n",
    "    decoder_optimizer = optim.Adam(decoder_parameters, lr=learning_rate)\n",
    "\n",
    "    # Specify loss function, ignore the <pad> token index so it does not contribute to loss.\n",
    "    criterion = nn.NLLLoss(ignore_index=0)\n",
    "    \n",
    "    # Cycle through epochs\n",
    "    for epoch in range(epochs):\n",
    "        loss_avg = 0\n",
    "        print(f'Epoch {epoch + 1}/{epochs}')\n",
    "        # Cycle through batches\n",
    "        for i, batch in enumerate(dataloader):\n",
    "            \n",
    "            input_tensor = batch['french_tensor'].to(device)\n",
    "            target_tensor = batch['english_tensor'].transpose(1,0).to(device)\n",
    "            \n",
    "\n",
    "            loss = train(input_tensor, target_tensor, encoder, decoder,\n",
    "                         encoder_optimizer, decoder_optimizer, criterion)\n",
    "            \n",
    "            loss_avg += loss\n",
    "            if i % print_every_n_batches == 0 and i != 0:\n",
    "                loss_avg /= print_every_n_batches\n",
    "                print(f'After {i} batches, average loss/{print_every_n_batches} batches: {loss_avg}')\n",
    "                plot_losses.append(loss)\n",
    "                loss_avg = 0\n",
    "    return plot_losses"
   ]
  },
  {
   "cell_type": "markdown",
   "metadata": {},
   "source": [
    "### Training the Model"
   ]
  },
  {
   "cell_type": "code",
   "execution_count": 384,
   "metadata": {},
   "outputs": [],
   "source": [
    "# Set hyperparameters and construct dataloader\n",
    "hidden_size = 256\n",
    "batch_size = 16\n",
    "dataloader = DataLoader(french_english_dataset, batch_size=batch_size,\n",
    "                        shuffle=True, num_workers=4) "
   ]
  },
  {
   "cell_type": "code",
   "execution_count": 385,
   "metadata": {},
   "outputs": [],
   "source": [
    "# Construct encoder and decoder instances\n",
    "encoder_lstm = EncoderBiLSTM(hidden_size, fr_vectors).to(device)\n",
    "decoder_lstm = AttnDecoderLSTM(hidden_size, en_vectors, seq_length).to(device)\n",
    "\n",
    "encoder_gru = EncoderBiGRU(hidden_size, fr_vectors).to(device)\n",
    "decoder_gru = AttnDecoderGRU(hidden_size, en_vectors, seq_length).to(device)"
   ]
  },
  {
   "cell_type": "code",
   "execution_count": 386,
   "metadata": {},
   "outputs": [
    {
     "name": "stdout",
     "output_type": "stream",
     "text": [
      "Training model from scratch.\n"
     ]
    }
   ],
   "source": [
    "from_scratch = True # Set to False if you have saved weights and want to load them\n",
    "\n",
    "if not from_scratch:\n",
    "    # Load weights from earlier model\n",
    "    encoder_lstm_state_dict = torch.load('models/encoder2_lstm.pth')\n",
    "    decoder_lstm_state_dict = torch.load('models/decoder2_lstm.pth')\n",
    "\n",
    "    encoder_lstm.load_state_dict(encoder_lstm_state_dict)\n",
    "    decoder_lstm.load_state_dict(decoder_lstm_state_dict)\n",
    "    \n",
    "        # Load weights from earlier model\n",
    "    encoder_gru_state_dict = torch.load('models/encoder2_gru.pth')\n",
    "    decoder_gru_state_dict = torch.load('models/decoder2_gru.pth')\n",
    "\n",
    "    encoder_gru.load_state_dict(encoder_gru_state_dict)\n",
    "    decoder_gru.load_state_dict(decoder_gru_state_dict)\n",
    "else:\n",
    "    print('Training model from scratch.')"
   ]
  },
  {
   "cell_type": "code",
   "execution_count": 387,
   "metadata": {},
   "outputs": [
    {
     "name": "stdout",
     "output_type": "stream",
     "text": [
      "Epoch 1/10\n",
      "After 100 batches, average loss/100 batches: 89.78755554199219\n",
      "After 200 batches, average loss/100 batches: 56.363150100708005\n",
      "After 300 batches, average loss/100 batches: 51.06787837982178\n",
      "After 400 batches, average loss/100 batches: 49.89386299133301\n",
      "After 500 batches, average loss/100 batches: 49.30248157501221\n",
      "After 600 batches, average loss/100 batches: 48.27223724365234\n",
      "After 700 batches, average loss/100 batches: 47.36996662139892\n",
      "After 800 batches, average loss/100 batches: 46.99527225494385\n",
      "After 900 batches, average loss/100 batches: 47.666773109436036\n",
      "After 1000 batches, average loss/100 batches: 46.77175491333008\n",
      "After 1100 batches, average loss/100 batches: 47.16666210174561\n",
      "After 1200 batches, average loss/100 batches: 46.41735034942627\n",
      "After 1300 batches, average loss/100 batches: 46.40738418579102\n",
      "After 1400 batches, average loss/100 batches: 45.823603343963626\n",
      "After 1500 batches, average loss/100 batches: 45.53705459594727\n",
      "After 1600 batches, average loss/100 batches: 45.43678619384766\n",
      "After 1700 batches, average loss/100 batches: 46.117745056152344\n",
      "After 1800 batches, average loss/100 batches: 45.017077388763425\n",
      "After 1900 batches, average loss/100 batches: 45.812068977355956\n",
      "After 2000 batches, average loss/100 batches: 43.98764862060547\n",
      "After 2100 batches, average loss/100 batches: 45.04563053131103\n",
      "After 2200 batches, average loss/100 batches: 44.52757820129395\n",
      "After 2300 batches, average loss/100 batches: 45.3507967376709\n",
      "After 2400 batches, average loss/100 batches: 43.725519065856936\n",
      "After 2500 batches, average loss/100 batches: 43.964403820037845\n",
      "After 2600 batches, average loss/100 batches: 44.45439205169678\n",
      "After 2700 batches, average loss/100 batches: 44.11221115112305\n",
      "After 2800 batches, average loss/100 batches: 43.98766548156738\n",
      "After 2900 batches, average loss/100 batches: 43.94729042053223\n",
      "After 3000 batches, average loss/100 batches: 43.749733963012694\n",
      "After 3100 batches, average loss/100 batches: 44.4026672744751\n",
      "After 3200 batches, average loss/100 batches: 43.7307225227356\n",
      "After 3300 batches, average loss/100 batches: 44.43025421142578\n",
      "After 3400 batches, average loss/100 batches: 42.66195487976074\n",
      "After 3500 batches, average loss/100 batches: 43.22261404037476\n",
      "After 3600 batches, average loss/100 batches: 43.289283447265625\n",
      "After 3700 batches, average loss/100 batches: 43.52609481811523\n",
      "After 3800 batches, average loss/100 batches: 43.00888694763184\n",
      "After 3900 batches, average loss/100 batches: 43.09854808807373\n",
      "After 4000 batches, average loss/100 batches: 42.148455963134765\n",
      "After 4100 batches, average loss/100 batches: 42.8146724319458\n",
      "After 4200 batches, average loss/100 batches: 42.85504722595215\n",
      "After 4300 batches, average loss/100 batches: 42.456144371032714\n",
      "After 4400 batches, average loss/100 batches: 42.33321613311767\n",
      "After 4500 batches, average loss/100 batches: 41.95385913848877\n",
      "After 4600 batches, average loss/100 batches: 41.830771160125735\n",
      "After 4700 batches, average loss/100 batches: 42.21899259567261\n",
      "After 4800 batches, average loss/100 batches: 42.938201141357425\n",
      "After 4900 batches, average loss/100 batches: 41.733003273010254\n",
      "After 5000 batches, average loss/100 batches: 41.78383392333984\n",
      "After 5100 batches, average loss/100 batches: 41.430184516906735\n",
      "After 5200 batches, average loss/100 batches: 41.209078540802004\n",
      "After 5300 batches, average loss/100 batches: 41.679579944610595\n",
      "After 5400 batches, average loss/100 batches: 41.44705602645874\n",
      "After 5500 batches, average loss/100 batches: 41.58678941726684\n",
      "After 5600 batches, average loss/100 batches: 41.415339107513425\n",
      "After 5700 batches, average loss/100 batches: 41.22228296279907\n",
      "After 5800 batches, average loss/100 batches: 42.096034355163575\n",
      "After 5900 batches, average loss/100 batches: 41.6635090637207\n",
      "After 6000 batches, average loss/100 batches: 40.99560174942017\n",
      "After 6100 batches, average loss/100 batches: 41.11033222198486\n",
      "After 6200 batches, average loss/100 batches: 41.923147697448734\n",
      "After 6300 batches, average loss/100 batches: 40.90281293869018\n",
      "After 6400 batches, average loss/100 batches: 40.24538669586182\n",
      "After 6500 batches, average loss/100 batches: 40.85137554168701\n",
      "After 6600 batches, average loss/100 batches: 40.45854013442993\n",
      "After 6700 batches, average loss/100 batches: 41.206278533935546\n",
      "After 6800 batches, average loss/100 batches: 40.55838762283325\n",
      "After 6900 batches, average loss/100 batches: 41.32727207183838\n",
      "After 7000 batches, average loss/100 batches: 40.108299026489256\n",
      "After 7100 batches, average loss/100 batches: 40.53170299530029\n",
      "After 7200 batches, average loss/100 batches: 40.04142921447754\n",
      "After 7300 batches, average loss/100 batches: 39.83930047988892\n",
      "After 7400 batches, average loss/100 batches: 40.015284366607666\n",
      "After 7500 batches, average loss/100 batches: 40.30890356063843\n",
      "After 7600 batches, average loss/100 batches: 40.978482456207274\n",
      "After 7700 batches, average loss/100 batches: 39.46049106597901\n",
      "After 7800 batches, average loss/100 batches: 40.417350406646726\n",
      "After 7900 batches, average loss/100 batches: 40.40191104888916\n",
      "After 8000 batches, average loss/100 batches: 39.14601854324341\n",
      "After 8100 batches, average loss/100 batches: 39.88517436981201\n",
      "After 8200 batches, average loss/100 batches: 39.53833917617798\n",
      "After 8300 batches, average loss/100 batches: 39.01230602264404\n",
      "After 8400 batches, average loss/100 batches: 39.28595569610596\n",
      "After 8500 batches, average loss/100 batches: 38.85495477676392\n",
      "After 8600 batches, average loss/100 batches: 39.564293937683104\n",
      "After 8700 batches, average loss/100 batches: 39.35254304885864\n",
      "Epoch 2/10\n",
      "After 100 batches, average loss/100 batches: 38.767503929138186\n",
      "After 200 batches, average loss/100 batches: 39.5428470993042\n",
      "After 300 batches, average loss/100 batches: 38.922972450256346\n",
      "After 400 batches, average loss/100 batches: 38.88064929962158\n",
      "After 500 batches, average loss/100 batches: 38.895615615844726\n",
      "After 600 batches, average loss/100 batches: 39.371858806610106\n",
      "After 700 batches, average loss/100 batches: 39.485628051757814\n",
      "After 800 batches, average loss/100 batches: 38.78423986434937\n",
      "After 900 batches, average loss/100 batches: 38.991203479766845\n",
      "After 1000 batches, average loss/100 batches: 38.570025787353515\n",
      "After 1100 batches, average loss/100 batches: 38.65049282073974\n",
      "After 1200 batches, average loss/100 batches: 39.20144666671753\n",
      "After 1300 batches, average loss/100 batches: 39.40407781600952\n",
      "After 1400 batches, average loss/100 batches: 38.142019767761234\n",
      "After 1500 batches, average loss/100 batches: 38.14387609481812\n",
      "After 1600 batches, average loss/100 batches: 37.43760744094848\n",
      "After 1700 batches, average loss/100 batches: 37.51583511352539\n",
      "After 1800 batches, average loss/100 batches: 38.768397693634036\n",
      "After 1900 batches, average loss/100 batches: 38.36690124511719\n",
      "After 2000 batches, average loss/100 batches: 38.28018905639649\n",
      "After 2100 batches, average loss/100 batches: 38.81889513015747\n",
      "After 2200 batches, average loss/100 batches: 38.422537612915036\n",
      "After 2300 batches, average loss/100 batches: 37.633311672210695\n",
      "After 2400 batches, average loss/100 batches: 37.54778337478638\n",
      "After 2500 batches, average loss/100 batches: 38.22739971160889\n",
      "After 2600 batches, average loss/100 batches: 36.699800910949705\n",
      "After 2700 batches, average loss/100 batches: 37.157605152130124\n",
      "After 2800 batches, average loss/100 batches: 37.654266929626466\n",
      "After 2900 batches, average loss/100 batches: 36.75747554779053\n",
      "After 3000 batches, average loss/100 batches: 37.47938331604004\n",
      "After 3100 batches, average loss/100 batches: 36.91754678726196\n",
      "After 3200 batches, average loss/100 batches: 36.23112968444824\n",
      "After 3300 batches, average loss/100 batches: 37.293896141052244\n",
      "After 3400 batches, average loss/100 batches: 37.45939989089966\n",
      "After 3500 batches, average loss/100 batches: 37.36272401809693\n",
      "After 3600 batches, average loss/100 batches: 37.40138605117798\n",
      "After 3700 batches, average loss/100 batches: 36.386051139831544\n",
      "After 3800 batches, average loss/100 batches: 36.3048815536499\n",
      "After 3900 batches, average loss/100 batches: 37.14665922164917\n",
      "After 4000 batches, average loss/100 batches: 37.02309198379517\n",
      "After 4100 batches, average loss/100 batches: 37.03401273727417\n"
     ]
    },
    {
     "name": "stdout",
     "output_type": "stream",
     "text": [
      "After 4200 batches, average loss/100 batches: 37.36156749725342\n",
      "After 4300 batches, average loss/100 batches: 37.21581081390381\n",
      "After 4400 batches, average loss/100 batches: 37.11998220443726\n",
      "After 4500 batches, average loss/100 batches: 36.20148433685303\n",
      "After 4600 batches, average loss/100 batches: 36.6387313079834\n",
      "After 4700 batches, average loss/100 batches: 36.609323024749756\n",
      "After 4800 batches, average loss/100 batches: 36.52906934738159\n",
      "After 4900 batches, average loss/100 batches: 36.20659791946411\n",
      "After 5000 batches, average loss/100 batches: 37.58200794219971\n",
      "After 5100 batches, average loss/100 batches: 36.38694223403931\n",
      "After 5200 batches, average loss/100 batches: 36.850945148468014\n",
      "After 5300 batches, average loss/100 batches: 36.709273185729984\n",
      "After 5400 batches, average loss/100 batches: 36.79594923019409\n",
      "After 5500 batches, average loss/100 batches: 35.65691114425659\n",
      "After 5600 batches, average loss/100 batches: 35.62733474731445\n",
      "After 5700 batches, average loss/100 batches: 36.21801971435547\n",
      "After 5800 batches, average loss/100 batches: 36.33955137252808\n",
      "After 5900 batches, average loss/100 batches: 35.445806674957275\n",
      "After 6000 batches, average loss/100 batches: 35.44961524963379\n",
      "After 6100 batches, average loss/100 batches: 36.712050113677975\n",
      "After 6200 batches, average loss/100 batches: 37.391619510650635\n",
      "After 6300 batches, average loss/100 batches: 36.154039497375486\n",
      "After 6400 batches, average loss/100 batches: 35.46810094833374\n",
      "After 6500 batches, average loss/100 batches: 36.862775020599365\n",
      "After 6600 batches, average loss/100 batches: 36.43391807556152\n",
      "After 6700 batches, average loss/100 batches: 35.76442642211914\n",
      "After 6800 batches, average loss/100 batches: 35.26186029434204\n",
      "After 6900 batches, average loss/100 batches: 35.44805671691895\n",
      "After 7000 batches, average loss/100 batches: 35.3443225479126\n",
      "After 7100 batches, average loss/100 batches: 36.108635139465335\n",
      "After 7200 batches, average loss/100 batches: 35.98560403823853\n",
      "After 7300 batches, average loss/100 batches: 35.27816297531128\n",
      "After 7400 batches, average loss/100 batches: 35.402087173461915\n",
      "After 7500 batches, average loss/100 batches: 35.153077621459964\n",
      "After 7600 batches, average loss/100 batches: 36.24710636138916\n",
      "After 7700 batches, average loss/100 batches: 35.33247734069824\n",
      "After 7800 batches, average loss/100 batches: 35.68994302749634\n",
      "After 7900 batches, average loss/100 batches: 34.606232147216794\n",
      "After 8000 batches, average loss/100 batches: 34.56687353134155\n",
      "After 8100 batches, average loss/100 batches: 35.03696535110473\n",
      "After 8200 batches, average loss/100 batches: 34.50822406768799\n",
      "After 8300 batches, average loss/100 batches: 34.93307538986206\n",
      "After 8400 batches, average loss/100 batches: 35.122108669281005\n",
      "After 8500 batches, average loss/100 batches: 34.92595666885376\n",
      "After 8600 batches, average loss/100 batches: 35.04684181213379\n",
      "After 8700 batches, average loss/100 batches: 34.51707555770874\n",
      "Epoch 3/10\n",
      "After 100 batches, average loss/100 batches: 34.74714796066284\n",
      "After 200 batches, average loss/100 batches: 34.548179397583006\n",
      "After 300 batches, average loss/100 batches: 33.77626323699951\n",
      "After 400 batches, average loss/100 batches: 34.64124158859253\n",
      "After 500 batches, average loss/100 batches: 33.9847349357605\n",
      "After 600 batches, average loss/100 batches: 34.40713069915771\n",
      "After 700 batches, average loss/100 batches: 34.67316411972046\n",
      "After 800 batches, average loss/100 batches: 34.26993539810181\n",
      "After 900 batches, average loss/100 batches: 34.30782733917236\n",
      "After 1000 batches, average loss/100 batches: 33.41962905883789\n",
      "After 1100 batches, average loss/100 batches: 34.94965805053711\n",
      "After 1200 batches, average loss/100 batches: 33.88097438812256\n",
      "After 1300 batches, average loss/100 batches: 34.57207132339477\n",
      "After 1400 batches, average loss/100 batches: 34.325910053253175\n",
      "After 1500 batches, average loss/100 batches: 34.199136352539064\n",
      "After 1600 batches, average loss/100 batches: 33.81690553665161\n",
      "After 1700 batches, average loss/100 batches: 34.1892985534668\n",
      "After 1800 batches, average loss/100 batches: 33.46441415786743\n",
      "After 1900 batches, average loss/100 batches: 33.1847536277771\n",
      "After 2000 batches, average loss/100 batches: 33.128324012756345\n",
      "After 2100 batches, average loss/100 batches: 32.8127520942688\n",
      "After 2200 batches, average loss/100 batches: 33.71737035751343\n",
      "After 2300 batches, average loss/100 batches: 33.98243993759155\n",
      "After 2400 batches, average loss/100 batches: 32.6233677482605\n",
      "After 2500 batches, average loss/100 batches: 33.03753793716431\n",
      "After 2600 batches, average loss/100 batches: 33.9371068572998\n",
      "After 2700 batches, average loss/100 batches: 33.47559488296509\n",
      "After 2800 batches, average loss/100 batches: 33.93971723556518\n",
      "After 2900 batches, average loss/100 batches: 32.826516761779786\n",
      "After 3000 batches, average loss/100 batches: 33.29006139755249\n",
      "After 3100 batches, average loss/100 batches: 32.67144222259522\n",
      "After 3200 batches, average loss/100 batches: 33.713268699645994\n",
      "After 3300 batches, average loss/100 batches: 32.9344751739502\n",
      "After 3400 batches, average loss/100 batches: 33.402213649749754\n",
      "After 3500 batches, average loss/100 batches: 32.95178050994873\n",
      "After 3600 batches, average loss/100 batches: 33.06318216323852\n",
      "After 3700 batches, average loss/100 batches: 33.085770206451414\n",
      "After 3800 batches, average loss/100 batches: 32.799601287841796\n",
      "After 3900 batches, average loss/100 batches: 33.08713689804077\n",
      "After 4000 batches, average loss/100 batches: 33.18722621917725\n",
      "After 4100 batches, average loss/100 batches: 32.755923900604245\n",
      "After 4200 batches, average loss/100 batches: 33.053411083221434\n",
      "After 4300 batches, average loss/100 batches: 32.918188667297365\n",
      "After 4400 batches, average loss/100 batches: 32.723768348693845\n",
      "After 4500 batches, average loss/100 batches: 33.084304656982425\n",
      "After 4600 batches, average loss/100 batches: 32.20504648208618\n",
      "After 4700 batches, average loss/100 batches: 32.518631858825685\n",
      "After 4800 batches, average loss/100 batches: 32.13472360610962\n",
      "After 4900 batches, average loss/100 batches: 32.89306562423706\n",
      "After 5000 batches, average loss/100 batches: 32.75305892944336\n",
      "After 5100 batches, average loss/100 batches: 31.673808135986327\n",
      "After 5200 batches, average loss/100 batches: 32.90062454223633\n",
      "After 5300 batches, average loss/100 batches: 32.29640661239624\n",
      "After 5400 batches, average loss/100 batches: 31.584300117492674\n",
      "After 5500 batches, average loss/100 batches: 32.83050897598267\n",
      "After 5600 batches, average loss/100 batches: 31.604029006958008\n",
      "After 5700 batches, average loss/100 batches: 32.911118297576905\n",
      "After 5800 batches, average loss/100 batches: 32.77861259460449\n",
      "After 5900 batches, average loss/100 batches: 32.74217435836792\n",
      "After 6000 batches, average loss/100 batches: 32.04335384368896\n",
      "After 6100 batches, average loss/100 batches: 31.92761920928955\n",
      "After 6200 batches, average loss/100 batches: 32.642972736358644\n",
      "After 6300 batches, average loss/100 batches: 31.679355182647704\n",
      "After 6400 batches, average loss/100 batches: 31.626342277526856\n",
      "After 6500 batches, average loss/100 batches: 31.51509208679199\n",
      "After 6600 batches, average loss/100 batches: 32.02876661300659\n",
      "After 6700 batches, average loss/100 batches: 31.88889404296875\n",
      "After 6800 batches, average loss/100 batches: 31.991822090148926\n",
      "After 6900 batches, average loss/100 batches: 31.72285388946533\n",
      "After 7000 batches, average loss/100 batches: 31.281445846557617\n",
      "After 7100 batches, average loss/100 batches: 31.37404609680176\n",
      "After 7200 batches, average loss/100 batches: 31.974078521728515\n",
      "After 7300 batches, average loss/100 batches: 32.34033653259277\n",
      "After 7400 batches, average loss/100 batches: 31.07899263381958\n",
      "After 7500 batches, average loss/100 batches: 31.700982875823975\n",
      "After 7600 batches, average loss/100 batches: 31.563174343109132\n",
      "After 7700 batches, average loss/100 batches: 30.580071926116943\n",
      "After 7800 batches, average loss/100 batches: 32.11268760681153\n",
      "After 7900 batches, average loss/100 batches: 31.07385066986084\n",
      "After 8000 batches, average loss/100 batches: 31.076371421813963\n",
      "After 8100 batches, average loss/100 batches: 30.413524169921875\n",
      "After 8200 batches, average loss/100 batches: 31.148965282440187\n"
     ]
    },
    {
     "name": "stdout",
     "output_type": "stream",
     "text": [
      "After 8300 batches, average loss/100 batches: 32.486974182128904\n",
      "After 8400 batches, average loss/100 batches: 30.563819332122804\n",
      "After 8500 batches, average loss/100 batches: 31.1412052154541\n",
      "After 8600 batches, average loss/100 batches: 30.83517936706543\n",
      "After 8700 batches, average loss/100 batches: 31.282807540893554\n",
      "Epoch 4/10\n",
      "After 100 batches, average loss/100 batches: 30.580917644500733\n",
      "After 200 batches, average loss/100 batches: 31.107788143157958\n",
      "After 300 batches, average loss/100 batches: 30.937579174041748\n",
      "After 400 batches, average loss/100 batches: 30.123394927978516\n",
      "After 500 batches, average loss/100 batches: 31.351253070831298\n",
      "After 600 batches, average loss/100 batches: 30.17005849838257\n",
      "After 700 batches, average loss/100 batches: 30.75767463684082\n",
      "After 800 batches, average loss/100 batches: 30.54774528503418\n",
      "After 900 batches, average loss/100 batches: 30.468756980895996\n",
      "After 1000 batches, average loss/100 batches: 30.226175384521483\n",
      "After 1100 batches, average loss/100 batches: 30.104821949005128\n",
      "After 1200 batches, average loss/100 batches: 31.302623519897463\n",
      "After 1300 batches, average loss/100 batches: 29.695854549407958\n",
      "After 1400 batches, average loss/100 batches: 31.229464530944824\n",
      "After 1500 batches, average loss/100 batches: 30.244647560119628\n",
      "After 1600 batches, average loss/100 batches: 30.14380512237549\n",
      "After 1700 batches, average loss/100 batches: 30.26890449523926\n",
      "After 1800 batches, average loss/100 batches: 29.83775634765625\n",
      "After 1900 batches, average loss/100 batches: 29.315884647369383\n",
      "After 2000 batches, average loss/100 batches: 30.023498153686525\n",
      "After 2100 batches, average loss/100 batches: 29.69836036682129\n",
      "After 2200 batches, average loss/100 batches: 30.554542293548582\n",
      "After 2300 batches, average loss/100 batches: 30.60721857070923\n",
      "After 2400 batches, average loss/100 batches: 30.035277042388916\n",
      "After 2500 batches, average loss/100 batches: 31.143299770355224\n",
      "After 2600 batches, average loss/100 batches: 30.261156482696535\n",
      "After 2700 batches, average loss/100 batches: 28.759508171081542\n",
      "After 2800 batches, average loss/100 batches: 30.044463138580323\n",
      "After 2900 batches, average loss/100 batches: 29.973885803222657\n",
      "After 3000 batches, average loss/100 batches: 29.558524436950684\n",
      "After 3100 batches, average loss/100 batches: 28.931746559143065\n",
      "After 3200 batches, average loss/100 batches: 30.641888275146485\n",
      "After 3300 batches, average loss/100 batches: 30.425999374389647\n",
      "After 3400 batches, average loss/100 batches: 29.798011169433593\n",
      "After 3500 batches, average loss/100 batches: 29.557291374206542\n",
      "After 3600 batches, average loss/100 batches: 29.20536497116089\n",
      "After 3700 batches, average loss/100 batches: 29.723054599761962\n",
      "After 3800 batches, average loss/100 batches: 29.418457126617433\n",
      "After 3900 batches, average loss/100 batches: 30.220671195983886\n",
      "After 4000 batches, average loss/100 batches: 30.488768405914307\n",
      "After 4100 batches, average loss/100 batches: 29.3325772857666\n",
      "After 4200 batches, average loss/100 batches: 29.432500686645508\n",
      "After 4300 batches, average loss/100 batches: 29.79470407485962\n",
      "After 4400 batches, average loss/100 batches: 30.41355428695679\n",
      "After 4500 batches, average loss/100 batches: 29.82281286239624\n",
      "After 4600 batches, average loss/100 batches: 30.42620838165283\n",
      "After 4700 batches, average loss/100 batches: 29.43983549118042\n",
      "After 4800 batches, average loss/100 batches: 29.629988651275635\n",
      "After 4900 batches, average loss/100 batches: 29.617156505584717\n",
      "After 5000 batches, average loss/100 batches: 28.779394817352294\n",
      "After 5100 batches, average loss/100 batches: 28.530081939697265\n",
      "After 5200 batches, average loss/100 batches: 29.09142358779907\n",
      "After 5300 batches, average loss/100 batches: 29.59646961212158\n",
      "After 5400 batches, average loss/100 batches: 29.699322471618654\n",
      "After 5500 batches, average loss/100 batches: 29.241235332489012\n",
      "After 5600 batches, average loss/100 batches: 29.409730014801024\n",
      "After 5700 batches, average loss/100 batches: 28.76633487701416\n",
      "After 5800 batches, average loss/100 batches: 29.913586196899413\n",
      "After 5900 batches, average loss/100 batches: 28.831043319702147\n",
      "After 6000 batches, average loss/100 batches: 28.60401023864746\n",
      "After 6100 batches, average loss/100 batches: 29.135125198364257\n",
      "After 6200 batches, average loss/100 batches: 28.041450386047362\n",
      "After 6300 batches, average loss/100 batches: 29.009732398986817\n",
      "After 6400 batches, average loss/100 batches: 28.83985683441162\n",
      "After 6500 batches, average loss/100 batches: 29.613551082611085\n",
      "After 6600 batches, average loss/100 batches: 28.984241676330566\n",
      "After 6700 batches, average loss/100 batches: 28.183136405944825\n",
      "After 6800 batches, average loss/100 batches: 29.02942077636719\n",
      "After 6900 batches, average loss/100 batches: 28.80863645553589\n",
      "After 7000 batches, average loss/100 batches: 29.232292709350585\n",
      "After 7100 batches, average loss/100 batches: 29.60885055541992\n",
      "After 7200 batches, average loss/100 batches: 27.619701652526857\n",
      "After 7300 batches, average loss/100 batches: 28.169440841674806\n",
      "After 7400 batches, average loss/100 batches: 28.107702617645263\n",
      "After 7500 batches, average loss/100 batches: 28.853937568664552\n",
      "After 7600 batches, average loss/100 batches: 28.783771877288817\n",
      "After 7700 batches, average loss/100 batches: 28.99006446838379\n",
      "After 7800 batches, average loss/100 batches: 28.501139793395996\n",
      "After 7900 batches, average loss/100 batches: 28.317856311798096\n",
      "After 8000 batches, average loss/100 batches: 27.8671590423584\n",
      "After 8100 batches, average loss/100 batches: 26.905290184020995\n",
      "After 8200 batches, average loss/100 batches: 28.322911472320556\n",
      "After 8300 batches, average loss/100 batches: 28.515749320983886\n",
      "After 8400 batches, average loss/100 batches: 28.349742546081544\n",
      "After 8500 batches, average loss/100 batches: 28.45813325881958\n",
      "After 8600 batches, average loss/100 batches: 28.459120330810546\n",
      "After 8700 batches, average loss/100 batches: 27.92918207168579\n",
      "Epoch 5/10\n",
      "After 100 batches, average loss/100 batches: 27.745735893249513\n",
      "After 200 batches, average loss/100 batches: 27.86127944946289\n",
      "After 300 batches, average loss/100 batches: 26.85238716125488\n",
      "After 400 batches, average loss/100 batches: 28.76281686782837\n",
      "After 500 batches, average loss/100 batches: 27.98128122329712\n",
      "After 600 batches, average loss/100 batches: 28.92314874649048\n",
      "After 700 batches, average loss/100 batches: 27.150267086029054\n",
      "After 800 batches, average loss/100 batches: 27.919427108764648\n",
      "After 900 batches, average loss/100 batches: 27.82195032119751\n",
      "After 1000 batches, average loss/100 batches: 27.522221088409424\n",
      "After 1100 batches, average loss/100 batches: 27.690975761413576\n",
      "After 1200 batches, average loss/100 batches: 26.86962205886841\n",
      "After 1300 batches, average loss/100 batches: 28.22756923675537\n",
      "After 1400 batches, average loss/100 batches: 27.787861671447754\n",
      "After 1500 batches, average loss/100 batches: 27.888760089874268\n",
      "After 1600 batches, average loss/100 batches: 27.524923362731933\n",
      "After 1700 batches, average loss/100 batches: 28.62033931732178\n",
      "After 1800 batches, average loss/100 batches: 26.95671621322632\n",
      "After 1900 batches, average loss/100 batches: 27.869722118377684\n",
      "After 2000 batches, average loss/100 batches: 27.639582958221435\n",
      "After 2100 batches, average loss/100 batches: 28.344757556915283\n",
      "After 2200 batches, average loss/100 batches: 27.682100582122803\n",
      "After 2300 batches, average loss/100 batches: 27.51900220870972\n",
      "After 2400 batches, average loss/100 batches: 28.53077362060547\n",
      "After 2500 batches, average loss/100 batches: 27.082590703964232\n",
      "After 2600 batches, average loss/100 batches: 27.08691041946411\n",
      "After 2700 batches, average loss/100 batches: 27.28797655105591\n",
      "After 2800 batches, average loss/100 batches: 26.94282947540283\n",
      "After 2900 batches, average loss/100 batches: 27.458794536590577\n",
      "After 3000 batches, average loss/100 batches: 26.610827217102052\n",
      "After 3100 batches, average loss/100 batches: 26.44446548461914\n",
      "After 3200 batches, average loss/100 batches: 27.380480422973633\n",
      "After 3300 batches, average loss/100 batches: 26.947801723480225\n",
      "After 3400 batches, average loss/100 batches: 27.07087375640869\n",
      "After 3500 batches, average loss/100 batches: 26.780944919586183\n"
     ]
    },
    {
     "name": "stdout",
     "output_type": "stream",
     "text": [
      "After 3600 batches, average loss/100 batches: 26.58731698989868\n",
      "After 3700 batches, average loss/100 batches: 27.578255157470704\n",
      "After 3800 batches, average loss/100 batches: 26.697676696777343\n",
      "After 3900 batches, average loss/100 batches: 27.101485385894776\n",
      "After 4000 batches, average loss/100 batches: 26.59750862121582\n",
      "After 4100 batches, average loss/100 batches: 26.909509534835816\n",
      "After 4200 batches, average loss/100 batches: 28.136176776885986\n",
      "After 4300 batches, average loss/100 batches: 28.458004512786864\n",
      "After 4400 batches, average loss/100 batches: 27.772155799865722\n",
      "After 4500 batches, average loss/100 batches: 27.09407283782959\n",
      "After 4600 batches, average loss/100 batches: 26.464276275634766\n",
      "After 4700 batches, average loss/100 batches: 27.319058971405028\n",
      "After 4800 batches, average loss/100 batches: 27.44711811065674\n",
      "After 4900 batches, average loss/100 batches: 26.70475383758545\n",
      "After 5000 batches, average loss/100 batches: 26.635469646453856\n",
      "After 5100 batches, average loss/100 batches: 25.577354660034178\n",
      "After 5200 batches, average loss/100 batches: 27.12525791168213\n",
      "After 5300 batches, average loss/100 batches: 26.218488140106203\n",
      "After 5400 batches, average loss/100 batches: 27.594617500305176\n",
      "After 5500 batches, average loss/100 batches: 26.209579601287842\n",
      "After 5600 batches, average loss/100 batches: 26.577261543273927\n",
      "After 5700 batches, average loss/100 batches: 26.99457176208496\n",
      "After 5800 batches, average loss/100 batches: 27.50932369232178\n",
      "After 5900 batches, average loss/100 batches: 26.120690879821776\n",
      "After 6000 batches, average loss/100 batches: 25.641386013031006\n",
      "After 6100 batches, average loss/100 batches: 26.617385845184327\n",
      "After 6200 batches, average loss/100 batches: 26.453364429473876\n",
      "After 6300 batches, average loss/100 batches: 26.7674435710907\n",
      "After 6400 batches, average loss/100 batches: 26.379946613311766\n",
      "After 6500 batches, average loss/100 batches: 27.78729955673218\n",
      "After 6600 batches, average loss/100 batches: 26.62658535003662\n",
      "After 6700 batches, average loss/100 batches: 26.965772008895875\n",
      "After 6800 batches, average loss/100 batches: 26.100994873046876\n",
      "After 6900 batches, average loss/100 batches: 26.765332489013673\n",
      "After 7000 batches, average loss/100 batches: 26.86483112335205\n",
      "After 7100 batches, average loss/100 batches: 26.34474620819092\n",
      "After 7200 batches, average loss/100 batches: 26.578334102630617\n",
      "After 7300 batches, average loss/100 batches: 26.008139572143556\n",
      "After 7400 batches, average loss/100 batches: 25.132129526138307\n",
      "After 7500 batches, average loss/100 batches: 26.78961130142212\n",
      "After 7600 batches, average loss/100 batches: 25.38660545349121\n",
      "After 7700 batches, average loss/100 batches: 26.182303066253663\n",
      "After 7800 batches, average loss/100 batches: 26.17838333129883\n",
      "After 7900 batches, average loss/100 batches: 25.762250185012817\n",
      "After 8000 batches, average loss/100 batches: 26.499333000183107\n",
      "After 8100 batches, average loss/100 batches: 26.41092230796814\n",
      "After 8200 batches, average loss/100 batches: 26.227105808258056\n",
      "After 8300 batches, average loss/100 batches: 26.138346319198607\n",
      "After 8400 batches, average loss/100 batches: 25.708050708770752\n",
      "After 8500 batches, average loss/100 batches: 25.812897996902464\n",
      "After 8600 batches, average loss/100 batches: 25.745206089019774\n",
      "After 8700 batches, average loss/100 batches: 26.113104457855226\n",
      "Epoch 6/10\n",
      "After 100 batches, average loss/100 batches: 25.915928459167482\n",
      "After 200 batches, average loss/100 batches: 26.00203960418701\n",
      "After 300 batches, average loss/100 batches: 25.720420923233032\n",
      "After 400 batches, average loss/100 batches: 25.83500062942505\n",
      "After 500 batches, average loss/100 batches: 25.371279220581055\n",
      "After 600 batches, average loss/100 batches: 25.76363265991211\n",
      "After 700 batches, average loss/100 batches: 25.07466121673584\n",
      "After 800 batches, average loss/100 batches: 25.69735330581665\n",
      "After 900 batches, average loss/100 batches: 25.460007228851318\n",
      "After 1000 batches, average loss/100 batches: 24.626760272979737\n",
      "After 1100 batches, average loss/100 batches: 25.762213439941405\n",
      "After 1200 batches, average loss/100 batches: 26.067491035461426\n",
      "After 1300 batches, average loss/100 batches: 24.787448692321778\n",
      "After 1400 batches, average loss/100 batches: 24.453212032318117\n",
      "After 1500 batches, average loss/100 batches: 25.837371921539308\n",
      "After 1600 batches, average loss/100 batches: 25.474827136993408\n",
      "After 1700 batches, average loss/100 batches: 24.995859699249266\n",
      "After 1800 batches, average loss/100 batches: 25.389930620193482\n",
      "After 1900 batches, average loss/100 batches: 24.61239730834961\n",
      "After 2000 batches, average loss/100 batches: 24.87424654006958\n",
      "After 2100 batches, average loss/100 batches: 24.93349810600281\n",
      "After 2200 batches, average loss/100 batches: 24.896198244094847\n",
      "After 2300 batches, average loss/100 batches: 24.974766473770142\n",
      "After 2400 batches, average loss/100 batches: 25.364980087280273\n",
      "After 2500 batches, average loss/100 batches: 25.27282331466675\n",
      "After 2600 batches, average loss/100 batches: 26.108068714141847\n",
      "After 2700 batches, average loss/100 batches: 25.052180728912354\n",
      "After 2800 batches, average loss/100 batches: 24.644054069519044\n",
      "After 2900 batches, average loss/100 batches: 24.374709434509278\n",
      "After 3000 batches, average loss/100 batches: 25.253471622467043\n",
      "After 3100 batches, average loss/100 batches: 24.86950080871582\n",
      "After 3200 batches, average loss/100 batches: 25.815483388900756\n",
      "After 3300 batches, average loss/100 batches: 26.12974660873413\n",
      "After 3400 batches, average loss/100 batches: 25.2536452293396\n",
      "After 3500 batches, average loss/100 batches: 25.42394814491272\n",
      "After 3600 batches, average loss/100 batches: 24.939657983779906\n",
      "After 3700 batches, average loss/100 batches: 25.453555355072023\n",
      "After 3800 batches, average loss/100 batches: 24.8906782913208\n",
      "After 3900 batches, average loss/100 batches: 25.000453128814698\n",
      "After 4000 batches, average loss/100 batches: 25.02701903343201\n",
      "After 4100 batches, average loss/100 batches: 25.621847848892212\n",
      "After 4200 batches, average loss/100 batches: 25.088863849639893\n",
      "After 4300 batches, average loss/100 batches: 24.718932666778564\n",
      "After 4400 batches, average loss/100 batches: 25.392734336853028\n",
      "After 4500 batches, average loss/100 batches: 24.623908901214598\n",
      "After 4600 batches, average loss/100 batches: 25.598048334121703\n",
      "After 4700 batches, average loss/100 batches: 24.86782156944275\n",
      "After 4800 batches, average loss/100 batches: 25.313912448883055\n",
      "After 4900 batches, average loss/100 batches: 25.563727588653563\n",
      "After 5000 batches, average loss/100 batches: 24.83700601577759\n",
      "After 5100 batches, average loss/100 batches: 24.191324310302733\n",
      "After 5200 batches, average loss/100 batches: 25.63170455932617\n",
      "After 5300 batches, average loss/100 batches: 24.51463938713074\n",
      "After 5400 batches, average loss/100 batches: 24.73521233558655\n",
      "After 5500 batches, average loss/100 batches: 25.088104038238527\n",
      "After 5600 batches, average loss/100 batches: 24.661369171142578\n",
      "After 5700 batches, average loss/100 batches: 23.948405208587648\n",
      "After 5800 batches, average loss/100 batches: 24.018692474365235\n",
      "After 5900 batches, average loss/100 batches: 24.791343965530395\n",
      "After 6000 batches, average loss/100 batches: 25.02344244003296\n",
      "After 6100 batches, average loss/100 batches: 24.57241473197937\n",
      "After 6200 batches, average loss/100 batches: 23.939207124710084\n",
      "After 6300 batches, average loss/100 batches: 24.534092054367065\n",
      "After 6400 batches, average loss/100 batches: 24.390303249359132\n",
      "After 6500 batches, average loss/100 batches: 24.67313247680664\n",
      "After 6600 batches, average loss/100 batches: 24.63864959716797\n",
      "After 6700 batches, average loss/100 batches: 23.983352823257448\n",
      "After 6800 batches, average loss/100 batches: 24.67192644119263\n",
      "After 6900 batches, average loss/100 batches: 24.876223468780516\n",
      "After 7000 batches, average loss/100 batches: 25.288078022003173\n",
      "After 7100 batches, average loss/100 batches: 24.35315746307373\n",
      "After 7200 batches, average loss/100 batches: 23.97155679702759\n",
      "After 7300 batches, average loss/100 batches: 24.376179237365722\n",
      "After 7400 batches, average loss/100 batches: 23.2657399559021\n",
      "After 7500 batches, average loss/100 batches: 24.370295505523682\n"
     ]
    },
    {
     "name": "stdout",
     "output_type": "stream",
     "text": [
      "After 7600 batches, average loss/100 batches: 24.323343057632446\n",
      "After 7700 batches, average loss/100 batches: 24.74954421043396\n",
      "After 7800 batches, average loss/100 batches: 24.509552993774413\n",
      "After 7900 batches, average loss/100 batches: 24.193074531555176\n",
      "After 8000 batches, average loss/100 batches: 24.033930883407592\n",
      "After 8100 batches, average loss/100 batches: 24.427375736236574\n",
      "After 8200 batches, average loss/100 batches: 23.419565620422365\n",
      "After 8300 batches, average loss/100 batches: 24.08783465385437\n",
      "After 8400 batches, average loss/100 batches: 24.847411231994627\n",
      "After 8500 batches, average loss/100 batches: 23.837973594665527\n",
      "After 8600 batches, average loss/100 batches: 24.239893827438355\n",
      "After 8700 batches, average loss/100 batches: 24.717936782836915\n",
      "Epoch 7/10\n",
      "After 100 batches, average loss/100 batches: 23.51910885810852\n",
      "After 200 batches, average loss/100 batches: 24.225512189865114\n",
      "After 300 batches, average loss/100 batches: 23.184862422943116\n",
      "After 400 batches, average loss/100 batches: 23.822811918258665\n",
      "After 500 batches, average loss/100 batches: 24.18794783592224\n",
      "After 600 batches, average loss/100 batches: 23.703013820648195\n",
      "After 700 batches, average loss/100 batches: 24.112873325347902\n",
      "After 800 batches, average loss/100 batches: 23.454666385650636\n",
      "After 900 batches, average loss/100 batches: 23.901855459213255\n",
      "After 1000 batches, average loss/100 batches: 22.88946635246277\n",
      "After 1100 batches, average loss/100 batches: 23.451216745376588\n",
      "After 1200 batches, average loss/100 batches: 24.46638547897339\n",
      "After 1300 batches, average loss/100 batches: 23.63911470413208\n",
      "After 1400 batches, average loss/100 batches: 23.410573501586914\n",
      "After 1500 batches, average loss/100 batches: 23.55109293937683\n",
      "After 1600 batches, average loss/100 batches: 23.729585218429566\n",
      "After 1700 batches, average loss/100 batches: 23.380030241012573\n",
      "After 1800 batches, average loss/100 batches: 22.45996760368347\n",
      "After 1900 batches, average loss/100 batches: 24.03148247718811\n",
      "After 2000 batches, average loss/100 batches: 23.378708181381224\n",
      "After 2100 batches, average loss/100 batches: 23.086543712615967\n",
      "After 2200 batches, average loss/100 batches: 24.185299186706544\n",
      "After 2300 batches, average loss/100 batches: 23.701747245788575\n",
      "After 2400 batches, average loss/100 batches: 23.664728927612305\n",
      "After 2500 batches, average loss/100 batches: 23.468783226013183\n",
      "After 2600 batches, average loss/100 batches: 24.43519956588745\n",
      "After 2700 batches, average loss/100 batches: 24.17035331726074\n",
      "After 2800 batches, average loss/100 batches: 23.12943353652954\n",
      "After 2900 batches, average loss/100 batches: 22.84504274368286\n",
      "After 3000 batches, average loss/100 batches: 23.110522956848143\n",
      "After 3100 batches, average loss/100 batches: 23.404818449020386\n",
      "After 3200 batches, average loss/100 batches: 23.200733222961425\n",
      "After 3300 batches, average loss/100 batches: 23.900525312423706\n",
      "After 3400 batches, average loss/100 batches: 22.906795377731324\n",
      "After 3500 batches, average loss/100 batches: 23.13360743522644\n",
      "After 3600 batches, average loss/100 batches: 23.189219703674315\n",
      "After 3700 batches, average loss/100 batches: 23.677931537628172\n",
      "After 3800 batches, average loss/100 batches: 23.18858814239502\n",
      "After 3900 batches, average loss/100 batches: 22.802274837493897\n",
      "After 4000 batches, average loss/100 batches: 23.30684245109558\n",
      "After 4100 batches, average loss/100 batches: 23.551687507629396\n",
      "After 4200 batches, average loss/100 batches: 23.790774097442625\n",
      "After 4300 batches, average loss/100 batches: 23.940443134307863\n",
      "After 4400 batches, average loss/100 batches: 23.12944588661194\n",
      "After 4500 batches, average loss/100 batches: 22.93782932281494\n",
      "After 4600 batches, average loss/100 batches: 23.310842237472535\n",
      "After 4700 batches, average loss/100 batches: 23.500549573898315\n",
      "After 4800 batches, average loss/100 batches: 23.249101276397706\n",
      "After 4900 batches, average loss/100 batches: 22.602224645614623\n",
      "After 5000 batches, average loss/100 batches: 22.40323091506958\n",
      "After 5100 batches, average loss/100 batches: 23.292774457931518\n",
      "After 5200 batches, average loss/100 batches: 23.144754543304444\n",
      "After 5300 batches, average loss/100 batches: 22.305759687423706\n",
      "After 5400 batches, average loss/100 batches: 23.53746509552002\n",
      "After 5500 batches, average loss/100 batches: 23.30163809776306\n",
      "After 5600 batches, average loss/100 batches: 23.46505976676941\n",
      "After 5700 batches, average loss/100 batches: 23.17650544166565\n",
      "After 5800 batches, average loss/100 batches: 22.71712121963501\n",
      "After 5900 batches, average loss/100 batches: 21.85275270462036\n",
      "After 6000 batches, average loss/100 batches: 22.823918876647948\n",
      "After 6100 batches, average loss/100 batches: 22.733116121292113\n",
      "After 6200 batches, average loss/100 batches: 23.33816530227661\n",
      "After 6300 batches, average loss/100 batches: 22.726556129455567\n",
      "After 6400 batches, average loss/100 batches: 23.432142934799195\n",
      "After 6500 batches, average loss/100 batches: 22.516717700958253\n",
      "After 6600 batches, average loss/100 batches: 23.375168991088866\n",
      "After 6700 batches, average loss/100 batches: 22.517911252975463\n",
      "After 6800 batches, average loss/100 batches: 23.070361404418946\n",
      "After 6900 batches, average loss/100 batches: 22.76499011039734\n",
      "After 7000 batches, average loss/100 batches: 23.678426208496095\n",
      "After 7100 batches, average loss/100 batches: 22.619747791290283\n",
      "After 7200 batches, average loss/100 batches: 23.26452688217163\n",
      "After 7300 batches, average loss/100 batches: 23.25895262718201\n",
      "After 7400 batches, average loss/100 batches: 22.726618185043336\n",
      "After 7500 batches, average loss/100 batches: 23.17521490097046\n",
      "After 7600 batches, average loss/100 batches: 22.82374056816101\n",
      "After 7700 batches, average loss/100 batches: 23.303510122299194\n",
      "After 7800 batches, average loss/100 batches: 23.62812774658203\n",
      "After 7900 batches, average loss/100 batches: 22.866972093582152\n",
      "After 8000 batches, average loss/100 batches: 23.219207735061644\n",
      "After 8100 batches, average loss/100 batches: 21.969253005981447\n",
      "After 8200 batches, average loss/100 batches: 23.02417203903198\n",
      "After 8300 batches, average loss/100 batches: 23.522266969680786\n",
      "After 8400 batches, average loss/100 batches: 22.532094497680664\n",
      "After 8500 batches, average loss/100 batches: 23.26071666717529\n",
      "After 8600 batches, average loss/100 batches: 23.60040554046631\n",
      "After 8700 batches, average loss/100 batches: 23.091393928527832\n",
      "Epoch 8/10\n",
      "After 100 batches, average loss/100 batches: 22.742298746109007\n",
      "After 200 batches, average loss/100 batches: 22.595150423049926\n",
      "After 300 batches, average loss/100 batches: 22.21070828437805\n",
      "After 400 batches, average loss/100 batches: 22.0400470161438\n",
      "After 500 batches, average loss/100 batches: 21.975978031158448\n",
      "After 600 batches, average loss/100 batches: 22.418382177352907\n",
      "After 700 batches, average loss/100 batches: 22.135776348114014\n",
      "After 800 batches, average loss/100 batches: 23.25442271232605\n",
      "After 900 batches, average loss/100 batches: 22.32427219390869\n",
      "After 1000 batches, average loss/100 batches: 22.262627420425414\n",
      "After 1100 batches, average loss/100 batches: 22.107597036361696\n",
      "After 1200 batches, average loss/100 batches: 22.214137306213377\n",
      "After 1300 batches, average loss/100 batches: 22.37987151145935\n",
      "After 1400 batches, average loss/100 batches: 21.5017871761322\n",
      "After 1500 batches, average loss/100 batches: 22.076532192230225\n",
      "After 1600 batches, average loss/100 batches: 22.052056665420533\n",
      "After 1700 batches, average loss/100 batches: 21.33527581214905\n",
      "After 1800 batches, average loss/100 batches: 21.964041290283202\n",
      "After 1900 batches, average loss/100 batches: 21.8063431930542\n",
      "After 2000 batches, average loss/100 batches: 22.28197525024414\n",
      "After 2100 batches, average loss/100 batches: 21.44909864425659\n",
      "After 2200 batches, average loss/100 batches: 22.3341446685791\n",
      "After 2300 batches, average loss/100 batches: 21.07405376434326\n",
      "After 2400 batches, average loss/100 batches: 21.803896884918213\n",
      "After 2500 batches, average loss/100 batches: 21.98642501831055\n",
      "After 2600 batches, average loss/100 batches: 22.47132278442383\n",
      "After 2700 batches, average loss/100 batches: 22.595887985229492\n",
      "After 2800 batches, average loss/100 batches: 23.124546146392824\n"
     ]
    },
    {
     "name": "stdout",
     "output_type": "stream",
     "text": [
      "After 2900 batches, average loss/100 batches: 21.932354068756105\n",
      "After 3000 batches, average loss/100 batches: 22.13373707771301\n",
      "After 3100 batches, average loss/100 batches: 21.909289445877075\n",
      "After 3200 batches, average loss/100 batches: 20.861736278533936\n",
      "After 3300 batches, average loss/100 batches: 22.5925834941864\n",
      "After 3400 batches, average loss/100 batches: 22.442022228240965\n",
      "After 3500 batches, average loss/100 batches: 21.60909384727478\n",
      "After 3600 batches, average loss/100 batches: 21.18065423965454\n",
      "After 3700 batches, average loss/100 batches: 21.377213439941407\n",
      "After 3800 batches, average loss/100 batches: 21.57867211341858\n",
      "After 3900 batches, average loss/100 batches: 21.647577619552614\n",
      "After 4000 batches, average loss/100 batches: 21.689836349487305\n",
      "After 4100 batches, average loss/100 batches: 22.092226667404177\n",
      "After 4200 batches, average loss/100 batches: 21.791877651214598\n",
      "After 4300 batches, average loss/100 batches: 22.086644201278688\n",
      "After 4400 batches, average loss/100 batches: 21.351386260986327\n",
      "After 4500 batches, average loss/100 batches: 22.256718626022337\n",
      "After 4600 batches, average loss/100 batches: 21.600181665420532\n",
      "After 4700 batches, average loss/100 batches: 21.942623195648192\n",
      "After 4800 batches, average loss/100 batches: 22.351784305572508\n",
      "After 4900 batches, average loss/100 batches: 21.419960470199584\n",
      "After 5000 batches, average loss/100 batches: 22.18109742164612\n",
      "After 5100 batches, average loss/100 batches: 22.47435115814209\n",
      "After 5200 batches, average loss/100 batches: 21.313535146713257\n",
      "After 5300 batches, average loss/100 batches: 21.63543126106262\n",
      "After 5400 batches, average loss/100 batches: 20.870575609207155\n",
      "After 5500 batches, average loss/100 batches: 22.05793915748596\n",
      "After 5600 batches, average loss/100 batches: 21.5762668132782\n",
      "After 5700 batches, average loss/100 batches: 21.775143795013427\n",
      "After 5800 batches, average loss/100 batches: 22.54045166015625\n",
      "After 5900 batches, average loss/100 batches: 21.951469354629516\n",
      "After 6000 batches, average loss/100 batches: 22.04678816795349\n",
      "After 6100 batches, average loss/100 batches: 22.637447633743285\n",
      "After 6200 batches, average loss/100 batches: 22.007216091156007\n",
      "After 6300 batches, average loss/100 batches: 21.52994291305542\n",
      "After 6400 batches, average loss/100 batches: 21.836985387802123\n",
      "After 6500 batches, average loss/100 batches: 21.927985315322875\n",
      "After 6600 batches, average loss/100 batches: 21.923954334259033\n",
      "After 6700 batches, average loss/100 batches: 21.283993072509766\n",
      "After 6800 batches, average loss/100 batches: 21.574944610595704\n",
      "After 6900 batches, average loss/100 batches: 22.000922021865843\n",
      "After 7000 batches, average loss/100 batches: 21.687121744155885\n",
      "After 7100 batches, average loss/100 batches: 21.388392429351807\n",
      "After 7200 batches, average loss/100 batches: 22.248551731109618\n",
      "After 7300 batches, average loss/100 batches: 21.774449310302735\n",
      "After 7400 batches, average loss/100 batches: 21.181879224777223\n",
      "After 7500 batches, average loss/100 batches: 20.82449390411377\n",
      "After 7600 batches, average loss/100 batches: 21.904943141937256\n",
      "After 7700 batches, average loss/100 batches: 21.60210548400879\n",
      "After 7800 batches, average loss/100 batches: 22.036402816772462\n",
      "After 7900 batches, average loss/100 batches: 21.886401195526123\n",
      "After 8000 batches, average loss/100 batches: 21.803552808761598\n",
      "After 8100 batches, average loss/100 batches: 21.849146881103515\n",
      "After 8200 batches, average loss/100 batches: 21.446679172515868\n",
      "After 8300 batches, average loss/100 batches: 21.23468565940857\n",
      "After 8400 batches, average loss/100 batches: 21.241448640823364\n",
      "After 8500 batches, average loss/100 batches: 22.25802936553955\n",
      "After 8600 batches, average loss/100 batches: 21.901612043380737\n",
      "After 8700 batches, average loss/100 batches: 21.686720743179322\n",
      "Epoch 9/10\n",
      "After 100 batches, average loss/100 batches: 21.073685493469238\n",
      "After 200 batches, average loss/100 batches: 21.6374534034729\n",
      "After 300 batches, average loss/100 batches: 21.139771194458007\n",
      "After 400 batches, average loss/100 batches: 20.28310848236084\n",
      "After 500 batches, average loss/100 batches: 21.321795349121093\n",
      "After 600 batches, average loss/100 batches: 21.16784665107727\n",
      "After 700 batches, average loss/100 batches: 21.51629681587219\n",
      "After 800 batches, average loss/100 batches: 21.184006175994874\n",
      "After 900 batches, average loss/100 batches: 21.584922370910643\n",
      "After 1000 batches, average loss/100 batches: 20.986015090942384\n",
      "After 1100 batches, average loss/100 batches: 20.81452714920044\n",
      "After 1200 batches, average loss/100 batches: 20.445984897613524\n",
      "After 1300 batches, average loss/100 batches: 20.70842946052551\n",
      "After 1400 batches, average loss/100 batches: 20.59561403274536\n",
      "After 1500 batches, average loss/100 batches: 20.09507929801941\n",
      "After 1600 batches, average loss/100 batches: 21.401381130218507\n",
      "After 1700 batches, average loss/100 batches: 20.975028762817384\n",
      "After 1800 batches, average loss/100 batches: 21.29139221191406\n",
      "After 1900 batches, average loss/100 batches: 20.02926033973694\n",
      "After 2000 batches, average loss/100 batches: 20.137274618148805\n",
      "After 2100 batches, average loss/100 batches: 21.25260974884033\n",
      "After 2200 batches, average loss/100 batches: 21.382806253433227\n",
      "After 2300 batches, average loss/100 batches: 21.463023357391357\n",
      "After 2400 batches, average loss/100 batches: 19.996433191299438\n",
      "After 2500 batches, average loss/100 batches: 21.36025736808777\n",
      "After 2600 batches, average loss/100 batches: 20.785706968307494\n",
      "After 2700 batches, average loss/100 batches: 20.85249077796936\n",
      "After 2800 batches, average loss/100 batches: 20.80062578201294\n",
      "After 2900 batches, average loss/100 batches: 20.18684148788452\n",
      "After 3000 batches, average loss/100 batches: 21.77179922103882\n",
      "After 3100 batches, average loss/100 batches: 20.627976808547974\n",
      "After 3200 batches, average loss/100 batches: 21.07951988220215\n",
      "After 3300 batches, average loss/100 batches: 20.482301692962647\n",
      "After 3400 batches, average loss/100 batches: 21.19138083457947\n",
      "After 3500 batches, average loss/100 batches: 21.216517286300657\n",
      "After 3600 batches, average loss/100 batches: 19.797423067092897\n",
      "After 3700 batches, average loss/100 batches: 20.36281252861023\n",
      "After 3800 batches, average loss/100 batches: 21.257144498825074\n",
      "After 3900 batches, average loss/100 batches: 20.64091181755066\n",
      "After 4000 batches, average loss/100 batches: 20.600193204879762\n",
      "After 4100 batches, average loss/100 batches: 21.21342878341675\n",
      "After 4200 batches, average loss/100 batches: 20.947555112838746\n",
      "After 4300 batches, average loss/100 batches: 20.124323024749756\n",
      "After 4400 batches, average loss/100 batches: 20.33448709487915\n",
      "After 4500 batches, average loss/100 batches: 21.415664348602295\n",
      "After 4600 batches, average loss/100 batches: 20.12353310585022\n",
      "After 4700 batches, average loss/100 batches: 21.090206174850465\n",
      "After 4800 batches, average loss/100 batches: 20.679112157821656\n",
      "After 4900 batches, average loss/100 batches: 20.912082576751708\n",
      "After 5000 batches, average loss/100 batches: 20.355321674346925\n",
      "After 5100 batches, average loss/100 batches: 20.483255043029786\n",
      "After 5200 batches, average loss/100 batches: 21.32284652709961\n",
      "After 5300 batches, average loss/100 batches: 21.1431463432312\n",
      "After 5400 batches, average loss/100 batches: 21.10668424606323\n",
      "After 5500 batches, average loss/100 batches: 20.44034236907959\n",
      "After 5600 batches, average loss/100 batches: 21.802609233856202\n",
      "After 5700 batches, average loss/100 batches: 20.768354530334474\n",
      "After 5800 batches, average loss/100 batches: 20.59132167816162\n",
      "After 5900 batches, average loss/100 batches: 21.726198720932008\n",
      "After 6000 batches, average loss/100 batches: 20.924900188446045\n",
      "After 6100 batches, average loss/100 batches: 20.11207968711853\n",
      "After 6200 batches, average loss/100 batches: 19.545320043563844\n",
      "After 6300 batches, average loss/100 batches: 20.783738708496095\n",
      "After 6400 batches, average loss/100 batches: 20.188821182250976\n",
      "After 6500 batches, average loss/100 batches: 21.131539783477784\n",
      "After 6600 batches, average loss/100 batches: 21.509674825668334\n",
      "After 6700 batches, average loss/100 batches: 20.692194385528566\n",
      "After 6800 batches, average loss/100 batches: 21.252781362533568\n"
     ]
    },
    {
     "name": "stdout",
     "output_type": "stream",
     "text": [
      "After 6900 batches, average loss/100 batches: 20.418753118515014\n",
      "After 7000 batches, average loss/100 batches: 20.1089755153656\n",
      "After 7100 batches, average loss/100 batches: 21.104757347106933\n",
      "After 7200 batches, average loss/100 batches: 20.518469324111937\n",
      "After 7300 batches, average loss/100 batches: 20.03226649284363\n",
      "After 7400 batches, average loss/100 batches: 20.29084303855896\n",
      "After 7500 batches, average loss/100 batches: 20.470893850326537\n",
      "After 7600 batches, average loss/100 batches: 20.61790997505188\n",
      "After 7700 batches, average loss/100 batches: 20.43875901222229\n",
      "After 7800 batches, average loss/100 batches: 21.076590480804445\n",
      "After 7900 batches, average loss/100 batches: 20.51291690826416\n",
      "After 8000 batches, average loss/100 batches: 20.950723733901977\n",
      "After 8100 batches, average loss/100 batches: 21.38690806388855\n",
      "After 8200 batches, average loss/100 batches: 20.235368070602416\n",
      "After 8300 batches, average loss/100 batches: 20.564840269088744\n",
      "After 8400 batches, average loss/100 batches: 21.307111425399782\n",
      "After 8500 batches, average loss/100 batches: 19.768088722229002\n",
      "After 8600 batches, average loss/100 batches: 20.660652389526366\n",
      "After 8700 batches, average loss/100 batches: 21.236703367233275\n",
      "Epoch 10/10\n",
      "After 100 batches, average loss/100 batches: 19.60836569786072\n",
      "After 200 batches, average loss/100 batches: 20.281965847015382\n",
      "After 300 batches, average loss/100 batches: 19.574622831344605\n",
      "After 400 batches, average loss/100 batches: 19.83238618850708\n",
      "After 500 batches, average loss/100 batches: 19.543647861480714\n",
      "After 600 batches, average loss/100 batches: 19.268791246414185\n",
      "After 700 batches, average loss/100 batches: 19.922041902542116\n",
      "After 800 batches, average loss/100 batches: 19.7575816822052\n",
      "After 900 batches, average loss/100 batches: 19.64671528816223\n",
      "After 1000 batches, average loss/100 batches: 19.893965711593626\n",
      "After 1100 batches, average loss/100 batches: 19.83278422355652\n",
      "After 1200 batches, average loss/100 batches: 19.532956981658934\n",
      "After 1300 batches, average loss/100 batches: 19.592894392013548\n",
      "After 1400 batches, average loss/100 batches: 20.44466386795044\n",
      "After 1500 batches, average loss/100 batches: 20.18362545967102\n",
      "After 1600 batches, average loss/100 batches: 20.13727328300476\n",
      "After 1700 batches, average loss/100 batches: 19.827196712493897\n",
      "After 1800 batches, average loss/100 batches: 19.937315893173217\n",
      "After 1900 batches, average loss/100 batches: 18.94799726486206\n",
      "After 2000 batches, average loss/100 batches: 19.576922693252563\n",
      "After 2100 batches, average loss/100 batches: 19.945342559814453\n",
      "After 2200 batches, average loss/100 batches: 19.82148935317993\n",
      "After 2300 batches, average loss/100 batches: 19.4734245967865\n",
      "After 2400 batches, average loss/100 batches: 19.69234534263611\n",
      "After 2500 batches, average loss/100 batches: 18.821819791793825\n",
      "After 2600 batches, average loss/100 batches: 19.86157856941223\n",
      "After 2700 batches, average loss/100 batches: 19.931200256347655\n",
      "After 2800 batches, average loss/100 batches: 19.377394790649415\n",
      "After 2900 batches, average loss/100 batches: 19.645919075012205\n",
      "After 3000 batches, average loss/100 batches: 19.838945350646974\n",
      "After 3100 batches, average loss/100 batches: 19.62910008430481\n",
      "After 3200 batches, average loss/100 batches: 20.027164573669435\n",
      "After 3300 batches, average loss/100 batches: 20.018871040344237\n",
      "After 3400 batches, average loss/100 batches: 20.078807878494263\n",
      "After 3500 batches, average loss/100 batches: 20.8133216381073\n",
      "After 3600 batches, average loss/100 batches: 19.343691177368164\n",
      "After 3700 batches, average loss/100 batches: 20.076707077026366\n",
      "After 3800 batches, average loss/100 batches: 20.534461393356324\n",
      "After 3900 batches, average loss/100 batches: 19.65257321357727\n",
      "After 4000 batches, average loss/100 batches: 19.538293733596802\n",
      "After 4100 batches, average loss/100 batches: 19.6231805229187\n",
      "After 4200 batches, average loss/100 batches: 19.87502066612244\n",
      "After 4300 batches, average loss/100 batches: 20.358099222183228\n",
      "After 4400 batches, average loss/100 batches: 19.437714977264406\n",
      "After 4500 batches, average loss/100 batches: 20.145226526260377\n",
      "After 4600 batches, average loss/100 batches: 19.420585231781004\n",
      "After 4700 batches, average loss/100 batches: 20.02812554359436\n",
      "After 4800 batches, average loss/100 batches: 19.43811095237732\n",
      "After 4900 batches, average loss/100 batches: 20.104134826660157\n",
      "After 5000 batches, average loss/100 batches: 19.766465930938722\n",
      "After 5100 batches, average loss/100 batches: 19.941378841400148\n",
      "After 5200 batches, average loss/100 batches: 19.8220356464386\n",
      "After 5300 batches, average loss/100 batches: 20.227854681015014\n",
      "After 5400 batches, average loss/100 batches: 19.360104417800905\n",
      "After 5500 batches, average loss/100 batches: 20.17138168334961\n",
      "After 5600 batches, average loss/100 batches: 19.841462230682374\n",
      "After 5700 batches, average loss/100 batches: 20.006274385452272\n",
      "After 5800 batches, average loss/100 batches: 19.808666276931763\n",
      "After 5900 batches, average loss/100 batches: 20.094139213562013\n",
      "After 6000 batches, average loss/100 batches: 19.12393355369568\n",
      "After 6100 batches, average loss/100 batches: 19.311519947052002\n",
      "After 6200 batches, average loss/100 batches: 19.982097816467284\n",
      "After 6300 batches, average loss/100 batches: 20.054008255004884\n",
      "After 6400 batches, average loss/100 batches: 20.05018569946289\n",
      "After 6500 batches, average loss/100 batches: 20.213351068496703\n",
      "After 6600 batches, average loss/100 batches: 19.17837480545044\n",
      "After 6700 batches, average loss/100 batches: 19.59553547859192\n",
      "After 6800 batches, average loss/100 batches: 20.05293095588684\n",
      "After 6900 batches, average loss/100 batches: 19.955216178894045\n",
      "After 7000 batches, average loss/100 batches: 19.286520767211915\n",
      "After 7100 batches, average loss/100 batches: 19.490044803619384\n",
      "After 7200 batches, average loss/100 batches: 19.85821385383606\n",
      "After 7300 batches, average loss/100 batches: 19.894154491424562\n",
      "After 7400 batches, average loss/100 batches: 19.755584630966187\n",
      "After 7500 batches, average loss/100 batches: 19.97730121612549\n",
      "After 7600 batches, average loss/100 batches: 20.992857780456543\n",
      "After 7700 batches, average loss/100 batches: 19.40118188858032\n",
      "After 7800 batches, average loss/100 batches: 20.204961585998536\n",
      "After 7900 batches, average loss/100 batches: 20.138103981018066\n",
      "After 8000 batches, average loss/100 batches: 19.24215214729309\n",
      "After 8100 batches, average loss/100 batches: 20.14873586654663\n"
     ]
    },
    {
     "name": "stderr",
     "output_type": "stream",
     "text": [
      "Process Process-417:\n",
      "Process Process-420:\n",
      "Process Process-418:\n",
      "Process Process-419:\n",
      "Traceback (most recent call last):\n",
      "Traceback (most recent call last):\n",
      "Traceback (most recent call last):\n",
      "Traceback (most recent call last):\n",
      "  File \"/home/mac/anaconda3/envs/pytorch/lib/python3.6/multiprocessing/process.py\", line 258, in _bootstrap\n",
      "    self.run()\n",
      "  File \"/home/mac/anaconda3/envs/pytorch/lib/python3.6/multiprocessing/process.py\", line 258, in _bootstrap\n",
      "    self.run()\n",
      "  File \"/home/mac/anaconda3/envs/pytorch/lib/python3.6/multiprocessing/process.py\", line 258, in _bootstrap\n",
      "    self.run()\n",
      "  File \"/home/mac/anaconda3/envs/pytorch/lib/python3.6/multiprocessing/process.py\", line 258, in _bootstrap\n",
      "    self.run()\n",
      "  File \"/home/mac/anaconda3/envs/pytorch/lib/python3.6/multiprocessing/process.py\", line 93, in run\n",
      "    self._target(*self._args, **self._kwargs)\n",
      "  File \"/home/mac/anaconda3/envs/pytorch/lib/python3.6/multiprocessing/process.py\", line 93, in run\n",
      "    self._target(*self._args, **self._kwargs)\n",
      "  File \"/home/mac/anaconda3/envs/pytorch/lib/python3.6/multiprocessing/process.py\", line 93, in run\n",
      "    self._target(*self._args, **self._kwargs)\n",
      "  File \"/home/mac/anaconda3/envs/pytorch/lib/python3.6/multiprocessing/process.py\", line 93, in run\n",
      "    self._target(*self._args, **self._kwargs)\n",
      "  File \"/home/mac/anaconda3/envs/pytorch/lib/python3.6/site-packages/torch/utils/data/dataloader.py\", line 52, in _worker_loop\n",
      "    r = index_queue.get()\n",
      "  File \"/home/mac/anaconda3/envs/pytorch/lib/python3.6/site-packages/torch/utils/data/dataloader.py\", line 52, in _worker_loop\n",
      "    r = index_queue.get()\n",
      "  File \"/home/mac/anaconda3/envs/pytorch/lib/python3.6/site-packages/torch/utils/data/dataloader.py\", line 52, in _worker_loop\n",
      "    r = index_queue.get()\n",
      "  File \"/home/mac/anaconda3/envs/pytorch/lib/python3.6/multiprocessing/queues.py\", line 335, in get\n",
      "    res = self._reader.recv_bytes()\n",
      "  File \"/home/mac/anaconda3/envs/pytorch/lib/python3.6/site-packages/torch/utils/data/dataloader.py\", line 52, in _worker_loop\n",
      "    r = index_queue.get()\n",
      "  File \"/home/mac/anaconda3/envs/pytorch/lib/python3.6/multiprocessing/queues.py\", line 335, in get\n",
      "    res = self._reader.recv_bytes()\n",
      "  File \"/home/mac/anaconda3/envs/pytorch/lib/python3.6/multiprocessing/queues.py\", line 335, in get\n",
      "    res = self._reader.recv_bytes()\n",
      "  File \"/home/mac/anaconda3/envs/pytorch/lib/python3.6/multiprocessing/connection.py\", line 216, in recv_bytes\n",
      "    buf = self._recv_bytes(maxlength)\n",
      "  File \"/home/mac/anaconda3/envs/pytorch/lib/python3.6/multiprocessing/queues.py\", line 335, in get\n",
      "    res = self._reader.recv_bytes()\n",
      "  File \"/home/mac/anaconda3/envs/pytorch/lib/python3.6/multiprocessing/connection.py\", line 216, in recv_bytes\n",
      "    buf = self._recv_bytes(maxlength)\n",
      "  File \"/home/mac/anaconda3/envs/pytorch/lib/python3.6/multiprocessing/connection.py\", line 407, in _recv_bytes\n",
      "    buf = self._recv(4)\n",
      "  File \"/home/mac/anaconda3/envs/pytorch/lib/python3.6/multiprocessing/connection.py\", line 216, in recv_bytes\n",
      "    buf = self._recv_bytes(maxlength)\n",
      "  File \"/home/mac/anaconda3/envs/pytorch/lib/python3.6/multiprocessing/connection.py\", line 407, in _recv_bytes\n",
      "    buf = self._recv(4)\n",
      "  File \"/home/mac/anaconda3/envs/pytorch/lib/python3.6/multiprocessing/connection.py\", line 407, in _recv_bytes\n",
      "    buf = self._recv(4)\n",
      "  File \"/home/mac/anaconda3/envs/pytorch/lib/python3.6/multiprocessing/connection.py\", line 379, in _recv\n",
      "    chunk = read(handle, remaining)\n",
      "  File \"/home/mac/anaconda3/envs/pytorch/lib/python3.6/multiprocessing/connection.py\", line 216, in recv_bytes\n",
      "    buf = self._recv_bytes(maxlength)\n",
      "  File \"/home/mac/anaconda3/envs/pytorch/lib/python3.6/multiprocessing/connection.py\", line 379, in _recv\n",
      "    chunk = read(handle, remaining)\n",
      "  File \"/home/mac/anaconda3/envs/pytorch/lib/python3.6/multiprocessing/connection.py\", line 379, in _recv\n",
      "    chunk = read(handle, remaining)\n",
      "  File \"/home/mac/anaconda3/envs/pytorch/lib/python3.6/multiprocessing/connection.py\", line 407, in _recv_bytes\n",
      "    buf = self._recv(4)\n",
      "KeyboardInterrupt\n",
      "KeyboardInterrupt\n",
      "  File \"/home/mac/anaconda3/envs/pytorch/lib/python3.6/multiprocessing/connection.py\", line 379, in _recv\n",
      "    chunk = read(handle, remaining)\n",
      "KeyboardInterrupt\n",
      "KeyboardInterrupt\n"
     ]
    },
    {
     "ename": "KeyboardInterrupt",
     "evalue": "",
     "output_type": "error",
     "traceback": [
      "\u001b[0;31m---------------------------------------------------------------------------\u001b[0m",
      "\u001b[0;31mKeyboardInterrupt\u001b[0m                         Traceback (most recent call last)",
      "\u001b[0;32m<ipython-input-387-c60c58bb809b>\u001b[0m in \u001b[0;36m<module>\u001b[0;34m()\u001b[0m\n\u001b[1;32m      6\u001b[0m \u001b[0mdecoder_lstm\u001b[0m\u001b[0;34m.\u001b[0m\u001b[0mtrain\u001b[0m\u001b[0;34m(\u001b[0m\u001b[0;34m)\u001b[0m \u001b[0;31m# Set model to training mode\u001b[0m\u001b[0;34m\u001b[0m\u001b[0m\n\u001b[1;32m      7\u001b[0m \u001b[0;34m\u001b[0m\u001b[0m\n\u001b[0;32m----> 8\u001b[0;31m \u001b[0mlstm_losses_cont\u001b[0m \u001b[0;34m=\u001b[0m \u001b[0mtrainIters\u001b[0m\u001b[0;34m(\u001b[0m\u001b[0mencoder_lstm\u001b[0m\u001b[0;34m,\u001b[0m \u001b[0mdecoder_lstm\u001b[0m\u001b[0;34m,\u001b[0m \u001b[0mdataloader\u001b[0m\u001b[0;34m,\u001b[0m \u001b[0mepochs\u001b[0m\u001b[0;34m=\u001b[0m\u001b[0;36m10\u001b[0m\u001b[0;34m,\u001b[0m \u001b[0mlearning_rate\u001b[0m \u001b[0;34m=\u001b[0m \u001b[0mlearning_rate\u001b[0m\u001b[0;34m)\u001b[0m\u001b[0;34m\u001b[0m\u001b[0m\n\u001b[0m\u001b[1;32m      9\u001b[0m \u001b[0;34m\u001b[0m\u001b[0m\n\u001b[1;32m     10\u001b[0m \u001b[0;34m\u001b[0m\u001b[0m\n",
      "\u001b[0;32m<ipython-input-329-4008c14a6d47>\u001b[0m in \u001b[0;36mtrainIters\u001b[0;34m(encoder, decoder, dataloader, epochs, print_every_n_batches, learning_rate)\u001b[0m\n\u001b[1;32m     27\u001b[0m \u001b[0;34m\u001b[0m\u001b[0m\n\u001b[1;32m     28\u001b[0m             loss = train(input_tensor, target_tensor, encoder, decoder,\n\u001b[0;32m---> 29\u001b[0;31m                          encoder_optimizer, decoder_optimizer, criterion)\n\u001b[0m\u001b[1;32m     30\u001b[0m \u001b[0;34m\u001b[0m\u001b[0m\n\u001b[1;32m     31\u001b[0m             \u001b[0mloss_avg\u001b[0m \u001b[0;34m+=\u001b[0m \u001b[0mloss\u001b[0m\u001b[0;34m\u001b[0m\u001b[0m\n",
      "\u001b[0;32m<ipython-input-328-0a19f69f9bb3>\u001b[0m in \u001b[0;36mtrain\u001b[0;34m(input_tensor, target_tensor, encoder, decoder, encoder_optimizer, decoder_optimizer, criterion)\u001b[0m\n\u001b[1;32m     58\u001b[0m     \u001b[0;31m# Clip the gradients\u001b[0m\u001b[0;34m\u001b[0m\u001b[0;34m\u001b[0m\u001b[0m\n\u001b[1;32m     59\u001b[0m     \u001b[0mnn\u001b[0m\u001b[0;34m.\u001b[0m\u001b[0mutils\u001b[0m\u001b[0;34m.\u001b[0m\u001b[0mclip_grad_norm_\u001b[0m\u001b[0;34m(\u001b[0m\u001b[0mencoder\u001b[0m\u001b[0;34m.\u001b[0m\u001b[0mparameters\u001b[0m\u001b[0;34m(\u001b[0m\u001b[0;34m)\u001b[0m\u001b[0;34m,\u001b[0m \u001b[0;36m25\u001b[0m\u001b[0;34m)\u001b[0m\u001b[0;34m\u001b[0m\u001b[0m\n\u001b[0;32m---> 60\u001b[0;31m     \u001b[0mnn\u001b[0m\u001b[0;34m.\u001b[0m\u001b[0mutils\u001b[0m\u001b[0;34m.\u001b[0m\u001b[0mclip_grad_norm_\u001b[0m\u001b[0;34m(\u001b[0m\u001b[0mdecoder\u001b[0m\u001b[0;34m.\u001b[0m\u001b[0mparameters\u001b[0m\u001b[0;34m(\u001b[0m\u001b[0;34m)\u001b[0m\u001b[0;34m,\u001b[0m \u001b[0;36m25\u001b[0m\u001b[0;34m)\u001b[0m\u001b[0;34m\u001b[0m\u001b[0m\n\u001b[0m\u001b[1;32m     61\u001b[0m \u001b[0;34m\u001b[0m\u001b[0m\n\u001b[1;32m     62\u001b[0m     \u001b[0;31m# Update the weights\u001b[0m\u001b[0;34m\u001b[0m\u001b[0;34m\u001b[0m\u001b[0m\n",
      "\u001b[0;32m~/anaconda3/envs/pytorch/lib/python3.6/site-packages/torch/nn/utils/clip_grad.py\u001b[0m in \u001b[0;36mclip_grad_norm_\u001b[0;34m(parameters, max_norm, norm_type)\u001b[0m\n\u001b[1;32m     26\u001b[0m         \u001b[0mtotal_norm\u001b[0m \u001b[0;34m=\u001b[0m \u001b[0;36m0\u001b[0m\u001b[0;34m\u001b[0m\u001b[0m\n\u001b[1;32m     27\u001b[0m         \u001b[0;32mfor\u001b[0m \u001b[0mp\u001b[0m \u001b[0;32min\u001b[0m \u001b[0mparameters\u001b[0m\u001b[0;34m:\u001b[0m\u001b[0;34m\u001b[0m\u001b[0m\n\u001b[0;32m---> 28\u001b[0;31m             \u001b[0mparam_norm\u001b[0m \u001b[0;34m=\u001b[0m \u001b[0mp\u001b[0m\u001b[0;34m.\u001b[0m\u001b[0mgrad\u001b[0m\u001b[0;34m.\u001b[0m\u001b[0mdata\u001b[0m\u001b[0;34m.\u001b[0m\u001b[0mnorm\u001b[0m\u001b[0;34m(\u001b[0m\u001b[0mnorm_type\u001b[0m\u001b[0;34m)\u001b[0m\u001b[0;34m\u001b[0m\u001b[0m\n\u001b[0m\u001b[1;32m     29\u001b[0m             \u001b[0mtotal_norm\u001b[0m \u001b[0;34m+=\u001b[0m \u001b[0mparam_norm\u001b[0m \u001b[0;34m**\u001b[0m \u001b[0mnorm_type\u001b[0m\u001b[0;34m\u001b[0m\u001b[0m\n\u001b[1;32m     30\u001b[0m         \u001b[0mtotal_norm\u001b[0m \u001b[0;34m=\u001b[0m \u001b[0mtotal_norm\u001b[0m \u001b[0;34m**\u001b[0m \u001b[0;34m(\u001b[0m\u001b[0;36m1.\u001b[0m \u001b[0;34m/\u001b[0m \u001b[0mnorm_type\u001b[0m\u001b[0;34m)\u001b[0m\u001b[0;34m\u001b[0m\u001b[0m\n",
      "\u001b[0;31mKeyboardInterrupt\u001b[0m: "
     ]
    }
   ],
   "source": [
    "# For dataset 1, models were trained for 3 epochs\n",
    "# For dataset 2, models were trained for 50 epochs\n",
    "\n",
    "learning_rate = 0.0001\n",
    "encoder_lstm.train() # Set model to training mode\n",
    "decoder_lstm.train() # Set model to training mode\n",
    "\n",
    "lstm_losses_cont = trainIters(encoder_lstm, decoder_lstm, dataloader, epochs=10, learning_rate = learning_rate)\n",
    "\n",
    "\n",
    "# For dataset 1, models were trained for 3 epochs\n",
    "# For dataset 2, models were trained for 50 epochs\n",
    "print('Training GRU based network.')\n",
    "learning_rate = 0.0001\n",
    "encoder_gru.train() # Set model to training mode\n",
    "decoder_gru.train() # Set model to training mode\n",
    "\n",
    "gru_losses_cont = trainIters(encoder_gru, decoder_gru, dataloader, epochs=10, learning_rate = learning_rate)"
   ]
  },
  {
   "cell_type": "code",
   "execution_count": 379,
   "metadata": {},
   "outputs": [],
   "source": [
    "np.save('data/lstm2_losses.npy', lstm_losses)"
   ]
  },
  {
   "cell_type": "code",
   "execution_count": 380,
   "metadata": {},
   "outputs": [],
   "source": [
    "np.save('data/gru2_losses.npy', gru_losses)"
   ]
  },
  {
   "cell_type": "code",
   "execution_count": 381,
   "metadata": {},
   "outputs": [],
   "source": [
    "#lstm2_losses = np.load('data/lstm2_losses.npy')\n",
    "#gru2_losses = np.load('data/gru2_losses.npy')"
   ]
  },
  {
   "cell_type": "code",
   "execution_count": 382,
   "metadata": {},
   "outputs": [
    {
     "data": {
      "text/plain": [
       "[<matplotlib.lines.Line2D at 0x7fd3c642c710>]"
      ]
     },
     "execution_count": 382,
     "metadata": {},
     "output_type": "execute_result"
    },
    {
     "data": {
      "image/png": "[encoded data removed]",
      "text/plain": [
       "<Figure size 432x288 with 1 Axes>"
      ]
     },
     "metadata": {},
     "output_type": "display_data"
    }
   ],
   "source": [
    "plt.plot(gru_losses)\n",
    "plt.plot(lstm_losses)"
   ]
  },
  {
   "cell_type": "code",
   "execution_count": 338,
   "metadata": {},
   "outputs": [],
   "source": [
    "# Save the model weights to continue later\n",
    "torch.save(encoder_lstm.state_dict(), 'models/encoder2_lstm.pth')\n",
    "torch.save(decoder_lstm.state_dict(), 'models/decoder2_lstm.pth')"
   ]
  },
  {
   "cell_type": "code",
   "execution_count": 339,
   "metadata": {},
   "outputs": [],
   "source": [
    "torch.save(encoder_gru.state_dict(), 'models/encoder2_gru.pth')\n",
    "torch.save(decoder_gru.state_dict(), 'models/decoder2_gru.pth')"
   ]
  },
  {
   "cell_type": "markdown",
   "metadata": {},
   "source": [
    "## Part 4: Using the Model for Evaluation"
   ]
  },
  {
   "cell_type": "code",
   "execution_count": 340,
   "metadata": {},
   "outputs": [],
   "source": [
    "# Build the idx to word dictionaries to convert predicted indices to words\n",
    "en_idx2word = {k:i for i, k in en_word2idx.items()}\n",
    "fr_idx2word = {k:i for i, k in fr_word2idx.items()}"
   ]
  },
  {
   "cell_type": "code",
   "execution_count": 341,
   "metadata": {},
   "outputs": [],
   "source": [
    "def get_batch(dataloader):\n",
    "    for batch in dataloader:\n",
    "        return batch"
   ]
  },
  {
   "cell_type": "code",
   "execution_count": 342,
   "metadata": {},
   "outputs": [],
   "source": [
    "def evaluate(input_tensor, encoder, decoder):\n",
    "    with torch.no_grad():\n",
    "        encoder_hidden = encoder.initHidden(1)\n",
    "        encoder.eval()\n",
    "        decoder.eval()\n",
    "\n",
    "        encoder_output, encoder_hidden = encoder(input_tensor.to(device), encoder_hidden)\n",
    "\n",
    "        decoder_input =  torch.tensor([fr_word2idx['<s>']]*input_tensor.shape[0], dtype=torch.long, device=device).unsqueeze(0)\n",
    "        try:\n",
    "            encoder.lstm\n",
    "            decoder_hidden = (encoder_hidden[0][1::2].contiguous(), encoder_hidden[1][1::2].contiguous())\n",
    "        except AttributeError:\n",
    "            decoder_hidden = encoder_hidden[1::2].contiguous()\n",
    "\n",
    "        output_list = []\n",
    "        attn_weight_list = np.zeros((seq_length, seq_length))\n",
    "        for di in range(seq_length):\n",
    "            output, decoder_hidden, attn_weights = decoder(decoder_input,\n",
    "                                                           decoder_hidden,\n",
    "                                                           encoder_output)\n",
    "\n",
    "            decoder_input = output.topk(1)[1].detach()\n",
    "            output_list.append(output.topk(1)[1])\n",
    "            word = en_idx2word[output.topk(1)[1].item()]\n",
    "\n",
    "            attn_weight_list[di] += attn_weights[0,0,:].cpu().numpy()\n",
    "        return output_list, attn_weight_list"
   ]
  },
  {
   "cell_type": "code",
   "execution_count": 345,
   "metadata": {},
   "outputs": [],
   "source": [
    "batch = get_batch(dataloader)\n",
    "input_tensor = batch['french_tensor'][11].unsqueeze_(0)\n",
    "output_list, attn = evaluate(input_tensor, encoder_lstm, decoder_lstm)\n",
    "gru_output_list, gru_attn = evaluate(input_tensor, encoder_gru, decoder_gru)"
   ]
  },
  {
   "cell_type": "code",
   "execution_count": 346,
   "metadata": {},
   "outputs": [
    {
     "name": "stdout",
     "output_type": "stream",
     "text": [
      "Input Sentence:\n",
      " le chien est son animal le plus aimé . </s>\n",
      "\n",
      "Target Sentence:\n",
      " the dog is his most loved animal .</s>\n",
      "\n",
      "LSTM model output:\n",
      " the dog is her most loved animal . </s>\n",
      "\n",
      "GRU model output:\n",
      " the dog is her most loved animal . </s>\n"
     ]
    },
    {
     "data": {
      "text/plain": [
       "<matplotlib.image.AxesImage at 0x7fd3d3b8e6d8>"
      ]
     },
     "execution_count": 346,
     "metadata": {},
     "output_type": "execute_result"
    },
    {
     "data": {
      "image/png": "[encoded data removed]",
      "text/plain": [
       "<Figure size 288x288 with 1 Axes>"
      ]
     },
     "metadata": {},
     "output_type": "display_data"
    },
    {
     "data": {
      "image/png": "[encoded data removed]",
      "text/plain": [
       "<Figure size 288x288 with 1 Axes>"
      ]
     },
     "metadata": {},
     "output_type": "display_data"
    }
   ],
   "source": [
    "print('Input Sentence:')\n",
    "output = ''\n",
    "for index in input_tensor[0]:\n",
    "    word = fr_idx2word[index.item()]\n",
    "    if word != '</s>':\n",
    "        output += ' ' + word\n",
    "    else:\n",
    "        output += ' ' + word\n",
    "        print(output)\n",
    "        break\n",
    "\n",
    "print('\\nTarget Sentence:')\n",
    "print(' ' + batch['english_sentence'][11] + '</s>')\n",
    "\n",
    "print('\\nLSTM model output:')\n",
    "output = ''\n",
    "for index in output_list:\n",
    "    word = en_idx2word[index.item()]\n",
    "    if word != '</s>':\n",
    "        output += ' ' + word\n",
    "    else:\n",
    "        output += ' ' + word\n",
    "        print(output)\n",
    "        break\n",
    "\n",
    "output = ''\n",
    "print('\\nGRU model output:')\n",
    "for index in gru_output_list:\n",
    "    word = en_idx2word[index.item()]\n",
    "    if word != '</s>':\n",
    "        output += ' ' + word\n",
    "    else:\n",
    "        output += ' ' + word\n",
    "        print(output)\n",
    "        break\n",
    "        \n",
    "plt.matshow(attn)\n",
    "plt.matshow(gru_attn)"
   ]
  },
  {
   "cell_type": "code",
   "execution_count": null,
   "metadata": {},
   "outputs": [],
   "source": []
  }
 ],
 "metadata": {
  "kernelspec": {
   "display_name": "Python [default]",
   "language": "python",
   "name": "python3"
  },
  "language_info": {
   "codemirror_mode": {
    "name": "ipython",
    "version": 3
   },
   "file_extension": ".py",
   "mimetype": "text/x-python",
   "name": "python",
   "nbconvert_exporter": "python",
   "pygments_lexer": "ipython3",
   "version": "3.6.5"
  }
 },
 "nbformat": 4,
 "nbformat_minor": 2
}
