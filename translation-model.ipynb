{
 "cells": [
  {
   "cell_type": "markdown",
   "metadata": {},
   "source": [
    "# Neural Translation Model\n",
    "by Mac Brennan"
   ]
  },
  {
   "cell_type": "code",
   "execution_count": 71,
   "metadata": {},
   "outputs": [],
   "source": [
    "# Before we get started we will load all the packages we will need\n",
    "import os\n",
    "\n",
    "# Pytorch\n",
    "import torch\n",
    "import torch.nn as nn\n",
    "import torch.nn.functional as F\n",
    "import torch.optim as optim\n",
    "\n",
    "import numpy as np\n",
    "\n",
    "device = torch.device(\"cuda\" if torch.cuda.is_available() else \"cpu\")"
   ]
  },
  {
   "cell_type": "markdown",
   "metadata": {},
   "source": [
    "## Overview"
   ]
  },
  {
   "cell_type": "markdown",
   "metadata": {},
   "source": [
    "For this project we will be building a neural translation model that takes in a sentence in French and outputs a sentence in English. The model that will be used is called an encoder-decoder network. What this means is we have two neural networks:\n",
    "\n",
    "- One called the encoder, that extracts the meaning from the French sentence, representing it as a tensor of numbers.\n",
    "- One called the decoder that converts that tensor of numbers back into a sentence in English\n",
    "\n",
    "Our job is to train the encoder and decoder to learn to do this in a way such that the English sentence output by the decoder has the same meaning as the input French sentence. To give a visual understanding of what is happening, the following illustration shows the model that will be built. Don't worry if it doesn't make complete sense, the details will be explained as we go. The goal is to give you a starting point for visualizing what is happening.\n",
    "\n",
    "<p style='text-align: center !important;'>\n",
    " <img src='https://github.com/macbrennan90/macbrennan90.github.io/blob/master/images/encoder-decoder.png?raw=true'\n",
    "      alt='Translation Model Summary'>\n",
    "</p>\n",
    "\n",
    "\n",
    "This project will be broken up into several parts as follows:\n",
    "\n",
    "__Part 1:__ Preparing the words\n",
    "\n",
    "+ Dataset\n",
    "+ Word Embeddings\n",
    "\n",
    "__Part 2:__ Building the Model\n",
    "\n",
    "+ Bi-Directional LSTM Encoder\n",
    "+ Decoder with Attention\n",
    "\n",
    "__Part 3:__ Training the Model\n",
    "\n",
    "__Part 4:__ Evaluation\n",
    "\n",
    "__Part 5:__ Vizualize Attention"
   ]
  },
  {
   "cell_type": "markdown",
   "metadata": {},
   "source": [
    "## Part 1: Preparing the words"
   ]
  },
  {
   "cell_type": "markdown",
   "metadata": {},
   "source": [
    "### Dataset"
   ]
  },
  {
   "cell_type": "markdown",
   "metadata": {},
   "source": [
    "The dataset that will be used is a text file of english sentences and the corresponding french sentences.\n",
    "\n",
    "Each sentence is on a new line. The sentences will be split into a list."
   ]
  },
  {
   "cell_type": "markdown",
   "metadata": {},
   "source": [
    "#### Load the data\n",
    "The data will be stored in two lists where each item is a sentence. The lists are:\n",
    "+ english_sentences\n",
    "+ french_sentences"
   ]
  },
  {
   "cell_type": "code",
   "execution_count": 3,
   "metadata": {},
   "outputs": [],
   "source": [
    "with open('data/small_vocab_en', \"r\") as f:\n",
    "    data1 = f.read()\n",
    "with open('data/small_vocab_fr', \"r\") as f:\n",
    "    data2 = f.read()\n",
    "    \n",
    "# The data is just in a text file with each sentence on its own line\n",
    "english_sentences = data1.split('\\n')\n",
    "french_sentences = data2.split('\\n')"
   ]
  },
  {
   "cell_type": "code",
   "execution_count": 4,
   "metadata": {},
   "outputs": [
    {
     "name": "stdout",
     "output_type": "stream",
     "text": [
      "Number of English sentences: 137861 \n",
      "Number of French sentences: 137861 \n",
      "\n",
      "Example/Target pair:\n",
      "\n",
      "  california is usually quiet during march , and it is usually hot in june .\n",
      "  california est généralement calme en mars , et il est généralement chaud en juin .\n"
     ]
    }
   ],
   "source": [
    "print('Number of English sentences:', len(english_sentences), \n",
    "      '\\nNumber of French sentences:', len(french_sentences),'\\n')\n",
    "print('Example/Target pair:\\n')\n",
    "print('  '+english_sentences[2])\n",
    "print('  '+french_sentences[2])"
   ]
  },
  {
   "cell_type": "markdown",
   "metadata": {},
   "source": [
    "#### Vocabulary\n",
    "Let's take a closer look at the dataset.\n"
   ]
  },
  {
   "cell_type": "code",
   "execution_count": 5,
   "metadata": {},
   "outputs": [
    {
     "data": {
      "text/plain": [
       "['california',\n",
       " 'is',\n",
       " 'usually',\n",
       " 'quiet',\n",
       " 'during',\n",
       " 'march',\n",
       " ',',\n",
       " 'and',\n",
       " 'it',\n",
       " 'is',\n",
       " 'usually',\n",
       " 'hot',\n",
       " 'in',\n",
       " 'june',\n",
       " '.']"
      ]
     },
     "execution_count": 5,
     "metadata": {},
     "output_type": "execute_result"
    }
   ],
   "source": [
    "english_sentences[2].split()"
   ]
  },
  {
   "cell_type": "code",
   "execution_count": 60,
   "metadata": {},
   "outputs": [
    {
     "name": "stdout",
     "output_type": "stream",
     "text": [
      "The longest english sentence in our dataset is: 17\n"
     ]
    }
   ],
   "source": [
    "max_en_length = 0\n",
    "for sentence in english_sentences:\n",
    "    length = len(sentence.split())\n",
    "    max_en_length = max(max_en_length, length)\n",
    "print(\"The longest english sentence in our dataset is:\", max_en_length)    "
   ]
  },
  {
   "cell_type": "code",
   "execution_count": 62,
   "metadata": {},
   "outputs": [
    {
     "name": "stdout",
     "output_type": "stream",
     "text": [
      "The longest english sentence in our dataset is: 23\n"
     ]
    }
   ],
   "source": [
    "max_fr_length = 0\n",
    "for sentence in french_sentences:\n",
    "    length = len(sentence.split())\n",
    "    max_fr_length = max(max_fr_length, length)\n",
    "print(\"The longest english sentence in our dataset is:\", max_fr_length)  "
   ]
  },
  {
   "cell_type": "code",
   "execution_count": 6,
   "metadata": {},
   "outputs": [],
   "source": [
    "en_word_count = {}\n",
    "fr_word_count = {}\n",
    "\n",
    "for sentence in english_sentences:\n",
    "    for word in sentence.split():\n",
    "        if word in en_word_count:\n",
    "            en_word_count[word] +=1\n",
    "        else:\n",
    "            en_word_count[word] = 1\n",
    "            \n",
    "for sentence in french_sentences:\n",
    "    for word in sentence.split():\n",
    "        if word in fr_word_count:\n",
    "            fr_word_count[word] +=1\n",
    "        else:\n",
    "            fr_word_count[word] = 1\n"
   ]
  },
  {
   "cell_type": "code",
   "execution_count": 7,
   "metadata": {},
   "outputs": [
    {
     "name": "stdout",
     "output_type": "stream",
     "text": [
      "Number of English words: 227\n",
      "Number of French words: 355\n"
     ]
    }
   ],
   "source": [
    "print('Number of unique English words:', len(en_word_count))\n",
    "print('Number of unique French words:', len(fr_word_count))"
   ]
  },
  {
   "cell_type": "code",
   "execution_count": 8,
   "metadata": {},
   "outputs": [],
   "source": [
    "def get_value(items_tuple):\n",
    "    return items_tuple[1]\n",
    "\n",
    "sorted_en_words= sorted(en_word_count.items(), key=get_value, reverse=True)"
   ]
  },
  {
   "cell_type": "code",
   "execution_count": 9,
   "metadata": {},
   "outputs": [
    {
     "data": {
      "text/plain": [
       "[('is', 205858),\n",
       " (',', 140897),\n",
       " ('.', 129039),\n",
       " ('in', 75525),\n",
       " ('it', 75137),\n",
       " ('during', 74933),\n",
       " ('the', 67628),\n",
       " ('but', 63987),\n",
       " ('and', 59850),\n",
       " ('sometimes', 37746),\n",
       " ('usually', 37507),\n",
       " ('never', 37500),\n",
       " ('least', 27564),\n",
       " ('favorite', 27371),\n",
       " ('fruit', 27105),\n",
       " ('most', 14934),\n",
       " ('loved', 13666),\n",
       " ('liked', 13546),\n",
       " ('new', 12197),\n",
       " ('paris', 11334),\n",
       " ('india', 11277),\n",
       " ('united', 11270),\n",
       " ('states', 11270),\n",
       " ('california', 11250),\n",
       " ('jersey', 11225),\n",
       " ('france', 11170),\n",
       " ('china', 10953),\n",
       " ('he', 10786),\n",
       " ('she', 10786),\n",
       " ('grapefruit', 10118),\n",
       " ('your', 9734),\n",
       " ('my', 9700),\n",
       " ('his', 9700),\n",
       " ('her', 9700),\n",
       " ('fall', 9134),\n",
       " ('june', 9133),\n",
       " ('spring', 9102),\n",
       " ('january', 9090),\n",
       " ('winter', 9038),\n",
       " ('march', 9023),\n",
       " ('autumn', 9004),\n",
       " ('may', 8995),\n",
       " ('nice', 8984),\n",
       " ('september', 8958),\n",
       " ('july', 8956),\n",
       " ('april', 8954),\n",
       " ('november', 8951),\n",
       " ('summer', 8948),\n",
       " ('december', 8945),\n",
       " ('february', 8942),\n",
       " ('our', 8932),\n",
       " ('their', 8932),\n",
       " ('freezing', 8928),\n",
       " ('pleasant', 8916),\n",
       " ('beautiful', 8915),\n",
       " ('october', 8910),\n",
       " ('snowy', 8898),\n",
       " ('warm', 8890),\n",
       " ('cold', 8878),\n",
       " ('wonderful', 8808),\n",
       " ('dry', 8794),\n",
       " ('busy', 8791),\n",
       " ('august', 8789),\n",
       " ('chilly', 8770),\n",
       " ('rainy', 8761),\n",
       " ('mild', 8743),\n",
       " ('wet', 8726),\n",
       " ('relaxing', 8696),\n",
       " ('quiet', 8693),\n",
       " ('hot', 8639),\n",
       " ('dislikes', 7314),\n",
       " ('likes', 7314),\n",
       " ('limes', 5554),\n",
       " ('mangoes', 5549),\n",
       " ('lemons', 5533),\n",
       " ('grapes', 5525),\n",
       " ('apples', 5452),\n",
       " ('oranges', 5452),\n",
       " ('strawberries', 5452),\n",
       " ('bananas', 5452),\n",
       " ('peaches', 5451),\n",
       " ('pears', 5451),\n",
       " ('to', 5166),\n",
       " ('strawberry', 4715),\n",
       " ('grape', 4703),\n",
       " ('lime', 4680),\n",
       " ('apple', 4652),\n",
       " ('lemon', 4652),\n",
       " ('banana', 4652),\n",
       " ('mango', 4652),\n",
       " ('pear', 4652),\n",
       " ('peach', 4652),\n",
       " ('orange', 4651),\n",
       " ('like', 4588),\n",
       " ('dislike', 4444),\n",
       " ('they', 3222),\n",
       " ('that', 2712),\n",
       " ('i', 2664),\n",
       " ('we', 2532),\n",
       " ('you', 2414),\n",
       " ('animal', 2304),\n",
       " ('a', 1944),\n",
       " ('truck', 1944),\n",
       " ('car', 1944),\n",
       " ('automobile', 1944),\n",
       " ('was', 1867),\n",
       " ('next', 1666),\n",
       " ('go', 1386),\n",
       " ('driving', 1296),\n",
       " ('visit', 1224),\n",
       " ('little', 1016),\n",
       " ('big', 1016),\n",
       " ('old', 972),\n",
       " ('yellow', 972),\n",
       " ('red', 972),\n",
       " ('rusty', 972),\n",
       " ('blue', 972),\n",
       " ('white', 972),\n",
       " ('black', 972),\n",
       " ('green', 972),\n",
       " ('shiny', 972),\n",
       " ('favorite.', 961),\n",
       " ('are', 870),\n",
       " ('?', 811),\n",
       " ('last', 781),\n",
       " ('feared', 768),\n",
       " ('animals', 768),\n",
       " ('this', 768),\n",
       " ('plan', 714),\n",
       " ('going', 666),\n",
       " ('saw', 648),\n",
       " ('disliked', 648),\n",
       " ('drives', 648),\n",
       " ('drove', 648),\n",
       " ('grapefruit.', 574),\n",
       " ('between', 540),\n",
       " ('liked.', 500),\n",
       " ('loved.', 500),\n",
       " ('translate', 480),\n",
       " ('plans', 476),\n",
       " ('peaches.', 393),\n",
       " ('pears.', 393),\n",
       " ('bananas.', 392),\n",
       " ('oranges.', 392),\n",
       " ('apples.', 392),\n",
       " ('strawberries.', 392),\n",
       " ('were', 384),\n",
       " ('went', 378),\n",
       " ('might', 378),\n",
       " ('wanted', 378),\n",
       " ('thinks', 360),\n",
       " ('grapes.', 319),\n",
       " ('spanish', 312),\n",
       " ('portuguese', 312),\n",
       " ('chinese', 312),\n",
       " ('english', 312),\n",
       " ('french', 312),\n",
       " ('lemons.', 311),\n",
       " ('translating', 300),\n",
       " ('mangoes.', 295),\n",
       " ('limes.', 290),\n",
       " ('difficult', 260),\n",
       " ('fun', 260),\n",
       " ('easy', 260),\n",
       " ('wants', 252),\n",
       " ('think', 240),\n",
       " ('why', 240),\n",
       " (\"it's\", 240),\n",
       " ('did', 204),\n",
       " ('orange.', 197),\n",
       " ('mango.', 196),\n",
       " ('banana.', 196),\n",
       " ('peach.', 196),\n",
       " ('lemon.', 196),\n",
       " ('pear.', 196),\n",
       " ('apple.', 196),\n",
       " ('cat', 192),\n",
       " ('shark', 192),\n",
       " ('bird', 192),\n",
       " ('mouse', 192),\n",
       " ('horse', 192),\n",
       " ('elephant', 192),\n",
       " ('dog', 192),\n",
       " ('monkey', 192),\n",
       " ('lion', 192),\n",
       " ('bear', 192),\n",
       " ('rabbit', 192),\n",
       " ('snake', 192),\n",
       " ('lime.', 168),\n",
       " ('grape.', 145),\n",
       " ('when', 144),\n",
       " ('strawberry.', 133),\n",
       " ('want', 126),\n",
       " ('fruit.', 87),\n",
       " ('do', 84),\n",
       " ('how', 67),\n",
       " ('elephants', 64),\n",
       " ('horses', 64),\n",
       " ('dogs', 64),\n",
       " ('sharks', 64),\n",
       " ('snakes', 64),\n",
       " ('cats', 64),\n",
       " ('rabbits', 64),\n",
       " ('monkeys', 64),\n",
       " ('bears', 64),\n",
       " ('birds', 64),\n",
       " ('lions', 64),\n",
       " ('mice', 64),\n",
       " (\"didn't\", 60),\n",
       " ('eiffel', 57),\n",
       " ('tower', 57),\n",
       " ('grocery', 57),\n",
       " ('store', 57),\n",
       " ('football', 57),\n",
       " ('field', 57),\n",
       " ('lake', 57),\n",
       " ('school', 57),\n",
       " ('would', 48),\n",
       " (\"aren't\", 36),\n",
       " ('been', 36),\n",
       " ('weather', 33),\n",
       " ('does', 24),\n",
       " ('has', 24),\n",
       " (\"isn't\", 24),\n",
       " ('am', 24),\n",
       " ('where', 12),\n",
       " ('have', 12)]"
      ]
     },
     "execution_count": 9,
     "metadata": {},
     "output_type": "execute_result"
    }
   ],
   "source": [
    "sorted_en_words"
   ]
  },
  {
   "cell_type": "code",
   "execution_count": 10,
   "metadata": {},
   "outputs": [],
   "source": [
    "sorted_fr_words = sorted(fr_word_count.items(), key=get_value, reverse=True)"
   ]
  },
  {
   "cell_type": "code",
   "execution_count": 11,
   "metadata": {},
   "outputs": [
    {
     "data": {
      "text/plain": [
       "[('est', 196809),\n",
       " ('.', 135619),\n",
       " (',', 123135),\n",
       " ('en', 105768),\n",
       " ('il', 84079),\n",
       " ('les', 65255),\n",
       " ('mais', 63987),\n",
       " ('et', 59851),\n",
       " ('la', 49861),\n",
       " ('parfois', 37746),\n",
       " ('jamais', 37215),\n",
       " ('le', 35306),\n",
       " (\"l'\", 32917),\n",
       " ('généralement', 31292),\n",
       " ('moins', 27557),\n",
       " ('au', 25738),\n",
       " ('aimé', 24842),\n",
       " ('fruit', 23626),\n",
       " ('préféré', 22886),\n",
       " ('agréable', 17751),\n",
       " ('froid', 16794),\n",
       " ('son', 16496),\n",
       " ('chaud', 16405),\n",
       " ('de', 15070),\n",
       " ('plus', 14934),\n",
       " ('automne', 14727),\n",
       " ('mois', 14350),\n",
       " ('à', 13870),\n",
       " ('elle', 12056),\n",
       " ('citrons', 11679),\n",
       " ('paris', 11334),\n",
       " ('inde', 11277),\n",
       " ('états-unis', 11210),\n",
       " ('france', 11170),\n",
       " ('jersey', 11052),\n",
       " ('new', 11047),\n",
       " ('chine', 10936),\n",
       " ('pendant', 10741),\n",
       " ('pamplemousse', 10140),\n",
       " ('mon', 9403),\n",
       " ('votre', 9368),\n",
       " ('juin', 9133),\n",
       " ('printemps', 9100),\n",
       " ('janvier', 9090),\n",
       " ('hiver', 9038),\n",
       " ('mars', 9023),\n",
       " ('été', 8999),\n",
       " ('mai', 8995),\n",
       " ('septembre', 8958),\n",
       " ('juillet', 8956),\n",
       " ('avril', 8954),\n",
       " ('novembre', 8951),\n",
       " ('décembre', 8945),\n",
       " ('février', 8942),\n",
       " ('octobre', 8911),\n",
       " ('aime', 8870),\n",
       " ('août', 8789),\n",
       " ('merveilleux', 8704),\n",
       " ('relaxant', 8458),\n",
       " ('doux', 8458),\n",
       " ('humide', 8446),\n",
       " ('notre', 8319),\n",
       " ('californie', 8189),\n",
       " ('sec', 7957),\n",
       " ('leur', 7855),\n",
       " ('occupé', 7782),\n",
       " ('pluvieux', 7658),\n",
       " ('calme', 7256),\n",
       " ('beau', 6387),\n",
       " ('habituellement', 6215),\n",
       " ('pommes', 5844),\n",
       " ('pêches', 5844),\n",
       " ('oranges', 5844),\n",
       " ('poires', 5844),\n",
       " ('fraises', 5844),\n",
       " ('bananes', 5844),\n",
       " ('verts', 5835),\n",
       " ('raisins', 5780),\n",
       " ('mangues', 5774),\n",
       " (\"d'\", 5100),\n",
       " ('mangue', 4899),\n",
       " ('gel', 4886),\n",
       " ('raisin', 4852),\n",
       " ('pomme', 4848),\n",
       " (\"l'orange\", 4848),\n",
       " ('citron', 4848),\n",
       " ('chaux', 4848),\n",
       " ('banane', 4848),\n",
       " ('poire', 4848),\n",
       " ('fraise', 4848),\n",
       " ('pêche', 4848),\n",
       " ('pas', 4495),\n",
       " ('enneigée', 4008),\n",
       " ('favori', 3857),\n",
       " ('déteste', 3743),\n",
       " ('gèle', 3622),\n",
       " ('fruits', 3566),\n",
       " ('voiture', 3510),\n",
       " (\"l'automne\", 3411),\n",
       " ('ils', 3185),\n",
       " (\"n'aime\", 3131),\n",
       " ('california', 3061),\n",
       " ('neige', 3016),\n",
       " ('fait', 2916),\n",
       " ('belle', 2726),\n",
       " ('ne', 2715),\n",
       " ('nous', 2520),\n",
       " ('vous', 2517),\n",
       " ('des', 2435),\n",
       " ('animal', 2248),\n",
       " ('camion', 1944),\n",
       " ('cours', 1927),\n",
       " ('neigeux', 1867),\n",
       " ('conduit', 1706),\n",
       " ('prochain', 1666),\n",
       " ('je', 1548),\n",
       " ('ce', 1465),\n",
       " ('tranquille', 1437),\n",
       " ('a', 1356),\n",
       " ('cher', 1308),\n",
       " ('une', 1278),\n",
       " ('cette', 1239),\n",
       " ('était', 1198),\n",
       " ('aller', 1180),\n",
       " ('chaude', 1124),\n",
       " ('aiment', 1116),\n",
       " ('aimons', 1111),\n",
       " (\"n'aiment\", 1111),\n",
       " (\"n'aimez\", 1094),\n",
       " ('leurs', 1072),\n",
       " ('aimez', 1053),\n",
       " ('sont', 1018),\n",
       " ('aimé.', 1010),\n",
       " ('détestons', 1001),\n",
       " ('jaune', 972),\n",
       " ('rouge', 972),\n",
       " (\"j'aime\", 966),\n",
       " ('visiter', 908),\n",
       " ('sèche', 837),\n",
       " ('occupée', 836),\n",
       " ('frisquet', 834),\n",
       " ('?', 811),\n",
       " ('préférée', 770),\n",
       " ('animaux', 768),\n",
       " ('dernier', 757),\n",
       " ('aimait', 707),\n",
       " ('un', 698),\n",
       " ('conduisait', 673),\n",
       " ('que', 667),\n",
       " ('nouvelle', 648),\n",
       " ('vieille', 647),\n",
       " ('vu', 645),\n",
       " ('verte', 628),\n",
       " ('petite', 615),\n",
       " ('nos', 613),\n",
       " ('noire', 602),\n",
       " ('brillant', 587),\n",
       " ('blanche', 579),\n",
       " ('redouté', 576),\n",
       " ('pleut', 562),\n",
       " (\"n'aimait\", 561),\n",
       " ('pamplemousses', 552),\n",
       " ('pense', 540),\n",
       " ('entre', 540),\n",
       " ('bleue', 504),\n",
       " ('nouveau', 502),\n",
       " ('traduire', 501),\n",
       " ('rouillée', 486),\n",
       " ('bleu', 468),\n",
       " ('se', 461),\n",
       " ('grande', 459),\n",
       " ('rouillé', 454),\n",
       " ('préféré.', 419),\n",
       " ('ses', 402),\n",
       " (\"qu'il\", 393),\n",
       " ('blanc', 393),\n",
       " ('aux', 392),\n",
       " ('brillante', 385),\n",
       " ('préférés', 383),\n",
       " ('noir', 370),\n",
       " ('pluies', 367),\n",
       " ('envisage', 360),\n",
       " ('étaient', 357),\n",
       " ('va', 355),\n",
       " ('rendre', 350),\n",
       " ('vert', 344),\n",
       " ('-', 328),\n",
       " ('vieux', 325),\n",
       " ('petit', 324),\n",
       " ('espagnol', 312),\n",
       " ('portugais', 312),\n",
       " ('chinois', 312),\n",
       " ('anglais', 312),\n",
       " ('français', 312),\n",
       " ('glaciales', 307),\n",
       " ('mes', 297),\n",
       " ('cet', 286),\n",
       " ('automobile', 278),\n",
       " ('traduction', 277),\n",
       " ('mouillé', 273),\n",
       " ('difficile', 260),\n",
       " ('amusant', 260),\n",
       " ('facile', 260),\n",
       " ('comme', 259),\n",
       " ('gros', 258),\n",
       " ('souris', 256),\n",
       " ('pourrait', 252),\n",
       " ('voulait', 252),\n",
       " ('veut', 252),\n",
       " ('pourquoi', 240),\n",
       " ('aimés', 237),\n",
       " ('prévois', 233),\n",
       " ('prévoyons', 232),\n",
       " ('vos', 225),\n",
       " ('intention', 206),\n",
       " ('clémentes', 200),\n",
       " ('ont', 194),\n",
       " ('chat', 192),\n",
       " ('requin', 192),\n",
       " ('cheval', 192),\n",
       " ('chien', 192),\n",
       " ('singe', 192),\n",
       " ('lion', 192),\n",
       " ('ours', 192),\n",
       " ('lapin', 192),\n",
       " ('serpent', 192),\n",
       " ('redoutés', 190),\n",
       " ('allé', 187),\n",
       " ('grosse', 185),\n",
       " ('pluie', 174),\n",
       " ('trop', 173),\n",
       " ('monde', 173),\n",
       " ('maillot', 173),\n",
       " ('vont', 168),\n",
       " ('volant', 165),\n",
       " ('avez', 162),\n",
       " ('i', 150),\n",
       " ('allés', 150),\n",
       " ('allée', 150),\n",
       " ('quand', 144),\n",
       " ('oiseau', 128),\n",
       " ('éléphant', 128),\n",
       " ('pourraient', 126),\n",
       " ('voulaient', 126),\n",
       " ('veulent', 126),\n",
       " ('détendre', 111),\n",
       " ('aimée', 105),\n",
       " ('magnifique', 104),\n",
       " (\"l'automobile\", 100),\n",
       " (\"n'aimons\", 97),\n",
       " ('-ce', 95),\n",
       " ('gelé', 94),\n",
       " ('détestait', 87),\n",
       " ('grand', 81),\n",
       " ('bien', 77),\n",
       " ('vers', 76),\n",
       " ('prévoient', 75),\n",
       " ('prévoit', 75),\n",
       " ('lui', 70),\n",
       " ('visite', 68),\n",
       " ('comment', 67),\n",
       " ('éléphants', 64),\n",
       " ('chevaux', 64),\n",
       " ('chiens', 64),\n",
       " (\"l'éléphant\", 64),\n",
       " (\"l'oiseau\", 64),\n",
       " ('requins', 64),\n",
       " (\"l'ours\", 64),\n",
       " ('serpents', 64),\n",
       " ('chats', 64),\n",
       " ('lapins', 64),\n",
       " ('singes', 64),\n",
       " ('oiseaux', 64),\n",
       " ('lions', 64),\n",
       " ('légère', 63),\n",
       " ('cépage', 60),\n",
       " ('pensez', 60),\n",
       " ('États-unis', 57),\n",
       " ('tour', 57),\n",
       " ('eiffel', 57),\n",
       " (\"l'épicerie\", 57),\n",
       " ('terrain', 57),\n",
       " ('football', 57),\n",
       " ('lac', 57),\n",
       " (\"l'école\", 57),\n",
       " (\"l'animal\", 56),\n",
       " (\"n'est\", 47),\n",
       " ('allons', 45),\n",
       " ('allez', 45),\n",
       " ('peu', 41),\n",
       " ('pousse', 41),\n",
       " ('du', 39),\n",
       " ('-il', 36),\n",
       " ('temps', 33),\n",
       " ('at', 32),\n",
       " ('rouille', 32),\n",
       " ('sur', 28),\n",
       " (\"qu'elle\", 26),\n",
       " ('-ils', 26),\n",
       " ('petites', 26),\n",
       " ('-elle', 24),\n",
       " ('dernière', 24),\n",
       " ('êtes-vous', 24),\n",
       " ('vais', 24),\n",
       " ('voudrait', 24),\n",
       " ('proches', 20),\n",
       " ('frais', 20),\n",
       " ('manguiers', 19),\n",
       " ('avons', 19),\n",
       " ('t', 18),\n",
       " ('porcelaine', 17),\n",
       " ('détestez', 17),\n",
       " (\"c'est\", 17),\n",
       " ('grandes', 16),\n",
       " ('préférées', 16),\n",
       " ('douce', 14),\n",
       " ('durant', 14),\n",
       " ('congélation', 14),\n",
       " ('plaît', 13),\n",
       " ('où', 12),\n",
       " ('dans', 12),\n",
       " ('est-ce', 12),\n",
       " ('voulez', 12),\n",
       " ('aimeraient', 12),\n",
       " (\"n'a\", 12),\n",
       " ('petits', 10),\n",
       " ('aiment-ils', 10),\n",
       " ('grands', 9),\n",
       " ('limes', 9),\n",
       " ('envisagent', 9),\n",
       " ('grosses', 8),\n",
       " ('bénigne', 8),\n",
       " ('mouillée', 7),\n",
       " ('enneigé', 7),\n",
       " ('moindres', 7),\n",
       " ('conduite', 6),\n",
       " ('gelés', 5),\n",
       " ('tout', 4),\n",
       " ('etats-unis', 3),\n",
       " (\"n'êtes\", 3),\n",
       " ('vit', 3),\n",
       " ('ressort', 2),\n",
       " ('détend', 2),\n",
       " ('redoutée', 2),\n",
       " ('qui', 2),\n",
       " ('traduis', 2),\n",
       " ('apprécié', 2),\n",
       " ('allions', 1),\n",
       " ('trouvé', 1),\n",
       " ('as-tu', 1),\n",
       " ('faire', 1),\n",
       " ('favoris', 1),\n",
       " ('souvent', 1),\n",
       " ('es-tu', 1),\n",
       " ('moteur', 1)]"
      ]
     },
     "execution_count": 11,
     "metadata": {},
     "output_type": "execute_result"
    }
   ],
   "source": [
    "sorted_fr_words"
   ]
  },
  {
   "cell_type": "markdown",
   "metadata": {},
   "source": [
    "So the dataset is pretty small, we may want to get a bigger data set, but we'll see how this one does."
   ]
  },
  {
   "cell_type": "markdown",
   "metadata": {},
   "source": [
    "### Word Embeddings"
   ]
  },
  {
   "cell_type": "markdown",
   "metadata": {},
   "source": [
    "Here we are building an embedding matrix of pretrained word vectors. The word embeddings used here were downloaded from the fastText repository. These embeddings have 300 dimensions. To start we will add a few token embeddings for our specific case. We want a token to signal the start of the sentence, A token for words that we do not have an embedding for, and a token to pad sentences so all the sentences we use have the same length. This will allow us to train the model on batches of sentences rather than one at a time.\n",
    "\n",
    "After this step we will have a dictionary and an embedding matrix for each language. The dictionary will map words to an index value in the embedding matrix where its' corresponding embedding vector is stored."
   ]
  },
  {
   "cell_type": "markdown",
   "metadata": {},
   "source": [
    "##### For the English data"
   ]
  },
  {
   "cell_type": "code",
   "execution_count": 101,
   "metadata": {},
   "outputs": [
    {
     "name": "stdout",
     "output_type": "stream",
     "text": [
      "hemophilia [ 0.16189  -0.056121 -0.6556    0.21569  -0.11878  -0.02066   0.37613\n",
      " -0.24117  -0.098989 -0.010058]\n"
     ]
    }
   ],
   "source": [
    "# make a dict with the top 100,000 words\n",
    "en_words = ['<pad>', # Padding Token\n",
    "            '<s>', # Start of sentence token\n",
    "            '<unk>'# Unknown word token\n",
    "           ]\n",
    "\n",
    "en_vectors = list(np.random.randn(3, 300))\n",
    "en_vectors[0] *= 0 # make the padding vector zeros\n",
    "\n",
    "with open('data/wiki.en.vec', \"r\") as f:\n",
    "    f.readline()\n",
    "    for _ in range(100000):\n",
    "        en_vecs = f.readline()\n",
    "        word = en_vecs.split()[0]\n",
    "        vector = np.float32(en_vecs.split()[1:])\n",
    "        \n",
    "        # skip lines that don't have 300 dim\n",
    "        if len(vector) != 300:\n",
    "            continue\n",
    "        \n",
    "        if word not in en_words:\n",
    "            en_words.append(word)\n",
    "            en_vectors.append(vector)\n",
    "    print(word, vector[:10]) # Last word embedding read from the file"
   ]
  },
  {
   "cell_type": "code",
   "execution_count": 102,
   "metadata": {},
   "outputs": [],
   "source": [
    "en_word2idx = {word:index for index, word in enumerate(en_words)}"
   ]
  },
  {
   "cell_type": "code",
   "execution_count": 103,
   "metadata": {},
   "outputs": [
    {
     "name": "stdout",
     "output_type": "stream",
     "text": [
      "index for word hemophilia: 99996 \n",
      "vector for word hemophilia:\n",
      " [ 0.16189  -0.056121 -0.6556    0.21569  -0.11878  -0.02066   0.37613\n",
      " -0.24117  -0.098989 -0.010058]\n"
     ]
    }
   ],
   "source": [
    "hemophilia_idx = en_word2idx['hemophilia']\n",
    "print('index for word hemophilia:', hemophilia_idx, \n",
    "      '\\nvector for word hemophilia:\\n',en_vectors[hemophilia_idx][:10])"
   ]
  },
  {
   "cell_type": "markdown",
   "metadata": {},
   "source": [
    "The word embedding for hemophilia matches the one read from the file, so it looks like everything worked properly."
   ]
  },
  {
   "cell_type": "markdown",
   "metadata": {},
   "source": [
    "##### For the Frech data"
   ]
  },
  {
   "cell_type": "code",
   "execution_count": 82,
   "metadata": {
    "scrolled": false
   },
   "outputs": [
    {
     "name": "stdout",
     "output_type": "stream",
     "text": [
      "chabeuil [-0.18058  -0.24758   0.075607  0.173     0.24116  -0.11223  -0.28173\n",
      "  0.27374   0.37997   0.48009 ]\n"
     ]
    }
   ],
   "source": [
    "# make a dict with the top 100,000 words\n",
    "fr_words = ['<pad>',\n",
    "            '<s>',\n",
    "            '<unk>']\n",
    "\n",
    "fr_vectors = list(np.random.randn(3, 300))\n",
    "fr_vectors[0] = np.zeros(300) # make the padding vector zeros\n",
    "\n",
    "with open('data/wiki.fr.vec', \"r\") as f:\n",
    "    f.readline()\n",
    "    for _ in range(100000):\n",
    "        fr_vecs = f.readline()\n",
    "        word = fr_vecs.split()[0]\n",
    "        try:\n",
    "            vector = np.float32(fr_vecs.split()[1:])\n",
    "        except ValueError:\n",
    "            continue\n",
    "            \n",
    "         # skip lines that don't have 300 dim\n",
    "        if len(vector) != 300:\n",
    "            continue\n",
    "        \n",
    "        if word not in fr_words:\n",
    "            fr_words.append(word)\n",
    "            fr_vectors.append(vector)\n",
    "    print(word, vector[:10])"
   ]
  },
  {
   "cell_type": "code",
   "execution_count": 83,
   "metadata": {},
   "outputs": [],
   "source": [
    "fr_word2idx = {word:index for index, word in enumerate(fr_words)}"
   ]
  },
  {
   "cell_type": "code",
   "execution_count": 84,
   "metadata": {},
   "outputs": [
    {
     "name": "stdout",
     "output_type": "stream",
     "text": [
      "index for word chabeuil: 99783 \n",
      "vector for word chabeuil:\n",
      " [-0.18058  -0.24758   0.075607  0.173     0.24116  -0.11223  -0.28173\n",
      "  0.27374   0.37997   0.48009 ]\n"
     ]
    }
   ],
   "source": [
    "chabeuil_idx = fr_word2idx['chabeuil']\n",
    "print('index for word chabeuil:', chabeuil_idx, \n",
    "      '\\nvector for word chabeuil:\\n',fr_vectors[chabeuil_idx][:10])"
   ]
  },
  {
   "cell_type": "markdown",
   "metadata": {},
   "source": [
    "The word embedding for chabeuil matches as well so everything worked correctly for the french vocab."
   ]
  },
  {
   "cell_type": "markdown",
   "metadata": {},
   "source": [
    "##### Example Embedding layer in PyTorch\n",
    "Ultimately, we want to take a batch of sentences, convert them to indices which are then converted to embeddings. This will be in the form of a tensor where the dimesions are:\n",
    "\n",
    "(sequence length, batch size, embedding dimesions)\n",
    "\n",
    "This is the shape expected by the LSTM layer of the Encoder Network."
   ]
  },
  {
   "cell_type": "code",
   "execution_count": 88,
   "metadata": {},
   "outputs": [],
   "source": [
    "num_embeddings = len(en_vectors)\n",
    "embedding_dim = 300\n",
    "embeds = nn.Embedding(num_embeddings, embedding_dim)  # 100001 words in vocab, 300 dimensional embeddings"
   ]
  },
  {
   "cell_type": "code",
   "execution_count": 89,
   "metadata": {},
   "outputs": [],
   "source": [
    "np_en_vectors = np.vstack(en_vectors)"
   ]
  },
  {
   "cell_type": "code",
   "execution_count": 90,
   "metadata": {},
   "outputs": [
    {
     "data": {
      "text/plain": [
       "tensor([[ 0.0000,  0.0000,  0.0000,  ...,  0.0000,  0.0000,  0.0000],\n",
       "        [ 2.3777, -0.5057, -1.0617,  ...,  1.2076,  0.2421,  0.4575],\n",
       "        [ 0.2312, -1.1172, -0.5930,  ...,  0.1239,  0.2133, -1.0071],\n",
       "        ...,\n",
       "        [-0.1793,  0.2280, -0.2962,  ...,  0.1251,  0.6385, -0.2883],\n",
       "        [-0.3869,  0.2369, -0.0565,  ...,  0.0601,  0.2860,  0.6931],\n",
       "        [ 0.1619, -0.0561, -0.6556,  ..., -0.0777,  0.0579, -0.4724]])"
      ]
     },
     "execution_count": 90,
     "metadata": {},
     "output_type": "execute_result"
    }
   ],
   "source": [
    "embeds.weight.data.copy_(torch.from_numpy(np_en_vectors))"
   ]
  },
  {
   "cell_type": "code",
   "execution_count": 110,
   "metadata": {},
   "outputs": [
    {
     "name": "stdout",
     "output_type": "stream",
     "text": [
      "torch.Size([2, 4])\n"
     ]
    },
    {
     "data": {
      "text/plain": [
       "tensor([[[ 1,  2,  3,  4,  5,  6,  7,  8]]])"
      ]
     },
     "execution_count": 110,
     "metadata": {},
     "output_type": "execute_result"
    }
   ],
   "source": [
    "lookup_tensor = torch.tensor([[1,2,3,4],[5,6,7,8]], dtype=torch.long)\n",
    "print(lookup_tensor.shape)\n",
    "lookup_tensor.view(1, 1, -1) "
   ]
  },
  {
   "cell_type": "code",
   "execution_count": 106,
   "metadata": {},
   "outputs": [
    {
     "name": "stdout",
     "output_type": "stream",
     "text": [
      "torch.Size([2, 4])\n",
      "torch.Size([2, 4, 300])\n"
     ]
    }
   ],
   "source": [
    "hello_embed = embeds(lookup_tensor)\n",
    "print(hello_embed.shape)"
   ]
  },
  {
   "cell_type": "markdown",
   "metadata": {},
   "source": [
    "Ok, so we have all the pieces needed to take words and convert them into word embeddings. These word embeddings already have a lot of useful information about how words relate since we loaded the pre-trained word embeddings. Now we can build the translation model with the embedding matrices built in."
   ]
  },
  {
   "cell_type": "markdown",
   "metadata": {},
   "source": [
    "## Part 2: Building the Model"
   ]
  },
  {
   "cell_type": "markdown",
   "metadata": {},
   "source": [
    "### Bi-Directional LSTM Encoder"
   ]
  },
  {
   "cell_type": "code",
   "execution_count": 127,
   "metadata": {},
   "outputs": [],
   "source": [
    "class EncoderBiLSTM(nn.Module):\n",
    "    def __init__(self, hidden_size, pretrained_embeddings):\n",
    "        super(EncoderBiLSTM, self).__init__()\n",
    "        self.hidden_size = hidden_size\n",
    "        self.embedding_dim = pretrained_embeddings.shape[1]\n",
    "        self.vocab_size = pretrained_embeddings.shape[0]\n",
    "        self.num_layers = 1\n",
    "        self.dropout = 0\n",
    "        self.bidirectional = True\n",
    "        \n",
    "        \n",
    "        # Construct the layers\n",
    "        self.embedding = nn.Embedding(self.vocab_size, self.embedding_dim)\n",
    "        self.embedding.weight.data.copy_(torch.from_numpy(pretrained_embeddings))\n",
    "        \n",
    "        self.lstm = nn.LSTM(self.embedding_dim,\n",
    "                            self.hidden_size,\n",
    "                            batch_first=True,\n",
    "                            dropout=self.dropout,\n",
    "                            bidirectional=self.bidirectional)\n",
    "    \n",
    "    def forward(self, input, hidden):\n",
    "        embedded = self.embedding(input)\n",
    "        output = self.lstm(embedded, hidden)\n",
    "        return output\n",
    "    \n",
    "    def initHidden(self, batch_size):\n",
    "        \n",
    "        hidden_state = torch.zeros(self.num_layers*(2 if self.bidirectional else 1),\n",
    "                                   batch_size,\n",
    "                                   self.hidden_size, \n",
    "                                   device=device)\n",
    "        \n",
    "        cell_state = torch.zeros(self.num_layers*(2 if self.bidirectional else 1),\n",
    "                                 batch_size,\n",
    "                                 self.hidden_size, \n",
    "                                 device=device)\n",
    "        \n",
    "        return (hidden_state, cell_state)\n",
    "                "
   ]
  },
  {
   "cell_type": "code",
   "execution_count": 135,
   "metadata": {},
   "outputs": [
    {
     "name": "stdout",
     "output_type": "stream",
     "text": [
      "tensor([[[-0.3711,  0.0398, -0.1539, -0.4484, -0.3433,  0.0001,  0.3634,\n",
      "           0.3639, -0.2512,  0.0232,  0.0003,  0.6682, -0.0238, -0.1870,\n",
      "          -0.4103, -0.3819, -0.0280,  0.0925, -0.0054, -0.1369,  0.1343,\n",
      "           0.5429,  0.0822, -0.0023,  0.1099, -0.1873,  0.2076,  0.0011,\n",
      "          -0.1448, -0.2108, -0.1623, -0.0584,  0.2195,  0.1488, -0.0022,\n",
      "           0.0284,  0.2684,  0.0320, -0.1853, -0.0186],\n",
      "         [-0.7744, -0.0080,  0.3595,  0.0723, -0.5687, -0.1902,  0.6674,\n",
      "           0.3284, -0.0249, -0.0208, -0.1102,  0.1100, -0.3849, -0.0235,\n",
      "          -0.2745, -0.3916, -0.0247, -0.0002, -0.1772,  0.0154,  0.0042,\n",
      "           0.1499, -0.1870, -0.0431, -0.1019, -0.3631, -0.0573, -0.1493,\n",
      "          -0.0685, -0.0407, -0.0444,  0.0467,  0.0237,  0.0992, -0.0007,\n",
      "          -0.1723, -0.3373, -0.0001,  0.0356, -0.0006],\n",
      "         [-0.4429,  0.1097,  0.2144,  0.2021, -0.4202, -0.1047,  0.2954,\n",
      "           0.2162, -0.0094,  0.0945, -0.1086,  0.0936, -0.3085, -0.1153,\n",
      "          -0.2738, -0.2583,  0.1318,  0.1873, -0.3111,  0.1809, -0.0886,\n",
      "           0.0789,  0.0099, -0.1845, -0.1875, -0.1115, -0.1562, -0.2258,\n",
      "          -0.0662, -0.1097, -0.0305, -0.1282,  0.0564, -0.0130, -0.0520,\n",
      "          -0.0075,  0.0789, -0.0570,  0.1302,  0.0157],\n",
      "         [-0.4242,  0.1675,  0.2252,  0.1209, -0.3092, -0.0067,  0.2436,\n",
      "           0.2486,  0.0100,  0.1577, -0.0822,  0.0067, -0.0597, -0.0926,\n",
      "          -0.2017, -0.2132,  0.1234,  0.1974, -0.2970,  0.2094, -0.1194,\n",
      "           0.0442,  0.0201, -0.0597, -0.1530, -0.0617, -0.0944, -0.1672,\n",
      "          -0.0646, -0.1100, -0.0623, -0.0823,  0.0089, -0.0084, -0.0092,\n",
      "           0.0348,  0.0306, -0.0637,  0.0846,  0.0488]],\n",
      "\n",
      "        [[-0.0830,  0.1061,  0.0736,  0.0563,  0.0462,  0.0592,  0.0395,\n",
      "           0.0206,  0.0156,  0.0201,  0.0103,  0.0113,  0.0661,  0.0321,\n",
      "          -0.0043, -0.0281,  0.0594,  0.0133, -0.0664,  0.1020, -0.1116,\n",
      "           0.0520, -0.1814, -0.1051, -0.1041, -0.2630, -0.0904, -0.2178,\n",
      "          -0.0073, -0.1036,  0.0303, -0.0926,  0.0833, -0.1024, -0.0661,\n",
      "           0.0131,  0.0347, -0.3336,  0.1290, -0.1300],\n",
      "         [-0.0923,  0.2798,  0.1719,  0.2263, -0.0944,  0.1050,  0.0094,\n",
      "           0.0535,  0.0385,  0.0725, -0.1453,  0.2001,  0.2007,  0.1039,\n",
      "           0.0167,  0.1610, -0.0748,  0.0989, -0.0141,  0.2417, -0.0624,\n",
      "           0.0271, -0.0934, -0.0796, -0.1912, -0.2153,  0.0087, -0.2055,\n",
      "          -0.2423, -0.0883,  0.1038, -0.1926,  0.0023, -0.0750, -0.0207,\n",
      "           0.0527,  0.1184, -0.3257,  0.1345, -0.1909],\n",
      "         [-0.0828,  0.1930,  0.1997,  0.1442, -0.1689,  0.1569,  0.1233,\n",
      "           0.1403,  0.0763,  0.0572, -0.1263,  0.0972,  0.0942,  0.0185,\n",
      "          -0.0336,  0.0816, -0.0715,  0.1052, -0.1112,  0.2008, -0.0042,\n",
      "          -0.0848, -0.0503, -0.1193, -0.1032, -0.1519, -0.1411, -0.1353,\n",
      "           0.0144, -0.1399,  0.0218, -0.0463, -0.0004, -0.0476, -0.0406,\n",
      "           0.0152,  0.0834, -0.0405,  0.1297,  0.0631],\n",
      "         [-0.1695,  0.0995,  0.2004,  0.2096, -0.1512,  0.1766,  0.0901,\n",
      "           0.2012,  0.2048,  0.1173, -0.2023, -0.1160,  0.0915, -0.0145,\n",
      "          -0.0613,  0.1086, -0.0029,  0.1074, -0.2573,  0.1923,  0.0178,\n",
      "          -0.0024,  0.1809, -0.1713, -0.0870, -0.1172, -0.1376, -0.1252,\n",
      "          -0.0404, -0.2057,  0.0828,  0.0210, -0.0567,  0.0022,  0.0300,\n",
      "           0.0594,  0.0822, -0.0073,  0.0760,  0.0857]],\n",
      "\n",
      "        [[-0.1382,  0.1307,  0.1314, -0.0305,  0.0712,  0.0746,  0.0796,\n",
      "           0.0121,  0.0237,  0.0401,  0.1305,  0.0056,  0.2087, -0.0006,\n",
      "           0.0201, -0.0444,  0.1103,  0.0156, -0.1085,  0.1123, -0.0152,\n",
      "           0.1137, -0.0099, -0.1423, -0.0366, -0.1383, -0.1341, -0.2132,\n",
      "           0.0530, -0.1397, -0.0293, -0.0561,  0.1037, -0.0069, -0.0853,\n",
      "           0.0081,  0.0910, -0.1084,  0.0883, -0.0386],\n",
      "         [-0.1190,  0.1459,  0.1005, -0.0053, -0.1127,  0.0403,  0.0630,\n",
      "           0.0279, -0.0190,  0.1107,  0.0314,  0.0262,  0.2007, -0.0618,\n",
      "          -0.0559, -0.0459,  0.0902,  0.0041, -0.1605,  0.2632,  0.0037,\n",
      "           0.1241, -0.0576, -0.1968,  0.0133, -0.1908, -0.1076, -0.1608,\n",
      "           0.0097, -0.0589,  0.0308, -0.1180,  0.0564, -0.1069, -0.0790,\n",
      "          -0.0341,  0.0955, -0.1540,  0.0706, -0.0071],\n",
      "         [-0.0874,  0.1151,  0.1890, -0.0954, -0.0500,  0.0799,  0.1605,\n",
      "           0.0747,  0.0155,  0.1957,  0.1217,  0.0203,  0.2261, -0.0644,\n",
      "          -0.0054, -0.0311,  0.0480, -0.0365, -0.1248,  0.2480,  0.1085,\n",
      "           0.1204, -0.0504, -0.1234,  0.0734, -0.1612, -0.0081, -0.1442,\n",
      "          -0.0333, -0.1058,  0.0358, -0.1587,  0.0227,  0.0106, -0.1209,\n",
      "          -0.0126,  0.0647, -0.0124,  0.0453, -0.0043],\n",
      "         [-0.0935,  0.1000,  0.2948, -0.0786, -0.1205,  0.0231,  0.2637,\n",
      "           0.1653,  0.0060,  0.1995,  0.0531,  0.0244,  0.2473, -0.0793,\n",
      "           0.0055,  0.0563,  0.0865,  0.1039, -0.2130,  0.2009,  0.0238,\n",
      "           0.0532,  0.0036, -0.0250, -0.0511, -0.1235, -0.0841, -0.1593,\n",
      "          -0.0857, -0.0846,  0.0168, -0.1397,  0.0638, -0.0140, -0.1006,\n",
      "          -0.0815,  0.0558,  0.0326, -0.0580,  0.0193]]], device='cuda:0')\n"
     ]
    }
   ],
   "source": [
    "encoder = EncoderBiLSTM(20, np_en_vectors)\n",
    "encoder.to(device)\n",
    "batch_size = 3\n",
    "\n",
    "hidden = encoder.initHidden(batch_size)\n",
    "inputs = torch.tensor([[1,2,3,4],\n",
    "                       [5,6,7,8],\n",
    "                       [9,10,11,12]\n",
    "                      ], dtype=torch.long, device=device)\n",
    "\n",
    "context, _ = encoder.forward(inputs, hidden)\n",
    "\n",
    "print(context)"
   ]
  },
  {
   "cell_type": "code",
   "execution_count": 113,
   "metadata": {},
   "outputs": [],
   "source": [
    "seq_len = 5\n",
    "batch_size = 1\n",
    "embidding_dim = 10\n",
    "hidden_size = 3\n",
    "hidden_layers = 1\n",
    "inputs = autograd.Variable(torch.randn((batch_size, seq_len, embedding_dim)))  # make a sequence of length 5, 1 batch, input 10dim vector\n",
    "\n",
    "# initialize the hidden state. hidden layers have 3 nodes\n",
    "hidden = (autograd.Variable(torch.randn(hidden_layers, batch_size, hidden_size)),\n",
    "          autograd.Variable(torch.randn((hidden_layers, batch_size, hidden_size))))"
   ]
  },
  {
   "cell_type": "code",
   "execution_count": 114,
   "metadata": {},
   "outputs": [],
   "source": [
    "\n",
    "lstm = nn.LSTM(embedding_dim, hidden_size, batch_first=True)"
   ]
  },
  {
   "cell_type": "code",
   "execution_count": 115,
   "metadata": {},
   "outputs": [],
   "source": [
    "out, hidden = lstm(inputs, hidden)"
   ]
  },
  {
   "cell_type": "code",
   "execution_count": 117,
   "metadata": {},
   "outputs": [
    {
     "name": "stdout",
     "output_type": "stream",
     "text": [
      "tensor([[[-0.0022, -0.0046,  0.2850],\n",
      "         [-0.3130,  0.3528,  0.0351],\n",
      "         [-0.0049,  0.7314,  0.1662],\n",
      "         [-0.4840, -0.0027,  0.1194],\n",
      "         [-0.0917, -0.0269,  0.0010]]])\n",
      "torch.Size([1, 5, 3])\n",
      "(tensor(1.00000e-02 *\n",
      "       [[[-9.1729, -2.6859,  0.0998]]]), tensor([[[-0.3493, -1.2247,  0.1465]]]))\n"
     ]
    }
   ],
   "source": [
    "# outputs of each hidden node(3) for each item in sequence(5)\n",
    "print(out)\n",
    "print(out.shape)\n",
    "\n",
    "# final hidden state and final cell state of sequence; notice that the hidden state equals the final output\n",
    "print(hidden)"
   ]
  },
  {
   "cell_type": "code",
   "execution_count": 24,
   "metadata": {},
   "outputs": [],
   "source": [
    "seq_len = 5\n",
    "batch_size = 1\n",
    "input_dim = 10\n",
    "hidden_size = 3\n",
    "hidden_layers = 1\n",
    "num_dir = 2 # for bidirectional lstm\n",
    "inputs = autograd.Variable(torch.randn((seq_len, batch_size, input_dim)))  # make a sequence of length 5, 1 batch, input 10dim vector\n",
    "\n",
    "# initialize the hidden state. hidden layers have 3 nodes\n",
    "hidden = (autograd.Variable(torch.randn(hidden_layers*num_dir, batch_size, hidden_size)),\n",
    "          autograd.Variable(torch.randn((hidden_layers*num_dir, batch_size, hidden_size))))"
   ]
  },
  {
   "cell_type": "code",
   "execution_count": 25,
   "metadata": {},
   "outputs": [],
   "source": [
    "lstm = nn.LSTM(input_dim, hidden_size, bidirectional=True)"
   ]
  },
  {
   "cell_type": "code",
   "execution_count": null,
   "metadata": {},
   "outputs": [],
   "source": []
  },
  {
   "cell_type": "code",
   "execution_count": 26,
   "metadata": {},
   "outputs": [],
   "source": [
    "out, hidden = lstm(inputs, hidden)"
   ]
  },
  {
   "cell_type": "code",
   "execution_count": 28,
   "metadata": {},
   "outputs": [
    {
     "name": "stdout",
     "output_type": "stream",
     "text": [
      "Variable containing:\n",
      "(0 ,.,.) = \n",
      " -0.1693  0.7509 -0.0828 -0.5793  0.5285  0.6648\n",
      "\n",
      "(1 ,.,.) = \n",
      "  0.0218  0.1844 -0.1121 -0.6127  0.2034  0.3170\n",
      "\n",
      "(2 ,.,.) = \n",
      "  0.0731 -0.0683  0.0742 -0.0712  0.1552  0.0725\n",
      "\n",
      "(3 ,.,.) = \n",
      "  0.0098 -0.0052 -0.1215 -0.0741  0.2897  0.0834\n",
      "\n",
      "(4 ,.,.) = \n",
      " -0.0263 -0.3019 -0.1845 -0.1061  0.4653  0.0832\n",
      "[torch.FloatTensor of size 5x1x6]\n",
      "\n",
      "(Variable containing:\n",
      "(0 ,.,.) = \n",
      " -0.0263 -0.3019 -0.1845\n",
      "\n",
      "(1 ,.,.) = \n",
      " -0.5793  0.5285  0.6648\n",
      "[torch.FloatTensor of size 2x1x3]\n",
      ", Variable containing:\n",
      "(0 ,.,.) = \n",
      " -0.3161 -0.5384 -0.4495\n",
      "\n",
      "(1 ,.,.) = \n",
      " -0.7322  0.9997  0.9236\n",
      "[torch.FloatTensor of size 2x1x3]\n",
      ")\n"
     ]
    }
   ],
   "source": [
    "# outputs of each hidden node in both directions(3*2) for each item in sequence(5)\n",
    "print(out)\n",
    "\n",
    "# final hidden and cell state of model in both directions\n",
    "# notice that the first 3 output of the final item equals the final first hidden state\n",
    "# the second 3 outputs from the first item equals the final second hidden state\n",
    "print(hidden)"
   ]
  },
  {
   "cell_type": "markdown",
   "metadata": {},
   "source": [
    "## Model"
   ]
  },
  {
   "cell_type": "markdown",
   "metadata": {},
   "source": [
    "### LSTM Decoder with Attention"
   ]
  },
  {
   "cell_type": "code",
   "execution_count": null,
   "metadata": {},
   "outputs": [],
   "source": [
    "class AttnDecoderLSTM(nn.Module):\n",
    "    def __init__(self,):\n",
    "        super(AttnDecoderLSTM, self).__init__()"
   ]
  },
  {
   "cell_type": "code",
   "execution_count": null,
   "metadata": {},
   "outputs": [],
   "source": []
  },
  {
   "cell_type": "markdown",
   "metadata": {},
   "source": [
    "## Training"
   ]
  },
  {
   "cell_type": "code",
   "execution_count": null,
   "metadata": {},
   "outputs": [],
   "source": []
  },
  {
   "cell_type": "markdown",
   "metadata": {
    "slideshow": {
     "slide_type": "-"
    }
   },
   "source": [
    "## Visualizing Attention"
   ]
  },
  {
   "cell_type": "code",
   "execution_count": 9,
   "metadata": {},
   "outputs": [],
   "source": [
    "a = 5"
   ]
  },
  {
   "cell_type": "code",
   "execution_count": null,
   "metadata": {},
   "outputs": [],
   "source": []
  }
 ],
 "metadata": {
  "kernelspec": {
   "display_name": "Python [default]",
   "language": "python",
   "name": "python3"
  },
  "language_info": {
   "codemirror_mode": {
    "name": "ipython",
    "version": 3
   },
   "file_extension": ".py",
   "mimetype": "text/x-python",
   "name": "python",
   "nbconvert_exporter": "python",
   "pygments_lexer": "ipython3",
   "version": "3.6.5"
  }
 },
 "nbformat": 4,
 "nbformat_minor": 2
}
