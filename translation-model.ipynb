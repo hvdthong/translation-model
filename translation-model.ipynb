{
 "cells": [
  {
   "cell_type": "markdown",
   "metadata": {},
   "source": [
    "<h1>Neural Translation Model in PyTorch</h1>\n",
    "by Mac Brennan"
   ]
  },
  {
   "cell_type": "markdown",
   "metadata": {},
   "source": [
    "<p style='text-align: center !important;'>\n",
    " <img src='https://github.com/macbrennan90/macbrennan90.github.io/blob/master/images/encoder-decoder.png?raw=true'\n",
    "      alt='Translation Model Summary'>\n",
    "</p>"
   ]
  },
  {
   "cell_type": "markdown",
   "metadata": {},
   "source": [
    "This project will be broken up into several parts as follows:\n",
    "\n",
    "__Part 1:__ Preparing the words\n",
    "\n",
    "+ Inspecting the Dataset\n",
    "+ Using Word Embeddings\n",
    "+ Organizing the Data\n",
    "\n",
    "__Part 2:__ Building the Model\n",
    "\n",
    "+ Bi-Directional Encoder\n",
    "+ Building Attention\n",
    "+ Decoder with Attention\n",
    "\n",
    "__Part 3:__ Training the Model\n",
    "\n",
    "+ Training Function\n",
    "+ Training Loop\n",
    "\n",
    "__Part 4:__ Evaluation"
   ]
  },
  {
   "cell_type": "code",
   "execution_count": 1,
   "metadata": {},
   "outputs": [],
   "source": [
    "# Before we get started we will load all the packages we will need\n",
    "\n",
    "# Pytorch\n",
    "import torch\n",
    "import torch.nn as nn\n",
    "import torch.nn.functional as F\n",
    "import torch.optim as optim\n",
    "from torch.utils.data import Dataset, DataLoader\n",
    "\n",
    "import numpy as np\n",
    "import os.path\n",
    "import time\n",
    "import math\n",
    "import random\n",
    "import matplotlib.pyplot as plt\n",
    "import string\n",
    "\n",
    "# Use gpu if available\n",
    "device = torch.device(\"cuda\" if torch.cuda.is_available() else \"cpu\")"
   ]
  },
  {
   "cell_type": "code",
   "execution_count": 2,
   "metadata": {},
   "outputs": [
    {
     "data": {
      "text/plain": [
       "device(type='cuda')"
      ]
     },
     "execution_count": 2,
     "metadata": {},
     "output_type": "execute_result"
    }
   ],
   "source": [
    "device"
   ]
  },
  {
   "cell_type": "markdown",
   "metadata": {},
   "source": [
    "## Part 1: Preparing the Words"
   ]
  },
  {
   "cell_type": "markdown",
   "metadata": {},
   "source": [
    "### Inspecting the Dataset"
   ]
  },
  {
   "cell_type": "markdown",
   "metadata": {},
   "source": [
    "The dataset that will be used is a text file of english sentences and the corresponding french sentences.\n",
    "\n",
    "Each sentence is on a new line. The sentences will be split into a list."
   ]
  },
  {
   "cell_type": "markdown",
   "metadata": {
    "heading_collapsed": true
   },
   "source": [
    "#### Load the data\n",
    "The data will be stored in two lists where each item is a sentence. The lists are:\n",
    "+ english_sentences\n",
    "+ french_sentences"
   ]
  },
  {
   "cell_type": "code",
   "execution_count": 127,
   "metadata": {
    "hidden": true
   },
   "outputs": [],
   "source": [
    "with open('data/small_vocab_en', \"r\") as f:\n",
    "    data1 = f.read()\n",
    "with open('data/small_vocab_fr', \"r\") as f:\n",
    "    data2 = f.read()\n",
    "    \n",
    "# The data is just in a text file with each sentence on its own line\n",
    "english_sentences = data1.split('\\n')\n",
    "french_sentences = data2.split('\\n')"
   ]
  },
  {
   "cell_type": "code",
   "execution_count": 128,
   "metadata": {
    "hidden": true
   },
   "outputs": [
    {
     "name": "stdout",
     "output_type": "stream",
     "text": [
      "Number of English sentences: 137861 \n",
      "Number of French sentences: 137861 \n",
      "\n",
      "Example/Target pair:\n",
      "\n",
      "  california is usually quiet during march , and it is usually hot in june .\n",
      "  california est généralement calme en mars , et il est généralement chaud en juin .\n"
     ]
    }
   ],
   "source": [
    "print('Number of English sentences:', len(english_sentences), \n",
    "      '\\nNumber of French sentences:', len(french_sentences),'\\n')\n",
    "print('Example/Target pair:\\n')\n",
    "print('  '+english_sentences[2])\n",
    "print('  '+french_sentences[2])"
   ]
  },
  {
   "cell_type": "markdown",
   "metadata": {
    "heading_collapsed": true
   },
   "source": [
    "#### Vocabulary\n",
    "Let's take a closer look at the dataset.\n"
   ]
  },
  {
   "cell_type": "code",
   "execution_count": 129,
   "metadata": {
    "hidden": true
   },
   "outputs": [
    {
     "data": {
      "text/plain": [
       "['california',\n",
       " 'is',\n",
       " 'usually',\n",
       " 'quiet',\n",
       " 'during',\n",
       " 'march',\n",
       " ',',\n",
       " 'and',\n",
       " 'it',\n",
       " 'is',\n",
       " 'usually',\n",
       " 'hot',\n",
       " 'in',\n",
       " 'june',\n",
       " '.']"
      ]
     },
     "execution_count": 129,
     "metadata": {},
     "output_type": "execute_result"
    }
   ],
   "source": [
    "english_sentences[2].split()"
   ]
  },
  {
   "cell_type": "code",
   "execution_count": 130,
   "metadata": {
    "hidden": true
   },
   "outputs": [
    {
     "name": "stdout",
     "output_type": "stream",
     "text": [
      "The longest english sentence in our dataset is: 17\n"
     ]
    }
   ],
   "source": [
    "max_en_length = 0\n",
    "for sentence in english_sentences:\n",
    "    length = len(sentence.split())\n",
    "    max_en_length = max(max_en_length, length)\n",
    "print(\"The longest english sentence in our dataset is:\", max_en_length)    "
   ]
  },
  {
   "cell_type": "code",
   "execution_count": 131,
   "metadata": {
    "hidden": true
   },
   "outputs": [
    {
     "name": "stdout",
     "output_type": "stream",
     "text": [
      "The longest french sentence in our dataset is: 23\n"
     ]
    }
   ],
   "source": [
    "max_fr_length = 0\n",
    "for sentence in french_sentences:\n",
    "    length = len(sentence.split())\n",
    "    max_fr_length = max(max_fr_length, length)\n",
    "print(\"The longest french sentence in our dataset is:\", max_fr_length)"
   ]
  },
  {
   "cell_type": "code",
   "execution_count": 132,
   "metadata": {
    "hidden": true
   },
   "outputs": [],
   "source": [
    "seq_length = max(max_fr_length, max_en_length) + 1"
   ]
  },
  {
   "cell_type": "code",
   "execution_count": 133,
   "metadata": {
    "hidden": true
   },
   "outputs": [],
   "source": [
    "en_word_count = {}\n",
    "fr_word_count = {}\n",
    "\n",
    "for sentence in english_sentences:\n",
    "    for word in sentence.split():\n",
    "        if word in en_word_count:\n",
    "            en_word_count[word] +=1\n",
    "        else:\n",
    "            en_word_count[word] = 1\n",
    "            \n",
    "for sentence in french_sentences:\n",
    "    for word in sentence.split():\n",
    "        if word in fr_word_count:\n",
    "            fr_word_count[word] +=1\n",
    "        else:\n",
    "            fr_word_count[word] = 1\n"
   ]
  },
  {
   "cell_type": "code",
   "execution_count": 134,
   "metadata": {
    "hidden": true
   },
   "outputs": [],
   "source": [
    "# Add end of sentence token to word count dict\n",
    "en_word_count['</s>'] = len(english_sentences)\n",
    "fr_word_count['</s>'] = len(english_sentences)"
   ]
  },
  {
   "cell_type": "code",
   "execution_count": 135,
   "metadata": {
    "hidden": true
   },
   "outputs": [
    {
     "name": "stdout",
     "output_type": "stream",
     "text": [
      "Number of unique English words: 228\n",
      "Number of unique French words: 356\n"
     ]
    }
   ],
   "source": [
    "print('Number of unique English words:', len(en_word_count))\n",
    "print('Number of unique French words:', len(fr_word_count))"
   ]
  },
  {
   "cell_type": "code",
   "execution_count": 136,
   "metadata": {
    "hidden": true
   },
   "outputs": [],
   "source": [
    "def get_value(items_tuple):\n",
    "    return items_tuple[1]\n",
    "\n",
    "# Sort the word counts to see what words or most/least common\n",
    "sorted_en_words= sorted(en_word_count.items(), key=get_value, reverse=True)"
   ]
  },
  {
   "cell_type": "code",
   "execution_count": 137,
   "metadata": {
    "hidden": true
   },
   "outputs": [
    {
     "data": {
      "text/plain": [
       "[('is', 205858),\n",
       " (',', 140897),\n",
       " ('</s>', 137861),\n",
       " ('.', 129039),\n",
       " ('in', 75525),\n",
       " ('it', 75137),\n",
       " ('during', 74933),\n",
       " ('the', 67628),\n",
       " ('but', 63987),\n",
       " ('and', 59850)]"
      ]
     },
     "execution_count": 137,
     "metadata": {},
     "output_type": "execute_result"
    }
   ],
   "source": [
    "sorted_en_words[:10]"
   ]
  },
  {
   "cell_type": "code",
   "execution_count": 138,
   "metadata": {
    "hidden": true
   },
   "outputs": [],
   "source": [
    "sorted_fr_words = sorted(fr_word_count.items(), key=get_value, reverse=True)"
   ]
  },
  {
   "cell_type": "code",
   "execution_count": 139,
   "metadata": {
    "hidden": true
   },
   "outputs": [
    {
     "data": {
      "text/plain": [
       "[('est', 196809),\n",
       " ('</s>', 137861),\n",
       " ('.', 135619),\n",
       " (',', 123135),\n",
       " ('en', 105768),\n",
       " ('il', 84079),\n",
       " ('les', 65255),\n",
       " ('mais', 63987),\n",
       " ('et', 59851),\n",
       " ('la', 49861)]"
      ]
     },
     "execution_count": 139,
     "metadata": {},
     "output_type": "execute_result"
    }
   ],
   "source": [
    "sorted_fr_words[:10]"
   ]
  },
  {
   "cell_type": "markdown",
   "metadata": {
    "hidden": true
   },
   "source": [
    "So the dataset is pretty small, we may want to get a bigger data set, but we'll see how this one does."
   ]
  },
  {
   "cell_type": "markdown",
   "metadata": {},
   "source": [
    "#### Alternate Dataset\n",
    "Skip this section for now. You can come back and try training on this second dataset later. It is more diverse so it takes longer to train."
   ]
  },
  {
   "cell_type": "code",
   "execution_count": 3,
   "metadata": {},
   "outputs": [],
   "source": [
    "with open('data/fra.txt', \"r\") as f:\n",
    "    data1 = f.read()"
   ]
  },
  {
   "cell_type": "code",
   "execution_count": 4,
   "metadata": {},
   "outputs": [],
   "source": [
    "pairs = data1.split('\\n')\n",
    "english_sentences = []\n",
    "french_sentences = []\n",
    "for i, pair in enumerate(pairs):\n",
    "    pair_split = pair.split('\\t')\n",
    "    if len(pair_split)!= 2:\n",
    "        continue\n",
    "    english = pair_split[0].lower()\n",
    "    french = pair_split[1].lower()\n",
    "    \n",
    "    # Remove punctuation and limit sentence length\n",
    "    max_sent_length = 10\n",
    "    punctuation_table = english.maketrans({i:None for i in string.punctuation})\n",
    "    english = english.translate(punctuation_table)\n",
    "    french = french.translate(punctuation_table)\n",
    "    if len(english.split()) >= max_sent_length or len(french.split()) >= max_sent_length:\n",
    "        continue\n",
    "       \n",
    "    english_sentences.append(english)\n",
    "    french_sentences.append(french)"
   ]
  },
  {
   "cell_type": "code",
   "execution_count": 5,
   "metadata": {},
   "outputs": [
    {
     "data": {
      "text/plain": [
       "['i', 'have', 'to', 'hurry']"
      ]
     },
     "execution_count": 5,
     "metadata": {},
     "output_type": "execute_result"
    }
   ],
   "source": [
    "english_sentences[10000].split()\n"
   ]
  },
  {
   "cell_type": "code",
   "execution_count": 6,
   "metadata": {},
   "outputs": [
    {
     "data": {
      "text/plain": [
       "['je', 'dois', 'me', 'dépêcher']"
      ]
     },
     "execution_count": 6,
     "metadata": {},
     "output_type": "execute_result"
    }
   ],
   "source": [
    "french_sentences[10000].split()"
   ]
  },
  {
   "cell_type": "code",
   "execution_count": 7,
   "metadata": {},
   "outputs": [
    {
     "name": "stdout",
     "output_type": "stream",
     "text": [
      "['my', 'students', 'have', 'been', 'eagerly', 'awaiting', 'the', 'test', 'results']\n"
     ]
    },
    {
     "data": {
      "text/plain": [
       "['mes',\n",
       " 'étudiants',\n",
       " 'ont',\n",
       " 'attendu',\n",
       " 'avidement',\n",
       " 'les',\n",
       " 'résultats',\n",
       " 'de',\n",
       " 'lépreuve']"
      ]
     },
     "execution_count": 7,
     "metadata": {},
     "output_type": "execute_result"
    }
   ],
   "source": [
    "print(english_sentences[-100].split())\n",
    "french_sentences[-100].split()\n"
   ]
  },
  {
   "cell_type": "code",
   "execution_count": 8,
   "metadata": {},
   "outputs": [
    {
     "name": "stdout",
     "output_type": "stream",
     "text": [
      "The longest english sentence in our dataset is: 9\n"
     ]
    }
   ],
   "source": [
    "max_en_length = 0\n",
    "for sentence in english_sentences:\n",
    "    length = len(sentence.split())\n",
    "    max_en_length = max(max_en_length, length)\n",
    "print(\"The longest english sentence in our dataset is:\", max_en_length)  "
   ]
  },
  {
   "cell_type": "code",
   "execution_count": 9,
   "metadata": {},
   "outputs": [
    {
     "name": "stdout",
     "output_type": "stream",
     "text": [
      "The longest french sentence in our dataset is: 9\n"
     ]
    }
   ],
   "source": [
    "max_fr_length = 0\n",
    "for sentence in french_sentences:\n",
    "    length = len(sentence.split())\n",
    "    max_fr_length = max(max_fr_length, length)\n",
    "print(\"The longest french sentence in our dataset is:\", max_fr_length)  "
   ]
  },
  {
   "cell_type": "code",
   "execution_count": 10,
   "metadata": {},
   "outputs": [],
   "source": [
    "seq_length = max(max_fr_length, max_en_length) + 1"
   ]
  },
  {
   "cell_type": "code",
   "execution_count": 11,
   "metadata": {},
   "outputs": [],
   "source": [
    "en_word_count = {}\n",
    "fr_word_count = {}\n",
    "\n",
    "for sentence in english_sentences:\n",
    "    for word in sentence.split():\n",
    "        if word in en_word_count:\n",
    "            en_word_count[word] +=1\n",
    "        else:\n",
    "            en_word_count[word] = 1\n",
    "            \n",
    "for sentence in french_sentences:\n",
    "    for word in sentence.split():\n",
    "        if word in fr_word_count:\n",
    "            fr_word_count[word] +=1\n",
    "        else:\n",
    "            fr_word_count[word] = 1\n"
   ]
  },
  {
   "cell_type": "code",
   "execution_count": 12,
   "metadata": {},
   "outputs": [],
   "source": [
    "en_word_count['</s>'] = len(english_sentences)\n",
    "fr_word_count['</s>'] = len(english_sentences)"
   ]
  },
  {
   "cell_type": "code",
   "execution_count": 13,
   "metadata": {},
   "outputs": [
    {
     "name": "stdout",
     "output_type": "stream",
     "text": [
      "Number of unique English words: 11997\n",
      "Number of unique French words: 24710\n"
     ]
    }
   ],
   "source": [
    "print('Number of unique English words:', len(en_word_count))\n",
    "print('Number of unique French words:', len(fr_word_count))"
   ]
  },
  {
   "cell_type": "code",
   "execution_count": 14,
   "metadata": {},
   "outputs": [],
   "source": [
    "fr_word2idx = {k:v+3 for v, k in enumerate(fr_word_count.keys())}\n",
    "en_word2idx = {k:v+3 for v, k in enumerate(en_word_count.keys())}"
   ]
  },
  {
   "cell_type": "code",
   "execution_count": 15,
   "metadata": {},
   "outputs": [],
   "source": [
    "fr_word2idx['<pad>'] = 0\n",
    "fr_word2idx['<s>'] = 1\n",
    "fr_word2idx['<unk>'] = 2\n",
    "\n",
    "en_word2idx['<pad>'] = 0\n",
    "en_word2idx['<s>'] = 1\n",
    "en_word2idx['<unk>'] = 2"
   ]
  },
  {
   "cell_type": "code",
   "execution_count": 16,
   "metadata": {},
   "outputs": [
    {
     "data": {
      "text/plain": [
       "24713"
      ]
     },
     "execution_count": 16,
     "metadata": {},
     "output_type": "execute_result"
    }
   ],
   "source": [
    "len(fr_word2idx)"
   ]
  },
  {
   "cell_type": "code",
   "execution_count": 17,
   "metadata": {},
   "outputs": [],
   "source": [
    "def get_value(items_tuple):\n",
    "    return items_tuple[1]\n",
    "\n",
    "sorted_en_words= sorted(en_word_count.items(), key=get_value, reverse=True)"
   ]
  },
  {
   "cell_type": "code",
   "execution_count": 18,
   "metadata": {},
   "outputs": [
    {
     "data": {
      "text/plain": [
       "[('attempting', 1),\n",
       " ('eradicate', 1),\n",
       " ('impossibilities', 1),\n",
       " ('offers', 1),\n",
       " ('profound', 1),\n",
       " ('insights', 1),\n",
       " ('hummer', 1),\n",
       " ('limousines', 1),\n",
       " ('tyrannical', 1),\n",
       " ('imprison', 1)]"
      ]
     },
     "execution_count": 18,
     "metadata": {},
     "output_type": "execute_result"
    }
   ],
   "source": [
    "sorted_en_words[-10:]"
   ]
  },
  {
   "cell_type": "markdown",
   "metadata": {},
   "source": [
    "### Using Word Embeddings"
   ]
  },
  {
   "cell_type": "markdown",
   "metadata": {},
   "source": [
    "Here we are building an embedding matrix of pretrained word vectors. The word embeddings used here were downloaded from the fastText repository. These embeddings have 300 dimensions. To start we will add a few token embeddings for our specific case. We want a token to signal the start of the sentence, A token for words that we do not have an embedding for, and a token to pad sentences so all the sentences we use have the same length. This will allow us to train the model on batches of sentences that are different lengths, rather than one at a time.\n",
    "\n",
    "After this step we will have a dictionary and an embedding matrix for each language. The dictionary will map words to an index value in the embedding matrix where its' corresponding embedding vector is stored."
   ]
  },
  {
   "cell_type": "markdown",
   "metadata": {},
   "source": [
    "#### Load Embeddings for the English data"
   ]
  },
  {
   "cell_type": "code",
   "execution_count": 19,
   "metadata": {},
   "outputs": [
    {
     "name": "stdout",
     "output_type": "stream",
     "text": [
      "Embeddings load from .npy file\n"
     ]
    }
   ],
   "source": [
    "# The data file containing the embeddings is very large so once we have the embeddings we want\n",
    "# we will save them as a numpy array. This way we can load this much faster then having to re read from\n",
    "# the large embedding file\n",
    "if os.path.exists('data/en_words.npy') and os.path.exists('data/en_vectors.npy'):\n",
    "    en_words = np.load('data/en_words.npy')\n",
    "    en_vectors = np.load('data/en_vectors.npy')\n",
    "    print('Embeddings load from .npy file')\n",
    "else:\n",
    "    # make a dict with the top 100,000 words\n",
    "    en_words = ['<pad>', # Padding Token\n",
    "                '<s>', # Start of sentence token\n",
    "                '<unk>'# Unknown word token\n",
    "               ]\n",
    "\n",
    "    en_vectors = list(np.random.uniform(-0.1, 0.1, (3, 300)))\n",
    "    en_vectors[0] *= 0 # make the padding vector zeros\n",
    "\n",
    "    with open('data/wiki.en.vec', \"r\") as f:\n",
    "        f.readline()\n",
    "        for _ in range(100000):\n",
    "            en_vecs = f.readline()\n",
    "            word = en_vecs.split()[0]\n",
    "            vector = np.float32(en_vecs.split()[1:])\n",
    "\n",
    "            # skip lines that don't have 300 dim\n",
    "            if len(vector) != 300:\n",
    "                continue\n",
    "\n",
    "            if word not in en_words:\n",
    "                en_words.append(word)\n",
    "                en_vectors.append(vector)\n",
    "        print(word, vector[:10]) # Last word embedding read from the file\n",
    "        en_words = np.array(en_words)\n",
    "        en_vectors = np.array(en_vectors)\n",
    "    # Save the arrays so we don't have to load the full word embedding file\n",
    "    np.save('data/en_words.npy', en_words)\n",
    "    np.save('data/en_vectors.npy', en_vectors)"
   ]
  },
  {
   "cell_type": "code",
   "execution_count": 20,
   "metadata": {},
   "outputs": [],
   "source": [
    "en_word2idx = {word:index for index, word in enumerate(en_words)}"
   ]
  },
  {
   "cell_type": "code",
   "execution_count": 21,
   "metadata": {},
   "outputs": [
    {
     "name": "stdout",
     "output_type": "stream",
     "text": [
      "index for word hemophilia: 99996 \n",
      "vector for word hemophilia:\n",
      " [ 0.16189    -0.056121   -0.65560001  0.21569    -0.11878    -0.02066\n",
      "  0.37613001 -0.24117    -0.098989   -0.010058  ]\n"
     ]
    }
   ],
   "source": [
    "hemophilia_idx = en_word2idx['hemophilia']\n",
    "print('index for word hemophilia:', hemophilia_idx, \n",
    "      '\\nvector for word hemophilia:\\n',en_vectors[hemophilia_idx][:10])"
   ]
  },
  {
   "cell_type": "markdown",
   "metadata": {},
   "source": [
    "The word embedding for hemophilia matches the one read from the file, so it looks like everything worked properly."
   ]
  },
  {
   "cell_type": "markdown",
   "metadata": {},
   "source": [
    "#### Load Embeddings for the Frech data"
   ]
  },
  {
   "cell_type": "code",
   "execution_count": 22,
   "metadata": {
    "scrolled": false
   },
   "outputs": [
    {
     "name": "stdout",
     "output_type": "stream",
     "text": [
      "Embeddings load from .npy file\n"
     ]
    }
   ],
   "source": [
    "if os.path.exists('data/fr_words.npy') and os.path.exists('data/fr_vectors.npy'):\n",
    "    fr_words = np.load('data/fr_words.npy')\n",
    "    fr_vectors = np.load('data/fr_vectors.npy')\n",
    "    print('Embeddings load from .npy file')\n",
    "else:\n",
    "    # make a dict with the top 100,000 words\n",
    "    fr_words = ['<pad>',\n",
    "                '<s>',\n",
    "                '<unk>']\n",
    "\n",
    "    fr_vectors = list(np.random.uniform(-0.1, 0.1, (3, 300)))\n",
    "    fr_vectors[0] = np.zeros(300) # make the padding vector zeros\n",
    "\n",
    "    with open('data/wiki.fr.vec', \"r\") as f:\n",
    "        f.readline()\n",
    "        for _ in range(100000):\n",
    "            fr_vecs = f.readline()\n",
    "            word = fr_vecs.split()[0]\n",
    "            try:\n",
    "                vector = np.float32(fr_vecs.split()[1:])\n",
    "            except ValueError:\n",
    "                continue\n",
    "\n",
    "             # skip lines that don't have 300 dim\n",
    "            if len(vector) != 300:\n",
    "                continue\n",
    "\n",
    "            if word not in fr_words:\n",
    "                fr_words.append(word)\n",
    "                fr_vectors.append(vector)\n",
    "        print(word, vector[:10])\n",
    "        fr_words = np.array(fr_words)\n",
    "        fr_vectors = np.array(fr_vectors)\n",
    "    # Save the arrays so we don't have to load the full word embedding file\n",
    "    np.save('data/fr_words.npy', fr_words)\n",
    "    np.save('data/fr_vectors.npy', fr_vectors)"
   ]
  },
  {
   "cell_type": "code",
   "execution_count": 23,
   "metadata": {},
   "outputs": [],
   "source": [
    "fr_word2idx = {word:index for index, word in enumerate(fr_words)}"
   ]
  },
  {
   "cell_type": "code",
   "execution_count": 24,
   "metadata": {},
   "outputs": [
    {
     "name": "stdout",
     "output_type": "stream",
     "text": [
      "index for word chabeuil: 99783 \n",
      "vector for word chabeuil:\n",
      " [-0.18058001 -0.24758001  0.075607    0.17299999  0.24116001 -0.11223\n",
      " -0.28173     0.27373999  0.37997001  0.48008999]\n"
     ]
    }
   ],
   "source": [
    "chabeuil_idx = fr_word2idx['chabeuil']\n",
    "print('index for word chabeuil:', chabeuil_idx, \n",
    "      '\\nvector for word chabeuil:\\n',fr_vectors[chabeuil_idx][:10])"
   ]
  },
  {
   "cell_type": "code",
   "execution_count": 25,
   "metadata": {},
   "outputs": [
    {
     "data": {
      "text/plain": [
       "99783"
      ]
     },
     "execution_count": 25,
     "metadata": {},
     "output_type": "execute_result"
    }
   ],
   "source": [
    "fr_word2idx[\"chabeuil\"]"
   ]
  },
  {
   "cell_type": "markdown",
   "metadata": {},
   "source": [
    "The word embedding for chabeuil matches as well so everything worked correctly for the french vocab."
   ]
  },
  {
   "cell_type": "markdown",
   "metadata": {},
   "source": [
    "Ok, so we have all the pieces needed to take words and convert them into word embeddings. These word embeddings already have a lot of useful information about how words relate since we loaded the pre-trained word embeddings. Now we can build the translation model with the embedding matrices built in."
   ]
  },
  {
   "cell_type": "markdown",
   "metadata": {},
   "source": [
    "### Setting up PyTorch Dataset and Dataloader"
   ]
  },
  {
   "cell_type": "markdown",
   "metadata": {},
   "source": [
    "Rather than organizing all the data from a file and storing it in a list or some other data structure, PyTorch allows us to create a dataset object. To get an example from a dataset we just index the dataset object like we would a list. However, all our processing can be contained in the objects initialization or indexing process.\n",
    "\n",
    "This will also make training easier when we want to iterate through batches."
   ]
  },
  {
   "cell_type": "code",
   "execution_count": 26,
   "metadata": {},
   "outputs": [],
   "source": [
    "class French2EnglishDataset(Dataset):\n",
    "    '''\n",
    "        French and associated English sentences.\n",
    "    '''\n",
    "    \n",
    "    def __init__(self, fr_sentences, en_sentences, fr_word2idx, en_word2idx, seq_length):\n",
    "        self.fr_sentences = fr_sentences\n",
    "        self.en_sentences = en_sentences\n",
    "        self.fr_word2idx = fr_word2idx\n",
    "        self.en_word2idx = en_word2idx\n",
    "        self.seq_length = seq_length\n",
    "        self.unk_en = set()\n",
    "        self.unk_fr = set()\n",
    "    \n",
    "    def __len__(self):\n",
    "        return len(french_sentences)\n",
    "    \n",
    "    def __getitem__(self, idx):\n",
    "        '''\n",
    "            Returns a pair of tensors containing word indices\n",
    "            for the specified sentence pair in the dataset.\n",
    "        '''\n",
    "        \n",
    "        # init torch tensors, note that 0 is the padding index\n",
    "        french_tensor = torch.zeros(self.seq_length, dtype=torch.long)\n",
    "        english_tensor = torch.zeros(self.seq_length, dtype=torch.long)\n",
    "        \n",
    "        # Get sentence pair\n",
    "        french_sentence = self.fr_sentences[idx].split()\n",
    "        english_sentence = self.en_sentences[idx].split()\n",
    "        \n",
    "        # Add <EOS> tags\n",
    "        french_sentence.append('</s>')\n",
    "        english_sentence.append('</s>')\n",
    "        \n",
    "        # Load word indices\n",
    "        for i, word in enumerate(french_sentence):\n",
    "            if word in fr_word2idx and fr_word_count[word] > 5:\n",
    "                french_tensor[i] = fr_word2idx[word]\n",
    "            else:\n",
    "                french_tensor[i] = fr_word2idx['<unk>']\n",
    "                self.unk_fr.add(word)\n",
    "        \n",
    "        for i, word in enumerate(english_sentence):\n",
    "            if word in en_word2idx and en_word_count[word] > 5:\n",
    "                english_tensor[i] = en_word2idx[word]\n",
    "            else:\n",
    "                english_tensor[i] = en_word2idx['<unk>']\n",
    "                self.unk_en.add(word)\n",
    "            \n",
    "        sample = {'french_tensor': french_tensor, 'french_sentence': self.fr_sentences[idx],\n",
    "                  'english_tensor': english_tensor, 'english_sentence': self.en_sentences[idx]}\n",
    "        return sample"
   ]
  },
  {
   "cell_type": "code",
   "execution_count": 27,
   "metadata": {},
   "outputs": [],
   "source": [
    "french_english_dataset = French2EnglishDataset(french_sentences,\n",
    "                                               english_sentences,\n",
    "                                               fr_word2idx,\n",
    "                                               en_word2idx,\n",
    "                                               seq_length = seq_length)"
   ]
  },
  {
   "cell_type": "markdown",
   "metadata": {},
   "source": [
    "#### Example output of dataset"
   ]
  },
  {
   "cell_type": "code",
   "execution_count": 28,
   "metadata": {},
   "outputs": [],
   "source": [
    "test_sample = french_english_dataset[-10] # get 13th item in dataset"
   ]
  },
  {
   "cell_type": "code",
   "execution_count": 29,
   "metadata": {},
   "outputs": [
    {
     "name": "stdout",
     "output_type": "stream",
     "text": [
      "tout le monde sattendait à ce que lexpérience échoue\n"
     ]
    },
    {
     "data": {
      "text/plain": [
       "tensor([  121,    10,   129,     2,    12,    39,    33,     2,  6300,\n",
       "            3])"
      ]
     },
     "execution_count": 29,
     "metadata": {},
     "output_type": "execute_result"
    }
   ],
   "source": [
    "print(test_sample['french_sentence'])\n",
    "test_sample['french_tensor']"
   ]
  },
  {
   "cell_type": "code",
   "execution_count": 30,
   "metadata": {},
   "outputs": [
    {
     "data": {
      "text/plain": [
       "3"
      ]
     },
     "execution_count": 30,
     "metadata": {},
     "output_type": "execute_result"
    }
   ],
   "source": [
    "fr_word2idx['</s>']"
   ]
  },
  {
   "cell_type": "code",
   "execution_count": 31,
   "metadata": {},
   "outputs": [],
   "source": [
    "# Build dataloader to check how the batching works\n",
    "dataloader = DataLoader(french_english_dataset, batch_size=64,\n",
    "                        shuffle=True, num_workers=4)"
   ]
  },
  {
   "cell_type": "code",
   "execution_count": 32,
   "metadata": {
    "scrolled": true
   },
   "outputs": [
    {
     "name": "stdout",
     "output_type": "stream",
     "text": [
      "0 torch.Size([64, 10]) torch.Size([64, 10])\n",
      "1 torch.Size([64, 10]) torch.Size([64, 10])\n",
      "2 torch.Size([64, 10]) torch.Size([64, 10])\n",
      "3 torch.Size([64, 10]) torch.Size([64, 10])\n",
      "4 torch.Size([64, 10]) torch.Size([64, 10])\n",
      "5 torch.Size([64, 10]) torch.Size([64, 10])\n",
      "6 torch.Size([64, 10]) torch.Size([64, 10])\n",
      "7 torch.Size([64, 10]) torch.Size([64, 10])\n",
      "8 torch.Size([64, 10]) torch.Size([64, 10])\n",
      "9 torch.Size([64, 10]) torch.Size([64, 10])\n",
      "10 torch.Size([64, 10]) torch.Size([64, 10])\n"
     ]
    }
   ],
   "source": [
    "# Prints out 10 batches from the dataloader\n",
    "for i_batch, sample_batched in enumerate(dataloader):\n",
    "    print(i_batch, sample_batched['french_tensor'].shape,\n",
    "          sample_batched['english_tensor'].shape)\n",
    "    if i_batch == 10:\n",
    "        break"
   ]
  },
  {
   "cell_type": "markdown",
   "metadata": {},
   "source": [
    "## Part 2: Building the Model"
   ]
  },
  {
   "cell_type": "markdown",
   "metadata": {},
   "source": [
    "### Bi-Directional LSTM Encoder"
   ]
  },
  {
   "cell_type": "code",
   "execution_count": 33,
   "metadata": {},
   "outputs": [],
   "source": [
    "class EncoderBiLSTM(nn.Module):\n",
    "    def __init__(self, hidden_size, pretrained_embeddings):\n",
    "        super(EncoderBiLSTM, self).__init__()\n",
    "        self.hidden_size = hidden_size\n",
    "        self.embedding_dim = pretrained_embeddings.shape[1]\n",
    "        self.vocab_size = pretrained_embeddings.shape[0]\n",
    "        self.num_layers = 2\n",
    "        self.dropout = 0.1 if self.num_layers > 1 else 0\n",
    "        self.bidirectional = True\n",
    "        \n",
    "        \n",
    "        # Construct the layers\n",
    "        self.embedding = nn.Embedding(self.vocab_size, self.embedding_dim)\n",
    "        self.embedding.weight.data.copy_(torch.from_numpy(pretrained_embeddings))\n",
    "        self.embedding.weight.requires_grad = False\n",
    "        \n",
    "        self.lstm = nn.LSTM(self.embedding_dim,\n",
    "                            self.hidden_size,\n",
    "                            self.num_layers,\n",
    "                            batch_first = True,\n",
    "                            dropout=self.dropout,\n",
    "                            bidirectional=self.bidirectional)\n",
    "        \n",
    "        # Initialize hidden to hidden weights in LSTM to the Identity matrix\n",
    "        # PyTorch LSTM has 4 different hidden to hidden weights stacked in one matrix\n",
    "        identity_init = torch.eye(self.hidden_size)\n",
    "        self.lstm.weight_hh_l0.data.copy_(torch.cat([identity_init]*4, dim=0))\n",
    "        self.lstm.weight_hh_l0_reverse.data.copy_(torch.cat([identity_init]*4, dim=0))\n",
    "        self.lstm.weight_hh_l1.data.copy_(torch.cat([identity_init]*4, dim=0))\n",
    "        self.lstm.weight_hh_l1_reverse.data.copy_(torch.cat([identity_init]*4, dim=0))\n",
    "    \n",
    "    def forward(self, input, hidden):\n",
    "        embedded = self.embedding(input)\n",
    "        output = self.lstm(embedded, hidden)\n",
    "        return output\n",
    "    \n",
    "    def initHidden(self, batch_size):\n",
    "        \n",
    "        hidden_state = torch.zeros(self.num_layers*(2 if self.bidirectional else 1),\n",
    "                                   batch_size,\n",
    "                                   self.hidden_size, \n",
    "                                   device=device)\n",
    "        \n",
    "        cell_state = torch.zeros(self.num_layers*(2 if self.bidirectional else 1),\n",
    "                                 batch_size,\n",
    "                                 self.hidden_size, \n",
    "                                 device=device)\n",
    "        \n",
    "        return (hidden_state, cell_state)"
   ]
  },
  {
   "cell_type": "code",
   "execution_count": 34,
   "metadata": {},
   "outputs": [],
   "source": [
    "class EncoderBiGRU(nn.Module):\n",
    "    def __init__(self, hidden_size, pretrained_embeddings):\n",
    "        super(EncoderBiGRU, self).__init__()\n",
    "        self.hidden_size = hidden_size\n",
    "        self.embedding_dim = pretrained_embeddings.shape[1]\n",
    "        self.vocab_size = pretrained_embeddings.shape[0]\n",
    "        self.num_layers = 2\n",
    "        self.dropout = 0.1 if self.num_layers > 1 else 0\n",
    "        self.bidirectional = True\n",
    "        \n",
    "        \n",
    "        # Construct the layers\n",
    "        self.embedding = nn.Embedding(self.vocab_size, self.embedding_dim)\n",
    "        self.embedding.weight.data.copy_(torch.from_numpy(pretrained_embeddings))\n",
    "        self.embedding.weight.requires_grad = False\n",
    "        \n",
    "        self.gru = nn.GRU(self.embedding_dim,\n",
    "                            self.hidden_size,\n",
    "                            self.num_layers,\n",
    "                            batch_first = True,\n",
    "                            dropout=self.dropout,\n",
    "                            bidirectional=self.bidirectional)\n",
    "        \n",
    "        # Initialize hidden to hidden weights in GRU to the Identity matrix\n",
    "        # PyTorch GRU has 3 different hidden to hidden weights stacked in one matrix\n",
    "        identity_init = torch.eye(self.hidden_size)\n",
    "        self.gru.weight_hh_l0.data.copy_(torch.cat([identity_init]*3, dim=0))\n",
    "        self.gru.weight_hh_l0_reverse.data.copy_(torch.cat([identity_init]*3, dim=0))\n",
    "        self.gru.weight_hh_l1.data.copy_(torch.cat([identity_init]*3, dim=0))\n",
    "        self.gru.weight_hh_l1_reverse.data.copy_(torch.cat([identity_init]*3, dim=0))\n",
    "    \n",
    "    def forward(self, input, hidden):\n",
    "        embedded = self.embedding(input)\n",
    "        output = self.gru(embedded, hidden)\n",
    "        return output\n",
    "    \n",
    "    def initHidden(self, batch_size):\n",
    "        \n",
    "        hidden_state = torch.zeros(self.num_layers*(2 if self.bidirectional else 1),\n",
    "                                   batch_size,\n",
    "                                   self.hidden_size, \n",
    "                                   device=device)\n",
    "        \n",
    "        return hidden_state"
   ]
  },
  {
   "cell_type": "markdown",
   "metadata": {
    "heading_collapsed": true
   },
   "source": [
    "#### Testing the Encoder"
   ]
  },
  {
   "cell_type": "code",
   "execution_count": 341,
   "metadata": {
    "hidden": true
   },
   "outputs": [
    {
     "name": "stdout",
     "output_type": "stream",
     "text": [
      "The final output of the BiLSTM Encoder on our test input is: \n",
      "\n",
      " torch.Size([1, 3, 10])\n",
      "\n",
      "\n",
      "Encoder output tensor: \n",
      "\n",
      " tensor([[[ 0.0086,  0.0373,  0.0601, -0.0059,  0.0364,  0.1941,  0.0409,\n",
      "          -0.1233, -0.1199,  0.0149],\n",
      "         [ 0.0197,  0.0708,  0.1135, -0.0156,  0.0518,  0.1375,  0.0249,\n",
      "          -0.0826, -0.0825,  0.0017],\n",
      "         [ 0.0386,  0.1402,  0.2047, -0.0223,  0.0343,  0.0880,  0.0323,\n",
      "          -0.0698, -0.0657,  0.0421]]], device='cuda:0')\n"
     ]
    }
   ],
   "source": [
    "# Test the encoder on a sample input, input tensor has dimensions (batch_size, seq_length)\n",
    "\n",
    "batch_size = 1\n",
    "seq_length = 3\n",
    "hidden_size = 5\n",
    "encoder = EncoderBiLSTM(hidden_size, fr_vectors).to(device)\n",
    "hidden = encoder.initHidden(batch_size)\n",
    "\n",
    "# Create an input tensor of random indices\n",
    "inputs = torch.randint(0, 50, (batch_size, seq_length), dtype=torch.long, device=device)\n",
    "\n",
    "encoder_output, hidden_state = encoder.forward(inputs, hidden)\n",
    "\n",
    "print(\"The final output of the BiLSTM Encoder on our test input is: \\n\\n\", encoder_output.shape)\n",
    "\n",
    "print('\\n\\nEncoder output tensor: \\n\\n', encoder_output)"
   ]
  },
  {
   "cell_type": "code",
   "execution_count": 106,
   "metadata": {
    "hidden": true
   },
   "outputs": [
    {
     "data": {
      "text/plain": [
       "(tensor([[[ 0.2758,  0.0220,  0.0257, -0.0053, -0.0084]],\n",
       " \n",
       "         [[ 0.0670,  0.3896, -0.3120,  0.5056,  0.0540]],\n",
       " \n",
       "         [[ 0.0259,  0.0108,  0.0382,  0.3557,  0.2149]],\n",
       " \n",
       "         [[-0.1834,  0.0832,  0.1996,  0.1796, -0.1747]]], device='cuda:0'),\n",
       " tensor([[[ 0.5685,  0.0715,  0.3894, -0.0150, -0.0221]],\n",
       " \n",
       "         [[ 0.2641,  0.7460, -0.9657,  1.3272,  0.1121]],\n",
       " \n",
       "         [[ 0.0575,  0.0171,  0.0801,  0.6920,  0.6083]],\n",
       " \n",
       "         [[-0.4367,  0.1599,  0.3130,  0.4168, -0.3858]]], device='cuda:0'))"
      ]
     },
     "execution_count": 106,
     "metadata": {},
     "output_type": "execute_result"
    }
   ],
   "source": [
    "hidden_state# Tuple where first item is the hidden states, second item is the cell states.\n",
    "\n",
    "# The lstm has 2 layers, each layer has a forward and backward pass giving 4"
   ]
  },
  {
   "cell_type": "code",
   "execution_count": 107,
   "metadata": {
    "hidden": true
   },
   "outputs": [
    {
     "data": {
      "text/plain": [
       "tensor([[[ 0.0670,  0.3896, -0.3120,  0.5056,  0.0540]],\n",
       "\n",
       "        [[-0.1834,  0.0832,  0.1996,  0.1796, -0.1747]]], device='cuda:0')"
      ]
     },
     "execution_count": 107,
     "metadata": {},
     "output_type": "execute_result"
    }
   ],
   "source": [
    "hidden_state[0][::2] # Hidden states from forward pass for both lstm layers."
   ]
  },
  {
   "cell_type": "code",
   "execution_count": 102,
   "metadata": {
    "hidden": true
   },
   "outputs": [],
   "source": [
    "encoder_gru = EncoderBiGRU(hidden_size, fr_vectors).to(device)\n",
    "hidden = encoder_gru.initHidden(batch_size)\n",
    "o,h = encoder_gru(inputs, hidden)"
   ]
  },
  {
   "cell_type": "code",
   "execution_count": 103,
   "metadata": {
    "hidden": true
   },
   "outputs": [
    {
     "data": {
      "text/plain": [
       "tensor([[[-0.0655,  0.1603, -0.0524, -0.0657, -0.1401,  0.3061,  0.2582,\n",
       "           0.0695, -0.2592,  0.5090],\n",
       "         [ 0.0141, -0.0763, -0.0059, -0.0959, -0.1177,  0.2653,  0.1059,\n",
       "          -0.0114, -0.2287,  0.4691],\n",
       "         [ 0.0666, -0.1238, -0.0988, -0.0869, -0.2081,  0.1008,  0.0713,\n",
       "           0.0013, -0.1661,  0.2408]]], device='cuda:0')"
      ]
     },
     "execution_count": 103,
     "metadata": {},
     "output_type": "execute_result"
    }
   ],
   "source": [
    "o"
   ]
  },
  {
   "cell_type": "code",
   "execution_count": 110,
   "metadata": {
    "hidden": true
   },
   "outputs": [
    {
     "name": "stdout",
     "output_type": "stream",
     "text": [
      "tensor([[[ 0.5315, -0.1505,  0.1251,  0.5621,  0.2153]],\n",
      "\n",
      "        [[ 0.0974,  0.6534, -0.4232,  0.2435, -0.3140]],\n",
      "\n",
      "        [[ 0.0666, -0.1238, -0.0988, -0.0869, -0.2081]],\n",
      "\n",
      "        [[ 0.3061,  0.2582,  0.0695, -0.2592,  0.5090]]], device='cuda:0')\n"
     ]
    },
    {
     "data": {
      "text/plain": [
       "tensor([[[ 0.0974,  0.6534, -0.4232,  0.2435, -0.3140]],\n",
       "\n",
       "        [[ 0.3061,  0.2582,  0.0695, -0.2592,  0.5090]]], device='cuda:0')"
      ]
     },
     "execution_count": 110,
     "metadata": {},
     "output_type": "execute_result"
    }
   ],
   "source": [
    "print(h)\n",
    "h[1::2]"
   ]
  },
  {
   "cell_type": "markdown",
   "metadata": {
    "heading_collapsed": true
   },
   "source": [
    "### Attention\n",
    "Let's take a moment to go over how attention is being modeled."
   ]
  },
  {
   "cell_type": "code",
   "execution_count": 39,
   "metadata": {
    "hidden": true
   },
   "outputs": [
    {
     "name": "stdout",
     "output_type": "stream",
     "text": [
      "Attention weights:\n",
      " tensor([[[ 1.,  0.,  0.]]], device='cuda:0')\n",
      "\n",
      "First sequence item in Encoder output: \n",
      " tensor([[ 0.0148, -0.0507,  0.0720,  0.1213, -0.0374,  0.2630, -0.0217,\n",
      "         -0.1557,  0.1702, -0.1133]], device='cuda:0')\n",
      "\n",
      "Encoder Output after attention is applied: \n",
      " tensor([ 0.0148, -0.0507,  0.0720,  0.1213, -0.0374,  0.2630, -0.0217,\n",
      "        -0.1557,  0.1702, -0.1133], device='cuda:0')\n",
      "\n",
      " torch.Size([10])\n"
     ]
    }
   ],
   "source": [
    "# Initialize attention weights to one\n",
    "attn_weights = torch.ones((batch_size, seq_length),device=device)\n",
    "\n",
    "# Set all weights except the weights associated with the first sequence item equal to zero\n",
    "# This would represent full attention on the first word in the sequence\n",
    "attn_weights[:, 1:] = 0\n",
    "\n",
    "attn_weights.unsqueeze_(1) # Add dimension for batch matrix multiplication\n",
    "attn_applied = torch.bmm(attn_weights, encoder_output)\n",
    "attn_applied.squeeze_() # Remove extra dimension\n",
    "\n",
    "print('Attention weights:\\n', attn_weights)\n",
    "print('\\nFirst sequence item in Encoder output: \\n',encoder_output[:,0,:])\n",
    "print('\\nEncoder Output after attention is applied: \\n', attn_applied)\n",
    "print('\\n', attn_applied.shape)"
   ]
  },
  {
   "cell_type": "markdown",
   "metadata": {},
   "source": [
    "### LSTM Decoder with Attention"
   ]
  },
  {
   "cell_type": "code",
   "execution_count": 35,
   "metadata": {},
   "outputs": [],
   "source": [
    "class AttnDecoderLSTM(nn.Module):\n",
    "    def __init__(self, decoder_hidden_size, pretrained_embeddings, seq_length, encoder_hidden_dim):\n",
    "        super(AttnDecoderLSTM, self).__init__()\n",
    "        # Embedding parameters\n",
    "        self.embedding_dim = pretrained_embeddings.shape[1]\n",
    "        self.output_vocab_size = pretrained_embeddings.shape[0]\n",
    "        \n",
    "        # LSTM parameters\n",
    "        self.decoder_hidden_size = decoder_hidden_size\n",
    "        self.num_layers = 2 # Potentially add more layers to LSTM later\n",
    "        self.dropout = 0.1 if self.num_layers > 1 else 0 # Potentially add dropout later\n",
    "        \n",
    "        # Attention parameters\n",
    "        self.seq_length = seq_length\n",
    "        self.encoder_hidden_dim = encoder_hidden_dim\n",
    "        \n",
    "        # Construct embedding layer for output language\n",
    "        self.embedding = nn.Embedding(self.output_vocab_size, self.embedding_dim)\n",
    "        self.embedding.weight.data.copy_(torch.from_numpy(pretrained_embeddings))\n",
    "        self.embedding.weight.requires_grad = False # we don't want to train the embedding weights\n",
    "        \n",
    "        # Construct layer that calculates attentional weights\n",
    "        self.attn = nn.Linear((2*self.decoder_hidden_size + self.embedding_dim), self.seq_length)\n",
    "        \n",
    "        # Construct layer that compresses the combined matrix of the input embeddings\n",
    "        # and the encoder inputs after attention has been applied\n",
    "        self.attn_with_input = nn.Linear(self.embedding_dim + self.encoder_hidden_dim, self.embedding_dim)\n",
    "        \n",
    "        # LSTM for Decoder\n",
    "        self.lstm = nn.LSTM(self.embedding_dim,\n",
    "                            self.decoder_hidden_size,\n",
    "                            self.num_layers,\n",
    "                            dropout=self.dropout)\n",
    "        \n",
    "        # Initialize hidden to hidden weights in LSTM to the Identity matrix\n",
    "        # PyTorch LSTM has 4 different hidden to hidden weights stacked in one matrix\n",
    "        identity_init = torch.eye(self.decoder_hidden_size)\n",
    "        self.lstm.weight_hh_l0.data.copy_(torch.cat([identity_init]*4, dim=0))\n",
    "        self.lstm.weight_hh_l1.data.copy_(torch.cat([identity_init]*4, dim=0))\n",
    "        \n",
    "        # Output layer\n",
    "        self.out = nn.Linear(self.decoder_hidden_size, self.output_vocab_size)\n",
    "    \n",
    "    def forward(self, input, hidden, encoder_output):\n",
    "        # Input word indices, should have dim(1, batch_size), output will be (1, batch_size, embedding_dim)\n",
    "        embedded = self.embedding(input)\n",
    "        \n",
    "        # Calculate Attention weights\n",
    "        attn_weights = F.softmax(self.attn(torch.cat((hidden[1][1], hidden[0][1], embedded[0]), 1)), dim=1)\n",
    "        attn_weights = attn_weights.unsqueeze(1) # Add dimension for batch matrix multiplication\n",
    "        \n",
    "        # Apply Attention weights\n",
    "        attn_applied = torch.bmm(attn_weights, encoder_output)\n",
    "        attn_applied = attn_applied.squeeze(1) # Remove extra dimension, dim are now (batch_size, encoder_hidden_size)\n",
    "        \n",
    "        # Prepare LSTM input tensor\n",
    "\n",
    "        attn_combined = torch.cat((embedded[0], attn_applied), 1) # Combine embedding input and attn_applied,\n",
    "        lstm_input = F.relu(self.attn_with_input(attn_combined)) # pass through fully connected with ReLU\n",
    "        lstm_input = lstm_input.unsqueeze(0) # Add seq dimension so tensor has expected dimensions for lstm\n",
    "        \n",
    "        output, hidden = self.lstm(lstm_input, hidden) # Output dim = (1, batch_size, decoder_hidden_size)\n",
    "        output = F.log_softmax(self.out(output[0]), dim=1) # softmax over all words in vocab\n",
    "        \n",
    "        \n",
    "        return output, hidden, attn_weights\n",
    "    \n",
    "    def initHidden(self, batch_size):\n",
    "        \n",
    "        hidden_state = torch.zeros(self.num_layers,\n",
    "                                   batch_size,\n",
    "                                   self.decoder_hidden_size, \n",
    "                                   device=device)\n",
    "        \n",
    "        cell_state = torch.zeros(self.num_layers,\n",
    "                                 batch_size,\n",
    "                                 self.decoder_hidden_size, \n",
    "                                 device=device)\n",
    "        \n",
    "        return (hidden_state, cell_state)"
   ]
  },
  {
   "cell_type": "code",
   "execution_count": 36,
   "metadata": {},
   "outputs": [],
   "source": [
    "class AttnDecoderGRU(nn.Module):\n",
    "    def __init__(self, decoder_hidden_size, pretrained_embeddings, seq_length, encoder_hidden_dim):\n",
    "        super(AttnDecoderGRU, self).__init__()\n",
    "        # Embedding parameters\n",
    "        self.embedding_dim = pretrained_embeddings.shape[1]\n",
    "        self.output_vocab_size = pretrained_embeddings.shape[0]\n",
    "        \n",
    "        # GRU parameters\n",
    "        self.decoder_hidden_size = decoder_hidden_size\n",
    "        self.num_layers = 2 # Potentially add more layers to LSTM later\n",
    "        self.dropout = 0.1 if self.num_layers > 1 else 0 # Potentially add dropout later\n",
    "        \n",
    "        # Attention parameters\n",
    "        self.seq_length = seq_length\n",
    "        self.encoder_hidden_dim = encoder_hidden_dim\n",
    "        \n",
    "        # Construct embedding layer for output language\n",
    "        self.embedding = nn.Embedding(self.output_vocab_size, self.embedding_dim)\n",
    "        self.embedding.weight.data.copy_(torch.from_numpy(pretrained_embeddings))\n",
    "        self.embedding.weight.requires_grad = False # we don't want to train the embedding weights\n",
    "        \n",
    "        # Construct layer that calculates attentional weights\n",
    "        self.attn = nn.Linear(self.decoder_hidden_size + self.embedding_dim, self.seq_length)\n",
    "        \n",
    "        # Construct layer that compresses the combined matrix of the input embeddings\n",
    "        # and the encoder inputs after attention has been applied\n",
    "        self.attn_with_input = nn.Linear(self.embedding_dim + self.encoder_hidden_dim, self.embedding_dim)\n",
    "        \n",
    "        # gru for Decoder\n",
    "        self.gru = nn.GRU(self.embedding_dim,\n",
    "                            self.decoder_hidden_size,\n",
    "                            self.num_layers,\n",
    "                            dropout=self.dropout)\n",
    "        \n",
    "        # Initialize hidden to hidden weights in GRU to the Identity matrix\n",
    "        # PyTorch GRU has 3 different hidden to hidden weights stacked in one matrix\n",
    "        identity_init = torch.eye(self.decoder_hidden_size)\n",
    "        self.gru.weight_hh_l0.data.copy_(torch.cat([identity_init]*3, dim=0))\n",
    "        self.gru.weight_hh_l1.data.copy_(torch.cat([identity_init]*3, dim=0))\n",
    "        \n",
    "        # Output layer\n",
    "        self.out = nn.Linear(self.decoder_hidden_size, self.output_vocab_size)\n",
    "    \n",
    "    def forward(self, input, hidden, encoder_output):\n",
    "        # Input word indices, should have dim(1, batch_size), output will be (1, batch_size, embedding_dim)\n",
    "        embedded = self.embedding(input)\n",
    "        \n",
    "        # Calculate Attention weights\n",
    "        attn_weights = F.softmax(self.attn(torch.cat((hidden[0], embedded[0]), 1)), dim=1)\n",
    "        attn_weights = attn_weights.unsqueeze(1) # Add dimension for batch matrix multiplication\n",
    "        \n",
    "        # Apply Attention weights\n",
    "        attn_applied = torch.bmm(attn_weights, encoder_output)\n",
    "        attn_applied = attn_applied.squeeze(1) # Remove extra dimension, dim are now (batch_size, encoder_hidden_size)\n",
    "        \n",
    "        # Prepare GRU input tensor\n",
    "\n",
    "        attn_combined = torch.cat((embedded[0], attn_applied), 1) # Combine embedding input and attn_applied,\n",
    "        gru_input = F.relu(self.attn_with_input(attn_combined)) # pass through fully connected with ReLU\n",
    "        gru_input = gru_input.unsqueeze(0) # Add seq dimension so tensor has expected dimensions for lstm\n",
    "        \n",
    "        output, hidden = self.gru(gru_input, hidden) # Output dim = (1, batch_size, decoder_hidden_size)\n",
    "        output = F.log_softmax(self.out(output[0]), dim=1) # softmax over all words in vocab\n",
    "        \n",
    "        return output, hidden, attn_weights\n",
    "    \n",
    "    def initHidden(self, batch_size):\n",
    "        \n",
    "        hidden_state = torch.zeros(self.num_layers,\n",
    "                                   batch_size,\n",
    "                                   self.decoder_hidden_size, \n",
    "                                   device=device)\n",
    "        \n",
    "        return hidden_state"
   ]
  },
  {
   "cell_type": "markdown",
   "metadata": {
    "heading_collapsed": true
   },
   "source": [
    "#### Testing the Decoder"
   ]
  },
  {
   "cell_type": "code",
   "execution_count": 42,
   "metadata": {
    "hidden": true
   },
   "outputs": [],
   "source": [
    "# Test the decoder on sample inputs to check that the dimensions of everything is correct\n",
    "decoder_hidden_size = 5\n",
    "\n",
    "decoder = AttnDecoderLSTM(decoder_hidden_size, en_vectors, seq_length, 2*hidden_size).to(device)"
   ]
  },
  {
   "cell_type": "code",
   "execution_count": 43,
   "metadata": {
    "hidden": true
   },
   "outputs": [],
   "source": [
    "input_idx = torch.tensor([fr_word2idx['<s>']]*batch_size, dtype=torch.long, device=device)"
   ]
  },
  {
   "cell_type": "code",
   "execution_count": 44,
   "metadata": {
    "hidden": true
   },
   "outputs": [
    {
     "data": {
      "text/plain": [
       "torch.Size([1])"
      ]
     },
     "execution_count": 44,
     "metadata": {},
     "output_type": "execute_result"
    }
   ],
   "source": [
    "input_idx.shape"
   ]
  },
  {
   "cell_type": "code",
   "execution_count": 45,
   "metadata": {
    "hidden": true
   },
   "outputs": [],
   "source": [
    "input_idx = input_idx.unsqueeze_(0)\n",
    "decoder_hidden = decoder.initHidden(batch_size)"
   ]
  },
  {
   "cell_type": "code",
   "execution_count": 46,
   "metadata": {
    "hidden": true
   },
   "outputs": [
    {
     "data": {
      "text/plain": [
       "torch.Size([1, 1])"
      ]
     },
     "execution_count": 46,
     "metadata": {},
     "output_type": "execute_result"
    }
   ],
   "source": [
    "input_idx.shape"
   ]
  },
  {
   "cell_type": "code",
   "execution_count": 48,
   "metadata": {
    "hidden": true
   },
   "outputs": [
    {
     "name": "stdout",
     "output_type": "stream",
     "text": [
      "torch.Size([1, 99997])\n"
     ]
    }
   ],
   "source": [
    "output, hidden, attention = decoder.forward(input_idx, decoder_hidden, encoder_output)\n",
    "print(output.shape)"
   ]
  },
  {
   "cell_type": "code",
   "execution_count": 49,
   "metadata": {
    "hidden": true
   },
   "outputs": [
    {
     "data": {
      "text/plain": [
       "torch.Size([2, 1, 5])"
      ]
     },
     "execution_count": 49,
     "metadata": {},
     "output_type": "execute_result"
    }
   ],
   "source": [
    "decoder_hidden[0].shape"
   ]
  },
  {
   "cell_type": "markdown",
   "metadata": {},
   "source": [
    "## Part 3: Training the Model"
   ]
  },
  {
   "cell_type": "markdown",
   "metadata": {},
   "source": [
    "### Training Function"
   ]
  },
  {
   "cell_type": "code",
   "execution_count": 37,
   "metadata": {},
   "outputs": [],
   "source": [
    "def train(input_tensor, target_tensor, encoder, decoder,\n",
    "          encoder_optimizer, decoder_optimizer, criterion):\n",
    "    \n",
    "    # Initialize encoder hidden state\n",
    "    encoder_hidden = encoder.initHidden(input_tensor.shape[0])\n",
    "    \n",
    "    # clear the gradients in the optimizers\n",
    "    encoder_optimizer.zero_grad()\n",
    "    decoder_optimizer.zero_grad()\n",
    "    \n",
    "    # run forward pass through encoder on entire sequence\n",
    "    encoder_output, encoder_hidden = encoder.forward(input_tensor, encoder_hidden)\n",
    "    \n",
    "    # Initialize decoder input(Start of Sentence tag) and hidden state from encoder\n",
    "    decoder_input =  torch.tensor([en_word2idx['<s>']]*input_tensor.shape[0], dtype=torch.long, device=device).unsqueeze(0)\n",
    "    \n",
    "    # Use correct initial hidden state dimensions depending on type of RNN\n",
    "    try:\n",
    "        encoder.lstm\n",
    "        decoder_hidden = (encoder_hidden[0][1::2].contiguous(), encoder_hidden[1][1::2].contiguous())\n",
    "    except AttributeError:\n",
    "        decoder_hidden = encoder_hidden[1::2].contiguous()\n",
    "    \n",
    "    loss = 0\n",
    "    \n",
    "    use_teacher_forcing = True if random.random() < 0.5 else False\n",
    "\n",
    "    if use_teacher_forcing:\n",
    "        for di in range(seq_length):\n",
    "            output, decoder_hidden, attn_weights = decoder(decoder_input,\n",
    "                                                           decoder_hidden,\n",
    "                                                           encoder_output)\n",
    "            \n",
    "            # Feed target as input to next item in the sequence\n",
    "            decoder_input = target_tensor[di].unsqueeze(0)\n",
    "            loss += criterion(output, target_tensor[di])\n",
    "    else:\n",
    "        for di in range(seq_length):\n",
    "            output, decoder_hidden, attn_weights = decoder(decoder_input,\n",
    "                                                           decoder_hidden,\n",
    "                                                           encoder_output)\n",
    "            \n",
    "            # Feed output as input to next item in the sequence\n",
    "            decoder_input = output.topk(1)[1].view(1,-1).detach()\n",
    "            loss += criterion(output, target_tensor[di])\n",
    "    \n",
    "    loss.backward()\n",
    "    \n",
    "    # Clip the gradients\n",
    "    nn.utils.clip_grad_norm_(encoder.parameters(), 25)\n",
    "    nn.utils.clip_grad_norm_(decoder.parameters(), 25)\n",
    "    \n",
    "    encoder_optimizer.step()\n",
    "    decoder_optimizer.step()\n",
    "    \n",
    "    return loss.item()"
   ]
  },
  {
   "cell_type": "markdown",
   "metadata": {},
   "source": [
    "### Training Loop"
   ]
  },
  {
   "cell_type": "code",
   "execution_count": 38,
   "metadata": {},
   "outputs": [],
   "source": [
    "def trainIters(encoder, decoder, dataloader, epochs, print_every_n_batches=100, learning_rate=0.01):\n",
    "    \n",
    "    # keep track of losses\n",
    "    start = time.time()\n",
    "    plot_losses = []\n",
    "\n",
    "    # Initialize Encoder Optimizer\n",
    "    encoder_parameters = filter(lambda p: p.requires_grad, encoder.parameters())\n",
    "    encoder_optimizer = optim.SGD(encoder_parameters, lr=learning_rate)\n",
    "    \n",
    "    # Initialize Decoder Optimizer\n",
    "    decoder_parameters = filter(lambda p: p.requires_grad, decoder.parameters())\n",
    "    decoder_optimizer = optim.SGD(decoder_parameters, lr=learning_rate)\n",
    "\n",
    "    \n",
    "    criterion = nn.NLLLoss(ignore_index=0)\n",
    "    \n",
    "    # Cycle through epochs\n",
    "    for epoch in range(epochs):\n",
    "        loss_avg = 0\n",
    "        print(f'Epoch {epoch + 1}/{epochs}')\n",
    "        # Cycle through batches\n",
    "        for i, batch in enumerate(dataloader):\n",
    "            \n",
    "            input_tensor = batch['french_tensor'].to(device)\n",
    "            target_tensor = batch['english_tensor'].transpose(1,0).to(device)\n",
    "            \n",
    "\n",
    "            loss = train(input_tensor, target_tensor, encoder, decoder,\n",
    "                         encoder_optimizer, decoder_optimizer, criterion)\n",
    "            \n",
    "            loss_avg += loss\n",
    "            if i % print_every_n_batches == 0 and i != 0:\n",
    "                loss_avg /= print_every_n_batches\n",
    "                print(f'After {i} batches, average loss/{print_every_n_batches} batches: {loss_avg}')\n",
    "                plot_losses.append(loss)\n",
    "                loss_avg = 0\n",
    "    return plot_losses"
   ]
  },
  {
   "cell_type": "markdown",
   "metadata": {},
   "source": [
    "### Training the Model"
   ]
  },
  {
   "cell_type": "code",
   "execution_count": 39,
   "metadata": {},
   "outputs": [],
   "source": [
    "hidden_size = 256\n",
    "batch_size = 16\n",
    "dataloader = DataLoader(french_english_dataset, batch_size=batch_size,\n",
    "                        shuffle=True, num_workers=4) "
   ]
  },
  {
   "cell_type": "code",
   "execution_count": 40,
   "metadata": {},
   "outputs": [],
   "source": [
    "encoder_lstm = EncoderBiLSTM(hidden_size, fr_vectors).to(device)\n",
    "decoder_lstm = AttnDecoderLSTM(hidden_size, en_vectors, seq_length, 2*hidden_size).to(device)\n",
    "\n",
    "encoder_gru = EncoderBiGRU(hidden_size, fr_vectors).to(device)\n",
    "decoder_gru = AttnDecoderGRU(hidden_size, en_vectors, seq_length, 2*hidden_size).to(device)"
   ]
  },
  {
   "cell_type": "code",
   "execution_count": 42,
   "metadata": {},
   "outputs": [],
   "source": [
    "from_scratch = False # Set to False if you have saved weights and want to load them\n",
    "\n",
    "if not from_scratch:\n",
    "    # Load weights from earlier model\n",
    "    encoder_lstm_state_dict = torch.load('models/encoder2_lstm.pth')\n",
    "    decoder_lstm_state_dict = torch.load('models/decoder2_lstm.pth')\n",
    "\n",
    "    encoder_lstm.load_state_dict(encoder_lstm_state_dict)\n",
    "    decoder_lstm.load_state_dict(decoder_lstm_state_dict)\n",
    "    \n",
    "        # Load weights from earlier model\n",
    "    encoder_gru_state_dict = torch.load('models/encoder2_gru.pth')\n",
    "    decoder_gru_state_dict = torch.load('models/decoder2_gru.pth')\n",
    "\n",
    "    encoder_gru.load_state_dict(encoder_gru_state_dict)\n",
    "    decoder_gru.load_state_dict(decoder_gru_state_dict)\n",
    "else:\n",
    "    print('Training model from scratch.')"
   ]
  },
  {
   "cell_type": "code",
   "execution_count": 57,
   "metadata": {},
   "outputs": [
    {
     "name": "stdout",
     "output_type": "stream",
     "text": [
      "Epoch 1/10\n",
      "After 100 batches, average loss/100 batches: 12.06709852218628\n",
      "After 200 batches, average loss/100 batches: 11.800526232719422\n",
      "After 300 batches, average loss/100 batches: 11.648333139419556\n",
      "After 400 batches, average loss/100 batches: 10.792727880477905\n",
      "After 500 batches, average loss/100 batches: 10.980394430160523\n",
      "After 600 batches, average loss/100 batches: 10.75137309551239\n",
      "After 700 batches, average loss/100 batches: 11.262658004760743\n",
      "After 800 batches, average loss/100 batches: 10.913564291000366\n",
      "After 900 batches, average loss/100 batches: 11.164924325942993\n",
      "After 1000 batches, average loss/100 batches: 10.81785629272461\n",
      "After 1100 batches, average loss/100 batches: 10.906935896873474\n",
      "After 1200 batches, average loss/100 batches: 11.182586855888367\n",
      "After 1300 batches, average loss/100 batches: 10.656359996795654\n",
      "After 1400 batches, average loss/100 batches: 10.633247089385986\n",
      "After 1500 batches, average loss/100 batches: 10.271544733047484\n",
      "After 1600 batches, average loss/100 batches: 11.205616521835328\n",
      "After 1700 batches, average loss/100 batches: 10.627083148956299\n",
      "After 1800 batches, average loss/100 batches: 10.43998897075653\n",
      "After 1900 batches, average loss/100 batches: 11.420811471939087\n",
      "After 2000 batches, average loss/100 batches: 10.747570967674255\n",
      "After 2100 batches, average loss/100 batches: 11.016346082687377\n",
      "After 2200 batches, average loss/100 batches: 10.926192374229432\n",
      "After 2300 batches, average loss/100 batches: 10.168654084205627\n",
      "After 2400 batches, average loss/100 batches: 10.406884579658508\n",
      "After 2500 batches, average loss/100 batches: 10.796070141792297\n",
      "After 2600 batches, average loss/100 batches: 10.469541358947755\n",
      "After 2700 batches, average loss/100 batches: 11.043230056762695\n",
      "After 2800 batches, average loss/100 batches: 10.41664986371994\n",
      "After 2900 batches, average loss/100 batches: 10.631128067970275\n",
      "After 3000 batches, average loss/100 batches: 10.559129452705383\n",
      "After 3100 batches, average loss/100 batches: 10.69981451511383\n",
      "After 3200 batches, average loss/100 batches: 9.90597804069519\n",
      "After 3300 batches, average loss/100 batches: 9.9927392244339\n",
      "After 3400 batches, average loss/100 batches: 10.096351227760316\n",
      "After 3500 batches, average loss/100 batches: 10.678484568595886\n",
      "After 3600 batches, average loss/100 batches: 9.889866209030151\n",
      "After 3700 batches, average loss/100 batches: 10.458690896034241\n",
      "After 3800 batches, average loss/100 batches: 10.448354840278625\n",
      "After 3900 batches, average loss/100 batches: 10.608737607002258\n",
      "After 4000 batches, average loss/100 batches: 10.963188896179199\n",
      "After 4100 batches, average loss/100 batches: 10.74713279724121\n",
      "After 4200 batches, average loss/100 batches: 10.522845220565795\n",
      "After 4300 batches, average loss/100 batches: 9.989441413879394\n",
      "After 4400 batches, average loss/100 batches: 10.229797592163086\n",
      "After 4500 batches, average loss/100 batches: 9.83051664352417\n",
      "After 4600 batches, average loss/100 batches: 11.002303743362427\n",
      "After 4700 batches, average loss/100 batches: 9.957641072273255\n",
      "After 4800 batches, average loss/100 batches: 10.209356107711791\n",
      "After 4900 batches, average loss/100 batches: 10.885782990455628\n",
      "After 5000 batches, average loss/100 batches: 10.46187436580658\n",
      "After 5100 batches, average loss/100 batches: 10.38750322341919\n",
      "After 5200 batches, average loss/100 batches: 9.53066662311554\n",
      "After 5300 batches, average loss/100 batches: 10.058228068351745\n",
      "After 5400 batches, average loss/100 batches: 10.248331871032715\n",
      "After 5500 batches, average loss/100 batches: 10.551861174106598\n",
      "After 5600 batches, average loss/100 batches: 10.111010546684264\n",
      "After 5700 batches, average loss/100 batches: 11.017095222473145\n",
      "After 5800 batches, average loss/100 batches: 10.872454903125764\n",
      "After 5900 batches, average loss/100 batches: 10.681720843315125\n",
      "After 6000 batches, average loss/100 batches: 10.683964428901673\n",
      "After 6100 batches, average loss/100 batches: 10.321335582733154\n",
      "After 6200 batches, average loss/100 batches: 10.235314583778381\n",
      "After 6300 batches, average loss/100 batches: 9.733089442253112\n",
      "After 6400 batches, average loss/100 batches: 10.116596212387085\n",
      "After 6500 batches, average loss/100 batches: 10.390510897636414\n",
      "After 6600 batches, average loss/100 batches: 10.324143085479736\n",
      "After 6700 batches, average loss/100 batches: 10.048267049789429\n",
      "After 6800 batches, average loss/100 batches: 10.16578097820282\n",
      "After 6900 batches, average loss/100 batches: 10.131991562843323\n",
      "After 7000 batches, average loss/100 batches: 10.386440694332123\n",
      "After 7100 batches, average loss/100 batches: 11.011075744628906\n",
      "After 7200 batches, average loss/100 batches: 10.609825763702393\n",
      "After 7300 batches, average loss/100 batches: 10.276077942848206\n",
      "After 7400 batches, average loss/100 batches: 9.875649542808533\n",
      "After 7500 batches, average loss/100 batches: 10.696747159957885\n",
      "After 7600 batches, average loss/100 batches: 10.112258858680725\n",
      "After 7700 batches, average loss/100 batches: 9.788568766117097\n",
      "After 7800 batches, average loss/100 batches: 10.304271869659424\n",
      "After 7900 batches, average loss/100 batches: 9.962695960998536\n",
      "After 8000 batches, average loss/100 batches: 10.46091917514801\n",
      "After 8100 batches, average loss/100 batches: 10.176338472366332\n",
      "After 8200 batches, average loss/100 batches: 10.363940663337708\n",
      "Epoch 2/10\n",
      "After 100 batches, average loss/100 batches: 9.977789196968079\n",
      "After 200 batches, average loss/100 batches: 10.246125049591065\n",
      "After 300 batches, average loss/100 batches: 9.77079746723175\n",
      "After 400 batches, average loss/100 batches: 9.808991169929504\n",
      "After 500 batches, average loss/100 batches: 9.85652328491211\n",
      "After 600 batches, average loss/100 batches: 10.283138236999513\n",
      "After 700 batches, average loss/100 batches: 9.929857933521271\n",
      "After 800 batches, average loss/100 batches: 9.436253917217254\n",
      "After 900 batches, average loss/100 batches: 10.250589485168456\n",
      "After 1000 batches, average loss/100 batches: 9.40915328025818\n",
      "After 1100 batches, average loss/100 batches: 9.7319846200943\n",
      "After 1200 batches, average loss/100 batches: 10.576900291442872\n",
      "After 1300 batches, average loss/100 batches: 10.09541925907135\n",
      "After 1400 batches, average loss/100 batches: 10.338131828308105\n",
      "After 1500 batches, average loss/100 batches: 10.161869201660156\n",
      "After 1600 batches, average loss/100 batches: 9.827649130821229\n",
      "After 1700 batches, average loss/100 batches: 9.960440034866332\n",
      "After 1800 batches, average loss/100 batches: 9.560222902297973\n",
      "After 1900 batches, average loss/100 batches: 10.362088222503662\n",
      "After 2000 batches, average loss/100 batches: 9.422473843097686\n",
      "After 2100 batches, average loss/100 batches: 10.171917433738708\n",
      "After 2200 batches, average loss/100 batches: 10.23329402923584\n",
      "After 2300 batches, average loss/100 batches: 10.576715445518493\n",
      "After 2400 batches, average loss/100 batches: 10.13572301864624\n",
      "After 2500 batches, average loss/100 batches: 10.182672741413116\n",
      "After 2600 batches, average loss/100 batches: 9.711049814224243\n",
      "After 2700 batches, average loss/100 batches: 9.764005603790283\n",
      "After 2800 batches, average loss/100 batches: 9.762017478942871\n",
      "After 2900 batches, average loss/100 batches: 10.232998113632203\n",
      "After 3000 batches, average loss/100 batches: 10.206347336769104\n",
      "After 3100 batches, average loss/100 batches: 10.379919264316559\n",
      "After 3200 batches, average loss/100 batches: 10.004177353382111\n",
      "After 3300 batches, average loss/100 batches: 9.661994681358337\n",
      "After 3400 batches, average loss/100 batches: 10.324632329940796\n",
      "After 3500 batches, average loss/100 batches: 9.899994339942932\n",
      "After 3600 batches, average loss/100 batches: 10.286047258377074\n",
      "After 3700 batches, average loss/100 batches: 10.51306085586548\n",
      "After 3800 batches, average loss/100 batches: 10.052053060531616\n",
      "After 3900 batches, average loss/100 batches: 10.462120747566223\n",
      "After 4000 batches, average loss/100 batches: 10.410365705490113\n",
      "After 4100 batches, average loss/100 batches: 10.785950491428375\n",
      "After 4200 batches, average loss/100 batches: 9.680880851745606\n",
      "After 4300 batches, average loss/100 batches: 10.088381204605103\n",
      "After 4400 batches, average loss/100 batches: 9.899029655456543\n",
      "After 4500 batches, average loss/100 batches: 10.501178956031799\n"
     ]
    },
    {
     "name": "stdout",
     "output_type": "stream",
     "text": [
      "After 4600 batches, average loss/100 batches: 9.401972389221191\n",
      "After 4700 batches, average loss/100 batches: 10.434564538002014\n",
      "After 4800 batches, average loss/100 batches: 10.123388452529907\n",
      "After 4900 batches, average loss/100 batches: 10.13023585319519\n",
      "After 5000 batches, average loss/100 batches: 9.893885235786438\n",
      "After 5100 batches, average loss/100 batches: 9.661961283683777\n",
      "After 5200 batches, average loss/100 batches: 9.698193674087525\n",
      "After 5300 batches, average loss/100 batches: 9.650409464836121\n",
      "After 5400 batches, average loss/100 batches: 10.795173735618592\n",
      "After 5500 batches, average loss/100 batches: 10.039859628677368\n",
      "After 5600 batches, average loss/100 batches: 9.74418408870697\n",
      "After 5700 batches, average loss/100 batches: 9.433738622665405\n",
      "After 5800 batches, average loss/100 batches: 9.923709483146668\n",
      "After 5900 batches, average loss/100 batches: 10.458217973709106\n",
      "After 6000 batches, average loss/100 batches: 10.382376255989074\n",
      "After 6100 batches, average loss/100 batches: 9.568582954406738\n",
      "After 6200 batches, average loss/100 batches: 10.179358716011047\n",
      "After 6300 batches, average loss/100 batches: 9.929872407913209\n",
      "After 6400 batches, average loss/100 batches: 10.000868673324584\n",
      "After 6500 batches, average loss/100 batches: 9.466895442008973\n",
      "After 6600 batches, average loss/100 batches: 9.862635264396667\n",
      "After 6700 batches, average loss/100 batches: 9.622628996372223\n",
      "After 6800 batches, average loss/100 batches: 9.930161700248718\n",
      "After 6900 batches, average loss/100 batches: 9.663446130752563\n",
      "After 7000 batches, average loss/100 batches: 9.866396718025207\n",
      "After 7100 batches, average loss/100 batches: 9.888748383522033\n",
      "After 7200 batches, average loss/100 batches: 10.014420866966248\n",
      "After 7300 batches, average loss/100 batches: 10.153934378623962\n",
      "After 7400 batches, average loss/100 batches: 9.765481374263764\n",
      "After 7500 batches, average loss/100 batches: 9.823945336341858\n",
      "After 7600 batches, average loss/100 batches: 10.031776747703553\n",
      "After 7700 batches, average loss/100 batches: 9.968789863586426\n",
      "After 7800 batches, average loss/100 batches: 9.169904465675353\n",
      "After 7900 batches, average loss/100 batches: 10.231500267982483\n",
      "After 8000 batches, average loss/100 batches: 9.619352135658264\n",
      "After 8100 batches, average loss/100 batches: 10.369575262069702\n",
      "After 8200 batches, average loss/100 batches: 10.047983679771423\n",
      "Epoch 3/10\n",
      "After 100 batches, average loss/100 batches: 9.875764293670654\n",
      "After 200 batches, average loss/100 batches: 9.691793241500854\n",
      "After 300 batches, average loss/100 batches: 10.142403571605682\n",
      "After 400 batches, average loss/100 batches: 9.00004608631134\n",
      "After 500 batches, average loss/100 batches: 9.789464566707611\n",
      "After 600 batches, average loss/100 batches: 9.482797894477844\n",
      "After 700 batches, average loss/100 batches: 9.679754502773285\n",
      "After 800 batches, average loss/100 batches: 9.555445594787598\n",
      "After 900 batches, average loss/100 batches: 9.749314098358154\n",
      "After 1000 batches, average loss/100 batches: 9.49393316268921\n",
      "After 1100 batches, average loss/100 batches: 9.698977494239807\n",
      "After 1200 batches, average loss/100 batches: 9.384848515987397\n",
      "After 1300 batches, average loss/100 batches: 9.949193844795227\n",
      "After 1400 batches, average loss/100 batches: 9.950118908882141\n",
      "After 1500 batches, average loss/100 batches: 9.619367508888244\n",
      "After 1600 batches, average loss/100 batches: 9.899230723381043\n",
      "After 1700 batches, average loss/100 batches: 9.80330156803131\n",
      "After 1800 batches, average loss/100 batches: 9.626919665336608\n",
      "After 1900 batches, average loss/100 batches: 9.819304127693176\n",
      "After 2000 batches, average loss/100 batches: 9.929058480262757\n",
      "After 2100 batches, average loss/100 batches: 9.390583045482636\n",
      "After 2200 batches, average loss/100 batches: 9.703862290382386\n",
      "After 2300 batches, average loss/100 batches: 9.57195430278778\n",
      "After 2400 batches, average loss/100 batches: 9.550954990386963\n",
      "After 2500 batches, average loss/100 batches: 9.339060850143433\n",
      "After 2600 batches, average loss/100 batches: 9.38964861869812\n",
      "After 2700 batches, average loss/100 batches: 9.931611680984497\n",
      "After 2800 batches, average loss/100 batches: 9.546112542152406\n",
      "After 2900 batches, average loss/100 batches: 10.211080784797668\n",
      "After 3000 batches, average loss/100 batches: 9.701925618648529\n",
      "After 3100 batches, average loss/100 batches: 9.233719754219056\n",
      "After 3200 batches, average loss/100 batches: 10.352009618282318\n",
      "After 3300 batches, average loss/100 batches: 9.443872509002686\n",
      "After 3400 batches, average loss/100 batches: 9.994139592647553\n",
      "After 3500 batches, average loss/100 batches: 10.239927637577058\n",
      "After 3600 batches, average loss/100 batches: 9.90564906358719\n",
      "After 3700 batches, average loss/100 batches: 9.359003708362579\n",
      "After 3800 batches, average loss/100 batches: 9.677151806354523\n",
      "After 3900 batches, average loss/100 batches: 9.580739357471465\n",
      "After 4000 batches, average loss/100 batches: 9.706082758903504\n",
      "After 4100 batches, average loss/100 batches: 9.734803524017334\n",
      "After 4200 batches, average loss/100 batches: 9.473843805789947\n",
      "After 4300 batches, average loss/100 batches: 9.494056329727172\n",
      "After 4400 batches, average loss/100 batches: 10.100768799781799\n",
      "After 4500 batches, average loss/100 batches: 9.687379288673402\n",
      "After 4600 batches, average loss/100 batches: 10.387082505226136\n",
      "After 4700 batches, average loss/100 batches: 9.66346227645874\n",
      "After 4800 batches, average loss/100 batches: 9.702827208042144\n",
      "After 4900 batches, average loss/100 batches: 9.839296185970307\n",
      "After 5000 batches, average loss/100 batches: 9.937805314064025\n",
      "After 5100 batches, average loss/100 batches: 9.659119791984558\n",
      "After 5200 batches, average loss/100 batches: 9.948813080787659\n",
      "After 5300 batches, average loss/100 batches: 9.623387455940247\n",
      "After 5400 batches, average loss/100 batches: 9.884457869529724\n",
      "After 5500 batches, average loss/100 batches: 9.026616129875183\n",
      "After 5600 batches, average loss/100 batches: 9.739271192550659\n",
      "After 5700 batches, average loss/100 batches: 9.527340915203094\n",
      "After 5800 batches, average loss/100 batches: 9.636472935676574\n",
      "After 5900 batches, average loss/100 batches: 10.361514048576355\n",
      "After 6000 batches, average loss/100 batches: 9.749789006710053\n",
      "After 6100 batches, average loss/100 batches: 9.492777547836305\n",
      "After 6200 batches, average loss/100 batches: 9.815176157951354\n",
      "After 6300 batches, average loss/100 batches: 9.451726448535918\n",
      "After 6400 batches, average loss/100 batches: 9.839975440502167\n",
      "After 6500 batches, average loss/100 batches: 9.455100436210632\n",
      "After 6600 batches, average loss/100 batches: 9.738352103233337\n",
      "After 6700 batches, average loss/100 batches: 9.266967465877533\n",
      "After 6800 batches, average loss/100 batches: 9.9696808552742\n",
      "After 6900 batches, average loss/100 batches: 10.04215030670166\n",
      "After 7000 batches, average loss/100 batches: 10.149368481636047\n",
      "After 7100 batches, average loss/100 batches: 9.5018044090271\n",
      "After 7200 batches, average loss/100 batches: 9.36006429195404\n",
      "After 7300 batches, average loss/100 batches: 9.666805901527404\n",
      "After 7400 batches, average loss/100 batches: 9.591680059432983\n",
      "After 7500 batches, average loss/100 batches: 9.648339633941651\n",
      "After 7600 batches, average loss/100 batches: 9.634458045959473\n",
      "After 7700 batches, average loss/100 batches: 9.984047152996062\n",
      "After 7800 batches, average loss/100 batches: 9.61014003753662\n",
      "After 7900 batches, average loss/100 batches: 9.72625151157379\n",
      "After 8000 batches, average loss/100 batches: 9.392819323539733\n",
      "After 8100 batches, average loss/100 batches: 9.765802068710327\n",
      "After 8200 batches, average loss/100 batches: 9.584672996997833\n",
      "Epoch 4/10\n",
      "After 100 batches, average loss/100 batches: 9.846983191967011\n",
      "After 200 batches, average loss/100 batches: 9.067321712970733\n",
      "After 300 batches, average loss/100 batches: 8.782665281295776\n",
      "After 400 batches, average loss/100 batches: 9.162544460296631\n",
      "After 500 batches, average loss/100 batches: 9.51806382894516\n",
      "After 600 batches, average loss/100 batches: 9.594027564525604\n",
      "After 700 batches, average loss/100 batches: 8.752666993141174\n",
      "After 800 batches, average loss/100 batches: 9.055033903121949\n",
      "After 900 batches, average loss/100 batches: 9.01184476852417\n"
     ]
    },
    {
     "name": "stdout",
     "output_type": "stream",
     "text": [
      "After 1000 batches, average loss/100 batches: 9.506068248748779\n",
      "After 1100 batches, average loss/100 batches: 9.004682819843293\n",
      "After 1200 batches, average loss/100 batches: 9.557943773269653\n",
      "After 1300 batches, average loss/100 batches: 8.941443786621093\n",
      "After 1400 batches, average loss/100 batches: 10.135246992111206\n",
      "After 1500 batches, average loss/100 batches: 9.431819653511047\n",
      "After 1600 batches, average loss/100 batches: 9.070784146785735\n",
      "After 1700 batches, average loss/100 batches: 9.605894322395324\n",
      "After 1800 batches, average loss/100 batches: 9.677980494499206\n",
      "After 1900 batches, average loss/100 batches: 10.108584094047547\n",
      "After 2000 batches, average loss/100 batches: 9.687422122955322\n",
      "After 2100 batches, average loss/100 batches: 9.655774750709533\n",
      "After 2200 batches, average loss/100 batches: 9.292511339187621\n",
      "After 2300 batches, average loss/100 batches: 9.981825232505798\n",
      "After 2400 batches, average loss/100 batches: 9.398015451431274\n",
      "After 2500 batches, average loss/100 batches: 9.433518183231353\n",
      "After 2600 batches, average loss/100 batches: 9.143674836158752\n",
      "After 2700 batches, average loss/100 batches: 9.680448598861695\n",
      "After 2800 batches, average loss/100 batches: 9.700312752723693\n",
      "After 2900 batches, average loss/100 batches: 9.028867709636689\n",
      "After 3000 batches, average loss/100 batches: 9.31771861076355\n",
      "After 3100 batches, average loss/100 batches: 9.319661946296693\n",
      "After 3200 batches, average loss/100 batches: 8.99101714849472\n",
      "After 3300 batches, average loss/100 batches: 9.94737579345703\n",
      "After 3400 batches, average loss/100 batches: 9.247042107582093\n",
      "After 3500 batches, average loss/100 batches: 9.386059036254883\n",
      "After 3600 batches, average loss/100 batches: 9.624522953033447\n",
      "After 3700 batches, average loss/100 batches: 9.440655817985535\n",
      "After 3800 batches, average loss/100 batches: 9.353942835330963\n",
      "After 3900 batches, average loss/100 batches: 9.590289120674134\n",
      "After 4000 batches, average loss/100 batches: 9.732269129753114\n",
      "After 4100 batches, average loss/100 batches: 9.43072838306427\n",
      "After 4200 batches, average loss/100 batches: 9.881643347740173\n",
      "After 4300 batches, average loss/100 batches: 9.212866978645325\n",
      "After 4400 batches, average loss/100 batches: 9.733727502822877\n",
      "After 4500 batches, average loss/100 batches: 9.612179460525512\n",
      "After 4600 batches, average loss/100 batches: 9.191951019763946\n",
      "After 4700 batches, average loss/100 batches: 9.600655059814454\n",
      "After 4800 batches, average loss/100 batches: 9.64979558467865\n",
      "After 4900 batches, average loss/100 batches: 9.075419726371765\n",
      "After 5000 batches, average loss/100 batches: 9.22207640171051\n",
      "After 5100 batches, average loss/100 batches: 9.925302610397338\n",
      "After 5200 batches, average loss/100 batches: 9.577133321762085\n",
      "After 5300 batches, average loss/100 batches: 9.612966752052307\n",
      "After 5400 batches, average loss/100 batches: 8.990440843105317\n",
      "After 5500 batches, average loss/100 batches: 9.724466392993927\n",
      "After 5600 batches, average loss/100 batches: 9.952915844917298\n",
      "After 5700 batches, average loss/100 batches: 9.302678709030152\n",
      "After 5800 batches, average loss/100 batches: 9.507527132034301\n",
      "After 5900 batches, average loss/100 batches: 9.66311606645584\n",
      "After 6000 batches, average loss/100 batches: 9.685869503021241\n",
      "After 6100 batches, average loss/100 batches: 9.417645015716552\n",
      "After 6200 batches, average loss/100 batches: 9.62492678642273\n",
      "After 6300 batches, average loss/100 batches: 9.752379450798035\n",
      "After 6400 batches, average loss/100 batches: 9.057691702842712\n",
      "After 6500 batches, average loss/100 batches: 9.706825892925263\n",
      "After 6600 batches, average loss/100 batches: 9.539633927345276\n",
      "After 6700 batches, average loss/100 batches: 9.273446063995362\n",
      "After 6800 batches, average loss/100 batches: 9.658549063205719\n",
      "After 6900 batches, average loss/100 batches: 9.216943855285644\n",
      "After 7000 batches, average loss/100 batches: 9.78926027059555\n",
      "After 7100 batches, average loss/100 batches: 9.306352729797362\n",
      "After 7200 batches, average loss/100 batches: 9.50231939315796\n",
      "After 7300 batches, average loss/100 batches: 9.685233721733093\n",
      "After 7400 batches, average loss/100 batches: 9.867330708503722\n",
      "After 7500 batches, average loss/100 batches: 9.564650683403014\n",
      "After 7600 batches, average loss/100 batches: 9.327978520393371\n",
      "After 7700 batches, average loss/100 batches: 9.708533816337585\n",
      "After 7800 batches, average loss/100 batches: 8.837839756011963\n",
      "After 7900 batches, average loss/100 batches: 9.665608835220336\n",
      "After 8000 batches, average loss/100 batches: 9.657340984344483\n",
      "After 8100 batches, average loss/100 batches: 10.073923096656799\n",
      "After 8200 batches, average loss/100 batches: 9.811460123062133\n",
      "Epoch 5/10\n",
      "After 100 batches, average loss/100 batches: 9.22031899690628\n",
      "After 200 batches, average loss/100 batches: 9.242976925373078\n",
      "After 300 batches, average loss/100 batches: 9.426233654022218\n",
      "After 400 batches, average loss/100 batches: 9.500427045822143\n",
      "After 500 batches, average loss/100 batches: 9.107871723175048\n",
      "After 600 batches, average loss/100 batches: 9.502843370437622\n",
      "After 700 batches, average loss/100 batches: 9.438439593315124\n",
      "After 800 batches, average loss/100 batches: 9.173412237167359\n",
      "After 900 batches, average loss/100 batches: 9.6213623046875\n",
      "After 1000 batches, average loss/100 batches: 8.925790038108826\n",
      "After 1100 batches, average loss/100 batches: 8.879449973106384\n",
      "After 1200 batches, average loss/100 batches: 9.227284784317016\n",
      "After 1300 batches, average loss/100 batches: 9.573528685569762\n",
      "After 1400 batches, average loss/100 batches: 9.706082282066346\n",
      "After 1500 batches, average loss/100 batches: 9.36481959104538\n",
      "After 1600 batches, average loss/100 batches: 9.046232991218567\n",
      "After 1700 batches, average loss/100 batches: 10.176085860729218\n",
      "After 1800 batches, average loss/100 batches: 9.160816731452941\n",
      "After 1900 batches, average loss/100 batches: 8.930968611240386\n",
      "After 2000 batches, average loss/100 batches: 9.143725566864013\n",
      "After 2100 batches, average loss/100 batches: 8.34855823278427\n",
      "After 2200 batches, average loss/100 batches: 9.174561285972596\n",
      "After 2300 batches, average loss/100 batches: 9.285751309394836\n",
      "After 2400 batches, average loss/100 batches: 9.739496402740478\n",
      "After 2500 batches, average loss/100 batches: 8.95840618610382\n",
      "After 2600 batches, average loss/100 batches: 9.073125212192535\n",
      "After 2700 batches, average loss/100 batches: 9.352413923740388\n",
      "After 2800 batches, average loss/100 batches: 9.1800639295578\n",
      "After 2900 batches, average loss/100 batches: 9.350972814559936\n",
      "After 3000 batches, average loss/100 batches: 9.10200966835022\n",
      "After 3100 batches, average loss/100 batches: 9.429009795188904\n",
      "After 3200 batches, average loss/100 batches: 9.301304812431335\n",
      "After 3300 batches, average loss/100 batches: 9.193645083904267\n",
      "After 3400 batches, average loss/100 batches: 9.60468663930893\n",
      "After 3500 batches, average loss/100 batches: 9.81912091255188\n",
      "After 3600 batches, average loss/100 batches: 8.85768976688385\n",
      "After 3700 batches, average loss/100 batches: 9.207623224258423\n",
      "After 3800 batches, average loss/100 batches: 9.428519535064698\n",
      "After 3900 batches, average loss/100 batches: 9.297606596946716\n",
      "After 4000 batches, average loss/100 batches: 9.040121099948884\n",
      "After 4100 batches, average loss/100 batches: 9.2086044049263\n",
      "After 4200 batches, average loss/100 batches: 9.385903730392457\n",
      "After 4300 batches, average loss/100 batches: 9.01625114917755\n",
      "After 4400 batches, average loss/100 batches: 10.067231845855712\n",
      "After 4500 batches, average loss/100 batches: 9.464502363204955\n",
      "After 4600 batches, average loss/100 batches: 9.01767103433609\n",
      "After 4700 batches, average loss/100 batches: 9.159135978221894\n",
      "After 4800 batches, average loss/100 batches: 9.50579140663147\n",
      "After 4900 batches, average loss/100 batches: 9.34838198184967\n",
      "After 5000 batches, average loss/100 batches: 8.870007538795472\n",
      "After 5100 batches, average loss/100 batches: 9.686763319969177\n",
      "After 5200 batches, average loss/100 batches: 9.561412715911866\n",
      "After 5300 batches, average loss/100 batches: 8.957552618980408\n",
      "After 5400 batches, average loss/100 batches: 9.612980694770814\n",
      "After 5500 batches, average loss/100 batches: 9.070201361179352\n",
      "After 5600 batches, average loss/100 batches: 9.159860534667969\n"
     ]
    },
    {
     "name": "stdout",
     "output_type": "stream",
     "text": [
      "After 5700 batches, average loss/100 batches: 9.098364934921264\n",
      "After 5800 batches, average loss/100 batches: 9.143266921043397\n",
      "After 5900 batches, average loss/100 batches: 8.773563258647918\n",
      "After 6000 batches, average loss/100 batches: 9.547190465927123\n",
      "After 6100 batches, average loss/100 batches: 10.168295168876648\n",
      "After 6200 batches, average loss/100 batches: 9.25884304523468\n",
      "After 6300 batches, average loss/100 batches: 8.889723298549653\n",
      "After 6400 batches, average loss/100 batches: 9.062515306472779\n",
      "After 6500 batches, average loss/100 batches: 9.21948718547821\n",
      "After 6600 batches, average loss/100 batches: 9.29559298992157\n",
      "After 6700 batches, average loss/100 batches: 9.34630319595337\n",
      "After 6800 batches, average loss/100 batches: 9.06792438030243\n",
      "After 6900 batches, average loss/100 batches: 9.193418040275574\n",
      "After 7000 batches, average loss/100 batches: 9.128042001724243\n",
      "After 7100 batches, average loss/100 batches: 9.109985127449036\n",
      "After 7200 batches, average loss/100 batches: 9.718485531806946\n",
      "After 7300 batches, average loss/100 batches: 8.684191637039184\n",
      "After 7400 batches, average loss/100 batches: 9.488861393928527\n",
      "After 7500 batches, average loss/100 batches: 8.84602736234665\n",
      "After 7600 batches, average loss/100 batches: 9.17034723997116\n",
      "After 7700 batches, average loss/100 batches: 9.752261896133422\n",
      "After 7800 batches, average loss/100 batches: 8.775192337036133\n",
      "After 7900 batches, average loss/100 batches: 9.300877742767334\n",
      "After 8000 batches, average loss/100 batches: 9.461511073112488\n",
      "After 8100 batches, average loss/100 batches: 9.495256161689758\n",
      "After 8200 batches, average loss/100 batches: 9.273813312053681\n",
      "Epoch 6/10\n",
      "After 100 batches, average loss/100 batches: 8.792600812911987\n",
      "After 200 batches, average loss/100 batches: 9.573039827346802\n",
      "After 300 batches, average loss/100 batches: 8.723268282413482\n",
      "After 400 batches, average loss/100 batches: 8.408682670593262\n",
      "After 500 batches, average loss/100 batches: 8.57848205089569\n",
      "After 600 batches, average loss/100 batches: 9.079632065296174\n",
      "After 700 batches, average loss/100 batches: 8.556398775577545\n",
      "After 800 batches, average loss/100 batches: 8.80746094226837\n",
      "After 900 batches, average loss/100 batches: 8.88545867919922\n",
      "After 1000 batches, average loss/100 batches: 8.855987086296082\n",
      "After 1100 batches, average loss/100 batches: 9.011995701789855\n",
      "After 1200 batches, average loss/100 batches: 8.966777775287628\n",
      "After 1300 batches, average loss/100 batches: 8.994310545921326\n",
      "After 1400 batches, average loss/100 batches: 9.361909132003785\n",
      "After 1500 batches, average loss/100 batches: 8.53487472295761\n",
      "After 1600 batches, average loss/100 batches: 8.53289499759674\n",
      "After 1700 batches, average loss/100 batches: 9.262835521697998\n",
      "After 1800 batches, average loss/100 batches: 9.112113196849823\n",
      "After 1900 batches, average loss/100 batches: 9.308118677139282\n",
      "After 2000 batches, average loss/100 batches: 9.154255919456482\n",
      "After 2100 batches, average loss/100 batches: 9.186217324733734\n",
      "After 2200 batches, average loss/100 batches: 9.052069730758667\n",
      "After 2300 batches, average loss/100 batches: 9.391708240509033\n",
      "After 2400 batches, average loss/100 batches: 8.572736370563508\n",
      "After 2500 batches, average loss/100 batches: 8.916313967704774\n",
      "After 2600 batches, average loss/100 batches: 9.186396214962006\n",
      "After 2700 batches, average loss/100 batches: 8.90805020093918\n",
      "After 2800 batches, average loss/100 batches: 9.383803296089173\n",
      "After 2900 batches, average loss/100 batches: 9.579155116081237\n",
      "After 3000 batches, average loss/100 batches: 9.197471933364868\n",
      "After 3100 batches, average loss/100 batches: 9.159369769096374\n",
      "After 3200 batches, average loss/100 batches: 8.82298602104187\n",
      "After 3300 batches, average loss/100 batches: 8.925393545627594\n",
      "After 3400 batches, average loss/100 batches: 8.721450185775756\n",
      "After 3500 batches, average loss/100 batches: 9.19503118276596\n",
      "After 3600 batches, average loss/100 batches: 9.23499222278595\n",
      "After 3700 batches, average loss/100 batches: 9.333628494739532\n",
      "After 3800 batches, average loss/100 batches: 8.443751964569092\n",
      "After 3900 batches, average loss/100 batches: 8.811778135299683\n"
     ]
    },
    {
     "name": "stderr",
     "output_type": "stream",
     "text": [
      "Process Process-95:\n",
      "Process Process-94:\n",
      "Process Process-96:\n",
      "Process Process-93:\n",
      "Traceback (most recent call last):\n",
      "Traceback (most recent call last):\n",
      "Traceback (most recent call last):\n",
      "  File \"/home/mac/anaconda3/envs/pytorch/lib/python3.6/multiprocessing/process.py\", line 258, in _bootstrap\n",
      "    self.run()\n",
      "  File \"/home/mac/anaconda3/envs/pytorch/lib/python3.6/multiprocessing/process.py\", line 258, in _bootstrap\n",
      "    self.run()\n",
      "  File \"/home/mac/anaconda3/envs/pytorch/lib/python3.6/multiprocessing/process.py\", line 258, in _bootstrap\n",
      "    self.run()\n",
      "  File \"/home/mac/anaconda3/envs/pytorch/lib/python3.6/multiprocessing/process.py\", line 93, in run\n",
      "    self._target(*self._args, **self._kwargs)\n",
      "  File \"/home/mac/anaconda3/envs/pytorch/lib/python3.6/multiprocessing/process.py\", line 93, in run\n",
      "    self._target(*self._args, **self._kwargs)\n",
      "Traceback (most recent call last):\n",
      "  File \"/home/mac/anaconda3/envs/pytorch/lib/python3.6/multiprocessing/process.py\", line 93, in run\n",
      "    self._target(*self._args, **self._kwargs)\n",
      "  File \"/home/mac/anaconda3/envs/pytorch/lib/python3.6/site-packages/torch/utils/data/dataloader.py\", line 52, in _worker_loop\n",
      "    r = index_queue.get()\n",
      "  File \"/home/mac/anaconda3/envs/pytorch/lib/python3.6/site-packages/torch/utils/data/dataloader.py\", line 52, in _worker_loop\n",
      "    r = index_queue.get()\n",
      "  File \"/home/mac/anaconda3/envs/pytorch/lib/python3.6/multiprocessing/process.py\", line 258, in _bootstrap\n",
      "    self.run()\n",
      "  File \"/home/mac/anaconda3/envs/pytorch/lib/python3.6/site-packages/torch/utils/data/dataloader.py\", line 52, in _worker_loop\n",
      "    r = index_queue.get()\n",
      "  File \"/home/mac/anaconda3/envs/pytorch/lib/python3.6/multiprocessing/queues.py\", line 335, in get\n",
      "    res = self._reader.recv_bytes()\n",
      "  File \"/home/mac/anaconda3/envs/pytorch/lib/python3.6/multiprocessing/queues.py\", line 335, in get\n",
      "    res = self._reader.recv_bytes()\n",
      "  File \"/home/mac/anaconda3/envs/pytorch/lib/python3.6/multiprocessing/process.py\", line 93, in run\n",
      "    self._target(*self._args, **self._kwargs)\n",
      "  File \"/home/mac/anaconda3/envs/pytorch/lib/python3.6/multiprocessing/queues.py\", line 335, in get\n",
      "    res = self._reader.recv_bytes()\n",
      "  File \"/home/mac/anaconda3/envs/pytorch/lib/python3.6/multiprocessing/connection.py\", line 216, in recv_bytes\n",
      "    buf = self._recv_bytes(maxlength)\n",
      "  File \"/home/mac/anaconda3/envs/pytorch/lib/python3.6/site-packages/torch/utils/data/dataloader.py\", line 52, in _worker_loop\n",
      "    r = index_queue.get()\n",
      "  File \"/home/mac/anaconda3/envs/pytorch/lib/python3.6/multiprocessing/connection.py\", line 216, in recv_bytes\n",
      "    buf = self._recv_bytes(maxlength)\n",
      "  File \"/home/mac/anaconda3/envs/pytorch/lib/python3.6/multiprocessing/connection.py\", line 216, in recv_bytes\n",
      "    buf = self._recv_bytes(maxlength)\n",
      "  File \"/home/mac/anaconda3/envs/pytorch/lib/python3.6/multiprocessing/queues.py\", line 335, in get\n",
      "    res = self._reader.recv_bytes()\n",
      "  File \"/home/mac/anaconda3/envs/pytorch/lib/python3.6/multiprocessing/connection.py\", line 407, in _recv_bytes\n",
      "    buf = self._recv(4)\n",
      "  File \"/home/mac/anaconda3/envs/pytorch/lib/python3.6/multiprocessing/connection.py\", line 407, in _recv_bytes\n",
      "    buf = self._recv(4)\n",
      "  File \"/home/mac/anaconda3/envs/pytorch/lib/python3.6/multiprocessing/connection.py\", line 216, in recv_bytes\n",
      "    buf = self._recv_bytes(maxlength)\n",
      "  File \"/home/mac/anaconda3/envs/pytorch/lib/python3.6/multiprocessing/connection.py\", line 379, in _recv\n",
      "    chunk = read(handle, remaining)\n",
      "  File \"/home/mac/anaconda3/envs/pytorch/lib/python3.6/multiprocessing/connection.py\", line 407, in _recv_bytes\n",
      "    buf = self._recv(4)\n",
      "  File \"/home/mac/anaconda3/envs/pytorch/lib/python3.6/multiprocessing/connection.py\", line 379, in _recv\n",
      "    chunk = read(handle, remaining)\n",
      "  File \"/home/mac/anaconda3/envs/pytorch/lib/python3.6/multiprocessing/connection.py\", line 379, in _recv\n",
      "    chunk = read(handle, remaining)\n",
      "KeyboardInterrupt\n",
      "KeyboardInterrupt\n",
      "  File \"/home/mac/anaconda3/envs/pytorch/lib/python3.6/multiprocessing/connection.py\", line 407, in _recv_bytes\n",
      "    buf = self._recv(4)\n",
      "KeyboardInterrupt\n",
      "  File \"/home/mac/anaconda3/envs/pytorch/lib/python3.6/multiprocessing/connection.py\", line 379, in _recv\n",
      "    chunk = read(handle, remaining)\n",
      "KeyboardInterrupt\n"
     ]
    },
    {
     "ename": "KeyboardInterrupt",
     "evalue": "",
     "output_type": "error",
     "traceback": [
      "\u001b[0;31m---------------------------------------------------------------------------\u001b[0m",
      "\u001b[0;31mKeyboardInterrupt\u001b[0m                         Traceback (most recent call last)",
      "\u001b[0;32m<ipython-input-57-c0f06de557f8>\u001b[0m in \u001b[0;36m<module>\u001b[0;34m()\u001b[0m\n\u001b[1;32m      3\u001b[0m \u001b[0mdecoder_lstm\u001b[0m\u001b[0;34m.\u001b[0m\u001b[0mtrain\u001b[0m\u001b[0;34m(\u001b[0m\u001b[0;34m)\u001b[0m \u001b[0;31m# Set model to training mode\u001b[0m\u001b[0;34m\u001b[0m\u001b[0m\n\u001b[1;32m      4\u001b[0m \u001b[0;34m\u001b[0m\u001b[0m\n\u001b[0;32m----> 5\u001b[0;31m \u001b[0mlstm_losses\u001b[0m \u001b[0;34m=\u001b[0m \u001b[0mtrainIters\u001b[0m\u001b[0;34m(\u001b[0m\u001b[0mencoder_lstm\u001b[0m\u001b[0;34m,\u001b[0m \u001b[0mdecoder_lstm\u001b[0m\u001b[0;34m,\u001b[0m \u001b[0mdataloader\u001b[0m\u001b[0;34m,\u001b[0m \u001b[0mepochs\u001b[0m\u001b[0;34m=\u001b[0m\u001b[0;36m10\u001b[0m\u001b[0;34m,\u001b[0m \u001b[0mlearning_rate\u001b[0m \u001b[0;34m=\u001b[0m \u001b[0mlearning_rate\u001b[0m\u001b[0;34m)\u001b[0m\u001b[0;34m\u001b[0m\u001b[0m\n\u001b[0m",
      "\u001b[0;32m<ipython-input-38-5e28eb72dbed>\u001b[0m in \u001b[0;36mtrainIters\u001b[0;34m(encoder, decoder, dataloader, epochs, print_every_n_batches, learning_rate)\u001b[0m\n\u001b[1;32m     28\u001b[0m \u001b[0;34m\u001b[0m\u001b[0m\n\u001b[1;32m     29\u001b[0m             loss = train(input_tensor, target_tensor, encoder, decoder,\n\u001b[0;32m---> 30\u001b[0;31m                          encoder_optimizer, decoder_optimizer, criterion)\n\u001b[0m\u001b[1;32m     31\u001b[0m \u001b[0;34m\u001b[0m\u001b[0m\n\u001b[1;32m     32\u001b[0m             \u001b[0mloss_avg\u001b[0m \u001b[0;34m+=\u001b[0m \u001b[0mloss\u001b[0m\u001b[0;34m\u001b[0m\u001b[0m\n",
      "\u001b[0;32m<ipython-input-37-dfefe79affb2>\u001b[0m in \u001b[0;36mtrain\u001b[0;34m(input_tensor, target_tensor, encoder, decoder, encoder_optimizer, decoder_optimizer, criterion)\u001b[0m\n\u001b[1;32m     45\u001b[0m             \u001b[0mloss\u001b[0m \u001b[0;34m+=\u001b[0m \u001b[0mcriterion\u001b[0m\u001b[0;34m(\u001b[0m\u001b[0moutput\u001b[0m\u001b[0;34m,\u001b[0m \u001b[0mtarget_tensor\u001b[0m\u001b[0;34m[\u001b[0m\u001b[0mdi\u001b[0m\u001b[0;34m]\u001b[0m\u001b[0;34m)\u001b[0m\u001b[0;34m\u001b[0m\u001b[0m\n\u001b[1;32m     46\u001b[0m \u001b[0;34m\u001b[0m\u001b[0m\n\u001b[0;32m---> 47\u001b[0;31m     \u001b[0mloss\u001b[0m\u001b[0;34m.\u001b[0m\u001b[0mbackward\u001b[0m\u001b[0;34m(\u001b[0m\u001b[0;34m)\u001b[0m\u001b[0;34m\u001b[0m\u001b[0m\n\u001b[0m\u001b[1;32m     48\u001b[0m \u001b[0;34m\u001b[0m\u001b[0m\n\u001b[1;32m     49\u001b[0m     \u001b[0;31m# Clip the gradients\u001b[0m\u001b[0;34m\u001b[0m\u001b[0;34m\u001b[0m\u001b[0m\n",
      "\u001b[0;32m~/anaconda3/envs/pytorch/lib/python3.6/site-packages/torch/tensor.py\u001b[0m in \u001b[0;36mbackward\u001b[0;34m(self, gradient, retain_graph, create_graph)\u001b[0m\n\u001b[1;32m     91\u001b[0m                 \u001b[0mproducts\u001b[0m\u001b[0;34m.\u001b[0m \u001b[0mDefaults\u001b[0m \u001b[0mto\u001b[0m\u001b[0;31m \u001b[0m\u001b[0;31m`\u001b[0m\u001b[0;31m`\u001b[0m\u001b[0;32mFalse\u001b[0m\u001b[0;31m`\u001b[0m\u001b[0;31m`\u001b[0m\u001b[0;34m.\u001b[0m\u001b[0;34m\u001b[0m\u001b[0m\n\u001b[1;32m     92\u001b[0m         \"\"\"\n\u001b[0;32m---> 93\u001b[0;31m         \u001b[0mtorch\u001b[0m\u001b[0;34m.\u001b[0m\u001b[0mautograd\u001b[0m\u001b[0;34m.\u001b[0m\u001b[0mbackward\u001b[0m\u001b[0;34m(\u001b[0m\u001b[0mself\u001b[0m\u001b[0;34m,\u001b[0m \u001b[0mgradient\u001b[0m\u001b[0;34m,\u001b[0m \u001b[0mretain_graph\u001b[0m\u001b[0;34m,\u001b[0m \u001b[0mcreate_graph\u001b[0m\u001b[0;34m)\u001b[0m\u001b[0;34m\u001b[0m\u001b[0m\n\u001b[0m\u001b[1;32m     94\u001b[0m \u001b[0;34m\u001b[0m\u001b[0m\n\u001b[1;32m     95\u001b[0m     \u001b[0;32mdef\u001b[0m \u001b[0mregister_hook\u001b[0m\u001b[0;34m(\u001b[0m\u001b[0mself\u001b[0m\u001b[0;34m,\u001b[0m \u001b[0mhook\u001b[0m\u001b[0;34m)\u001b[0m\u001b[0;34m:\u001b[0m\u001b[0;34m\u001b[0m\u001b[0m\n",
      "\u001b[0;32m~/anaconda3/envs/pytorch/lib/python3.6/site-packages/torch/autograd/__init__.py\u001b[0m in \u001b[0;36mbackward\u001b[0;34m(tensors, grad_tensors, retain_graph, create_graph, grad_variables)\u001b[0m\n\u001b[1;32m     87\u001b[0m     Variable._execution_engine.run_backward(\n\u001b[1;32m     88\u001b[0m         \u001b[0mtensors\u001b[0m\u001b[0;34m,\u001b[0m \u001b[0mgrad_tensors\u001b[0m\u001b[0;34m,\u001b[0m \u001b[0mretain_graph\u001b[0m\u001b[0;34m,\u001b[0m \u001b[0mcreate_graph\u001b[0m\u001b[0;34m,\u001b[0m\u001b[0;34m\u001b[0m\u001b[0m\n\u001b[0;32m---> 89\u001b[0;31m         allow_unreachable=True)  # allow_unreachable flag\n\u001b[0m\u001b[1;32m     90\u001b[0m \u001b[0;34m\u001b[0m\u001b[0m\n\u001b[1;32m     91\u001b[0m \u001b[0;34m\u001b[0m\u001b[0m\n",
      "\u001b[0;31mKeyboardInterrupt\u001b[0m: "
     ]
    }
   ],
   "source": [
    "learning_rate = 0.01\n",
    "encoder_lstm.train() # Set model to training mode\n",
    "decoder_lstm.train() # Set model to training mode\n",
    "\n",
    "lstm_losses = trainIters(encoder_lstm, decoder_lstm, dataloader, epochs=10, learning_rate = learning_rate)"
   ]
  },
  {
   "cell_type": "markdown",
   "metadata": {},
   "source": [
    "Training the GRU based model on dataset 2 required much more training than the LSTM based model.\n",
    "\n",
    "To get reasonable results the model was trained:\n",
    "+ 20-30 Epochs at lr = 0.01\n",
    "+ Another 20-20 Epochs at lr = 0.001\n",
    "\n",
    "This took roughly half a day training on a GPU."
   ]
  },
  {
   "cell_type": "code",
   "execution_count": 45,
   "metadata": {
    "scrolled": true
   },
   "outputs": [
    {
     "name": "stdout",
     "output_type": "stream",
     "text": [
      "Training GRU based network.\n",
      "Epoch 1/10\n",
      "After 100 batches, average loss/100 batches: 7.37778689622879\n",
      "After 200 batches, average loss/100 batches: 7.339242479801178\n",
      "After 300 batches, average loss/100 batches: 7.115313427448273\n",
      "After 400 batches, average loss/100 batches: 7.32198546409607\n",
      "After 500 batches, average loss/100 batches: 7.642920446395874\n",
      "After 600 batches, average loss/100 batches: 7.707014389038086\n",
      "After 700 batches, average loss/100 batches: 7.3000528478622435\n",
      "After 800 batches, average loss/100 batches: 7.743177063465119\n",
      "After 900 batches, average loss/100 batches: 7.074771144390106\n",
      "After 1000 batches, average loss/100 batches: 7.659258825778961\n",
      "After 1100 batches, average loss/100 batches: 7.2297300481796265\n",
      "After 1200 batches, average loss/100 batches: 7.650574429035187\n",
      "After 1300 batches, average loss/100 batches: 7.473251876831054\n",
      "After 1400 batches, average loss/100 batches: 7.2000408625602725\n",
      "After 1500 batches, average loss/100 batches: 7.5604363489151005\n",
      "After 1600 batches, average loss/100 batches: 7.644809012413025\n",
      "After 1700 batches, average loss/100 batches: 7.649511578083039\n",
      "After 1800 batches, average loss/100 batches: 7.260961537361145\n",
      "After 1900 batches, average loss/100 batches: 7.67945910692215\n",
      "After 2000 batches, average loss/100 batches: 7.3857507181167605\n",
      "After 2100 batches, average loss/100 batches: 7.431051409244537\n",
      "After 2200 batches, average loss/100 batches: 7.2619526576995845\n",
      "After 2300 batches, average loss/100 batches: 7.549160311222076\n",
      "After 2400 batches, average loss/100 batches: 7.463642356395721\n",
      "After 2500 batches, average loss/100 batches: 7.307143867015839\n",
      "After 2600 batches, average loss/100 batches: 7.635561623573303\n",
      "After 2700 batches, average loss/100 batches: 7.305580868721008\n",
      "After 2800 batches, average loss/100 batches: 7.527592167854309\n",
      "After 2900 batches, average loss/100 batches: 7.682356626987457\n",
      "After 3000 batches, average loss/100 batches: 7.501476259231567\n",
      "After 3100 batches, average loss/100 batches: 7.300054996013642\n",
      "After 3200 batches, average loss/100 batches: 7.2710973739624025\n",
      "After 3300 batches, average loss/100 batches: 7.697083003520966\n",
      "After 3400 batches, average loss/100 batches: 7.326494557857513\n",
      "After 3500 batches, average loss/100 batches: 7.274112627506256\n",
      "After 3600 batches, average loss/100 batches: 6.818437142372131\n",
      "After 3700 batches, average loss/100 batches: 7.48608243227005\n",
      "After 3800 batches, average loss/100 batches: 7.222938678264618\n",
      "After 3900 batches, average loss/100 batches: 7.650776033401489\n",
      "After 4000 batches, average loss/100 batches: 7.460997226238251\n",
      "After 4100 batches, average loss/100 batches: 7.148692779541015\n",
      "After 4200 batches, average loss/100 batches: 7.333506953716278\n",
      "After 4300 batches, average loss/100 batches: 7.045267224311829\n",
      "After 4400 batches, average loss/100 batches: 7.157691876888276\n",
      "After 4500 batches, average loss/100 batches: 7.551223607063293\n",
      "After 4600 batches, average loss/100 batches: 7.578729414939881\n",
      "After 4700 batches, average loss/100 batches: 7.3281253767013546\n",
      "After 4800 batches, average loss/100 batches: 7.944624681472778\n",
      "After 4900 batches, average loss/100 batches: 7.469557957649231\n",
      "After 5000 batches, average loss/100 batches: 7.702317771911621\n",
      "After 5100 batches, average loss/100 batches: 7.112297446727752\n",
      "After 5200 batches, average loss/100 batches: 7.437257843017578\n",
      "After 5300 batches, average loss/100 batches: 7.864546420574189\n",
      "After 5400 batches, average loss/100 batches: 7.95371684551239\n",
      "After 5500 batches, average loss/100 batches: 7.827410950660705\n",
      "After 5600 batches, average loss/100 batches: 7.3113107275962825\n",
      "After 5700 batches, average loss/100 batches: 7.920621466636658\n",
      "After 5800 batches, average loss/100 batches: 7.5163750338554385\n",
      "After 5900 batches, average loss/100 batches: 7.121363887786865\n",
      "After 6000 batches, average loss/100 batches: 7.436017446517944\n",
      "After 6100 batches, average loss/100 batches: 7.723754615783691\n",
      "After 6200 batches, average loss/100 batches: 7.81083571434021\n",
      "After 6300 batches, average loss/100 batches: 7.488217270374298\n",
      "After 6400 batches, average loss/100 batches: 7.640671370029449\n",
      "After 6500 batches, average loss/100 batches: 7.073330521583557\n",
      "After 6600 batches, average loss/100 batches: 7.700094802379608\n",
      "After 6700 batches, average loss/100 batches: 7.501851420402527\n",
      "After 6800 batches, average loss/100 batches: 7.089610641002655\n",
      "After 6900 batches, average loss/100 batches: 7.591157681941986\n",
      "After 7000 batches, average loss/100 batches: 7.300451383590699\n",
      "After 7100 batches, average loss/100 batches: 7.444325685501099\n",
      "After 7200 batches, average loss/100 batches: 7.727906243801117\n",
      "After 7300 batches, average loss/100 batches: 7.413920488357544\n",
      "After 7400 batches, average loss/100 batches: 7.5622668671607975\n",
      "After 7500 batches, average loss/100 batches: 7.72371484041214\n",
      "After 7600 batches, average loss/100 batches: 7.128594024181366\n",
      "After 7700 batches, average loss/100 batches: 7.084522442817688\n",
      "After 7800 batches, average loss/100 batches: 7.167479960918427\n",
      "After 7900 batches, average loss/100 batches: 7.372780458927155\n",
      "After 8000 batches, average loss/100 batches: 7.310503611564636\n",
      "After 8100 batches, average loss/100 batches: 7.490729393959046\n",
      "After 8200 batches, average loss/100 batches: 7.88042043209076\n",
      "Epoch 2/10\n",
      "After 100 batches, average loss/100 batches: 7.566588861942291\n",
      "After 200 batches, average loss/100 batches: 7.3986462473869326\n",
      "After 300 batches, average loss/100 batches: 6.8765071725845335\n",
      "After 400 batches, average loss/100 batches: 7.2724493217468265\n",
      "After 500 batches, average loss/100 batches: 7.481351537704468\n",
      "After 600 batches, average loss/100 batches: 7.452187151908874\n",
      "After 700 batches, average loss/100 batches: 7.410809514522552\n",
      "After 800 batches, average loss/100 batches: 7.1271449565887455\n",
      "After 900 batches, average loss/100 batches: 7.096911714076996\n",
      "After 1000 batches, average loss/100 batches: 7.6144992446899415\n",
      "After 1100 batches, average loss/100 batches: 6.855240943431855\n",
      "After 1200 batches, average loss/100 batches: 7.519672994613647\n",
      "After 1300 batches, average loss/100 batches: 7.306514513492584\n",
      "After 1400 batches, average loss/100 batches: 7.175827596187592\n",
      "After 1500 batches, average loss/100 batches: 7.586069858074188\n",
      "After 1600 batches, average loss/100 batches: 7.519399781227111\n",
      "After 1700 batches, average loss/100 batches: 7.647903907299042\n",
      "After 1800 batches, average loss/100 batches: 7.536551985740662\n",
      "After 1900 batches, average loss/100 batches: 7.9538438868522645\n",
      "After 2000 batches, average loss/100 batches: 7.254961626529694\n",
      "After 2100 batches, average loss/100 batches: 7.177785413265228\n",
      "After 2200 batches, average loss/100 batches: 7.077815911769867\n",
      "After 2300 batches, average loss/100 batches: 7.7153533482551575\n",
      "After 2400 batches, average loss/100 batches: 7.078415031433106\n",
      "After 2500 batches, average loss/100 batches: 7.057682683467865\n",
      "After 2600 batches, average loss/100 batches: 7.28716359615326\n",
      "After 2700 batches, average loss/100 batches: 7.248000767230987\n",
      "After 2800 batches, average loss/100 batches: 7.424077775478363\n",
      "After 2900 batches, average loss/100 batches: 7.346930794715881\n",
      "After 3000 batches, average loss/100 batches: 7.595838816165924\n",
      "After 3100 batches, average loss/100 batches: 7.607163226604461\n",
      "After 3200 batches, average loss/100 batches: 7.614644765853882\n",
      "After 3300 batches, average loss/100 batches: 7.800769829750061\n",
      "After 3400 batches, average loss/100 batches: 7.29368860244751\n",
      "After 3500 batches, average loss/100 batches: 7.641802198886872\n",
      "After 3600 batches, average loss/100 batches: 7.459747116565705\n",
      "After 3700 batches, average loss/100 batches: 7.199383411407471\n",
      "After 3800 batches, average loss/100 batches: 7.433143863677978\n",
      "After 3900 batches, average loss/100 batches: 7.31523948431015\n",
      "After 4000 batches, average loss/100 batches: 7.435919709205628\n",
      "After 4100 batches, average loss/100 batches: 7.228357846736908\n",
      "After 4200 batches, average loss/100 batches: 7.496678969860077\n",
      "After 4300 batches, average loss/100 batches: 7.357014272212982\n",
      "After 4400 batches, average loss/100 batches: 7.295840756893158\n",
      "After 4500 batches, average loss/100 batches: 7.235693645477295\n",
      "After 4600 batches, average loss/100 batches: 7.087779338359833\n"
     ]
    },
    {
     "name": "stdout",
     "output_type": "stream",
     "text": [
      "After 4700 batches, average loss/100 batches: 7.554277122020721\n",
      "After 4800 batches, average loss/100 batches: 7.731234781742096\n",
      "After 4900 batches, average loss/100 batches: 7.144163789749146\n",
      "After 5000 batches, average loss/100 batches: 7.384500234127045\n",
      "After 5100 batches, average loss/100 batches: 7.4198993706703185\n",
      "After 5200 batches, average loss/100 batches: 7.480700178146362\n",
      "After 5300 batches, average loss/100 batches: 7.156528596878052\n",
      "After 5400 batches, average loss/100 batches: 7.525571622848511\n",
      "After 5500 batches, average loss/100 batches: 7.367168471813202\n",
      "After 5600 batches, average loss/100 batches: 7.748652284145355\n",
      "After 5700 batches, average loss/100 batches: 7.566087934970856\n",
      "After 5800 batches, average loss/100 batches: 7.711641502380371\n",
      "After 5900 batches, average loss/100 batches: 7.124965100288391\n",
      "After 6000 batches, average loss/100 batches: 7.520039513111114\n",
      "After 6100 batches, average loss/100 batches: 7.704869246482849\n",
      "After 6200 batches, average loss/100 batches: 8.092011911869049\n",
      "After 6300 batches, average loss/100 batches: 7.589202582836151\n",
      "After 6400 batches, average loss/100 batches: 7.742251191139221\n",
      "After 6500 batches, average loss/100 batches: 7.627561073303223\n",
      "After 6600 batches, average loss/100 batches: 7.209627015590668\n",
      "After 6700 batches, average loss/100 batches: 7.434881534576416\n",
      "After 6800 batches, average loss/100 batches: 7.069672546386719\n",
      "After 6900 batches, average loss/100 batches: 7.842670834064483\n",
      "After 7000 batches, average loss/100 batches: 7.789437346458435\n",
      "After 7100 batches, average loss/100 batches: 7.455218026638031\n",
      "After 7200 batches, average loss/100 batches: 7.137702922821045\n",
      "After 7300 batches, average loss/100 batches: 7.612463505268097\n",
      "After 7400 batches, average loss/100 batches: 7.50253228187561\n",
      "After 7500 batches, average loss/100 batches: 7.845100586414337\n",
      "After 7600 batches, average loss/100 batches: 7.662191550731659\n",
      "After 7700 batches, average loss/100 batches: 7.522305946350098\n",
      "After 7800 batches, average loss/100 batches: 7.723724806308747\n",
      "After 7900 batches, average loss/100 batches: 7.437418944835663\n",
      "After 8000 batches, average loss/100 batches: 7.326610317230225\n",
      "After 8100 batches, average loss/100 batches: 7.232705855369568\n",
      "After 8200 batches, average loss/100 batches: 7.285347011089325\n",
      "Epoch 3/10\n",
      "After 100 batches, average loss/100 batches: 7.122047760486603\n",
      "After 200 batches, average loss/100 batches: 7.546029980182648\n",
      "After 300 batches, average loss/100 batches: 7.856861927509308\n",
      "After 400 batches, average loss/100 batches: 7.670473668575287\n",
      "After 500 batches, average loss/100 batches: 7.073291251659393\n",
      "After 600 batches, average loss/100 batches: 7.203294026851654\n",
      "After 700 batches, average loss/100 batches: 7.229736242294312\n",
      "After 800 batches, average loss/100 batches: 7.433148717880249\n",
      "After 900 batches, average loss/100 batches: 7.575060155391693\n",
      "After 1000 batches, average loss/100 batches: 7.215869805812836\n",
      "After 1100 batches, average loss/100 batches: 7.40159285068512\n",
      "After 1200 batches, average loss/100 batches: 7.553950374126434\n",
      "After 1300 batches, average loss/100 batches: 7.0883266592025755\n",
      "After 1400 batches, average loss/100 batches: 7.560281915664673\n",
      "After 1500 batches, average loss/100 batches: 7.427602548599243\n",
      "After 1600 batches, average loss/100 batches: 7.227511625289917\n",
      "After 1700 batches, average loss/100 batches: 7.392095346450805\n",
      "After 1800 batches, average loss/100 batches: 7.172247356176376\n",
      "After 1900 batches, average loss/100 batches: 7.365957810878753\n",
      "After 2000 batches, average loss/100 batches: 7.654300343990326\n",
      "After 2100 batches, average loss/100 batches: 7.772450585365295\n",
      "After 2200 batches, average loss/100 batches: 7.457021861076355\n",
      "After 2300 batches, average loss/100 batches: 7.308021676540375\n",
      "After 2400 batches, average loss/100 batches: 7.83987035036087\n",
      "After 2500 batches, average loss/100 batches: 7.419215495586395\n",
      "After 2600 batches, average loss/100 batches: 7.6261211466789245\n",
      "After 2700 batches, average loss/100 batches: 7.404145214557648\n",
      "After 2800 batches, average loss/100 batches: 7.182131149768829\n",
      "After 2900 batches, average loss/100 batches: 7.145434234142304\n",
      "After 3000 batches, average loss/100 batches: 7.601522057056427\n",
      "After 3100 batches, average loss/100 batches: 7.151749715805054\n",
      "After 3200 batches, average loss/100 batches: 7.045685496330261\n",
      "After 3300 batches, average loss/100 batches: 7.102415282726287\n",
      "After 3400 batches, average loss/100 batches: 7.54976881980896\n",
      "After 3500 batches, average loss/100 batches: 7.335084450244904\n",
      "After 3600 batches, average loss/100 batches: 7.208189351558685\n",
      "After 3700 batches, average loss/100 batches: 7.072085585594177\n",
      "After 3800 batches, average loss/100 batches: 7.64709634065628\n",
      "After 3900 batches, average loss/100 batches: 7.326022834777832\n",
      "After 4000 batches, average loss/100 batches: 7.194516067504883\n",
      "After 4100 batches, average loss/100 batches: 7.4601977443695064\n",
      "After 4200 batches, average loss/100 batches: 7.166432168483734\n",
      "After 4300 batches, average loss/100 batches: 7.645686264038086\n",
      "After 4400 batches, average loss/100 batches: 7.038948400020599\n",
      "After 4500 batches, average loss/100 batches: 7.458203248977661\n",
      "After 4600 batches, average loss/100 batches: 6.807892019748688\n",
      "After 4700 batches, average loss/100 batches: 7.665349421501159\n",
      "After 4800 batches, average loss/100 batches: 7.463190166950226\n",
      "After 4900 batches, average loss/100 batches: 7.222167611122131\n",
      "After 5000 batches, average loss/100 batches: 7.475279123783111\n",
      "After 5100 batches, average loss/100 batches: 7.526492900848389\n",
      "After 5200 batches, average loss/100 batches: 7.792931871414185\n",
      "After 5300 batches, average loss/100 batches: 7.320102059841156\n",
      "After 5400 batches, average loss/100 batches: 7.664425156116486\n",
      "After 5500 batches, average loss/100 batches: 7.351217210292816\n",
      "After 5600 batches, average loss/100 batches: 7.406340942382813\n",
      "After 5700 batches, average loss/100 batches: 7.2620689868927\n",
      "After 5800 batches, average loss/100 batches: 7.496690275669098\n",
      "After 5900 batches, average loss/100 batches: 7.401178541183472\n",
      "After 6000 batches, average loss/100 batches: 7.768732101917267\n",
      "After 6100 batches, average loss/100 batches: 7.54569528579712\n",
      "After 6200 batches, average loss/100 batches: 7.120874798297882\n",
      "After 6300 batches, average loss/100 batches: 7.19434583902359\n",
      "After 6400 batches, average loss/100 batches: 7.6773751354217525\n",
      "After 6500 batches, average loss/100 batches: 7.727815849781036\n",
      "After 6600 batches, average loss/100 batches: 7.463061408996582\n",
      "After 6700 batches, average loss/100 batches: 7.618221020698547\n",
      "After 6800 batches, average loss/100 batches: 7.4336632633209225\n",
      "After 6900 batches, average loss/100 batches: 7.335464746952057\n",
      "After 7000 batches, average loss/100 batches: 6.780057497024536\n"
     ]
    },
    {
     "name": "stderr",
     "output_type": "stream",
     "text": [
      "Process Process-66:\n",
      "Process Process-65:\n",
      "Process Process-67:\n",
      "Traceback (most recent call last):\n",
      "Traceback (most recent call last):\n",
      "Traceback (most recent call last):\n",
      "Process Process-68:\n",
      "  File \"/home/mac/anaconda3/envs/pytorch/lib/python3.6/multiprocessing/process.py\", line 258, in _bootstrap\n",
      "    self.run()\n",
      "Traceback (most recent call last):\n",
      "  File \"/home/mac/anaconda3/envs/pytorch/lib/python3.6/multiprocessing/process.py\", line 258, in _bootstrap\n",
      "    self.run()\n",
      "  File \"/home/mac/anaconda3/envs/pytorch/lib/python3.6/multiprocessing/process.py\", line 258, in _bootstrap\n",
      "    self.run()\n",
      "  File \"/home/mac/anaconda3/envs/pytorch/lib/python3.6/multiprocessing/process.py\", line 93, in run\n",
      "    self._target(*self._args, **self._kwargs)\n",
      "  File \"/home/mac/anaconda3/envs/pytorch/lib/python3.6/multiprocessing/process.py\", line 93, in run\n",
      "    self._target(*self._args, **self._kwargs)\n",
      "  File \"/home/mac/anaconda3/envs/pytorch/lib/python3.6/site-packages/torch/utils/data/dataloader.py\", line 52, in _worker_loop\n",
      "    r = index_queue.get()\n",
      "  File \"/home/mac/anaconda3/envs/pytorch/lib/python3.6/site-packages/torch/utils/data/dataloader.py\", line 52, in _worker_loop\n",
      "    r = index_queue.get()\n",
      "  File \"/home/mac/anaconda3/envs/pytorch/lib/python3.6/multiprocessing/queues.py\", line 335, in get\n",
      "    res = self._reader.recv_bytes()\n",
      "  File \"/home/mac/anaconda3/envs/pytorch/lib/python3.6/multiprocessing/queues.py\", line 335, in get\n",
      "    res = self._reader.recv_bytes()\n",
      "  File \"/home/mac/anaconda3/envs/pytorch/lib/python3.6/multiprocessing/process.py\", line 258, in _bootstrap\n",
      "    self.run()\n",
      "  File \"/home/mac/anaconda3/envs/pytorch/lib/python3.6/multiprocessing/process.py\", line 93, in run\n",
      "    self._target(*self._args, **self._kwargs)\n",
      "  File \"/home/mac/anaconda3/envs/pytorch/lib/python3.6/multiprocessing/connection.py\", line 216, in recv_bytes\n",
      "    buf = self._recv_bytes(maxlength)\n",
      "  File \"/home/mac/anaconda3/envs/pytorch/lib/python3.6/multiprocessing/connection.py\", line 216, in recv_bytes\n",
      "    buf = self._recv_bytes(maxlength)\n",
      "  File \"/home/mac/anaconda3/envs/pytorch/lib/python3.6/site-packages/torch/utils/data/dataloader.py\", line 57, in _worker_loop\n",
      "    samples = collate_fn([dataset[i] for i in batch_indices])\n",
      "  File \"/home/mac/anaconda3/envs/pytorch/lib/python3.6/multiprocessing/process.py\", line 93, in run\n",
      "    self._target(*self._args, **self._kwargs)\n",
      "  File \"/home/mac/anaconda3/envs/pytorch/lib/python3.6/site-packages/torch/utils/data/dataloader.py\", line 57, in <listcomp>\n",
      "    samples = collate_fn([dataset[i] for i in batch_indices])\n",
      "  File \"/home/mac/anaconda3/envs/pytorch/lib/python3.6/multiprocessing/connection.py\", line 407, in _recv_bytes\n",
      "    buf = self._recv(4)\n",
      "  File \"/home/mac/anaconda3/envs/pytorch/lib/python3.6/site-packages/torch/utils/data/dataloader.py\", line 52, in _worker_loop\n",
      "    r = index_queue.get()\n",
      "  File \"/home/mac/anaconda3/envs/pytorch/lib/python3.6/multiprocessing/connection.py\", line 407, in _recv_bytes\n",
      "    buf = self._recv(4)\n",
      "  File \"<ipython-input-26-ca3344f1b305>\", line 26, in __getitem__\n",
      "    english_tensor = torch.zeros(self.seq_length, dtype=torch.long)\n",
      "  File \"/home/mac/anaconda3/envs/pytorch/lib/python3.6/multiprocessing/connection.py\", line 379, in _recv\n",
      "    chunk = read(handle, remaining)\n",
      "  File \"/home/mac/anaconda3/envs/pytorch/lib/python3.6/multiprocessing/connection.py\", line 379, in _recv\n",
      "    chunk = read(handle, remaining)\n",
      "  File \"/home/mac/anaconda3/envs/pytorch/lib/python3.6/multiprocessing/queues.py\", line 335, in get\n",
      "    res = self._reader.recv_bytes()\n",
      "KeyboardInterrupt\n",
      "KeyboardInterrupt\n",
      "  File \"/home/mac/anaconda3/envs/pytorch/lib/python3.6/multiprocessing/connection.py\", line 216, in recv_bytes\n",
      "    buf = self._recv_bytes(maxlength)\n",
      "  File \"/home/mac/anaconda3/envs/pytorch/lib/python3.6/multiprocessing/connection.py\", line 407, in _recv_bytes\n",
      "    buf = self._recv(4)\n",
      "KeyboardInterrupt\n"
     ]
    },
    {
     "ename": "KeyboardInterrupt",
     "evalue": "",
     "output_type": "error",
     "traceback": [
      "\u001b[0;31m---------------------------------------------------------------------------\u001b[0m",
      "\u001b[0;31mKeyboardInterrupt\u001b[0m                         Traceback (most recent call last)",
      "\u001b[0;32m<ipython-input-45-9c0ba95ec729>\u001b[0m in \u001b[0;36m<module>\u001b[0;34m()\u001b[0m\n\u001b[1;32m      4\u001b[0m \u001b[0mdecoder_gru\u001b[0m\u001b[0;34m.\u001b[0m\u001b[0mtrain\u001b[0m\u001b[0;34m(\u001b[0m\u001b[0;34m)\u001b[0m \u001b[0;31m# Set model to training mode\u001b[0m\u001b[0;34m\u001b[0m\u001b[0m\n\u001b[1;32m      5\u001b[0m \u001b[0;34m\u001b[0m\u001b[0m\n\u001b[0;32m----> 6\u001b[0;31m \u001b[0mgru_losses\u001b[0m \u001b[0;34m=\u001b[0m \u001b[0mtrainIters\u001b[0m\u001b[0;34m(\u001b[0m\u001b[0mencoder_gru\u001b[0m\u001b[0;34m,\u001b[0m \u001b[0mdecoder_gru\u001b[0m\u001b[0;34m,\u001b[0m \u001b[0mdataloader\u001b[0m\u001b[0;34m,\u001b[0m \u001b[0mepochs\u001b[0m\u001b[0;34m=\u001b[0m\u001b[0;36m10\u001b[0m\u001b[0;34m,\u001b[0m \u001b[0mlearning_rate\u001b[0m \u001b[0;34m=\u001b[0m \u001b[0mlearning_rate\u001b[0m\u001b[0;34m)\u001b[0m\u001b[0;34m\u001b[0m\u001b[0m\n\u001b[0m",
      "\u001b[0;32m<ipython-input-38-5e28eb72dbed>\u001b[0m in \u001b[0;36mtrainIters\u001b[0;34m(encoder, decoder, dataloader, epochs, print_every_n_batches, learning_rate)\u001b[0m\n\u001b[1;32m     23\u001b[0m         \u001b[0;32mfor\u001b[0m \u001b[0mi\u001b[0m\u001b[0;34m,\u001b[0m \u001b[0mbatch\u001b[0m \u001b[0;32min\u001b[0m \u001b[0menumerate\u001b[0m\u001b[0;34m(\u001b[0m\u001b[0mdataloader\u001b[0m\u001b[0;34m)\u001b[0m\u001b[0;34m:\u001b[0m\u001b[0;34m\u001b[0m\u001b[0m\n\u001b[1;32m     24\u001b[0m \u001b[0;34m\u001b[0m\u001b[0m\n\u001b[0;32m---> 25\u001b[0;31m             \u001b[0minput_tensor\u001b[0m \u001b[0;34m=\u001b[0m \u001b[0mbatch\u001b[0m\u001b[0;34m[\u001b[0m\u001b[0;34m'french_tensor'\u001b[0m\u001b[0;34m]\u001b[0m\u001b[0;34m.\u001b[0m\u001b[0mto\u001b[0m\u001b[0;34m(\u001b[0m\u001b[0mdevice\u001b[0m\u001b[0;34m)\u001b[0m\u001b[0;34m\u001b[0m\u001b[0m\n\u001b[0m\u001b[1;32m     26\u001b[0m             \u001b[0mtarget_tensor\u001b[0m \u001b[0;34m=\u001b[0m \u001b[0mbatch\u001b[0m\u001b[0;34m[\u001b[0m\u001b[0;34m'english_tensor'\u001b[0m\u001b[0;34m]\u001b[0m\u001b[0;34m.\u001b[0m\u001b[0mtranspose\u001b[0m\u001b[0;34m(\u001b[0m\u001b[0;36m1\u001b[0m\u001b[0;34m,\u001b[0m\u001b[0;36m0\u001b[0m\u001b[0;34m)\u001b[0m\u001b[0;34m.\u001b[0m\u001b[0mto\u001b[0m\u001b[0;34m(\u001b[0m\u001b[0mdevice\u001b[0m\u001b[0;34m)\u001b[0m\u001b[0;34m\u001b[0m\u001b[0m\n\u001b[1;32m     27\u001b[0m \u001b[0;34m\u001b[0m\u001b[0m\n",
      "\u001b[0;31mKeyboardInterrupt\u001b[0m: "
     ]
    },
    {
     "name": "stderr",
     "output_type": "stream",
     "text": [
      "  File \"/home/mac/anaconda3/envs/pytorch/lib/python3.6/multiprocessing/connection.py\", line 379, in _recv\n",
      "    chunk = read(handle, remaining)\n",
      "KeyboardInterrupt\n"
     ]
    }
   ],
   "source": [
    "print('Training GRU based network.')\n",
    "learning_rate = 0.001\n",
    "encoder_gru.train() # Set model to training mode\n",
    "decoder_gru.train() # Set model to training mode\n",
    "\n",
    "gru_losses = trainIters(encoder_gru, decoder_gru, dataloader, epochs=10, learning_rate = learning_rate)"
   ]
  },
  {
   "cell_type": "code",
   "execution_count": 431,
   "metadata": {},
   "outputs": [],
   "source": [
    "np.save('data/lstm2_losses.npy', lstm_losses)\n",
    "np.save('data/gru2_losses.npy', gru_losses)"
   ]
  },
  {
   "cell_type": "code",
   "execution_count": 58,
   "metadata": {},
   "outputs": [
    {
     "ename": "NameError",
     "evalue": "name 'lstm_losses' is not defined",
     "output_type": "error",
     "traceback": [
      "\u001b[0;31m---------------------------------------------------------------------------\u001b[0m",
      "\u001b[0;31mNameError\u001b[0m                                 Traceback (most recent call last)",
      "\u001b[0;32m<ipython-input-58-dabc342cf533>\u001b[0m in \u001b[0;36m<module>\u001b[0;34m()\u001b[0m\n\u001b[1;32m      1\u001b[0m \u001b[0;31m#plt.plot(lstm1_losses)\u001b[0m\u001b[0;34m\u001b[0m\u001b[0;34m\u001b[0m\u001b[0m\n\u001b[0;32m----> 2\u001b[0;31m \u001b[0mplt\u001b[0m\u001b[0;34m.\u001b[0m\u001b[0mplot\u001b[0m\u001b[0;34m(\u001b[0m\u001b[0mlstm_losses\u001b[0m\u001b[0;34m)\u001b[0m\u001b[0;34m\u001b[0m\u001b[0m\n\u001b[0m",
      "\u001b[0;31mNameError\u001b[0m: name 'lstm_losses' is not defined"
     ]
    }
   ],
   "source": [
    "#plt.plot(lstm1_losses)\n",
    "plt.plot(lstm_losses)"
   ]
  },
  {
   "cell_type": "code",
   "execution_count": 59,
   "metadata": {},
   "outputs": [],
   "source": [
    "# Save the model weights to continue later\n",
    "torch.save(encoder_lstm.state_dict(), 'models/encoder2_lstm.pth')\n",
    "torch.save(decoder_lstm.state_dict(), 'models/decoder2_lstm.pth')"
   ]
  },
  {
   "cell_type": "code",
   "execution_count": 47,
   "metadata": {},
   "outputs": [],
   "source": [
    "torch.save(encoder_gru.state_dict(), 'models/encoder2_gru.pth')\n",
    "torch.save(decoder_gru.state_dict(), 'models/decoder2_gru.pth')"
   ]
  },
  {
   "cell_type": "markdown",
   "metadata": {},
   "source": [
    "## Part 4: Using the Model for Evaluation"
   ]
  },
  {
   "cell_type": "code",
   "execution_count": 60,
   "metadata": {},
   "outputs": [],
   "source": [
    "# Build the idx to word dictionaries to convert predicted indices to words\n",
    "en_idx2word = {k:i for i, k in en_word2idx.items()}\n",
    "fr_idx2word = {k:i for i, k in fr_word2idx.items()}"
   ]
  },
  {
   "cell_type": "code",
   "execution_count": 61,
   "metadata": {},
   "outputs": [],
   "source": [
    "def get_example(dataloader):\n",
    "    pass"
   ]
  },
  {
   "cell_type": "code",
   "execution_count": 62,
   "metadata": {},
   "outputs": [],
   "source": [
    "def evaluate(encoder, decoder, example, idx2word, show_attention=False):\n",
    "    pass"
   ]
  },
  {
   "cell_type": "code",
   "execution_count": 63,
   "metadata": {},
   "outputs": [
    {
     "name": "stderr",
     "output_type": "stream",
     "text": [
      "Exception ignored in: <bound method _DataLoaderIter.__del__ of <torch.utils.data.dataloader._DataLoaderIter object at 0x7fd961a94278>>\n",
      "Traceback (most recent call last):\n",
      "  File \"/home/mac/anaconda3/envs/pytorch/lib/python3.6/site-packages/torch/utils/data/dataloader.py\", line 349, in __del__\n",
      "    self._shutdown_workers()\n",
      "  File \"/home/mac/anaconda3/envs/pytorch/lib/python3.6/site-packages/torch/utils/data/dataloader.py\", line 328, in _shutdown_workers\n",
      "    self.worker_result_queue.get()\n",
      "  File \"/home/mac/anaconda3/envs/pytorch/lib/python3.6/multiprocessing/queues.py\", line 337, in get\n",
      "    return _ForkingPickler.loads(res)\n",
      "  File \"/home/mac/anaconda3/envs/pytorch/lib/python3.6/site-packages/torch/multiprocessing/reductions.py\", line 70, in rebuild_storage_fd\n",
      "    fd = df.detach()\n",
      "  File \"/home/mac/anaconda3/envs/pytorch/lib/python3.6/multiprocessing/resource_sharer.py\", line 57, in detach\n",
      "    with _resource_sharer.get_connection(self._id) as conn:\n",
      "  File \"/home/mac/anaconda3/envs/pytorch/lib/python3.6/multiprocessing/resource_sharer.py\", line 87, in get_connection\n",
      "    c = Client(address, authkey=process.current_process().authkey)\n",
      "  File \"/home/mac/anaconda3/envs/pytorch/lib/python3.6/multiprocessing/connection.py\", line 494, in Client\n",
      "    deliver_challenge(c, authkey)\n",
      "  File \"/home/mac/anaconda3/envs/pytorch/lib/python3.6/multiprocessing/connection.py\", line 722, in deliver_challenge\n",
      "    response = connection.recv_bytes(256)        # reject large message\n",
      "  File \"/home/mac/anaconda3/envs/pytorch/lib/python3.6/multiprocessing/connection.py\", line 216, in recv_bytes\n",
      "    buf = self._recv_bytes(maxlength)\n",
      "  File \"/home/mac/anaconda3/envs/pytorch/lib/python3.6/multiprocessing/connection.py\", line 407, in _recv_bytes\n",
      "    buf = self._recv(4)\n",
      "  File \"/home/mac/anaconda3/envs/pytorch/lib/python3.6/multiprocessing/connection.py\", line 379, in _recv\n",
      "    chunk = read(handle, remaining)\n",
      "ConnectionResetError: [Errno 104] Connection reset by peer\n"
     ]
    }
   ],
   "source": [
    "for batch in dataloader:\n",
    "    input_tensor = batch['french_tensor'].to(device)\n",
    "    break\n",
    " "
   ]
  },
  {
   "cell_type": "code",
   "execution_count": 64,
   "metadata": {},
   "outputs": [
    {
     "name": "stdout",
     "output_type": "stream",
     "text": [
      "youre the only one for me now\n",
      "vous\n",
      "êtes\n",
      "le\n",
      "seul\n",
      "désormais\n",
      "pour\n",
      "moi\n",
      "</s>\n",
      "<pad>\n",
      "<pad>\n"
     ]
    }
   ],
   "source": [
    "input_tensor = batch['french_tensor'][11].unsqueeze_(0)\n",
    "print(batch['english_sentence'][11])\n",
    "for index in input_tensor[0]:\n",
    "    word = fr_idx2word[index.item()]\n",
    "    if word != '<s>':\n",
    "        print(word)\n",
    "    else:\n",
    "        print(word)\n",
    "        break"
   ]
  },
  {
   "cell_type": "code",
   "execution_count": 65,
   "metadata": {},
   "outputs": [],
   "source": [
    "def evaluate(input_tensor, encoder, decoder):\n",
    "    with torch.no_grad():\n",
    "        encoder_hidden = encoder.initHidden(1)\n",
    "        encoder.eval()\n",
    "        decoder.eval()\n",
    "\n",
    "        encoder_output, encoder_hidden = encoder(input_tensor.to(device), encoder_hidden)\n",
    "\n",
    "        decoder_input =  torch.tensor([fr_word2idx['<s>']]*input_tensor.shape[0], dtype=torch.long, device=device).unsqueeze(0)\n",
    "        try:\n",
    "            encoder.lstm\n",
    "            decoder_hidden = (encoder_hidden[0][1::2].contiguous(), encoder_hidden[1][1::2].contiguous())\n",
    "        except AttributeError:\n",
    "            decoder_hidden = encoder_hidden[1::2].contiguous()\n",
    "\n",
    "        output_list = []\n",
    "        attn_weight_list = np.zeros((seq_length, seq_length))\n",
    "        for di in range(seq_length):\n",
    "            output, decoder_hidden, attn_weights = decoder(decoder_input,\n",
    "                                                           decoder_hidden,\n",
    "                                                           encoder_output)\n",
    "\n",
    "            decoder_input = output.topk(1)[1].detach()\n",
    "            output_list.append(output.topk(1)[1])\n",
    "            word = en_idx2word[output.topk(1)[1].item()]\n",
    "\n",
    "            attn_weight_list[di] += attn_weights[0,0,:].cpu().numpy()\n",
    "        return output_list, attn_weight_list"
   ]
  },
  {
   "cell_type": "code",
   "execution_count": 66,
   "metadata": {},
   "outputs": [],
   "source": [
    "output_list, attn = evaluate(input_tensor, encoder_lstm, decoder_lstm)\n",
    "gru_output_list, gru_attn = evaluate(input_tensor, encoder_gru, decoder_gru)"
   ]
  },
  {
   "cell_type": "code",
   "execution_count": 67,
   "metadata": {
    "scrolled": true
   },
   "outputs": [
    {
     "name": "stdout",
     "output_type": "stream",
     "text": [
      "youre\n",
      "the\n",
      "only\n",
      "one\n",
      "for\n",
      "me\n",
      "now\n",
      "</s>\n",
      "\n",
      "GRU model output:\n",
      "\n",
      "youre\n",
      "the\n",
      "only\n",
      "one\n",
      "for\n",
      "me\n",
      "now\n",
      "</s>\n"
     ]
    }
   ],
   "source": [
    "for index in output_list:\n",
    "    word = en_idx2word[index.item()]\n",
    "    if word != '</s>':\n",
    "        print(word)\n",
    "    else:\n",
    "        print(word)\n",
    "        break\n",
    "        \n",
    "print('\\nGRU model output:\\n')\n",
    "for index in gru_output_list:\n",
    "    word = en_idx2word[index.item()]\n",
    "    if word != '</s>':\n",
    "        print(word)\n",
    "    else:\n",
    "        print(word)\n",
    "        break"
   ]
  },
  {
   "cell_type": "code",
   "execution_count": 68,
   "metadata": {},
   "outputs": [
    {
     "data": {
      "text/plain": [
       "<matplotlib.image.AxesImage at 0x7fd961a48860>"
      ]
     },
     "execution_count": 68,
     "metadata": {},
     "output_type": "execute_result"
    },
    {
     "data": {
      "image/png": "[encoded data removed]",
      "text/plain": [
       "<Figure size 288x288 with 1 Axes>"
      ]
     },
     "metadata": {},
     "output_type": "display_data"
    },
    {
     "data": {
      "image/png": "[encoded data removed]",
      "text/plain": [
       "<Figure size 288x288 with 1 Axes>"
      ]
     },
     "metadata": {},
     "output_type": "display_data"
    }
   ],
   "source": [
    "plt.matshow(attn)\n",
    "plt.matshow(gru_attn)"
   ]
  },
  {
   "cell_type": "code",
   "execution_count": null,
   "metadata": {},
   "outputs": [],
   "source": []
  },
  {
   "cell_type": "code",
   "execution_count": null,
   "metadata": {},
   "outputs": [],
   "source": []
  }
 ],
 "metadata": {
  "kernelspec": {
   "display_name": "Python [default]",
   "language": "python",
   "name": "python3"
  },
  "language_info": {
   "codemirror_mode": {
    "name": "ipython",
    "version": 3
   },
   "file_extension": ".py",
   "mimetype": "text/x-python",
   "name": "python",
   "nbconvert_exporter": "python",
   "pygments_lexer": "ipython3",
   "version": "3.6.5"
  }
 },
 "nbformat": 4,
 "nbformat_minor": 2
}
